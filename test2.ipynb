{
 "cells": [
  {
   "cell_type": "code",
   "execution_count": 14,
   "metadata": {},
   "outputs": [],
   "source": [
    "from os import environ\n",
    "from pathlib import Path\n",
    "from json import loads, dumps\n",
    "environ[\"OPENAI_API_KEY\"] = Path(\"~/.openaiapikey\").expanduser().read_text().strip()"
   ]
  },
  {
   "cell_type": "code",
   "execution_count": 15,
   "metadata": {},
   "outputs": [],
   "source": [
    "from openai import OpenAI\n",
    "from random import randint\n",
    "\n",
    "openaiClient = OpenAI()\n",
    "def gpt_3_5_turbo_completion(query):\n",
    "    answer = openaiClient.chat.completions.create(\n",
    "        model=\"gpt-3.5-turbo\",\n",
    "        messages=[\n",
    "            {\n",
    "                \"role\": \"system\",\n",
    "                \"content\": query\n",
    "            }\n",
    "        ],\n",
    "        seed = randint(0, 1000000)\n",
    "    )\n",
    "    return answer.choices[0].message.content\n",
    "\n",
    "def gpt_4_turbo_completion(query):\n",
    "    answer = openaiClient.chat.completions.create(\n",
    "        model=\"gpt-4-turbo\",\n",
    "        messages=[\n",
    "            {\n",
    "                \"role\": \"system\",\n",
    "                \"content\": query\n",
    "            }\n",
    "        ],\n",
    "        seed = randint(0, 1000000)\n",
    "    )\n",
    "    return answer.choices[0].message.content\n",
    "\n",
    "def tryRecieveAnswer(query, completionFunction = gpt_4_turbo_completion, answerConversion = lambda x: True, maxTries = 10):\n",
    "    tryNumber = 0\n",
    "    while tryNumber < maxTries:\n",
    "        answer = completionFunction(query)\n",
    "        try:\n",
    "            answer = answerConversion(answer)\n",
    "            return (answer, True)\n",
    "        except:\n",
    "            pass\n",
    "        tryNumber += 1\n",
    "    print(f\"Failed to recieve answer for query: {query}\")\n",
    "    return (None, False)"
   ]
  },
  {
   "cell_type": "code",
   "execution_count": 16,
   "metadata": {},
   "outputs": [],
   "source": [
    "def giveQuestion(topic):\n",
    "    query = f'Give me a question about the topic \"{topic}\". Return nothing but the question quoted in \"\".'\n",
    "    def answerConversion(x):\n",
    "        arr = x.split('\"')\n",
    "        assert len(arr) == 3\n",
    "        assert arr[0] == \"\" and arr[2] == \"\"\n",
    "        return arr[1]\n",
    "    return tryRecieveAnswer(query, answerConversion = answerConversion)[0]"
   ]
  },
  {
   "cell_type": "code",
   "execution_count": 19,
   "metadata": {},
   "outputs": [
    {
     "name": "stdout",
     "output_type": "stream",
     "text": [
      "What is the primary factor that determines a planet's ability to support life?\n"
     ]
    }
   ],
   "source": [
    "question = giveQuestion(\"Planet\")\n",
    "print(question)"
   ]
  },
  {
   "cell_type": "code",
   "execution_count": 21,
   "metadata": {},
   "outputs": [],
   "source": [
    "def giveAnswers(question, answerCount = 5):\n",
    "    query = f'Give me {answerCount} different statements that are answering the question \"{question}\". Only the first statement has to be correct but all should sound serious. Return all statements in a list formatted as [\"Statement 1\", \"Statement 2\", ...]. Return nothing but the list.'  \n",
    "    def answerConversion(x):\n",
    "        x = x.strip()\n",
    "        assert x[0] == \"[\" and x[-1] == \"]\"\n",
    "        x = x[1:-1]\n",
    "        x = x.split('\"')\n",
    "        assert all([x.strip() == ',' for x in x[2:-1:2]])\n",
    "        assert x[0].strip() == x[-1].strip() == \"\"\n",
    "        return x[1::2]\n",
    "    return tryRecieveAnswer(query, answerConversion = answerConversion)[0]"
   ]
  },
  {
   "cell_type": "code",
   "execution_count": 22,
   "metadata": {},
   "outputs": [
    {
     "name": "stdout",
     "output_type": "stream",
     "text": [
      "[\n",
      "    \"The primary factor that determines a planet's ability to support life is the presence of liquid water, which requires temperatures and pressures that allow water to remain stable in its liquid form.\",\n",
      "    \"The primary factor that determines a planet's ability to support life is the density of asteroids in its surrounding solar system, as frequent impacts can affect the evolution of life forms.\",\n",
      "    \"The primary factor that determines a planet's ability to support life is the color of the planet\\u2019s surface, as it influences the amount of solar energy absorbed and thus affects global temperature stability.\",\n",
      "    \"The primary factor that determines a planet's ability to support life is the presence of magnetic fields, as they protect the planet from hostile cosmic rays and preserve its atmosphere.\",\n",
      "    \"The primary factor that determines a planet's ability to support life is the composition of its core, which affects its gravitational pull and in turn the retention of an atmosphere conducive for life.\"\n",
      "]\n"
     ]
    }
   ],
   "source": [
    "answers = giveAnswers(question, 5)\n",
    "print(dumps(answers, indent = 4))"
   ]
  },
  {
   "cell_type": "code",
   "execution_count": 29,
   "metadata": {},
   "outputs": [],
   "source": [
    "def getPartialStatements(statement):\n",
    "    query = f'What are the partial statements that are contained in the statement \"{statement}\" and stand by them self? Return all partial statements in a list formatted as [\"Partial Statement 1\", \"Partial Statement 2\", ...]. If there are no partial statements the list should only contain the original statement. Return nothing but the list.'\n",
    "    def answerConversion(x):\n",
    "        x = x.strip()\n",
    "        assert x[0] == \"[\" and x[-1] == \"]\"\n",
    "        x = x[1:-1]\n",
    "        x = x.split('\"')\n",
    "        assert all([x.strip() == ',' for x in x[2:-1:2]])\n",
    "        assert x[0].strip() == x[-1].strip() == \"\"\n",
    "        return x[1::2]\n",
    "    return tryRecieveAnswer(query, answerConversion = answerConversion)[0]"
   ]
  },
  {
   "cell_type": "code",
   "execution_count": 30,
   "metadata": {},
   "outputs": [
    {
     "name": "stdout",
     "output_type": "stream",
     "text": [
      "[\n",
      "    \"The primary factor that determines a planet's ability to support life is the color of the planet\\u2019s surface.\",\n",
      "    \"The color of the planet\\u2019s surface influences the amount of solar, energy absorbed.\",\n",
      "    \"The amount of solar energy absorbed affects global temperature stability.\"\n",
      "]\n"
     ]
    }
   ],
   "source": [
    "partialStatements = getPartialStatements(answers[2])\n",
    "print(dumps(partialStatements, indent = 4))"
   ]
  },
  {
   "cell_type": "code",
   "execution_count": 31,
   "metadata": {},
   "outputs": [
    {
     "name": "stdout",
     "output_type": "stream",
     "text": [
      "[\n",
      "    \"The primary factor that determines a planet's ability to support life is the color of the planet\\u2019s surface.\"\n",
      "]\n"
     ]
    }
   ],
   "source": [
    "subPartialStatements = getPartialStatements(partialStatements[0])\n",
    "print(dumps(subPartialStatements, indent = 4))"
   ]
  },
  {
   "cell_type": "code",
   "execution_count": 40,
   "metadata": {},
   "outputs": [],
   "source": [
    "def findCorrespondingQuestion(statement):\n",
    "    query = f'Formulate a question that is answered by the statement \"{statement}\". Return nothing but the question quoted in \"\".'\n",
    "    def answerConversion(x):\n",
    "        arr = x.split('\"')\n",
    "        assert len(arr) == 3\n",
    "        assert arr[0] == \"\" and arr[2] == \"\"\n",
    "        return arr[1]\n",
    "    return tryRecieveAnswer(query, answerConversion = answerConversion)[0]"
   ]
  },
  {
   "cell_type": "code",
   "execution_count": 43,
   "metadata": {},
   "outputs": [
    {
     "name": "stdout",
     "output_type": "stream",
     "text": [
      "What impacts global temperature stability in relation to solar energy?\n"
     ]
    }
   ],
   "source": [
    "question = findCorrespondingQuestion(partialStatements[2])\n",
    "print(question)"
   ]
  },
  {
   "cell_type": "code",
   "execution_count": 34,
   "metadata": {},
   "outputs": [
    {
     "name": "stdout",
     "output_type": "stream",
     "text": [
      "True\n"
     ]
    }
   ],
   "source": []
  }
 ],
 "metadata": {
  "kernelspec": {
   "display_name": "venv",
   "language": "python",
   "name": "python3"
  },
  "language_info": {
   "codemirror_mode": {
    "name": "ipython",
    "version": 3
   },
   "file_extension": ".py",
   "mimetype": "text/x-python",
   "name": "python",
   "nbconvert_exporter": "python",
   "pygments_lexer": "ipython3",
   "version": "3.11.2"
  }
 },
 "nbformat": 4,
 "nbformat_minor": 2
}
