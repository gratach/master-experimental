{
 "cells": [
  {
   "cell_type": "code",
   "execution_count": 2,
   "metadata": {},
   "outputs": [],
   "source": [
    "from os import environ\n",
    "from pathlib import Path\n",
    "from json import loads, dumps\n",
    "environ[\"OPENAI_API_KEY\"] = Path(\"~/.openaiapikey\").expanduser().read_text().strip()"
   ]
  },
  {
   "cell_type": "code",
   "execution_count": 3,
   "metadata": {},
   "outputs": [],
   "source": [
    "from openai import OpenAI\n",
    "from random import randint\n",
    "\n",
    "openaiClient = OpenAI()\n",
    "def gpt_3_5_turbo_completion(query):\n",
    "    answer = openaiClient.chat.completions.create(\n",
    "        model=\"gpt-3.5-turbo\",\n",
    "        messages=[\n",
    "            {\n",
    "                \"role\": \"system\",\n",
    "                \"content\": query\n",
    "            }\n",
    "        ],\n",
    "        seed = randint(0, 1000000)\n",
    "    )\n",
    "    return answer.choices[0].message.content\n",
    "\n",
    "def gpt_4_turbo_completion(query):\n",
    "    answer = openaiClient.chat.completions.create(\n",
    "        model=\"gpt-4-turbo\",\n",
    "        messages=[\n",
    "            {\n",
    "                \"role\": \"system\",\n",
    "                \"content\": query\n",
    "            }\n",
    "        ],\n",
    "        seed = randint(0, 1000000)\n",
    "    )\n",
    "    return answer.choices[0].message.content\n",
    "\n",
    "def tryRecieveAnswer(query, completionFunction = gpt_4_turbo_completion, answerConversion = lambda x: True, maxTries = 10):\n",
    "    tryNumber = 0\n",
    "    while tryNumber < maxTries:\n",
    "        answer = completionFunction(query)\n",
    "        try:\n",
    "            answer = answerConversion(answer)\n",
    "            return (answer, True)\n",
    "        except:\n",
    "            pass\n",
    "        tryNumber += 1\n",
    "    print(f\"Failed to recieve answer for query: {query}\")\n",
    "    return (None, False)"
   ]
  },
  {
   "cell_type": "code",
   "execution_count": 9,
   "metadata": {},
   "outputs": [],
   "source": [
    "def isSynonym(term1, term2):\n",
    "    query = f'''\n",
    "            The same concept can be discribed by differend words. For example, the terms \"Earth\", \"The earth\", \"Planet Earth\" and \"Our Planet\" all refer to the same thing. \n",
    "            On the other hand, similar sounding terms like \"Star\" and \"Stars\", \"Water\" and \"Boiling Water\" or \"Time\" and \"Minute\" refer to different things.\n",
    "            Are the terms \"{term1}\" and \"{term2}\" synonyms? Respond only with y or n without explanation.'''\n",
    "    def answerConversion(answer):\n",
    "        assert answer.lower().strip() in [\"y\", \"n\"]\n",
    "        return answer.lower().strip() == \"y\"\n",
    "    answer, success = tryRecieveAnswer(query, answerConversion = answerConversion)\n",
    "    return answer"
   ]
  },
  {
   "cell_type": "code",
   "execution_count": 11,
   "metadata": {},
   "outputs": [
    {
     "data": {
      "text/plain": [
       "False"
      ]
     },
     "execution_count": 11,
     "metadata": {},
     "output_type": "execute_result"
    }
   ],
   "source": [
    "isSynonym(\"A Moon\", \"Our Moon\")"
   ]
  },
  {
   "cell_type": "code",
   "execution_count": 22,
   "metadata": {},
   "outputs": [],
   "source": [
    "def findSynonyms(term):\n",
    "    query = f'''\n",
    "            The same concept can be discribed by differend words. For example, the terms \"Earth\", \"The earth\", \"Planet Earth\" and \"Our Planet\" all refer to the same thing. \n",
    "            On the other hand, similar sounding terms like \"Star\" and \"Stars\", \"Water\" and \"Boiling Water\" or \"Time\" and \"Minute\" refer to different things.\n",
    "            Give me some terms, that describe the same concept as \"{term}\". Include only terms where the equality is completely clear.\n",
    "            Return them in a list formatted as [\"term1\", \"term2\", ...]. Return nothing but the list.'''\n",
    "    def answerConversion(answer):\n",
    "        result = loads(answer)\n",
    "        assert isinstance(result, list)\n",
    "        for term in result:\n",
    "            assert isinstance(term, str)\n",
    "        return result\n",
    "    answer, success = tryRecieveAnswer(query, answerConversion = answerConversion)\n",
    "    return answer"
   ]
  },
  {
   "cell_type": "code",
   "execution_count": 25,
   "metadata": {},
   "outputs": [
    {
     "data": {
      "text/plain": [
       "['Automobile', 'Vehicle', 'Motorcar', 'Auto']"
      ]
     },
     "execution_count": 25,
     "metadata": {},
     "output_type": "execute_result"
    }
   ],
   "source": [
    "findSynonyms(\"Car\")"
   ]
  },
  {
   "cell_type": "code",
   "execution_count": 17,
   "metadata": {},
   "outputs": [],
   "source": [
    "def findSynonymsFromTheSellection(term, sellection):\n",
    "    enumeratedSelectionString = \", \".join([f'{i+1}. \"{term}\"' for i, term in enumerate(sellection)])\n",
    "    query = f'''\n",
    "            The same concept can be discribed by differend words. For example, the terms \"Earth\", \"The earth\", \"Planet Earth\" and \"Our Planet\" all refer to the same thing. \n",
    "            On the other hand, similar sounding terms like \"Star\" and \"Stars\", \"Water\" and \"Boiling Water\" or \"Time\" and \"Minute\" refer to different things.\n",
    "            Are there any synonyms for the term \"{term}\" in the following list: {enumeratedSelectionString}?\n",
    "            Return the indices of all synonyms in the selection formatted as [index1, index2, ...]. Return nothing but this list. Return an empty list if there are no synonyms.'''\n",
    "    def answerConversion(answer):\n",
    "        result = loads(answer)\n",
    "        assert isinstance(result, list)\n",
    "        for index in result:\n",
    "            assert isinstance(index, int)\n",
    "            assert 0 < index <= len(sellection)\n",
    "        return [sellection[index - 1] for index in result]\n",
    "    answer, success = tryRecieveAnswer(query, answerConversion = answerConversion)\n",
    "    return answer"
   ]
  },
  {
   "cell_type": "code",
   "execution_count": 19,
   "metadata": {},
   "outputs": [
    {
     "data": {
      "text/plain": [
       "['Spaceship', 'Rocket']"
      ]
     },
     "execution_count": 19,
     "metadata": {},
     "output_type": "execute_result"
    }
   ],
   "source": [
    "findSynonymsFromTheSellection(\"Rocket\", [\"Spaceship\", \"Plane\", \"Rocket\", \"Car\", \"Bike\"])"
   ]
  },
  {
   "cell_type": "code",
   "execution_count": 47,
   "metadata": {},
   "outputs": [],
   "source": [
    "def findNewTerms(topic, number = 20):\n",
    "    query = f'''\n",
    "            The concepts \"Stellar evolution\", \"Brownian motion\", \"Center of mass\" and \"Optics\" are all part of the topic \"Physics\".\n",
    "            Give me a selection of {number} specific concepts that belong to subtopics of the topic \"{topic}\".\n",
    "            Return them in a list formatted as [\"concept1\", \"concept2\", ...]. Return nothing but the list.'''\n",
    "    def answerConversion(answer):\n",
    "        result = loads(answer)\n",
    "        assert isinstance(result, list)\n",
    "        for concept in result:\n",
    "            assert isinstance(concept, str)\n",
    "        return result\n",
    "    answer, success = tryRecieveAnswer(query, answerConversion = answerConversion)\n",
    "    return answer"
   ]
  },
  {
   "cell_type": "code",
   "execution_count": 43,
   "metadata": {},
   "outputs": [
    {
     "name": "stdout",
     "output_type": "stream",
     "text": [
      "['Black holes', 'Quantum entanglement', 'Refraction', 'Thermodynamics', 'Electromagnetic waves']\n"
     ]
    }
   ],
   "source": [
    "terms = findNewTerms(\"Physics\", 5)\n",
    "print(terms)"
   ]
  },
  {
   "cell_type": "code",
   "execution_count": 44,
   "metadata": {},
   "outputs": [],
   "source": [
    "def addAdditionalTerms(termlist, topic, number = 20):\n",
    "    termString = \"[\" + \", \".join([f'\"{term}\"' for term in termlist]) + \"]\"\n",
    "    query = f'''\n",
    "            The concepts {termString} are all part of the topic \"{topic}\".\n",
    "            Give me a selection of {number} new concepts that belong to subtopics of the topic \"{topic}\".\n",
    "            Return them in a list formatted as [\"concept1\", \"concept2\", ...]. Return nothing but the list.'''\n",
    "    def answerConversion(answer):\n",
    "        result = loads(answer)\n",
    "        assert isinstance(result, list)\n",
    "        for concept in result:\n",
    "            assert isinstance(concept, str)\n",
    "        return result\n",
    "    answer, success = tryRecieveAnswer(query, answerConversion = answerConversion)\n",
    "    return answer"
   ]
  },
  {
   "cell_type": "code",
   "execution_count": 52,
   "metadata": {},
   "outputs": [],
   "source": [
    "from random import shuffle\n",
    "def getLongTermList(topic, number = 20, iterations = 5, oldTerms = []):\n",
    "    terms = findNewTerms(topic, number) if not oldTerms else oldTerms\n",
    "    for i in range(iterations):\n",
    "        shuffledTerms = list(set(terms))\n",
    "        shuffle(shuffledTerms)\n",
    "        if len(shuffledTerms) > 20:\n",
    "            shuffledTerms = shuffledTerms[:20]\n",
    "        terms += addAdditionalTerms(shuffledTerms, topic, number)\n",
    "    return terms"
   ]
  },
  {
   "cell_type": "code",
   "execution_count": 64,
   "metadata": {},
   "outputs": [
    {
     "data": {
      "text/plain": [
       "10281"
      ]
     },
     "execution_count": 64,
     "metadata": {},
     "output_type": "execute_result"
    }
   ],
   "source": [
    "termlistFile = Path(\"termlist2.json\")\n",
    "if termlistFile.exists():\n",
    "    longTermList = loads(termlistFile.read_text())\n",
    "longTermList = getLongTermList(\"Physics\", 5, 30, longTermList)\n",
    "termlistFile.write_text(dumps(longTermList, indent = 4))"
   ]
  },
  {
   "cell_type": "code",
   "execution_count": 54,
   "metadata": {},
   "outputs": [],
   "source": [
    "def listMostUsedConceptsOfTermList(termlist):\n",
    "    countedTerms = {}\n",
    "    for term in termlist:\n",
    "        if term in countedTerms:\n",
    "            countedTerms[term] += 1\n",
    "        else:\n",
    "            countedTerms[term] = 1\n",
    "    return sorted(countedTerms.items(), key = lambda x: x[1], reverse = True)"
   ]
  },
  {
   "cell_type": "code",
   "execution_count": 55,
   "metadata": {},
   "outputs": [
    {
     "name": "stdout",
     "output_type": "stream",
     "text": [
      "Superconductivity: 8\n",
      "Quantum field theory: 7\n",
      "Quantum entanglement: 6\n",
      "Nuclear fusion: 6\n",
      "Thermodynamics: 5\n",
      "String theory: 5\n",
      "Higgs boson: 5\n",
      "Quantum computing: 5\n",
      "Dark matter: 5\n",
      "Electromagnetism: 5\n",
      "Particle physics: 4\n",
      "Photonics: 4\n",
      "Black holes: 4\n",
      "Relativity: 3\n",
      "Wave-particle duality: 3\n",
      "General relativity: 3\n",
      "Quantum chromodynamics: 3\n",
      "Gravitational waves: 3\n",
      "Condensed matter physics: 3\n",
      "Chaos theory: 3\n"
     ]
    }
   ],
   "source": [
    "# Print the top 20 most used concepts of the long term list\n",
    "termlistFile = Path(\"termlist.json\")\n",
    "longTermList = loads(termlistFile.read_text())\n",
    "mostUsedConcepts = listMostUsedConceptsOfTermList(longTermList)\n",
    "for concept, count in mostUsedConcepts[:20]:\n",
    "    print(f\"{concept}: {count}\")"
   ]
  },
  {
   "cell_type": "code",
   "execution_count": 57,
   "metadata": {},
   "outputs": [
    {
     "name": "stdout",
     "output_type": "stream",
     "text": [
      "Percentage of unique concepts: 51.388888888888886%\n"
     ]
    }
   ],
   "source": [
    "# Count the percentage of unique concepts in the long term list\n",
    "termlistFile = Path(\"termlist.json\")\n",
    "longTermList = loads(termlistFile.read_text())\n",
    "countedTerms = listMostUsedConceptsOfTermList(longTermList)\n",
    "totalConcepts = len(countedTerms)\n",
    "uniqueConcepts = len([count for concept, count in countedTerms if count == 1])\n",
    "percentageUnique = uniqueConcepts / totalConcepts * 100\n",
    "print(f\"Percentage of unique concepts: {percentageUnique}%\")"
   ]
  },
  {
   "cell_type": "code",
   "execution_count": 62,
   "metadata": {},
   "outputs": [],
   "source": [
    "# Plot the number of different concepts depending on the number of generated concepts\n",
    "# Add the diagonal line to the plot as dashed line\n",
    "def plotNumberOfDifferentConcepts(longTermList):\n",
    "    import matplotlib.pyplot as plt\n",
    "    numbersOfDifferentConcepts = []\n",
    "    for i in range(len(longTermList)):\n",
    "        numberOfDifferentConcepts = len(set(longTermList[:i]))\n",
    "        numbersOfDifferentConcepts.append(numberOfDifferentConcepts)\n",
    "    plt.plot([i for i in range(len(longTermList))], linestyle = \"--\", color = \"lightgrey\")\n",
    "    plt.plot(numbersOfDifferentConcepts)\n",
    "    plt.xlabel(\"Number of generated concepts\")\n",
    "    plt.ylabel(\"Number of different concepts\")\n",
    "    plt.show()"
   ]
  },
  {
   "cell_type": "code",
   "execution_count": 63,
   "metadata": {},
   "outputs": [
    {
     "data": {
      "image/png": "[encoded data removed]",
      "text/plain": [
       "<Figure size 640x480 with 1 Axes>"
      ]
     },
     "metadata": {},
     "output_type": "display_data"
    }
   ],
   "source": [
    "plotNumberOfDifferentConcepts(longTermList)"
   ]
  },
  {
   "cell_type": "code",
   "execution_count": 65,
   "metadata": {},
   "outputs": [
    {
     "data": {
      "image/png": "[encoded data removed]",
      "text/plain": [
       "<Figure size 640x480 with 1 Axes>"
      ]
     },
     "metadata": {},
     "output_type": "display_data"
    }
   ],
   "source": [
    "longTermList2 = loads(Path(\"termlist2.json\").read_text())\n",
    "plotNumberOfDifferentConcepts(longTermList2)"
   ]
  }
 ],
 "metadata": {
  "kernelspec": {
   "display_name": "venv",
   "language": "python",
   "name": "python3"
  },
  "language_info": {
   "codemirror_mode": {
    "name": "ipython",
    "version": 3
   },
   "file_extension": ".py",
   "mimetype": "text/x-python",
   "name": "python",
   "nbconvert_exporter": "python",
   "pygments_lexer": "ipython3",
   "version": "3.11.2"
  }
 },
 "nbformat": 4,
 "nbformat_minor": 2
}
