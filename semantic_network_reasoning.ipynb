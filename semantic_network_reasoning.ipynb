{
 "cells": [
  {
   "cell_type": "code",
   "execution_count": 1,
   "metadata": {},
   "outputs": [],
   "source": [
    "from os import environ\n",
    "from pathlib import Path\n",
    "from json import loads, dumps\n",
    "from random import choice\n",
    "environ[\"OPENAI_API_KEY\"] = Path(\"~/.openaiapikey\").expanduser().read_text().strip()\n",
    "\n",
    "from openai import OpenAI\n",
    "from random import randint\n",
    "\n",
    "openaiClient = OpenAI()\n",
    "def gpt_3_5_turbo_completion(query, temperature = 1):\n",
    "    answer = openaiClient.chat.completions.create(\n",
    "        model=\"gpt-3.5-turbo\",\n",
    "        messages=[\n",
    "            {\n",
    "                \"role\": \"system\",\n",
    "                \"content\": query\n",
    "            }\n",
    "        ],\n",
    "        temperature = temperature,\n",
    "        seed = randint(0, 1000000)\n",
    "    )\n",
    "    return answer.choices[0].message.content\n",
    "\n",
    "def gpt_4_turbo_completion(query, temperature = 1):\n",
    "    answer = openaiClient.chat.completions.create(\n",
    "        model=\"gpt-4-turbo\",\n",
    "        messages=[\n",
    "            {\n",
    "                \"role\": \"system\",\n",
    "                \"content\": query\n",
    "            }\n",
    "        ],\n",
    "        temperature = temperature,\n",
    "        seed = randint(0, 1000000)\n",
    "    )\n",
    "    return answer.choices[0].message.content\n",
    "\n",
    "def tryRecieveAnswer(query, completionFunction = gpt_4_turbo_completion, answerConversion = lambda x: True, maxTries = 10, temperature = 1):\n",
    "    tryNumber = 0\n",
    "    while tryNumber < maxTries:\n",
    "        answer = completionFunction(query, temperature)\n",
    "        try:\n",
    "            answer = answerConversion(answer)\n",
    "            return (answer, True)\n",
    "        except:\n",
    "            pass\n",
    "        tryNumber += 1\n",
    "    print(f\"Failed to recieve answer for query: {query}\")\n",
    "    return (None, False)\n",
    "\n",
    "def listAnswerConversion(answer):\n",
    "    result = loads(answer)\n",
    "    assert isinstance(result, list)\n",
    "    for item in result:\n",
    "        assert isinstance(item, str)\n",
    "    return result"
   ]
  },
  {
   "cell_type": "code",
   "execution_count": 2,
   "metadata": {},
   "outputs": [],
   "source": [
    "def giveStatement(topic):\n",
    "    query = f'Give me a short statement about the topic \"{topic}\". Return the answer quoted in \"\". Return nothing but the statement.'\n",
    "    def answerConversion(answer):\n",
    "        assert answer.startswith('\"') and answer.endswith('\"')\n",
    "        return answer[1:-1]\n",
    "    answer, success = tryRecieveAnswer(query, answerConversion = answerConversion)\n",
    "    return answer"
   ]
  },
  {
   "cell_type": "code",
   "execution_count": 3,
   "metadata": {},
   "outputs": [
    {
     "name": "stdout",
     "output_type": "stream",
     "text": [
      "Mass is a fundamental property of physical objects that quantifies the amount of matter they contain; it is a central concept in physics that influences gravity and inertia.\n"
     ]
    }
   ],
   "source": [
    "statement = giveStatement(\"Mass\")\n",
    "print(statement)"
   ]
  },
  {
   "cell_type": "code",
   "execution_count": 6,
   "metadata": {},
   "outputs": [],
   "source": [
    "def getPartialStatements(statement):\n",
    "    query = f'What are the partial statements that are contained in the statement \"{statement}\" and stand by them self? Return all partial statements as strings that do not depend on each other in a list formatted as [\"Partial Statement 1\", \"Partial Statement 2\", ...]. If there are no partial statements the list should only contain the original statement. Return nothing but the list.'\n",
    "    return tryRecieveAnswer(query, answerConversion = listAnswerConversion)[0]"
   ]
  },
  {
   "cell_type": "code",
   "execution_count": 8,
   "metadata": {},
   "outputs": [
    {
     "name": "stdout",
     "output_type": "stream",
     "text": [
      "['Mass is a fundamental property of physical objects that quantifies the amount of matter they contain.', 'Mass is a central concept in physics that influences gravity and inertia.']\n"
     ]
    }
   ],
   "source": [
    "partialStatements = getPartialStatements(statement)\n",
    "print(partialStatements)"
   ]
  },
  {
   "cell_type": "code",
   "execution_count": 18,
   "metadata": {},
   "outputs": [],
   "source": [
    "def findReasoningStep(statement):\n",
    "    query = f'The statement \"Earth orbits a star\" can be concluded from the two statements \"Earth is a planet\" and \"Planets orbit stars\". Give me a list of statements from which the statement \"{statement}\" can be concluded. All statements in the list should stand by them selfs. Return the list of statements as strings formatted as [\"Statement 1\", \"Statement 2\", ...]. Return nothing but the list.'\n",
    "    return tryRecieveAnswer(query, answerConversion = listAnswerConversion)[0]"
   ]
  },
  {
   "cell_type": "code",
   "execution_count": 19,
   "metadata": {},
   "outputs": [
    {
     "data": {
      "text/plain": [
       "['The period of a pendulum is determined by its length',\n",
       " 'A shorter length results in a shorter period',\n",
       " 'A shorter period means faster swings']"
      ]
     },
     "execution_count": 19,
     "metadata": {},
     "output_type": "execute_result"
    }
   ],
   "source": [
    "findReasoningStep(\"A pendulum swings faster when it is shorter\")"
   ]
  },
  {
   "cell_type": "code",
   "execution_count": 20,
   "metadata": {},
   "outputs": [],
   "source": [
    "def findListOfAxiomsToAnswerQuestion(question):\n",
    "    query = f'What are the axioms that are needed to answer the question \"{question}\"? Return the list of statements as strings formatted as [\"Axiom 1\", \"Axiom 2\", ...]. Return nothing but the list.'\n",
    "    return tryRecieveAnswer(query, answerConversion = listAnswerConversion)[0]"
   ]
  },
  {
   "cell_type": "code",
   "execution_count": 22,
   "metadata": {},
   "outputs": [
    {
     "data": {
      "text/plain": [
       "['A rocket must possess a propulsion system to counteract gravitational forces and achieve the necessary altitude and velocity.',\n",
       " \"Newton's laws of motion apply, especially the principle that for every action, there is an equal and opposite reaction, essential for a rocket’s propulsion.\",\n",
       " \"Knowledge of Earth's gravitational field is crucial, to calculate the necessary escape velocity and to establish a stable orbit.\",\n",
       " 'Orbital mechanics principles must be followed for determining the right trajectory and velocity for the rocket to achieve stable orbit around the Earth.',\n",
       " 'The rocket must have a structure capable of withstanding the stresses of launch, including thermal and mechanical stresses.',\n",
       " \"Fuel and mass calculations are essential for determining how much fuel is needed and managing the rocket's weight for achieving the desired orbit.\"]"
      ]
     },
     "execution_count": 22,
     "metadata": {},
     "output_type": "execute_result"
    }
   ],
   "source": [
    "findListOfAxiomsToAnswerQuestion(\"How can a rocket be launched into an orbit around the Earth?\")"
   ]
  },
  {
   "cell_type": "code",
   "execution_count": null,
   "metadata": {},
   "outputs": [],
   "source": [
    "def get_partial_statements(statement):\n",
    "    query = f'What are the partial statements that are contained in the statement \"{statement}\" and stand by themselves? Return all partial statements as strings that do not depend on each other in a list formatted as [\"Partial Statement 1\", \"Partial Statement 2\", ...]. If there are no partial statements, the list should only contain the original statement. Return nothing but the list.'\n",
    "    return tryRecieveAnswer(query, answerConversion=listAnswerConversion)[0]\n"
   ]
  }
 ],
 "metadata": {
  "kernelspec": {
   "display_name": "venv",
   "language": "python",
   "name": "python3"
  },
  "language_info": {
   "codemirror_mode": {
    "name": "ipython",
    "version": 3
   },
   "file_extension": ".py",
   "mimetype": "text/x-python",
   "name": "python",
   "nbconvert_exporter": "python",
   "pygments_lexer": "ipython3",
   "version": "3.11.2"
  }
 },
 "nbformat": 4,
 "nbformat_minor": 2
}
