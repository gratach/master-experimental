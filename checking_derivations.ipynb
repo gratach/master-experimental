{
 "cells": [
  {
   "cell_type": "code",
   "execution_count": 39,
   "metadata": {},
   "outputs": [],
   "source": [
    "from openai import OpenAI\n",
    "from random import randint, choice\n",
    "from os import environ\n",
    "from pathlib import Path\n",
    "from json import loads, dumps\n",
    "environ[\"OPENAI_API_KEY\"] = Path(\"~/.openaiapikey\").expanduser().read_text().strip()\n",
    "\n",
    "openaiClient = OpenAI()\n",
    "def gpt_3_5_turbo_completion(query):\n",
    "    answer = openaiClient.chat.completions.create(\n",
    "        model=\"gpt-3.5-turbo\",\n",
    "        messages=[\n",
    "            {\n",
    "                \"role\": \"system\",\n",
    "                \"content\": query\n",
    "            }\n",
    "        ],\n",
    "        seed = randint(0, 1000000)\n",
    "    )\n",
    "    return answer.choices[0].message.content\n",
    "\n",
    "def gpt_4_turbo_completion(query):\n",
    "    answer = openaiClient.chat.completions.create(\n",
    "        model=\"gpt-4-turbo\",\n",
    "        messages=[\n",
    "            {\n",
    "                \"role\": \"system\",\n",
    "                \"content\": query\n",
    "            }\n",
    "        ],\n",
    "        seed = randint(0, 1000000)\n",
    "    )\n",
    "    return answer.choices[0].message.content\n",
    "\n",
    "def tryRecieveAnswer(query, completionFunction = gpt_4_turbo_completion, answerConversion = lambda x: x, maxTries = 10):\n",
    "    tryNumber = 0\n",
    "    while tryNumber < maxTries:\n",
    "        answer = completionFunction(query)\n",
    "        try:\n",
    "            answer = answerConversion(answer)\n",
    "            return (answer, True)\n",
    "        except:\n",
    "            pass\n",
    "        tryNumber += 1\n",
    "    print(f\"Failed to recieve answer for query: {query}. Last answer: {answer}\")\n",
    "    return (None, False)\n",
    "\n",
    "def listAnswerConversion(answer):\n",
    "    result = loads(answer)\n",
    "    assert isinstance(result, list)\n",
    "    for item in result:\n",
    "        assert isinstance(item, str)\n",
    "    return result"
   ]
  },
  {
   "cell_type": "code",
   "execution_count": 60,
   "metadata": {},
   "outputs": [],
   "source": [
    "class DerivationNetwork:\n",
    "    def __init__(self):\n",
    "        self.equations = []\n",
    "        self.derivations = []\n",
    "class Equation:\n",
    "    def __init__(self, leftSide, rightSide):\n",
    "        self.leftSide = leftSide\n",
    "        self.rightSide = rightSide\n",
    "    def asString(self):\n",
    "        return f\"{self.leftSide} = {self.rightSide}\"\n",
    "class Derivation:\n",
    "    def __init__(self, fromEquations, toEquations):\n",
    "        self.fromEquations = fromEquations\n",
    "        self.toEquations = toEquations\n",
    "        self.symbols = dict()\n",
    "def addEquation(network, leftSide, rightSide):\n",
    "    equation = Equation(leftSide, rightSide)\n",
    "    network.equations.append(equation)\n",
    "    return (leftSide, equation, rightSide)\n",
    "def addFromThisFollowsThat(network, fromEquations, toEquations):\n",
    "    derivation = Derivation(fromEquations, toEquations)\n",
    "    network.derivations.append(derivation)\n",
    "    return derivation\n",
    "def addSymbolDefinition(derivation, symbol, definition):\n",
    "    derivation.symbols[symbol] = definition"
   ]
  },
  {
   "cell_type": "code",
   "execution_count": 89,
   "metadata": {},
   "outputs": [],
   "source": [
    "nw = DerivationNetwork()\n",
    "showSymbolDefinition = False\n",
    "ham = False\n",
    "leftSchroed, schroedEq, rightSchroed = addEquation(nw, \"i\\\\hbar\\\\frac{\\\\partial}{\\\\partial t}\\\\psi(x,t)\", \"-\\\\frac{\\\\hbar^2}{2m}\\\\Delta\\\\psi(x,t)+V(x)\\\\psi(x,t)\")\n",
    "\n",
    "leftSeperation, seperationEq, rightSeperation = addEquation(nw, \"\\\\psi(x,t)\", \"\\\\varphi(x)\\\\chi(t)\")\n",
    "\n",
    "leftTimeDepSchroed, timeDepSchroed, varSepConst= addEquation(nw, \"\\\\frac{i\\\\hbar}{\\\\chi(t)}\\\\frac{d\\\\chi(t)}{dt}\", \"E\")\n",
    "leftSpatialSchroed, spatialSchroed, _ = addEquation(nw, \"-\\\\frac{\\\\hbar^2}{2m \\\\varphi(x)}\\\\Delta\\\\varphi(x) + V(x)\", \"E\")\n",
    "addFromThisFollowsThat(nw, [schroedEq, seperationEq], [timeDepSchroed, spatialSchroed])\n",
    "\n",
    "leftEnergyAssertion, energyAssertion, _ = addEquation(nw, \"\\\\hbar\\\\omega\", varSepConst)\n",
    "\n",
    "leftSolutionOfChi, solutionOfChi, rightSolutionOfChi = addEquation(nw, \"\\\\chi(t)\", \"Ae^{-i\\\\omega t}\")\n",
    "addFromThisFollowsThat(nw, [timeDepSchroed, energyAssertion], [solutionOfChi])\n",
    "\n",
    "if ham:\n",
    "    leftDiffEqOfPhi, diffEqOfPhi, rightDiffEqOfPhi = addEquation(nw, \"-\\\\frac{\\\\hbar^2}{2m}\\\\Delta\\\\varphi(x) + V\\\\varphi(x)\", \"\\\\hbar\\\\omega\\\\varphi(x)\")\n",
    "    addFromThisFollowsThat(nw, [spatialSchroed, energyAssertion], [diffEqOfPhi])\n",
    "\n",
    "    leftHamDef, hamDef, rightHamDef = addEquation(nw, \"H\", \"-\\\\frac{\\\\hbar^2}{2m}\\\\Delta + V(x)\")\n",
    "    _, hamDiff, rightHamDif = addEquation(nw, leftDiffEqOfPhi, \"H\\\\varphi(x)\")\n",
    "    addFromThisFollowsThat(nw, [hamDef], [hamDiff])\n",
    "\n",
    "_, statSol, rightStatSol = addEquation(nw, leftSeperation, \"\\\\varphi(x)e^{-i\\\\omega t}\")\n",
    "addFromThisFollowsThat(nw, [seperationEq, solutionOfChi], [statSol])\n",
    "\n",
    "leftLinComb, linComb, rightLinComb = addEquation(nw, \"\\\\psi(x,t)\", \"\\\\sum_n \\\\psi_n(x, t)\")\n",
    "linCombDeriv = addFromThisFollowsThat(nw, [schroedEq], [linComb])\n",
    "\n",
    "_, solution, rightSolution = addEquation(nw, leftLinComb, \"\\\\sum_n c_n\\\\varphi_n(x)e^{-i\\\\omega_n t}\")\n",
    "addFromThisFollowsThat(nw, [linComb, statSol], [solution])\n",
    "\n",
    "trueNw = nw"
   ]
  },
  {
   "cell_type": "code",
   "execution_count": 88,
   "metadata": {},
   "outputs": [],
   "source": [
    "def isDerivationTrue(derivation):\n",
    "    toEquationsString = (\"the equation\" if len(derivation.toEquations) == 1 else \"the equations \") + \" , \".join([f\"{eq.leftSide} = {eq.rightSide}\" for eq in derivation.toEquations])\n",
    "    fromEquationsString = (\"the equation\" if len(derivation.fromEquations) == 1 else \"the equations \") + \" , \".join([f\"{eq.leftSide} = {eq.rightSide}\" for eq in derivation.fromEquations])\n",
    "    #symbolDefinitionString = \"{\" + \", \".join([f'{symbol} : \"{definition}\"' for symbol, definition in derivation.symbols.items()]) + \"}\"\n",
    "    query = f'Can {fromEquationsString} be derived from {toEquationsString}? Return Y or N without further explanation.' # The symbol definitions of the equations are {symbolDefinitionString}.'\n",
    "    def answerConversion(answer):\n",
    "        assert answer.strip().lower() in [\"y\", \"n\"]\n",
    "        return answer.strip().lower() == \"y\"\n",
    "    return tryRecieveAnswer(query, answerConversion = answerConversion)[0]"
   ]
  },
  {
   "cell_type": "code",
   "execution_count": 51,
   "metadata": {},
   "outputs": [],
   "source": [
    "def checkDerivations(network):\n",
    "    wrongDerivations = []\n",
    "    trueDerivations = []\n",
    "    for derivation in network.derivations:\n",
    "        if isDerivationTrue(derivation):\n",
    "            trueDerivations.append(derivation)\n",
    "        else:\n",
    "            wrongDerivations.append(derivation)\n",
    "    return (trueDerivations, wrongDerivations)"
   ]
  },
  {
   "cell_type": "code",
   "execution_count": 44,
   "metadata": {},
   "outputs": [
    {
     "name": "stdout",
     "output_type": "stream",
     "text": [
      "4 1\n"
     ]
    }
   ],
   "source": [
    "trueNwResults = checkDerivations(trueNw)\n",
    "print(len(trueNwResults[0]), len(trueNwResults[1]))"
   ]
  },
  {
   "cell_type": "code",
   "execution_count": 45,
   "metadata": {},
   "outputs": [
    {
     "name": "stdout",
     "output_type": "stream",
     "text": [
      "from:\n",
      "i\\hbar\\frac{\\partial}{\\partial t}\\psi(x,t) = -\\frac{\\hbar^2}{2m}\\Delta\\psi(x,t)+V(x)\\psi(x,t)\n",
      "to:\n",
      "\\psi(x,t) = \\sum_n \\psi_n(x, t)\n",
      "\n"
     ]
    }
   ],
   "source": [
    "for derivation in trueNwResults[1]:\n",
    "    print(\"from:\")\n",
    "    for eq in derivation.fromEquations:\n",
    "        print(eq.asString())\n",
    "    print(\"to:\")\n",
    "    for eq in derivation.toEquations:\n",
    "        print(eq.asString())\n",
    "    print(\"\")"
   ]
  },
  {
   "cell_type": "code",
   "execution_count": 46,
   "metadata": {},
   "outputs": [],
   "source": [
    "nw = DerivationNetwork()\n",
    "showSymbolDefinition = False\n",
    "ham = False\n",
    "leftSchroed, schroedEq, rightSchroed = addEquation(nw, \"i\\\\hbar\\\\frac{\\\\partial}{\\\\partial x}\\\\psi(x,t)\", \"-\\\\frac{\\\\hbar^2}{2m}\\\\Delta\\\\psi(x,t)+V(x)\\\\psi(x,t)\")\n",
    "\n",
    "leftSeperation, seperationEq, rightSeperation = addEquation(nw, \"\\\\chi(x,t)\", \"\\\\varphi(x)\\\\psi(t)\")\n",
    "\n",
    "leftTimeDepSchroed, timeDepSchroed, varSepConst= addEquation(nw, \"\\\\frac{i\\\\hbar}{\\\\chi(t)}\\\\frac{d\\\\chi(t)}{dt}\", \"E\")\n",
    "leftSpatialSchroed, spatialSchroed, _ = addEquation(nw, \"-\\\\frac{\\\\hbar^2}{m \\\\varphi(x)}\\\\Delta\\\\varphi(x) + V(x)\", varSepConst)\n",
    "addFromThisFollowsThat(nw, [schroedEq, seperationEq], [timeDepSchroed, spatialSchroed])\n",
    "\n",
    "leftEnergyAssertion, energyAssertion, _ = addEquation(nw, \"\\\\hbar\\\\omega\", varSepConst)\n",
    "\n",
    "leftSolutionOfChi, solutionOfChi, rightSolutionOfChi = addEquation(nw, \"\\\\chi(t)\", \"Ae^{-\\\\omega t}\")\n",
    "addFromThisFollowsThat(nw, [timeDepSchroed, energyAssertion], [solutionOfChi])\n",
    "\n",
    "if ham:\n",
    "    leftDiffEqOfPhi, diffEqOfPhi, rightDiffEqOfPhi = addEquation(nw, \"-\\\\frac{\\\\hbar^2}{2m}\\\\Delta\\\\varphi(x) + V\\\\varphi(x)\", \"\\\\hbar\\\\omega\\\\varphi(x)\")\n",
    "    addFromThisFollowsThat(nw, [spatialSchroed, energyAssertion], [diffEqOfPhi])\n",
    "\n",
    "    leftHamDef, hamDef, rightHamDef = addEquation(nw, \"H\", \"-\\\\frac{\\\\hbar^2}{2m}\\\\Delta + V(x)\")\n",
    "    _, hamDiff, rightHamDif = addEquation(nw, leftDiffEqOfPhi, \"H\\\\varphi(x)\")\n",
    "    addFromThisFollowsThat(nw, [hamDef], [hamDiff])\n",
    "\n",
    "_, statSol, rightStatSol = addEquation(nw, leftSeperation, \"\\\\varphi(x)e^{-i\\\\omega^2 t}\")\n",
    "addFromThisFollowsThat(nw, [seperationEq, solutionOfChi], [statSol])\n",
    "\n",
    "leftLinComb, linComb, rightLinComb = addEquation(nw, \"\\\\psi(x,t)\", \"\\\\prod_n \\\\psi_n(x, t)\")\n",
    "addFromThisFollowsThat(nw, [schroedEq], [linComb])\n",
    "\n",
    "_, solution, rightSolution = addEquation(nw, leftLinComb, \"\\\\sum_n c_n\\\\varphi_n(x)e^{-i\\\\omega_n t}\")\n",
    "addFromThisFollowsThat(nw, [linComb, statSol], [solution])\n",
    "\n",
    "falseNw = nw\n"
   ]
  },
  {
   "cell_type": "code",
   "execution_count": 47,
   "metadata": {},
   "outputs": [
    {
     "name": "stdout",
     "output_type": "stream",
     "text": [
      "0 5\n"
     ]
    }
   ],
   "source": [
    "falseNwResults = checkDerivations(falseNw)\n",
    "print(len(falseNwResults[0]), len(falseNwResults[1]))"
   ]
  }
 ],
 "metadata": {
  "kernelspec": {
   "display_name": "venv",
   "language": "python",
   "name": "python3"
  },
  "language_info": {
   "codemirror_mode": {
    "name": "ipython",
    "version": 3
   },
   "file_extension": ".py",
   "mimetype": "text/x-python",
   "name": "python",
   "nbconvert_exporter": "python",
   "pygments_lexer": "ipython3",
   "version": "3.11.2"
  }
 },
 "nbformat": 4,
 "nbformat_minor": 2
}
