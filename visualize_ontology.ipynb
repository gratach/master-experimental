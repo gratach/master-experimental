{
 "cells": [
  {
   "cell_type": "code",
   "execution_count": 2,
   "metadata": {},
   "outputs": [],
   "source": [
    "from rdflib import Graph, URIRef, Literal, Namespace, term\n",
    "from pathlib import Path\n",
    "datapath = Path(\"../master-database-files/master-experimental/physics_ontology/\")"
   ]
  },
  {
   "cell_type": "code",
   "execution_count": 3,
   "metadata": {},
   "outputs": [],
   "source": [
    "from json import dumps\n",
    "def safeVisNetworkJSONToHTMLFile(jsonData, htmlFilePath):\n",
    "    with open(htmlFilePath, \"w\") as htmlFile:\n",
    "        htmlFile.write(\n",
    "            f\"\"\"\n",
    "            <!DOCTYPE html>\n",
    "            <html lang=\"en-US\">\n",
    "            \n",
    "            <head>\n",
    "                <meta charset=\"UTF-8\">\n",
    "                <meta name=\"viewport\" content=\"width=device-width, initial-scale=1\">\n",
    "                <title>Inline vis</title>\n",
    "            </head>\n",
    "            \n",
    "            <body>\n",
    "                <div id=\"mynetwork\" style=\"width:100vw; height:100vh;\"></div>\n",
    "                <script src=\" https://cdn.jsdelivr.net/npm/vis-data@7.1.9/peer/umd/vis-data.min.js \"></script>\n",
    "                <script src=\" https://cdn.jsdelivr.net/npm/vis-network@9.1.9/peer/umd/vis-network.min.js \"></script>\n",
    "                <link href=\" https://cdn.jsdelivr.net/npm/vis-network@9.1.9/styles/vis-network.min.css \" rel=\"stylesheet\">\n",
    "                <script>\n",
    "                    var jsonData = {dumps(jsonData)};\n",
    "                    // create a network\n",
    "                    var container = document.getElementById(\"mynetwork\");\n",
    "                    var options = {{}};\n",
    "                    var network = new vis.Network(container, jsonData, options);\n",
    "                </script>\n",
    "            </body>\n",
    "            \n",
    "            </html>\n",
    "            \"\"\"\n",
    "        )"
   ]
  },
  {
   "cell_type": "code",
   "execution_count": 4,
   "metadata": {},
   "outputs": [],
   "source": [
    "def getAllClasses(graph):\n",
    "    qres = graph.query(\n",
    "        \"\"\"SELECT ?s\n",
    "           WHERE {\n",
    "              ?s a owl:Class\n",
    "              }\"\"\")\n",
    "    classes = []\n",
    "    for row in qres:\n",
    "        if type(row.s) == term.BNode:\n",
    "            continue\n",
    "        classes.append(str(row.s))\n",
    "    return classes\n",
    "\n",
    "def getAllPropertiesBetweenClasses(graph):\n",
    "    qres = graph.query(\n",
    "        \"\"\"SELECT ?subject ?property ?object\n",
    "           WHERE {\n",
    "                ?property a owl:ObjectProperty.\n",
    "                ?property rdfs:domain ?subject.\n",
    "                ?property rdfs:range ?object.\n",
    "              }\"\"\")\n",
    "    properties = []\n",
    "    for row in qres:\n",
    "        properties.append((str(row.subject), str(row.property), str(row.object)))\n",
    "    return properties\n",
    "\n",
    "def getAllSubclassRelationsBetweenClasses(graph):\n",
    "    qres = graph.query(\n",
    "        \"\"\"SELECT ?subclass ?superclass\n",
    "           WHERE {\n",
    "                ?subclass rdfs:subClassOf ?superclass.\n",
    "              }\"\"\")\n",
    "    subclassRelations = []\n",
    "    for row in qres:\n",
    "        subclassRelations.append((str(row.subclass), str(row.superclass)))\n",
    "    return subclassRelations\n",
    "\n",
    "def getAllNamedIndividuals(graph):\n",
    "    qres = graph.query(\n",
    "        \"\"\"SELECT ?s\n",
    "           WHERE {\n",
    "              ?s a owl:NamedIndividual\n",
    "              }\"\"\")\n",
    "    namedIndividuals = []\n",
    "    for row in qres:\n",
    "        if type(row.s) == term.BNode:\n",
    "            continue\n",
    "        namedIndividuals.append(str(row.s))\n",
    "    return namedIndividuals\n",
    "\n",
    "def getAllConnectionsBetweenNamedIndividuals(graph):\n",
    "    qres = graph.query(\n",
    "        \"\"\"SELECT ?subject ?predicate ?object\n",
    "           WHERE {\n",
    "                ?subject ?predicate ?object.\n",
    "                ?subject a owl:NamedIndividual.\n",
    "                ?object a owl:NamedIndividual.\n",
    "              }\"\"\")\n",
    "    connections = []\n",
    "    for row in qres:\n",
    "        connections.append((str(row.subject), str(row.predicate), str(row.object)))\n",
    "    return connections\n",
    "\n",
    "def getNodeName(graph, iri):\n",
    "    return iri.replace(\"/\", \"#\").split(\"#\")[-1]"
   ]
  },
  {
   "cell_type": "code",
   "execution_count": 26,
   "metadata": {},
   "outputs": [],
   "source": [
    "def visualizeOntology(graph, filename = \"output.html\", showOnlyLinkedClasses = False, showSubclassRelations = True, highlightedIris = []):\n",
    "    classes = getAllClasses(graph)\n",
    "    properties = getAllPropertiesBetweenClasses(graph)\n",
    "    subclassRelations = getAllSubclassRelationsBetweenClasses(graph) if showSubclassRelations else []\n",
    "    linkedClasses = set([x[0] for x in properties] + [x[2] for x in properties] + [x[0] for x in subclassRelations] + [x[1] for x in subclassRelations])\n",
    "\n",
    "    nodes = []\n",
    "    edges = []\n",
    "    for class_ in classes:\n",
    "        if showOnlyLinkedClasses and class_ not in linkedClasses:\n",
    "            continue\n",
    "        if any([highlightedIri in class_ for highlightedIri in highlightedIris]):\n",
    "            nodes.append({\"id\": class_, \"label\": getNodeName(graph, class_), \"color\": {\"background\": \"orange\", \"border\": \"red\"}})\n",
    "        else:\n",
    "            nodes.append({\"id\": class_, \"label\": getNodeName(graph, class_), \"color\": {\"background\": \"lightblue\", \"border\": \"blue\"}})\n",
    "    for property_ in properties:\n",
    "        nodes.append({\"id\": property_[1], \"label\": getNodeName(graph, property_[1]), \"shape\": \"box\", \"color\": {\"background\": \"lightgreen\", \"border\": \"green\"}})\n",
    "        edges.append({\"from\": property_[0], \"to\": property_[1], \"color\": \"green\"})\n",
    "        edges.append({\"from\": property_[1], \"to\": property_[2],  \"arrows\": \"to\", \"color\": \"green\"})\n",
    "    for subclassRelation in subclassRelations:\n",
    "        edges.append({\"from\": subclassRelation[0], \"to\": subclassRelation[1], \"label\": \"subclassOf\", \"arrows\": \"to\", \"dashes\": True, \"color\": \"gray\"})\n",
    "    jsonData = {\"nodes\": nodes, \"edges\": edges}\n",
    "    safeVisNetworkJSONToHTMLFile(jsonData, filename)"
   ]
  },
  {
   "cell_type": "code",
   "execution_count": 6,
   "metadata": {},
   "outputs": [],
   "source": [
    "def visualizeNamedIndividuals(graph, filename = \"output.html\"):\n",
    "    namedIndividuals = getAllNamedIndividuals(graph)\n",
    "    connections = getAllConnectionsBetweenNamedIndividuals(graph)\n",
    "    nodes = []\n",
    "    edges = []\n",
    "    for namedIndividual in namedIndividuals:\n",
    "        nodes.append({\"id\": namedIndividual, \"label\": getNodeName(graph, namedIndividual)})\n",
    "    for connection in connections:\n",
    "        edges.append({\"from\": connection[0], \"to\": connection[2], \"label\": getNodeName(graph, connection[1]), \"arrows\": \"to\"})\n",
    "    visjsjson = {\"nodes\": nodes, \"edges\": edges}\n",
    "    safeVisNetworkJSONToHTMLFile(visjsjson, filename)"
   ]
  },
  {
   "cell_type": "code",
   "execution_count": 7,
   "metadata": {},
   "outputs": [],
   "source": [
    "def listAllIndividualsPerClass(graph, showOnlyLinkedClasses = False):\n",
    "    classes = getAllClasses(graph)\n",
    "    properties = getAllPropertiesBetweenClasses(graph)\n",
    "    linkedClasses = set([x[0] for x in properties] + [x[2] for x in properties])\n",
    "    individualsPerClass = []\n",
    "    for class_ in classes:\n",
    "        if showOnlyLinkedClasses and class_ not in linkedClasses:\n",
    "            continue\n",
    "        qres = graph.query(\n",
    "            f\"\"\"SELECT ?s\n",
    "               WHERE {{\n",
    "                  ?s a <{class_}>\n",
    "                  }}\"\"\")\n",
    "        individuals = []\n",
    "        for row in qres:\n",
    "            if type(row.s) == term.BNode:\n",
    "                continue\n",
    "            individuals.append(str(row.s))\n",
    "        individualsPerClass.append((class_, individuals))\n",
    "    # Sort by number of individuals\n",
    "    individualsPerClass.sort(key=lambda x: len(x[1]), reverse=True)\n",
    "    for class_, individuals in individualsPerClass:\n",
    "        print(f\"{getNodeName(graph, class_)}: {len(individuals)}\")\n",
    "        for individual in individuals:\n",
    "            print(f\"  - {getNodeName(graph, individual)}\")"
   ]
  },
  {
   "cell_type": "code",
   "execution_count": 8,
   "metadata": {},
   "outputs": [],
   "source": [
    "def countNamedIndividuals(graph):\n",
    "    namedIndividuals = getAllNamedIndividuals(graph)\n",
    "    return len(namedIndividuals)"
   ]
  },
  {
   "cell_type": "code",
   "execution_count": 9,
   "metadata": {},
   "outputs": [],
   "source": [
    "def countRelationsBetweenNamedIndividuals(graph):\n",
    "    connections = getAllConnectionsBetweenNamedIndividuals(graph)\n",
    "    return len(connections)"
   ]
  },
  {
   "cell_type": "code",
   "execution_count": 6,
   "metadata": {},
   "outputs": [
    {
     "name": "stderr",
     "output_type": "stream",
     "text": [
      "Failed to convert Literal lexical form to value. Datatype=http://www.w3.org/2001/XMLSchema#date, Converter=<function parse_date at 0x7f35886a4e00>\n",
      "Traceback (most recent call last):\n",
      "  File \"/home/gratach/Dokumente/vscode/venv/lib/python3.11/site-packages/rdflib/term.py\", line 2119, in _castLexicalToPython\n",
      "    return conv_func(lexical)  # type: ignore[arg-type]\n",
      "           ^^^^^^^^^^^^^^^^^^\n",
      "  File \"/home/gratach/Dokumente/vscode/venv/lib/python3.11/site-packages/isodate/isodates.py\", line 203, in parse_date\n",
      "    raise ISO8601Error('Unrecognised ISO 8601 date format: %r' % datestring)\n",
      "isodate.isoerror.ISO8601Error: Unrecognised ISO 8601 date format: '2.0'\n",
      "Failed to convert Literal lexical form to value. Datatype=http://www.w3.org/2001/XMLSchema#date, Converter=<function parse_date at 0x7f35886a4e00>\n",
      "Traceback (most recent call last):\n",
      "  File \"/home/gratach/Dokumente/vscode/venv/lib/python3.11/site-packages/rdflib/term.py\", line 2119, in _castLexicalToPython\n",
      "    return conv_func(lexical)  # type: ignore[arg-type]\n",
      "           ^^^^^^^^^^^^^^^^^^\n",
      "  File \"/home/gratach/Dokumente/vscode/venv/lib/python3.11/site-packages/isodate/isodates.py\", line 203, in parse_date\n",
      "    raise ISO8601Error('Unrecognised ISO 8601 date format: %r' % datestring)\n",
      "isodate.isoerror.ISO8601Error: Unrecognised ISO 8601 date format: 'DOI: 10.1103/PhysRevLett.116.131102'\n"
     ]
    },
    {
     "data": {
      "text/plain": [
       "<Graph identifier=Nbe3026a2e38c4385a1f2d3883638a458 (<class 'rdflib.graph.Graph'>)>"
      ]
     },
     "execution_count": 6,
     "metadata": {},
     "output_type": "execute_result"
    }
   ],
   "source": [
    "physciGraph = Graph()\n",
    "physciGraph.parse(str(datapath / \"physci.nt\"))"
   ]
  },
  {
   "cell_type": "code",
   "execution_count": 23,
   "metadata": {},
   "outputs": [
    {
     "data": {
      "text/plain": [
       "<Graph identifier=Nd34ed137edf7448bb27baf8009b82db4 (<class 'rdflib.graph.Graph'>)>"
      ]
     },
     "execution_count": 23,
     "metadata": {},
     "output_type": "execute_result"
    }
   ],
   "source": [
    "cPhyOntoGraph = Graph()\n",
    "cPhyOntoGraph.parse(str(datapath / \"cPhyOnto.ttl\"), format=\"turtle\")"
   ]
  },
  {
   "cell_type": "code",
   "execution_count": 31,
   "metadata": {},
   "outputs": [],
   "source": [
    "visualizeOntology(physciGraph, \"output.html\", showOnlyLinkedClasses = True, showSubclassRelations = False, highlightedIris = [\"https://w3id.org/skgo/physci\"])"
   ]
  },
  {
   "cell_type": "code",
   "execution_count": 27,
   "metadata": {},
   "outputs": [],
   "source": [
    "visualizeOntology(cPhyOntoGraph, \"output.html\", showSubclassRelations = False)"
   ]
  },
  {
   "cell_type": "code",
   "execution_count": 7,
   "metadata": {},
   "outputs": [],
   "source": [
    "visualizeNamedIndividuals(physciGraph, \"output.html\")"
   ]
  },
  {
   "cell_type": "code",
   "execution_count": 27,
   "metadata": {},
   "outputs": [
    {
     "name": "stdout",
     "output_type": "stream",
     "text": [
      "Equation: 13\n",
      "  - Conservation_Equations\n",
      "  - Einstein_Equations\n",
      "  - Field_equations\n",
      "  - Infinitesimal_parallel_translations\n",
      "  - Lagrangian_equation\n",
      "  - The_wave_equation\n",
      "  - field_equations_boundary\n",
      "  - field_equations_with_homogeneous_gravitational_field\n",
      "  - symmetric_solutions_of_the_equations\n",
      "  - the_differentieal_equations\n",
      "  - the_gravitational_equations\n",
      "  - thermodynamic_expression\n",
      "  - wave_equations\n",
      "ResearchWork: 12\n",
      "  - Binary_Black_Hole_Merger\n",
      "  - Black_Holes_Entropy\n",
      "  - First_M87_Event_Horizon_Telescope_Results-I-The_Shadow_of_the_Supermassive_Black_Hole\n",
      "  - Gravitation_the_only_force_in__Neutrinos\n",
      "  - Gravitational_Contraction\n",
      "  - Gravitational_Field_of_a_Mass_Point\n",
      "  - Implication_of_Gravitational_wave\n",
      "  - PCA_for_Black_Hole_Images\n",
      "  - Particle_Creation\n",
      "  - Particle_problem_in_the_Theory_of_Relativity\n",
      "  - Relativistic_theory_of_gravitation\n",
      "  - The_Energy_Distribution_in_the_Normal_Spectrum\n",
      "Solution: 12\n",
      "  - A_Special_Kind_of_Singularity_and_Removal\n",
      "  - Combined_field_electricity\n",
      "  - Kerr_black_hole_solution\n",
      "  - No_such_adjoined_object\n",
      "  - Schwarzschild_solution-Black_hole_evaporation\n",
      "  - The_Schwarzschild_Solution\n",
      "  - The_calculation_of_entropy_of_any_resonator\n",
      "  - black-hole_entropy_solution\n",
      "  - gravitational_field_equations_solutions\n",
      "  - neutrinos_solution\n",
      "  - solution_the_adjoined_translation_corresponds_to_adjoined_objects\n",
      "  - the_Schwarzschild_metric\n",
      "Publication: 11\n",
      "  - A_Generalized_Theory_of_Gravitation\n",
      "  - Black_Holes_and_Entropy\n",
      "  - GW150914_Implications_for_Gravitational_wave_Background_from_binary_black_holes\n",
      "  - Interaction_of_neutrinos_and_Gravitational_fields\n",
      "  - Observation_of_Gravitational_Waves_from_a_Binary_Black_Hole_Merger\n",
      "  - On_Continued_Gravitational_Contraction\n",
      "  - On_the_Law_of_the_Energy_Distribution_in_the_Normal_Spectrum\n",
      "  - PCA_as_a_Tool_for_Characterizing_Black_Hole_Images_and_Variability\n",
      "  - Particle_Creation_by_Black_Holes\n",
      "  - The_Particle_Problem_in_the_General_Theory_of_Relativity\n",
      "  - On_the_Gravitational_Field_of_a_Mass_Point_according_to_Einstein’s_Theory\n",
      "formation: 8\n",
      "  - Binary_Black_Holes\n",
      "  - Black_Hole\n",
      "  - Black_hole_Collapsing\n",
      "  - Collapsing_Stars\n",
      "  - Neutrino_Pairs\n",
      "  - Rotating_star\n",
      "  - The_supermassive_black_hole\n",
      "  - massive_black_holes\n",
      "theory: 8\n",
      "  - Electro-Magnetic_Theory_of_Radiation\n",
      "  - General_Relativity\n",
      "  - General_theory_of_relativity\n",
      "  - Information_theory\n",
      "  - generalized_theory_the_total_field\n",
      "  - neutrino_theory\n",
      "  - theory_of_real_fields\n",
      "  - Einstein's_Theory_of_General_Relativity\n",
      "ScientificMethod: 7\n",
      "  - Curvature_Tensor\n",
      "  - Eigenvalue_Spectrum_Of_PCA\n",
      "  - Hermitian_Tensor\n",
      "  - Parallel_Translations\n",
      "  - Principal_Component_Analysis_in_the_Fourier_Domain\n",
      "  - Thermodynamics_for_black_holes\n",
      "  - the_method_of_general_relativity\n",
      "ScientificProperty: 7\n",
      "  - Black_hole_properties\n",
      "  - Compton_Wavelength\n",
      "  - Field-variables\n",
      "  - Gaussion_Spot-the_black_hole_shadow\n",
      "  - Neutrino_Geon\n",
      "  - Property_of_field_equations\n",
      "  - Ring_structure_Property\n",
      "Phenomena: 6\n",
      "  - Flaring_events_Bright_events\n",
      "  - Gravitational_Waves\n",
      "  - M87\n",
      "  - Macroscopic_phenomena\n",
      "  - gravitational_collapse_superradiance\n",
      "  - gravitational_field\n",
      "ScientificModel: 6\n",
      "  - Gaussian_spot_moving_on_a_circular_path\n",
      "  - Generic_transient_search\n",
      "  - Model_B\n",
      "  - The_Generalized_Second_Law_at_Work\n",
      "  - The_most_general_gravitational_field\n",
      "  - Theoretical_models\n",
      "ScientificProblem: 6\n",
      "  - Particle_Problem\n",
      "  - Space-time_singularities\n",
      "  - The_theory_of_electromagnetic_radiation_is_not_universally_correct\n",
      "  - fraction_as_much_about_neutrinos\n",
      "  - the_behavior_of_nonstatic_solutions_of_the_field_equations\n",
      "  - Schwarzschild’s_problem\n",
      "physicalLaw: 5\n",
      "  - The_field_law_of_gravitation\n",
      "  - The_generalized_second_law_of_thermodynamics\n",
      "  - The_power-law\n",
      "  - the_second_law_of_thermodynamics\n",
      "  - Kepler’s_law_for_circular_orbits\n",
      "Particle: 4\n",
      "  - Electrical_Particle\n",
      "  - Elementary_Particle_Neutron\n",
      "  - Elementary_Particle_Proton\n",
      "  - Massless_point\n",
      "Wave: 4\n",
      "  - GW150914\n",
      "  - Geon\n",
      "  - neutrino_radiation\n",
      "  - transient_gravitational-wave_signal\n",
      "structure: 4\n",
      "  - Horizon-scale_structures\n",
      "  - Kerr_black_hole\n",
      "  - collapsing_body\n",
      "  - perihelion_of_Mercury\n",
      "Observation: 4\n",
      "  - EHT_VLBI_Campaign_Observation\n",
      "  - Event_Horizon_Telescope_EHT_observation\n",
      "  - LIGO_detection_of_gravitional_waves\n",
      "  - Observation_of_Gravitational_Waves\n",
      "Observer: 4\n",
      "  - Hanford_and_Livingston_detector\n",
      "  - LIGO_detectors\n",
      "  - Observer_comoving_with_the_stellar_matter\n",
      "  - Observer_on_the_collapsing_body\n",
      "Motion: 3\n",
      "  - Circular_orbit_motion\n",
      "  - Stationary_motions\n",
      "  - geosedic_motion\n",
      "Simulation: 3\n",
      "  - GRMHD_simulations\n",
      "  - high-fidelity_GRMHD_simulations\n",
      "  - numerical_simulations_of_binary_black_hole_mergers\n",
      "source: 3\n",
      "  - M87\n",
      "  - region_of_curvature\n",
      "  - Sgr_A*_horizon\n",
      "ObservationalData: 3\n",
      "  - EHT_data\n",
      "  - Eigenimages\n",
      "  - instrumental_noise\n",
      "ScientificArgument: 3\n",
      "  - Dimensional_Arguments\n",
      "  - Hermitian_is_natural\n",
      "  - metrical_tensor_as_the_contraction_progresses\n",
      "Measurement: 2\n",
      "  - PCA_formalism_eigenimages\n",
      "  - The_cumulative_sum_of_the_eigenvalues\n",
      "principle: 2\n",
      "  - Hamiltonian_principle\n",
      "  - Principle_of_Equivalence\n",
      "Case: 2\n",
      "  - complex_fields\n",
      "  - real_fields\n",
      "spectrum: 1\n",
      "  - Energy_density_spectrum\n",
      "Concept: 1\n",
      "  - Description_of_Space_by_Means_of_Two_Sheets\n",
      "Expression: 1\n",
      "  - Geosedic_expression\n",
      "Function: 1\n",
      "  - power-law_index__of_the_spectra_of_PCA_eigenvalues_as_a_function\n",
      "Metric: 1\n",
      "  - Schwarzschild_metric\n",
      "Observatory: 1\n",
      "  - Laser_Interferometer_Gravitational_Wave_Observatory_LIGO\n",
      "Theorem: 1\n",
      "  - singularity_theorems_no_hair_theorem\n",
      "Characteristic: 0\n",
      "IdentifyingCharacteristic: 0\n",
      "MeasurementType: 0\n",
      "Protocol: 0\n",
      "Standard: 0\n",
      "Unit: 0\n",
      "Issue: 0\n",
      "Organization: 0\n",
      "PublicationEvent: 0\n",
      "Serial: 0\n",
      "Agent: 0\n",
      "fieldOfStudy: 0\n",
      "horizon: 0\n",
      "gravitation: 0\n",
      "magneticField: 0\n",
      "Result: 0\n",
      "Assumption: 0\n",
      "ExperimentalStudy: 0\n",
      "ScientificLaw: 0\n"
     ]
    }
   ],
   "source": [
    "listAllIndividualsPerClass(physciGraph, showOnlyLinkedClasses = True)"
   ]
  },
  {
   "cell_type": "code",
   "execution_count": 38,
   "metadata": {},
   "outputs": [
    {
     "data": {
      "text/plain": [
       "193"
      ]
     },
     "execution_count": 38,
     "metadata": {},
     "output_type": "execute_result"
    }
   ],
   "source": [
    "countNamedIndividuals(physciGraph)"
   ]
  },
  {
   "cell_type": "code",
   "execution_count": 43,
   "metadata": {},
   "outputs": [
    {
     "data": {
      "text/plain": [
       "179"
      ]
     },
     "execution_count": 43,
     "metadata": {},
     "output_type": "execute_result"
    }
   ],
   "source": [
    "countRelationsBetweenNamedIndividuals(physciGraph)"
   ]
  },
  {
   "cell_type": "code",
   "execution_count": 36,
   "metadata": {},
   "outputs": [
    {
     "data": {
      "text/plain": [
       "<Graph identifier=N4ce53ed8b7104b6b8ffddf70d079879c (<class 'rdflib.graph.Graph'>)>"
      ]
     },
     "execution_count": 36,
     "metadata": {},
     "output_type": "execute_result"
    }
   ],
   "source": [
    "generatedOnto = Graph()\n",
    "generatedOnto.parse(str(datapath / \"..\" / \"generated_ontology\" / \"researchAreaSeeded\" / \"ontology.ttl\"), format=\"turtle\")"
   ]
  },
  {
   "cell_type": "code",
   "execution_count": 37,
   "metadata": {},
   "outputs": [],
   "source": [
    "visualizeOntology(generatedOnto, \"output.html\", showSubclassRelations = False)"
   ]
  }
 ],
 "metadata": {
  "kernelspec": {
   "display_name": "venv",
   "language": "python",
   "name": "python3"
  },
  "language_info": {
   "codemirror_mode": {
    "name": "ipython",
    "version": 3
   },
   "file_extension": ".py",
   "mimetype": "text/x-python",
   "name": "python",
   "nbconvert_exporter": "python",
   "pygments_lexer": "ipython3",
   "version": "3.11.2"
  }
 },
 "nbformat": 4,
 "nbformat_minor": 2
}
