{
 "cells": [
  {
   "cell_type": "code",
   "execution_count": 13,
   "metadata": {},
   "outputs": [],
   "source": [
    "from os import environ\n",
    "from pathlib import Path\n",
    "from json import loads, dumps\n",
    "from random import choice\n",
    "environ[\"OPENAI_API_KEY\"] = Path(\"~/.openaiapikey\").expanduser().read_text().strip()\n",
    "\n",
    "from openai import OpenAI\n",
    "from random import randint\n",
    "\n",
    "openaiClient = OpenAI()\n",
    "def gpt_3_5_turbo_completion(query, temperature = 1):\n",
    "    answer = openaiClient.chat.completions.create(\n",
    "        model=\"gpt-3.5-turbo\",\n",
    "        messages=[\n",
    "            {\n",
    "                \"role\": \"system\",\n",
    "                \"content\": query\n",
    "            }\n",
    "        ],\n",
    "        temperature = temperature,\n",
    "        seed = randint(0, 1000000)\n",
    "    )\n",
    "    return answer.choices[0].message.content\n",
    "\n",
    "def gpt_4_turbo_completion(query, temperature = 1):\n",
    "    answer = openaiClient.chat.completions.create(\n",
    "        model=\"gpt-4-turbo\",\n",
    "        messages=[\n",
    "            {\n",
    "                \"role\": \"system\",\n",
    "                \"content\": query\n",
    "            }\n",
    "        ],\n",
    "        temperature = temperature,\n",
    "        seed = randint(0, 1000000)\n",
    "    )\n",
    "    return answer.choices[0].message.content\n",
    "\n",
    "def tryRecieveAnswer(query, completionFunction = gpt_4_turbo_completion, answerConversion = lambda x: x, maxTries = 10, temperature = 1):\n",
    "    tryNumber = 0\n",
    "    while tryNumber < maxTries:\n",
    "        answer = completionFunction(query, temperature)\n",
    "        try:\n",
    "            answer = answerConversion(answer)\n",
    "            return (answer, True)\n",
    "        except:\n",
    "            pass\n",
    "        tryNumber += 1\n",
    "    print(f\"Failed to recieve answer for query: {query}\")\n",
    "    return (None, False)\n",
    "\n",
    "def listAnswerConversion(answer):\n",
    "    result = loads(answer)\n",
    "    assert isinstance(result, list)\n",
    "    for item in result:\n",
    "        assert isinstance(item, str)\n",
    "    return result"
   ]
  },
  {
   "cell_type": "code",
   "execution_count": 9,
   "metadata": {},
   "outputs": [
    {
     "name": "stderr",
     "output_type": "stream",
     "text": [
      "[nltk_data] Downloading package punkt to /home/gratach/nltk_data...\n",
      "[nltk_data]   Package punkt is already up-to-date!\n"
     ]
    }
   ],
   "source": [
    "\n",
    "data = \"the electron is a subatomic particle with a negative one elementary electric charge.[13] Electrons belong to the first generation of the lepton particle family,[14] and are generally thought to be elementary particles because they have no known components or substructure.[1] The electron's mass is approximately 1/1836 that of the proton.[15] Quantum mechanical properties of the electron include an intrinsic angular momentum (spin) of a half-integer value, expressed in units of the reduced Planck constant, ħ. Being fermions, no two electrons can occupy the same quantum state, per the Pauli exclusion principle.[14] Like all elementary particles, electrons exhibit properties of both particles and waves: They can collide with other particles and can be diffracted like light. The wave properties of electrons are easier to observe with experiments than those of other particles like neutrons and protons because electrons have a lower mass and hence a longer de Broglie wavelength for a given energy. \"\n",
    "from nltk.tokenize import sent_tokenize\n",
    "import nltk\n",
    "nltk.download('punkt')\n",
    "sentences = sent_tokenize(data)"
   ]
  },
  {
   "cell_type": "code",
   "execution_count": 2,
   "metadata": {},
   "outputs": [],
   "source": [
    "def markSentenceConcepts(sentence):\n",
    "    query = f'The sentence \"The earth is a plaet\" containes the two concepts \"earth\" and \"planet\". They can be marked in the sentence by sorrounding them with curly braces: \"The {{earth}} is a {{planet}}\". In the same way the concepts are marked in the sentence \"The {{electron}} is a {{subatomic particle}} with a {{negative electric charge}}. Please mark all concepts in the following sentence: \"{sentence}\". Return nothing but the marked sentence.'\n",
    "    def answerConversion(answer):\n",
    "        ret = []\n",
    "        lastPosition = 0\n",
    "        currentPosition = 0\n",
    "        while currentPosition < len(answer):\n",
    "            if answer[currentPosition] == '{':\n",
    "                if lastPosition < currentPosition:\n",
    "                    ret.append(answer[lastPosition:currentPosition])\n",
    "                currentPosition += 1\n",
    "                lastPosition = currentPosition\n",
    "                while answer[currentPosition] != '}':\n",
    "                    currentPosition += 1\n",
    "                ret.append([answer[lastPosition:currentPosition]])\n",
    "                lastPosition = currentPosition + 1\n",
    "            currentPosition += 1\n",
    "        if lastPosition < len(answer):\n",
    "            ret.append(answer[lastPosition:])\n",
    "        return ret\n",
    "    return tryRecieveAnswer(query, answerConversion = answerConversion)[0]"
   ]
  },
  {
   "cell_type": "code",
   "execution_count": 5,
   "metadata": {},
   "outputs": [
    {
     "data": {
      "text/plain": [
       "['The ',\n",
       " ['electron'],\n",
       " ' is a ',\n",
       " ['subatomic particle'],\n",
       " ' with a ',\n",
       " ['negative one elementary electric charge'],\n",
       " '.']"
      ]
     },
     "execution_count": 5,
     "metadata": {},
     "output_type": "execute_result"
    }
   ],
   "source": [
    "markSentenceConcepts(\"The electron is a subatomic particle with a negative one elementary electric charge.\")"
   ]
  },
  {
   "cell_type": "code",
   "execution_count": 7,
   "metadata": {},
   "outputs": [],
   "source": [
    "def resolveCoreference(sentence, contextSentences):\n",
    "    contextSentenceString = \"[\" + \", \".join([f'\"{contextSentence}\"' for contextSentence in contextSentences]) + \"]\"\n",
    "    query = f'Example: The sentence \"He gave her a book and she read it.\" with the context sentence [\"John met Merry in the school\"] can be resolved to \"John gave Merry a book and Marry read the book\". Please resolve the coreferences in the following sentence: \"{sentence}\" with the context sentences {contextSentenceString}. Return only the sentence with the coreference resolved.'\n",
    "    return tryRecieveAnswer(query)[0]"
   ]
  },
  {
   "cell_type": "code",
   "execution_count": 10,
   "metadata": {},
   "outputs": [],
   "source": [
    "def resolveSentencesCoreference(sentences):\n",
    "    resolvedSentences = []\n",
    "    for i in range(1, len(sentences)):\n",
    "        context = sentences[i-2:i]if i > 1 else [sentences[0]] if i == 1 else []\n",
    "        resolvedSentences.append(resolveCoreference(sentences[i], context))\n",
    "    return resolvedSentences"
   ]
  },
  {
   "cell_type": "code",
   "execution_count": 14,
   "metadata": {},
   "outputs": [
    {
     "data": {
      "text/plain": [
       "['Electrons belong to the first generation of the lepton particle family, and are generally thought to be elementary particles because electrons have no known components or substructure.',\n",
       " \"The electron's mass is approximately 1/1836 that of the proton's mass.\",\n",
       " 'Quantum mechanical properties of the electron include an intrinsic angular momentum (spin) of a half-integer value, expressed in units of the reduced Planck constant, ħ.',\n",
       " 'Being fermions, no two electrons can occupy the same quantum state, per the Pauli exclusion principle which states that particles of half-integer spin cannot occupy the same quantum state.',\n",
       " '\"Like all elementary particles, electrons exhibit properties of both particles and waves: electrons can collide with other particles and electrons can be diffracted like light.\"',\n",
       " 'The wave properties of electrons are easier to observe with experiments than the wave properties of other particles like neutrons and protons because electrons have a lower mass and hence a longer de Broglie wavelength for a given energy.']"
      ]
     },
     "execution_count": 14,
     "metadata": {},
     "output_type": "execute_result"
    }
   ],
   "source": [
    "resolvedSentences = resolveSentencesCoreference(sentences)\n",
    "resolvedSentences"
   ]
  },
  {
   "cell_type": "code",
   "execution_count": 15,
   "metadata": {},
   "outputs": [],
   "source": [
    "from json import dumps\n",
    "def safeVisNetworkJSONToHTMLFile(jsonData, htmlFilePath):\n",
    "    with open(htmlFilePath, \"w\") as htmlFile:\n",
    "        htmlFile.write(\n",
    "            f\"\"\"\n",
    "            <!DOCTYPE html>\n",
    "            <html lang=\"en-US\">\n",
    "            \n",
    "            <head>\n",
    "                <meta charset=\"UTF-8\">\n",
    "                <meta name=\"viewport\" content=\"width=device-width, initial-scale=1\">\n",
    "                <title>Inline vis</title>\n",
    "            </head>\n",
    "            \n",
    "            <body>\n",
    "                <div id=\"mynetwork\" style=\"width:100vw; height:100vh;\"></div>\n",
    "                <script src=\" https://cdn.jsdelivr.net/npm/vis-data@7.1.9/peer/umd/vis-data.min.js \"></script>\n",
    "                <script src=\" https://cdn.jsdelivr.net/npm/vis-network@9.1.9/peer/umd/vis-network.min.js \"></script>\n",
    "                <link href=\" https://cdn.jsdelivr.net/npm/vis-network@9.1.9/styles/vis-network.min.css \" rel=\"stylesheet\">\n",
    "                <script>\n",
    "                    var jsonData = {dumps(jsonData)};\n",
    "                    // create a network\n",
    "                    var container = document.getElementById(\"mynetwork\");\n",
    "                    var options = {{}};\n",
    "                    var network = new vis.Network(container, jsonData, options);\n",
    "                </script>\n",
    "            </body>\n",
    "            \n",
    "            </html>\n",
    "            \"\"\"\n",
    "        )"
   ]
  },
  {
   "cell_type": "code",
   "execution_count": 16,
   "metadata": {},
   "outputs": [],
   "source": [
    "def convertSentenceNetworkToVisNetworkJSON(sentenceNetwork):\n",
    "    \"\"\"\n",
    "    Converts a sentence network to a vis network JSON object\n",
    "    Format of sentenceNetwork:\n",
    "    {\n",
    "        <id string of the sentence>: [<sentence compount 1>, <sentence compount 2>, ...],\n",
    "        ...\n",
    "    }\n",
    "    where sentence compount is eather a string,\n",
    "        which means that it is not a concept but a predicate, adjective, etc.\n",
    "    or a list of the form:\n",
    "        [<id string of the concept>, <name string of the concept>] or\n",
    "        [<id string of the concept>]\n",
    "        which means that it is a concept\n",
    "    \"\"\"\n",
    "    addedNodeIds = set()\n",
    "    nodes = []\n",
    "    edges = []\n",
    "    internalIdCounter = 0\n",
    "    def getNextInternalId():\n",
    "        nonlocal internalIdCounter\n",
    "        internalIdCounter += 1\n",
    "        return str(internalIdCounter)\n",
    "    # Create the sentence head nodes\n",
    "    for sentenceID in sentenceNetwork.keys():\n",
    "        sentenceID = \"_\" + sentenceID\n",
    "        assert not sentenceID in addedNodeIds\n",
    "        nodes.append({\"id\": sentenceID, \"shape\": \"diamond\", \"size\": 20, \"color\": {\"background\": \"rgb(255, 70, 70)\"}})\n",
    "        addedNodeIds.add(sentenceID)\n",
    "    # Create the sentence tails\n",
    "    for sentenceID, sentenceCompounds in sentenceNetwork.items():\n",
    "        lastCompointID = \"_\" + sentenceID\n",
    "        for sentenceCompound in sentenceCompounds:\n",
    "            if isinstance(sentenceCompound, str):\n",
    "                id = getNextInternalId()\n",
    "                nodes.append({\"id\": id, \"label\": sentenceCompound, \"shape\": \"box\", \"color\": {\"background\": \"rgb(255, 230, 34)\"}, \"font\": {\"size\": 15}})\n",
    "            else:\n",
    "                linkNodeId = getNextInternalId()\n",
    "                nodes.append({\"id\": linkNodeId, \"shape\": \"dot\", \"size\": 10, \"color\": {\"background\": \"rgb(255, 130, 70)\"}})\n",
    "                id, name, newDefined = (sentenceCompound + [None, None])[:3]\n",
    "                id = \"_\" + id\n",
    "                if not id in addedNodeIds:\n",
    "                    nodes.append({\"id\": id, \"label\": name, \"shape\": \"ellipse\", \"size\": 40, \"color\": {\"background\": \"rgb(90, 230, 255)\", \"border\": \"rgb(0, 0, 0)\"}, \"font\": {\"size\": 20}})\n",
    "                    addedNodeIds.add(id)\n",
    "                else:\n",
    "                    name = None\n",
    "                if newDefined:\n",
    "                    edges.append({\"from\": linkNodeId, \"to\": id, \"arrows\": \"from\", \"color\": {\"color\": \"gray\"}, \"value\" : 3})\n",
    "                else:\n",
    "                    edges.append({\"from\": linkNodeId, \"to\": id, \"arrows\": \"from\", \"color\": {\"color\": \"gray\"}})\n",
    "                id = linkNodeId\n",
    "            edges.append({\"from\": lastCompointID, \"to\": id, \"value\": 3, \"arrows\": \"to\", \"color\": {\"color\": \"rgb(255, 180, 70)\"}})\n",
    "            lastCompointID = id\n",
    "    return {\"nodes\": nodes, \"edges\": edges}"
   ]
  },
  {
   "cell_type": "code",
   "execution_count": 17,
   "metadata": {},
   "outputs": [],
   "source": [
    "def saveSentenceNetworkToVisNetworkHTMLFile(sentenceNetwork, htmlFilePath):\n",
    "    safeVisNetworkJSONToHTMLFile(convertSentenceNetworkToVisNetworkJSON(sentenceNetwork), htmlFilePath)"
   ]
  },
  {
   "cell_type": "code",
   "execution_count": 18,
   "metadata": {},
   "outputs": [],
   "source": [
    "class SentecnceNetwork:\n",
    "    def __init__(self):\n",
    "        self.sentences = set()\n",
    "        self.concepts = set()\n",
    "        self.idCounter = 0\n",
    "    def sentence(self, *sentenceCompounds):\n",
    "        sentence = Sentence(self, sentenceCompounds, self.idCounter)\n",
    "        self.idCounter += 1\n",
    "        self.sentences.add(sentence)\n",
    "        return sentence\n",
    "    def concept(self, name, newDefined = False):\n",
    "        concept = Concept(self, name, self.idCounter, newDefined)\n",
    "        self.idCounter += 1\n",
    "        self.concepts.add(concept)\n",
    "        return concept\n",
    "    def getNetwork(self):\n",
    "        network = {}\n",
    "        for sentence in self.sentences:\n",
    "            network[str(sentence.sentenceID)] = [compound if isinstance(compound, str) else [str(compound.sentenceID)] if isinstance(compound, Sentence) else [str(compound.id), compound.name, compound.definingSentence == sentence] for compound in sentence.compounds]\n",
    "        return network\n",
    "        \n",
    "class Sentence:\n",
    "    def __init__(self, sentenceNetwork, sentenceCompounds, sentenceID):\n",
    "        self.sentenceNetwork = sentenceNetwork\n",
    "        self.sentenceID = sentenceID\n",
    "        self.compounds = sentenceCompounds\n",
    "        for compound in sentenceCompounds:\n",
    "            if isinstance(compound, Concept):\n",
    "                if compound.newDefined:\n",
    "                    compound.definingSentence = self\n",
    "                    compound.newDefined = False\n",
    "\n",
    "class Concept:\n",
    "    def __init__(self, sentenceNetwork, name, id, newDefined = False):\n",
    "        self.sentenceNetwork = sentenceNetwork\n",
    "        self.name = name\n",
    "        self.id = id\n",
    "        self.definingSentence = None\n",
    "        self.newDefined = newDefined"
   ]
  },
  {
   "cell_type": "code",
   "execution_count": 19,
   "metadata": {},
   "outputs": [],
   "source": [
    "def convertTextIntoSentenceNetwork(text):\n",
    "    sentenceNetwork = SentecnceNetwork()\n",
    "    sentences = sent_tokenize(text)\n",
    "    sentences = resolveSentencesCoreference(sentences)\n",
    "    conceptDict = {}\n",
    "    for sentence in sentences:\n",
    "        sentenceCompounts = markSentenceConcepts(sentence)\n",
    "        for i in range(len(sentenceCompounts)):\n",
    "            if isinstance(sentenceCompounts[i], list):\n",
    "                conceptName = sentenceCompounts[i][0].lower()\n",
    "                if not conceptName in conceptDict:\n",
    "                    conceptDict[conceptName] = sentenceNetwork.concept(conceptName)\n",
    "                sentenceCompounts[i] = conceptDict[conceptName]\n",
    "        sentenceNetwork.sentence(*sentenceCompounts)\n",
    "    return sentenceNetwork"
   ]
  },
  {
   "cell_type": "code",
   "execution_count": 20,
   "metadata": {},
   "outputs": [],
   "source": [
    "sentenceNet = convertTextIntoSentenceNetwork(data)\n",
    "saveSentenceNetworkToVisNetworkHTMLFile(sentenceNet.getNetwork(), \"sentenceNetwork.html\")"
   ]
  }
 ],
 "metadata": {
  "kernelspec": {
   "display_name": "venv",
   "language": "python",
   "name": "python3"
  },
  "language_info": {
   "codemirror_mode": {
    "name": "ipython",
    "version": 3
   },
   "file_extension": ".py",
   "mimetype": "text/x-python",
   "name": "python",
   "nbconvert_exporter": "python",
   "pygments_lexer": "ipython3",
   "version": "3.11.2"
  }
 },
 "nbformat": 4,
 "nbformat_minor": 2
}
