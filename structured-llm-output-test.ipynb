{
 "cells": [
  {
   "cell_type": "code",
   "execution_count": 2,
   "metadata": {},
   "outputs": [],
   "source": [
    "from os import environ\n",
    "from pathlib import Path\n",
    "from json import loads, dumps\n",
    "environ[\"OPENAI_API_KEY\"] = Path(\"~/.openaiapikey\").expanduser().read_text().strip()\n",
    "from openai import OpenAI\n",
    "client = OpenAI()"
   ]
  },
  {
   "cell_type": "code",
   "execution_count": 16,
   "metadata": {},
   "outputs": [],
   "source": [
    "testFunction = { # parameters json schema definition : https://json-schema.org/overview/what-is-jsonschema\n",
    "    \"name\" : \"function\",\n",
    "    \"description\" : \"Give me a summary of the following text\",\n",
    "    \"parameters\" : { \n",
    "        \"type\" : \"object\",\n",
    "        \"properties\" : {\n",
    "            \"topic\" : {\n",
    "                \"type\" : \"string\",\n",
    "                \"description\" : \"The topic of the text\"\n",
    "            },\n",
    "            \"protagonist\" : {\n",
    "                \"type\" : \"string\",\n",
    "                \"description\" : \"The protagonist of the text\"\n",
    "            },\n",
    "            \"context\" : {\n",
    "                \"type\" : \"string\",\n",
    "                \"description\" : \"The general context of the text\"\n",
    "            },\n",
    "            \"duration\":\n",
    "            {\n",
    "                \"type\" : \"number\",\n",
    "                \"description\" : \"The duration of the action in hours\"\n",
    "            },\n",
    "            \"involved items\":\n",
    "            {\n",
    "                \"type\" : \"array\",\n",
    "                \"items\" : {\n",
    "                    \"type\" : \"object\",\n",
    "                    \"properties\" : {\n",
    "                        \"name\" : {\n",
    "                            \"type\" : \"string\",\n",
    "                            \"description\" : \"The name of the item\"\n",
    "                        },\n",
    "                        \"quantity\" : {\n",
    "                            \"type\" : \"number\",\n",
    "                            \"description\" : \"The quantity of the item\"\n",
    "                        }\n",
    "                    }\n",
    "                },\n",
    "                \"description\" : \"The items involved in the action\"\n",
    "            },\n",
    "        },\n",
    "    }\n",
    "}\n",
    "testText = \"Yesterday I went to the store and bought some apples. I also bought some oranges. I then went home and made a fruit salad. It was delicious.\""
   ]
  },
  {
   "cell_type": "code",
   "execution_count": 31,
   "metadata": {},
   "outputs": [],
   "source": [
    "openaiClient = OpenAI()\n",
    "def completion(query, format):\n",
    "    answer = openaiClient.chat.completions.create(\n",
    "        model=\"gpt-4o-mini-2024-07-18\",\n",
    "        messages=[\n",
    "            {\n",
    "                \"role\": \"user\",\n",
    "                \"content\": query\n",
    "            }\n",
    "        ],\n",
    "        response_format={\n",
    "            \"type\": \"json_schema\",\n",
    "            \"json_schema\": {\n",
    "                \"name\": \"response\",\n",
    "                \"strict\": True,\n",
    "                \"schema\" : format\n",
    "            }\n",
    "        }\n",
    "    )\n",
    "    if answer.choices[0].message.refusal != None:\n",
    "        raise Exception(answer.choices[0].message.refusal)\n",
    "    return answer.choices[0].message.content\n"
   ]
  },
  {
   "cell_type": "code",
   "execution_count": 35,
   "metadata": {},
   "outputs": [],
   "source": [
    "testFunction2 = {\n",
    "        \"type\" : \"object\",\n",
    "        \"properties\" : {\n",
    "            \"list\" : {\n",
    "                \"type\" : \"array\",\n",
    "                \"items\" : {\n",
    "                    \"type\" : \"string\"\n",
    "                }\n",
    "            }\n",
    "        },\n",
    "        \"required\" : [\"list\"],\n",
    "        \"additionalProperties\" : False\n",
    "    }\n",
    "prompt2 = \"Describe the purpose of a university\""
   ]
  },
  {
   "cell_type": "code",
   "execution_count": 36,
   "metadata": {},
   "outputs": [
    {
     "data": {
      "text/plain": [
       "'{\"list\":[\"Education: The primary purpose of a university is to provide higher education and training to students, equipping them with knowledge and skills in various fields of study.\",\"Research: Universities serve as centers for research and innovation, driving advances in various disciplines and contributing to the body of knowledge.\",\"Critical Thinking: They foster critical thinking, encouraging students to analyze, evaluate, and synthesize information across different viewpoints.\",\"Social Mobility: Universities play a crucial role in promoting social mobility, providing opportunities for individuals from diverse backgrounds to improve their economic status.\",\"Civic Engagement: They prepare students to become engaged citizens, promoting active participation in communities and society at large.\",\"Cultural Preservation: Universities often engage in the preservation and dissemination of culture, arts, and humanities, contributing to the cultural richness of society.\",\"Global Perspectives: They promote a global outlook, encouraging students to understand and appreciate different cultures and global issues.\"]}'"
      ]
     },
     "execution_count": 36,
     "metadata": {},
     "output_type": "execute_result"
    }
   ],
   "source": [
    "completion(prompt2, testFunction2)"
   ]
  }
 ],
 "metadata": {
  "kernelspec": {
   "display_name": "venv",
   "language": "python",
   "name": "python3"
  },
  "language_info": {
   "codemirror_mode": {
    "name": "ipython",
    "version": 3
   },
   "file_extension": ".py",
   "mimetype": "text/x-python",
   "name": "python",
   "nbconvert_exporter": "python",
   "pygments_lexer": "ipython3",
   "version": "3.11.2"
  }
 },
 "nbformat": 4,
 "nbformat_minor": 2
}
