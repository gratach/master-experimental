{
 "cells": [
  {
   "cell_type": "code",
   "execution_count": 2,
   "metadata": {},
   "outputs": [],
   "source": [
    "from os import environ\n",
    "from pathlib import Path\n",
    "from json import loads, dumps\n",
    "environ[\"OPENAI_API_KEY\"] = Path(\"~/.openaiapikey\").expanduser().read_text().strip()\n",
    "from openai import OpenAI\n",
    "client = OpenAI()"
   ]
  },
  {
   "cell_type": "code",
   "execution_count": 16,
   "metadata": {},
   "outputs": [],
   "source": [
    "testFunction = { # parameters json schema definition : https://json-schema.org/overview/what-is-jsonschema\n",
    "    \"name\" : \"function\",\n",
    "    \"description\" : \"Give me a summary of the following text\",\n",
    "    \"parameters\" : { \n",
    "        \"type\" : \"object\",\n",
    "        \"properties\" : {\n",
    "            \"topic\" : {\n",
    "                \"type\" : \"string\",\n",
    "                \"description\" : \"The topic of the text\"\n",
    "            },\n",
    "            \"protagonist\" : {\n",
    "                \"type\" : \"string\",\n",
    "                \"description\" : \"The protagonist of the text\"\n",
    "            },\n",
    "            \"context\" : {\n",
    "                \"type\" : \"string\",\n",
    "                \"description\" : \"The general context of the text\"\n",
    "            },\n",
    "            \"duration\":\n",
    "            {\n",
    "                \"type\" : \"number\",\n",
    "                \"description\" : \"The duration of the action in hours\"\n",
    "            },\n",
    "            \"involved items\":\n",
    "            {\n",
    "                \"type\" : \"array\",\n",
    "                \"items\" : {\n",
    "                    \"type\" : \"object\",\n",
    "                    \"properties\" : {\n",
    "                        \"name\" : {\n",
    "                            \"type\" : \"string\",\n",
    "                            \"description\" : \"The name of the item\"\n",
    "                        },\n",
    "                        \"quantity\" : {\n",
    "                            \"type\" : \"number\",\n",
    "                            \"description\" : \"The quantity of the item\"\n",
    "                        }\n",
    "                    }\n",
    "                },\n",
    "                \"description\" : \"The items involved in the action\"\n",
    "            },\n",
    "        },\n",
    "    }\n",
    "}\n",
    "testText = \"Yesterday I went to the store and bought some apples. I also bought some oranges. I then went home and made a fruit salad. It was delicious.\""
   ]
  },
  {
   "cell_type": "code",
   "execution_count": 17,
   "metadata": {},
   "outputs": [
    {
     "name": "stdout",
     "output_type": "stream",
     "text": [
      "{\"protagonist\":\"I\",\"context\":\"went to the store, bought apples and oranges, made a fruit salad\",\"involved items\":[{\"name\":\"apples\",\"quantity\":1},{\"name\":\"oranges\",\"quantity\":1}],\"duration\":1}\n"
     ]
    }
   ],
   "source": [
    "restult = client.chat.completions.create(\n",
    "    model=\"gpt-3.5-turbo\",\n",
    "    messages=[\n",
    "        {\"role\":\"user\", \"content\":testText}\n",
    "    ],\n",
    "    functions=[testFunction],\n",
    "    function_call=\"auto\",\n",
    ").choices[0].message.function_call.arguments\n",
    "print(restult)\n"
   ]
  }
 ],
 "metadata": {
  "kernelspec": {
   "display_name": "venv",
   "language": "python",
   "name": "python3"
  },
  "language_info": {
   "codemirror_mode": {
    "name": "ipython",
    "version": 3
   },
   "file_extension": ".py",
   "mimetype": "text/x-python",
   "name": "python",
   "nbconvert_exporter": "python",
   "pygments_lexer": "ipython3",
   "version": "3.11.2"
  }
 },
 "nbformat": 4,
 "nbformat_minor": 2
}
