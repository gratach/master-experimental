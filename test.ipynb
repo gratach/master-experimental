{
 "cells": [
  {
   "cell_type": "code",
   "execution_count": 12,
   "metadata": {},
   "outputs": [],
   "source": [
    "from os import environ\n",
    "from pathlib import Path\n",
    "environ[\"OPENAI_API_KEY\"] = Path(\"~/.openaiapikey\").expanduser().read_text().strip()\n",
    "from json import loads"
   ]
  },
  {
   "cell_type": "code",
   "execution_count": 6,
   "metadata": {},
   "outputs": [],
   "source": [
    "from openai import OpenAI\n",
    "from random import randint\n",
    "\n",
    "openaiClient = OpenAI()\n",
    "def gpt_3_5_turbo_completion(query):\n",
    "    answer = openaiClient.chat.completions.create(\n",
    "        model=\"gpt-3.5-turbo\",\n",
    "        messages=[\n",
    "            {\n",
    "                \"role\": \"system\",\n",
    "                \"content\": query\n",
    "            }\n",
    "        ],\n",
    "        seed = randint(0, 1000000)\n",
    "    )\n",
    "    return answer.choices[0].message.content\n",
    "\n",
    "def gpt_4_turbo_completion(query):\n",
    "    answer = openaiClient.chat.completions.create(\n",
    "        model=\"gpt-4-turbo\",\n",
    "        messages=[\n",
    "            {\n",
    "                \"role\": \"system\",\n",
    "                \"content\": query\n",
    "            }\n",
    "        ],\n",
    "        seed = randint(0, 1000000)\n",
    "    )\n",
    "    return answer.choices[0].message.content\n",
    "\n",
    "def tryRecieveAnswer(query, completionFunction, answerConversion = lambda x: True, maxTries = 10):\n",
    "    tryNumber = 0\n",
    "    while tryNumber < maxTries:\n",
    "        answer = completionFunction(query)\n",
    "        try:\n",
    "            answer = answerConversion(answer)\n",
    "            return (answer, True)\n",
    "        except:\n",
    "            pass\n",
    "        tryNumber += 1\n",
    "    print(f\"Failed to recieve answer for query: {query}\")\n",
    "    return (None, False)"
   ]
  },
  {
   "cell_type": "code",
   "execution_count": 8,
   "metadata": {},
   "outputs": [],
   "source": [
    "\n",
    "def getSemanticTriples(subjectTerm):\n",
    "    querry = f'Semantic triples such as [\"Star\", \"emits\", \"Light\"] and [\"Rocket\", \"can bring cargo to\", \"Space\"] consists of a subject, a predicate, and an object. Give me five examples of semantic triples that contain \"{subjectTerm}\" as subject and return them in an array formatted like [[\"sub1\", \"pred1\", \"obj1\"], [\"sub2\", \"pred2\", \"obj2\"], ...]. Return nothing but the array without explanation.'\n",
    "    def answerConversion(answer):\n",
    "        result = loads(answer)\n",
    "        assert isinstance(result, list)\n",
    "        assert all(isinstance(triple, list) for triple in result)\n",
    "        assert all(len(triple) == 3 for triple in result)\n",
    "        assert all(isinstance(term, str) for triple in result for term in triple)\n",
    "        return result\n",
    "    answer, success = tryRecieveAnswer(querry, gpt_4_turbo_completion, answerConversion)\n",
    "    if success:\n",
    "        return answer\n",
    "    return None"
   ]
  },
  {
   "cell_type": "code",
   "execution_count": 9,
   "metadata": {},
   "outputs": [
    {
     "data": {
      "text/plain": [
       "[['Star', 'is a type of', 'Celestial body'],\n",
       " ['Star', 'generates', 'Heat'],\n",
       " ['Star', 'can be observed in', 'Night sky'],\n",
       " ['Star', 'forms from', 'Nebula'],\n",
       " ['Star', 'has a lifespan of', 'Millions to billions of years']]"
      ]
     },
     "execution_count": 9,
     "metadata": {},
     "output_type": "execute_result"
    }
   ],
   "source": [
    "getSemanticTriples(\"Star\")"
   ]
  },
  {
   "cell_type": "code",
   "execution_count": 21,
   "metadata": {},
   "outputs": [],
   "source": [
    "from random import choice\n",
    "def freeAssociationRandomWalk(startTerm, maxSteps = 10):\n",
    "    currentSubj = startTerm\n",
    "    currentPred = None\n",
    "    currentObj = None\n",
    "    triplePath = []\n",
    "    for _ in range(maxSteps):\n",
    "        querry = f'Semantic triples such as [\"Star\", \"emits\", \"Light\"] and [\"Rocket\", \"can bring cargo to\", \"Space\"] consists of a subject, a predicate, and an object. Give me one example of semantic triples that contains \"{currentSubj}\" as subject and return it formatted like [\"subj\", \"pred\", \"obj\"]. Return nothing but the triple without explanation.'\n",
    "        def answerConversion(answer):\n",
    "            result = loads(answer)\n",
    "            assert isinstance(result, list)\n",
    "            assert len(result) == 3\n",
    "            assert all(isinstance(term, str) for term in result)\n",
    "            return result\n",
    "        answer, success = tryRecieveAnswer(querry, gpt_3_5_turbo_completion, answerConversion)\n",
    "        if success:\n",
    "            currentSubj, currentPred, currentObj = answer\n",
    "            print(f\"{currentSubj} {currentPred} {currentObj}\")\n",
    "            triplePath.append((currentSubj, currentPred, currentObj))\n",
    "            currentSubj = currentObj\n",
    "        else:\n",
    "            break\n",
    "    return triplePath"
   ]
  },
  {
   "cell_type": "code",
   "execution_count": 25,
   "metadata": {},
   "outputs": [
    {
     "name": "stdout",
     "output_type": "stream",
     "text": [
      "Star emits Light\n",
      "Light illuminates Room\n",
      "Room has Furniture\n",
      "Furniture enhances interior design\n",
      "Interior design involves creating functional and aesthetically pleasing spaces\n",
      "Creating functional and aesthetically pleasing spaces requires attention to detail and creativity\n",
      "Attention to detail and creativity is important for success\n",
      "Success brings happiness\n",
      "Happiness brings joy\n",
      "Joy brings Happiness\n"
     ]
    }
   ],
   "source": [
    "result = freeAssociationRandomWalk(\"Star\")"
   ]
  },
  {
   "cell_type": "code",
   "execution_count": 42,
   "metadata": {},
   "outputs": [],
   "source": [
    "from random import choice\n",
    "def freeAssociationRandomWalkWithTopic(startTerm, topic, maxSteps = 10):\n",
    "    currentSubj = startTerm\n",
    "    currentPred = None\n",
    "    currentObj = None\n",
    "    triplePath = []\n",
    "    for _ in range(maxSteps):\n",
    "        querry = f'Semantic triples such as [\"Star\", \"emits\", \"Light\"] and [\"Rocket\", \"can bring cargo to\", \"Space\"] consists of a subject, a predicate, and an object. Give me one example of semantic triples that contains \"{currentSubj}\" as subject. An idea for the topic of the triple is \"{topic}\". Return the triple formatted like [\"subj\", \"pred\", \"obj\"]. Return nothing but the triple without explanation.'\n",
    "        def answerConversion(answer):\n",
    "            result = loads(answer)\n",
    "            assert isinstance(result, list)\n",
    "            assert len(result) == 3\n",
    "            assert all(isinstance(term, str) for term in result)\n",
    "            return result\n",
    "        answer, success = tryRecieveAnswer(querry, gpt_4_turbo_completion, answerConversion)\n",
    "        if success:\n",
    "            _, currentPred, currentObj = answer\n",
    "            print(f\"{currentSubj} {currentPred} {currentObj}\")\n",
    "            triplePath.append((currentSubj, currentPred, currentObj))\n",
    "            currentSubj = currentObj\n",
    "        else:\n",
    "            break\n",
    "    return triplePath"
   ]
  },
  {
   "cell_type": "code",
   "execution_count": 26,
   "metadata": {},
   "outputs": [
    {
     "name": "stdout",
     "output_type": "stream",
     "text": [
      "Star produces Neutrinos\n",
      "Neutrinos are produced in Particle accelerator\n",
      "Particle accelerator accelerates Particles\n",
      "Particles are accelerated using electric fields\n",
      "Electric fields accelerate Charged particles\n",
      "Charged particles accelerate Near the speed of light\n",
      "Near the speed of light propels particles\n",
      "Particles are accelerated in Particle accelerator\n",
      "Particle accelerator accelerates Particles\n",
      "Particles are accelerated by Particle accelerator\n"
     ]
    }
   ],
   "source": [
    "result2 = freeAssociationRandomWalkWithTopic(\"Star\", \"Particle accelerator\")"
   ]
  },
  {
   "cell_type": "code",
   "execution_count": 43,
   "metadata": {},
   "outputs": [
    {
     "name": "stdout",
     "output_type": "stream",
     "text": [
      "Star oscillates in brightness\n",
      "brightness is measured in Candelas\n",
      "Candelas measures Luminous intensity\n",
      "Luminous intensity is measured in Candelas\n",
      "Candelas measure luminous intensity of Harmonic oscillator\n",
      "Harmonic oscillator exhibits simple harmonic motion\n",
      "simple harmonic motion is exhibited by Harmonic oscillator\n",
      "Harmonic oscillator exhibits simple harmonic motion\n",
      "simple harmonic motion is exhibited by Harmonic oscillator\n",
      "Harmonic oscillator exhibits periodic motion\n"
     ]
    }
   ],
   "source": [
    "result3 = freeAssociationRandomWalkWithTopic(\"Star\", \"Harmonic oscillator\")"
   ]
  },
  {
   "cell_type": "code",
   "execution_count": 39,
   "metadata": {},
   "outputs": [
    {
     "data": {
      "text/plain": [
       "[('Star', 'exhibits dynamics analogous to', 'Harmonic oscillator'),\n",
       " ('Harmonic oscillator', 'undergoes', 'simple harmonic motion'),\n",
       " ('simple harmonic motion', 'is a type of motion of', 'Harmonic oscillator'),\n",
       " ('Harmonic oscillator', 'exhibits', 'simple harmonic motion'),\n",
       " ('simple harmonic motion', 'is exhibited by', 'Harmonic oscillator'),\n",
       " ('Harmonic oscillator', 'exhibits', 'simple harmonic motion'),\n",
       " ('simple harmonic motion', 'is exhibited by', 'Harmonic oscillator'),\n",
       " ('Harmonic oscillator', 'exhibits', 'simple harmonic motion'),\n",
       " ('simple harmonic motion', 'is exhibited by', 'Harmonic oscillator'),\n",
       " ('Harmonic oscillator', 'undergoes', 'Simple harmonic motion')]"
      ]
     },
     "execution_count": 39,
     "metadata": {},
     "output_type": "execute_result"
    }
   ],
   "source": [
    "result3"
   ]
  },
  {
   "cell_type": "code",
   "execution_count": null,
   "metadata": {},
   "outputs": [],
   "source": [
    "def createTriplesThatAreLinkingTopics(topics, tripleCount = 5):\n",
    "    triples = []\n",
    "    \n",
    "    return triples"
   ]
  },
  {
   "cell_type": "code",
   "execution_count": 44,
   "metadata": {},
   "outputs": [
    {
     "name": "stdout",
     "output_type": "stream",
     "text": [
      "hallohallo\n"
     ]
    }
   ],
   "source": [
    "def navigateTriples(triples, startTerm = None):\n",
    "    while True:\n",
    "        "
   ]
  },
  {
   "cell_type": "code",
   "execution_count": 50,
   "metadata": {},
   "outputs": [
    {
     "name": "stderr",
     "output_type": "stream",
     "text": [
      "/tmp/ipykernel_15687/4154482699.py:1: DeprecationWarning: Importing display from IPython.core.display is deprecated since IPython 7.14, please import from IPython display\n",
      "  from IPython.core.display import display, HTML\n"
     ]
    },
    {
     "data": {
      "text/html": [
       "<h1>Hello, world!</h1><script>alert(\"Hello, world!\")</script>"
      ],
      "text/plain": [
       "<IPython.core.display.HTML object>"
      ]
     },
     "metadata": {},
     "output_type": "display_data"
    }
   ],
   "source": [
    "from IPython.core.display import display, HTML\n",
    "display(HTML('<h1>Hello, world!</h1><script>alert(\"Hello, world!\")</script>'))"
   ]
  },
  {
   "cell_type": "code",
   "execution_count": 4,
   "metadata": {},
   "outputs": [
    {
     "data": {
      "text/html": [
       "\n",
       "        <!DOCTYPE html>\n",
       "        <html lang=\"en-US\">\n",
       "        \n",
       "        <head>\n",
       "            <meta charset=\"UTF-8\">\n",
       "            <meta name=\"viewport\" content=\"width=device-width, initial-scale=1\">\n",
       "            <title>Inline vis</title>\n",
       "        </head>\n",
       "        \n",
       "        <body>\n",
       "            <h1 id=\"testest\">Inline vis</h1>\n",
       "            <div id=\"mynetwork\" style=\"width:5px; height:5px;\"></div>\n",
       "            <script src=\" https://cdn.jsdelivr.net/npm/vis-data@7.1.9/peer/umd/vis-data.min.js \"></script>\n",
       "            <script src=\" https://cdn.jsdelivr.net/npm/vis-network@9.1.9/peer/umd/vis-network.min.js \"></script>\n",
       "            <link href=\" https://cdn.jsdelivr.net/npm/vis-network@9.1.9/styles/vis-network.min.css \" rel=\"stylesheet\">\n",
       "            <script>\n",
       "\n",
       "                // create an array with nodes\n",
       "        document.getElementById(\"testest\").innerText = Object.keys(this).join(\", \");\n",
       "        Network = vis.Network;\n",
       "        DataSet = vis.DataSet;\n",
       "        console.log(Network);\n",
       "        console.log(DataSet);\n",
       "        // create an array with nodes\n",
       "        var nodes = new DataSet([\n",
       "        { id: 1, shape: \"dot\", size: 20, mass: 10},\n",
       "        { id: 2, shape: \"dot\", size: 20, mass: 1},\n",
       "        { id: 3, shape: \"dot\", size: 20, mass: 1},\n",
       "        \n",
       "        { id: 4, shape: \"dot\", size: 5, mass: 0.1},\n",
       "        { id: 5, shape: \"dot\", size: 5, mass: 0.1},\n",
       "        { id: 6, shape: \"dot\", size: 5, mass: 0.1},\n",
       "        { id: 7, shape: \"dot\", size: 5, mass: 0.1},\n",
       "        { id: 8, shape: \"dot\", size: 5, mass: 0.1},\n",
       "        ]);\n",
       "\n",
       "        // create an array with edges\n",
       "        var edges = new DataSet([\n",
       "        { from: 1, to: 2, length: 70 },\n",
       "        { from: 2, to: 3, length: 70 },\n",
       "        \n",
       "        { from: 3, to: 4},\n",
       "        { from: 3, to: 5 },\n",
       "        { from: 3, to: 6 },\n",
       "        { from: 3, to: 7 },\n",
       "        { from: 3, to: 8 },\n",
       "        ]);\n",
       "\n",
       "        // create a network\n",
       "        var data = {\n",
       "        nodes: nodes,\n",
       "        edges: edges,\n",
       "        };\n",
       "        var container = document.getElementById(\"mynetwork\");\n",
       "        var options = {};\n",
       "        var network = new Network(container, data, options);\n",
       "            </script>\n",
       "        </body>\n",
       "        \n",
       "        </html>\n",
       "\n",
       "    "
      ],
      "text/plain": [
       "<IPython.core.display.HTML object>"
      ]
     },
     "metadata": {},
     "output_type": "display_data"
    }
   ],
   "source": [
    "from IPython.display import display, HTML\n",
    "#print((Path(\"\") / \"html\" / \"vis-network.min.js\").read_text()[0:200])\n",
    "display(HTML(\n",
    "    \"\"\"\n",
    "        <!DOCTYPE html>\n",
    "        <html lang=\"en-US\">\n",
    "        \n",
    "        <head>\n",
    "            <meta charset=\"UTF-8\">\n",
    "            <meta name=\"viewport\" content=\"width=device-width, initial-scale=1\">\n",
    "            <title>Inline vis</title>\n",
    "        </head>\n",
    "        \n",
    "        <body>\n",
    "            <h1 id=\"testest\">Inline vis</h1>\n",
    "            <div id=\"mynetwork\" style=\"width:5px; height:5px;\"></div>\n",
    "            <script src=\" https://cdn.jsdelivr.net/npm/vis-data@7.1.9/peer/umd/vis-data.min.js \"></script>\n",
    "            <script src=\" https://cdn.jsdelivr.net/npm/vis-network@9.1.9/peer/umd/vis-network.min.js \"></script>\n",
    "            <link href=\" https://cdn.jsdelivr.net/npm/vis-network@9.1.9/styles/vis-network.min.css \" rel=\"stylesheet\">\n",
    "            <script>\n",
    "\n",
    "                // create an array with nodes\n",
    "        document.getElementById(\"testest\").innerText = Object.keys(this).join(\", \");\n",
    "        Network = vis.Network;\n",
    "        DataSet = vis.DataSet;\n",
    "        console.log(Network);\n",
    "        console.log(DataSet);\n",
    "        // create an array with nodes\n",
    "        var nodes = new DataSet([\n",
    "        { id: 1, shape: \"dot\", size: 20, mass: 10},\n",
    "        { id: 2, shape: \"dot\", size: 20, mass: 1},\n",
    "        { id: 3, shape: \"dot\", size: 20, mass: 1},\n",
    "        \n",
    "        { id: 4, shape: \"dot\", size: 5, mass: 0.1},\n",
    "        { id: 5, shape: \"dot\", size: 5, mass: 0.1},\n",
    "        { id: 6, shape: \"dot\", size: 5, mass: 0.1},\n",
    "        { id: 7, shape: \"dot\", size: 5, mass: 0.1},\n",
    "        { id: 8, shape: \"dot\", size: 5, mass: 0.1},\n",
    "        ]);\n",
    "\n",
    "        // create an array with edges\n",
    "        var edges = new DataSet([\n",
    "        { from: 1, to: 2, length: 70 },\n",
    "        { from: 2, to: 3, length: 70 },\n",
    "        \n",
    "        { from: 3, to: 4},\n",
    "        { from: 3, to: 5 },\n",
    "        { from: 3, to: 6 },\n",
    "        { from: 3, to: 7 },\n",
    "        { from: 3, to: 8 },\n",
    "        ]);\n",
    "\n",
    "        // create a network\n",
    "        var data = {\n",
    "        nodes: nodes,\n",
    "        edges: edges,\n",
    "        };\n",
    "        var container = document.getElementById(\"mynetwork\");\n",
    "        var options = {};\n",
    "        var network = new Network(container, data, options);\n",
    "            </script>\n",
    "        </body>\n",
    "        \n",
    "        </html>\n",
    "\n",
    "    \"\"\"))"
   ]
  },
  {
   "cell_type": "code",
   "execution_count": 111,
   "metadata": {},
   "outputs": [
    {
     "name": "stdout",
     "output_type": "stream",
     "text": [
      "/**\n",
      " * vis-network\n",
      " * https://visjs.github.io/vis-network/\n",
      " *\n",
      " * A dynamic, browser-based visualization library.\n",
      " *\n",
      " * @version 9.1.9\n",
      " * @date    2023-11-03T01:44:38.007Z\n",
      " *\n",
      " * @copyright (c) 2011-201\n"
     ]
    },
    {
     "data": {
      "text/html": [
       "\n",
       "            <h1 id=\"testest\">Inline vis</h1>\n",
       "            <div id=\"mynetwork\" style=\"width:5px; height:5px;\"></div>\n",
       "            <script src=\" https://cdn.jsdelivr.net/npm/vis-data@7.1.9/peer/umd/vis-data.min.js \"></script>\n",
       "            <script src=\" https://cdn.jsdelivr.net/npm/vis-network@9.1.9/peer/umd/vis-network.min.js \"></script>\n",
       "            <link href=\" https://cdn.jsdelivr.net/npm/vis-network@9.1.9/styles/vis-network.min.css \" rel=\"stylesheet\">\n",
       "            <script>\n",
       "\n",
       "                // create an array with nodes\n",
       "        document.getElementById(\"testest\").innerText = Object.keys(vis).join(\", \");\n",
       "        Network = vis.Network;\n",
       "        DataSet = vis.DataSet;\n",
       "        console.log(Network);\n",
       "        console.log(DataSet);\n",
       "        // create an array with nodes\n",
       "        var nodes = new DataSet([\n",
       "        { id: 1, shape: \"dot\", size: 20, mass: 10},\n",
       "        { id: 2, shape: \"dot\", size: 20, mass: 1},\n",
       "        { id: 3, shape: \"dot\", size: 20, mass: 1},\n",
       "        \n",
       "        { id: 4, shape: \"dot\", size: 5, mass: 0.1},\n",
       "        { id: 5, shape: \"dot\", size: 5, mass: 0.1},\n",
       "        { id: 6, shape: \"dot\", size: 5, mass: 0.1},\n",
       "        { id: 7, shape: \"dot\", size: 5, mass: 0.1},\n",
       "        { id: 8, shape: \"dot\", size: 5, mass: 0.1},\n",
       "        ]);\n",
       "\n",
       "        // create an array with edges\n",
       "        var edges = new DataSet([\n",
       "        { from: 1, to: 2, length: 70 },\n",
       "        { from: 2, to: 3, length: 70 },\n",
       "        \n",
       "        { from: 3, to: 4},\n",
       "        { from: 3, to: 5 },\n",
       "        { from: 3, to: 6 },\n",
       "        { from: 3, to: 7 },\n",
       "        { from: 3, to: 8 },\n",
       "        ]);\n",
       "\n",
       "        // create a network\n",
       "        var data = {\n",
       "        nodes: nodes,\n",
       "        edges: edges,\n",
       "        };\n",
       "        var container = document.getElementById(\"mynetwork\");\n",
       "        var options = {};\n",
       "        var network = new Network(container, data, options);\n",
       "            </script>\n",
       "\n",
       "    "
      ],
      "text/plain": [
       "<IPython.core.display.HTML object>"
      ]
     },
     "metadata": {},
     "output_type": "display_data"
    }
   ],
   "source": [
    "from IPython.display import display, HTML\n",
    "print((Path(\"\") / \"html\" / \"vis-network.min.js\").read_text()[0:200])\n",
    "display(HTML(\n",
    "    \"\"\"\n",
    "            <h1 id=\"testest\">Inline vis</h1>\n",
    "            <div id=\"mynetwork\" style=\"width:5px; height:5px;\"></div>\n",
    "            <script src=\" https://cdn.jsdelivr.net/npm/vis-data@7.1.9/peer/umd/vis-data.min.js \"></script>\n",
    "            <script src=\" https://cdn.jsdelivr.net/npm/vis-network@9.1.9/peer/umd/vis-network.min.js \"></script>\n",
    "            <link href=\" https://cdn.jsdelivr.net/npm/vis-network@9.1.9/styles/vis-network.min.css \" rel=\"stylesheet\">\n",
    "            <script>\n",
    "\n",
    "                // create an array with nodes\n",
    "        document.getElementById(\"testest\").innerText = Object.keys(vis).join(\", \");\n",
    "        Network = vis.Network;\n",
    "        DataSet = vis.DataSet;\n",
    "        console.log(Network);\n",
    "        console.log(DataSet);\n",
    "        // create an array with nodes\n",
    "        var nodes = new DataSet([\n",
    "        { id: 1, shape: \"dot\", size: 20, mass: 10},\n",
    "        { id: 2, shape: \"dot\", size: 20, mass: 1},\n",
    "        { id: 3, shape: \"dot\", size: 20, mass: 1},\n",
    "        \n",
    "        { id: 4, shape: \"dot\", size: 5, mass: 0.1},\n",
    "        { id: 5, shape: \"dot\", size: 5, mass: 0.1},\n",
    "        { id: 6, shape: \"dot\", size: 5, mass: 0.1},\n",
    "        { id: 7, shape: \"dot\", size: 5, mass: 0.1},\n",
    "        { id: 8, shape: \"dot\", size: 5, mass: 0.1},\n",
    "        ]);\n",
    "\n",
    "        // create an array with edges\n",
    "        var edges = new DataSet([\n",
    "        { from: 1, to: 2, length: 70 },\n",
    "        { from: 2, to: 3, length: 70 },\n",
    "        \n",
    "        { from: 3, to: 4},\n",
    "        { from: 3, to: 5 },\n",
    "        { from: 3, to: 6 },\n",
    "        { from: 3, to: 7 },\n",
    "        { from: 3, to: 8 },\n",
    "        ]);\n",
    "\n",
    "        // create a network\n",
    "        var data = {\n",
    "        nodes: nodes,\n",
    "        edges: edges,\n",
    "        };\n",
    "        var container = document.getElementById(\"mynetwork\");\n",
    "        var options = {};\n",
    "        var network = new Network(container, data, options);\n",
    "            </script>\n",
    "\n",
    "    \"\"\"))"
   ]
  },
  {
   "cell_type": "code",
   "execution_count": 6,
   "metadata": {},
   "outputs": [],
   "source": [
    "from json import dumps\n",
    "def safeVisNetworkJSONToHTMLFile(jsonData, htmlFilePath):\n",
    "    with open(htmlFilePath, \"w\") as htmlFile:\n",
    "        htmlFile.write(\n",
    "            f\"\"\"\n",
    "            <!DOCTYPE html>\n",
    "            <html lang=\"en-US\">\n",
    "            \n",
    "            <head>\n",
    "                <meta charset=\"UTF-8\">\n",
    "                <meta name=\"viewport\" content=\"width=device-width, initial-scale=1\">\n",
    "                <title>Inline vis</title>\n",
    "            </head>\n",
    "            \n",
    "            <body>\n",
    "                <div id=\"mynetwork\" style=\"width:100vw; height:100vh;\"></div>\n",
    "                <script src=\" https://cdn.jsdelivr.net/npm/vis-data@7.1.9/peer/umd/vis-data.min.js \"></script>\n",
    "                <script src=\" https://cdn.jsdelivr.net/npm/vis-network@9.1.9/peer/umd/vis-network.min.js \"></script>\n",
    "                <link href=\" https://cdn.jsdelivr.net/npm/vis-network@9.1.9/styles/vis-network.min.css \" rel=\"stylesheet\">\n",
    "                <script>\n",
    "                    var jsonData = {dumps(jsonData)};\n",
    "                    // create a network\n",
    "                    var container = document.getElementById(\"mynetwork\");\n",
    "                    var options = {{}};\n",
    "                    var network = new vis.Network(container, jsonData, options);\n",
    "                </script>\n",
    "            </body>\n",
    "            \n",
    "            </html>\n",
    "            \"\"\"\n",
    "        )"
   ]
  },
  {
   "cell_type": "code",
   "execution_count": 5,
   "metadata": {},
   "outputs": [
    {
     "ename": "NameError",
     "evalue": "name 'safeVisNetworkJSONToHTMLFile' is not defined",
     "output_type": "error",
     "traceback": [
      "\u001b[0;31m---------------------------------------------------------------------------\u001b[0m",
      "\u001b[0;31mNameError\u001b[0m                                 Traceback (most recent call last)",
      "Cell \u001b[0;32mIn[5], line 1\u001b[0m\n\u001b[0;32m----> 1\u001b[0m \u001b[43msafeVisNetworkJSONToHTMLFile\u001b[49m(\n\u001b[1;32m      2\u001b[0m     {\n\u001b[1;32m      3\u001b[0m         \u001b[38;5;124m\"\u001b[39m\u001b[38;5;124mnodes\u001b[39m\u001b[38;5;124m\"\u001b[39m : [\n\u001b[1;32m      4\u001b[0m             {\u001b[38;5;124m\"\u001b[39m\u001b[38;5;124mid\u001b[39m\u001b[38;5;124m\"\u001b[39m: \u001b[38;5;241m1\u001b[39m, \u001b[38;5;124m\"\u001b[39m\u001b[38;5;124mlabel\u001b[39m\u001b[38;5;124m\"\u001b[39m: \u001b[38;5;124m'\u001b[39m\u001b[38;5;124mBla bla bla \u001b[39m\u001b[38;5;130;01m\\n\u001b[39;00m\u001b[38;5;124mbla bla und so weiter\u001b[39m\u001b[38;5;124m'\u001b[39m, \u001b[38;5;124m\"\u001b[39m\u001b[38;5;124mgroup\u001b[39m\u001b[38;5;124m\"\u001b[39m: \u001b[38;5;124m'\u001b[39m\u001b[38;5;124mUnited States\u001b[39m\u001b[38;5;124m'\u001b[39m, \u001b[38;5;124m\"\u001b[39m\u001b[38;5;124mshape\u001b[39m\u001b[38;5;124m\"\u001b[39m : \u001b[38;5;124m\"\u001b[39m\u001b[38;5;124mbox\u001b[39m\u001b[38;5;124m\"\u001b[39m},\n\u001b[1;32m      5\u001b[0m             {\u001b[38;5;124m\"\u001b[39m\u001b[38;5;124mid\u001b[39m\u001b[38;5;124m\"\u001b[39m: \u001b[38;5;241m2\u001b[39m, \u001b[38;5;124m\"\u001b[39m\u001b[38;5;124mlabel\u001b[39m\u001b[38;5;124m\"\u001b[39m: \u001b[38;5;124m'\u001b[39m\u001b[38;5;124mBarak Obama\u001b[39m\u001b[38;5;124m'\u001b[39m, \u001b[38;5;124m\"\u001b[39m\u001b[38;5;124mgroup\u001b[39m\u001b[38;5;124m\"\u001b[39m: \u001b[38;5;124m'\u001b[39m\u001b[38;5;124mUnited States\u001b[39m\u001b[38;5;124m'\u001b[39m},\n\u001b[1;32m      6\u001b[0m             {\u001b[38;5;124m\"\u001b[39m\u001b[38;5;124mid\u001b[39m\u001b[38;5;124m\"\u001b[39m: \u001b[38;5;241m3\u001b[39m, \u001b[38;5;124m\"\u001b[39m\u001b[38;5;124mlabel\u001b[39m\u001b[38;5;124m\"\u001b[39m: \u001b[38;5;124m'\u001b[39m\u001b[38;5;124mMiley Cyrus\u001b[39m\u001b[38;5;124m'\u001b[39m, \u001b[38;5;124m\"\u001b[39m\u001b[38;5;124mgroup\u001b[39m\u001b[38;5;124m\"\u001b[39m: \u001b[38;5;124m'\u001b[39m\u001b[38;5;124mUnited States\u001b[39m\u001b[38;5;124m'\u001b[39m},\n\u001b[1;32m      7\u001b[0m             {\u001b[38;5;124m\"\u001b[39m\u001b[38;5;124mid\u001b[39m\u001b[38;5;124m\"\u001b[39m: \u001b[38;5;241m4\u001b[39m, \u001b[38;5;124m\"\u001b[39m\u001b[38;5;124mlabel\u001b[39m\u001b[38;5;124m\"\u001b[39m: \u001b[38;5;124m'\u001b[39m\u001b[38;5;124mPope Francis\u001b[39m\u001b[38;5;124m'\u001b[39m, \u001b[38;5;124m\"\u001b[39m\u001b[38;5;124mgroup\u001b[39m\u001b[38;5;124m\"\u001b[39m: \u001b[38;5;124m'\u001b[39m\u001b[38;5;124mVatican\u001b[39m\u001b[38;5;124m'\u001b[39m},\n\u001b[1;32m      8\u001b[0m             {\u001b[38;5;124m\"\u001b[39m\u001b[38;5;124mid\u001b[39m\u001b[38;5;124m\"\u001b[39m: \u001b[38;5;241m5\u001b[39m, \u001b[38;5;124m\"\u001b[39m\u001b[38;5;124mlabel\u001b[39m\u001b[38;5;124m\"\u001b[39m: \u001b[38;5;124m'\u001b[39m\u001b[38;5;124mVladimir Putin\u001b[39m\u001b[38;5;124m'\u001b[39m, \u001b[38;5;124m\"\u001b[39m\u001b[38;5;124mgroup\u001b[39m\u001b[38;5;124m\"\u001b[39m: \u001b[38;5;124m'\u001b[39m\u001b[38;5;124mRusia\u001b[39m\u001b[38;5;124m'\u001b[39m}\n\u001b[1;32m      9\u001b[0m         ],\n\u001b[1;32m     10\u001b[0m         \u001b[38;5;124m\"\u001b[39m\u001b[38;5;124medges\u001b[39m\u001b[38;5;124m\"\u001b[39m : [\n\u001b[1;32m     11\u001b[0m             {\u001b[38;5;124m\"\u001b[39m\u001b[38;5;124mfrom\u001b[39m\u001b[38;5;124m\"\u001b[39m: \u001b[38;5;241m1\u001b[39m, \u001b[38;5;124m\"\u001b[39m\u001b[38;5;124mto\u001b[39m\u001b[38;5;124m\"\u001b[39m: \u001b[38;5;241m2\u001b[39m, \u001b[38;5;124m\"\u001b[39m\u001b[38;5;124marrows\u001b[39m\u001b[38;5;124m\"\u001b[39m : \u001b[38;5;124m\"\u001b[39m\u001b[38;5;124mto\u001b[39m\u001b[38;5;124m\"\u001b[39m},\n\u001b[1;32m     12\u001b[0m             {\u001b[38;5;124m\"\u001b[39m\u001b[38;5;124mfrom\u001b[39m\u001b[38;5;124m\"\u001b[39m: \u001b[38;5;241m1\u001b[39m, \u001b[38;5;124m\"\u001b[39m\u001b[38;5;124mto\u001b[39m\u001b[38;5;124m\"\u001b[39m: \u001b[38;5;241m3\u001b[39m},\n\u001b[1;32m     13\u001b[0m             {\u001b[38;5;124m\"\u001b[39m\u001b[38;5;124mfrom\u001b[39m\u001b[38;5;124m\"\u001b[39m: \u001b[38;5;241m3\u001b[39m, \u001b[38;5;124m\"\u001b[39m\u001b[38;5;124mto\u001b[39m\u001b[38;5;124m\"\u001b[39m: \u001b[38;5;241m4\u001b[39m},\n\u001b[1;32m     14\u001b[0m             {\u001b[38;5;124m\"\u001b[39m\u001b[38;5;124mfrom\u001b[39m\u001b[38;5;124m\"\u001b[39m: \u001b[38;5;241m3\u001b[39m, \u001b[38;5;124m\"\u001b[39m\u001b[38;5;124mto\u001b[39m\u001b[38;5;124m\"\u001b[39m: \u001b[38;5;241m5\u001b[39m}\n\u001b[1;32m     15\u001b[0m         ]\n\u001b[1;32m     16\u001b[0m     }, \u001b[38;5;124m\"\u001b[39m\u001b[38;5;124moutput.html\u001b[39m\u001b[38;5;124m\"\u001b[39m\n\u001b[1;32m     17\u001b[0m )\n",
      "\u001b[0;31mNameError\u001b[0m: name 'safeVisNetworkJSONToHTMLFile' is not defined"
     ]
    }
   ],
   "source": [
    "safeVisNetworkJSONToHTMLFile(\n",
    "    {\n",
    "        \"nodes\" : [\n",
    "            {\"id\": 1, \"label\": 'Bla bla bla \\nbla bla und so weiter', \"group\": 'United States', \"shape\" : \"box\"},\n",
    "            {\"id\": 2, \"label\": 'Barak Obama', \"group\": 'United States'},\n",
    "            {\"id\": 3, \"label\": 'Miley Cyrus', \"group\": 'United States'},\n",
    "            {\"id\": 4, \"label\": 'Pope Francis', \"group\": 'Vatican'},\n",
    "            {\"id\": 5, \"label\": 'Vladimir Putin', \"group\": 'Rusia'}\n",
    "        ],\n",
    "        \"edges\" : [\n",
    "            {\"from\": 1, \"to\": 2, \"arrows\" : \"to\"},\n",
    "            {\"from\": 1, \"to\": 3},\n",
    "            {\"from\": 3, \"to\": 4},\n",
    "            {\"from\": 3, \"to\": 5}\n",
    "        ]\n",
    "    }, \"output.html\"\n",
    ")"
   ]
  },
  {
   "cell_type": "code",
   "execution_count": 41,
   "metadata": {},
   "outputs": [],
   "source": [
    "def convertSemanticTriplesToVisNetworkJSON(semanticTriples):\n",
    "    nodes = []\n",
    "    edges = []\n",
    "    indexPerTerm = {}\n",
    "    indexCounter = 1\n",
    "    for subj, pred, obj in semanticTriples:\n",
    "        for term in subj, obj:\n",
    "            if term not in indexPerTerm:\n",
    "                indexPerTerm[term] = indexCounter\n",
    "                indexCounter += 1\n",
    "                nodes.append({\n",
    "                    \"id\": indexPerTerm[term], \n",
    "                    \"label\": term, \n",
    "                    \"font\": {\"size\": 20}, \n",
    "                    \"color\" : {\"background\": \"rgba(140, 220, 255, 255)\", \n",
    "                                \"border\": \"rgba(0, 0, 255, 255)\"}})\n",
    "        nodes.append({\n",
    "            \"id\": indexCounter, \n",
    "            \"label\": pred,\n",
    "            \"font\": {\"size\": 16},\n",
    "            \"color\" : {\"background\": \"rgba(160, 255, 100, 255)\", \n",
    "                        \"border\": \"darkgreen\"},\n",
    "            \"shape\" : \"box\"})\n",
    "        edges.append({\"from\": indexPerTerm[subj], \"to\": indexCounter, \"color\": \"rgba(100, 200, 60, 255)\", \"width\": 3})\n",
    "        edges.append({\"from\": indexCounter, \"to\": indexPerTerm[obj], \"arrows\": \"to\", \"color\": \"rgba(100, 200, 60, 255)\", \"width\": 3})\n",
    "        indexCounter += 1\n",
    "    return {\"nodes\": nodes, \"edges\": edges}"
   ]
  },
  {
   "cell_type": "code",
   "execution_count": 40,
   "metadata": {},
   "outputs": [],
   "source": [
    "triples = [\n",
    "    [\"Star\", \"emits\", \"Light\"],\n",
    "    [\"Rocket\", \"can bring cargo to\", \"Space\"],\n",
    "    [\"Star\", \"shines in\", \"Space\"],\n",
    "    [\"Light\", \"propagates through\", \"Vacuum\"],\n",
    "    [\"Space\", \"is mostly a\", \"Vacuum\"]\n",
    "]\n",
    "visNetworkJSON = convertSemanticTriplesToVisNetworkJSON(triples)\n",
    "safeVisNetworkJSONToHTMLFile(visNetworkJSON, \"output.html\")"
   ]
  },
  {
   "cell_type": "code",
   "execution_count": 3,
   "metadata": {},
   "outputs": [],
   "source": [
    "def findSemanticTripleObject(subj, pred):\n",
    "    querry = f'Semantic triples such as [\"Star\", \"emits\", \"Light\"] and [\"Rocket\", \"can bring cargo to\", \"Space\"] consists of a subject, a predicate, and an object. Give me one example of semantic triples that contains \"{subj}\" as subject and \"{pred}\" as predicate and return it formatted like [\"subj\", \"pred\", \"obj\"]. Return nothing but the triple without explanation.'\n",
    "    def answerConversion(answer):\n",
    "        result = loads(answer)\n",
    "        assert isinstance(result, list)\n",
    "        assert len(result) == 3\n",
    "        assert all(isinstance(term, str) for term in result)\n",
    "        return result\n",
    "    answer, success = tryRecieveAnswer(querry, gpt_4_turbo_completion, answerConversion)\n",
    "    if success:\n",
    "        return answer\n",
    "    return None"
   ]
  },
  {
   "cell_type": "code",
   "execution_count": 13,
   "metadata": {},
   "outputs": [
    {
     "data": {
      "text/plain": [
       "['Elementary particle', 'has a negatively charged instance', 'Electron']"
      ]
     },
     "execution_count": 13,
     "metadata": {},
     "output_type": "execute_result"
    }
   ],
   "source": [
    "findSemanticTripleObject(\"Elementary particle\", \"has a negatively charged instance\")"
   ]
  }
 ],
 "metadata": {
  "kernelspec": {
   "display_name": "Python 3 (ipykernel)",
   "language": "python",
   "name": "python3"
  },
  "language_info": {
   "codemirror_mode": {
    "name": "ipython",
    "version": 3
   },
   "file_extension": ".py",
   "mimetype": "text/x-python",
   "name": "python",
   "nbconvert_exporter": "python",
   "pygments_lexer": "ipython3",
   "version": "3.11.2"
  }
 },
 "nbformat": 4,
 "nbformat_minor": 4
}
