{
 "cells": [
  {
   "cell_type": "code",
   "execution_count": 3,
   "metadata": {},
   "outputs": [],
   "source": [
    "from pathlib import Path\n",
    "termlistPath = Path(\"../master-database-files/master-keyword-extraction/oxford_terms.txt\")\n",
    "outputPath = Path(\"../master-database-files/master-keyword-extraction/most_important_physics_terms.txt\")\n",
    "outputPath.touch()\n",
    "termlist = termlistPath.read_text().split(\"\\n\")"
   ]
  },
  {
   "cell_type": "code",
   "execution_count": 7,
   "metadata": {},
   "outputs": [],
   "source": [
    "from os import environ\n",
    "from pathlib import Path\n",
    "from json import loads, dumps\n",
    "from random import choice\n",
    "environ[\"OPENAI_API_KEY\"] = Path(\"~/.openaiapikey\").expanduser().read_text().strip()\n",
    "from openai import OpenAI\n",
    "from random import randint\n",
    "\n",
    "openaiClient = OpenAI()\n",
    "def gpt_3_5_turbo_completion(query, temperature = 1):\n",
    "    answer = openaiClient.chat.completions.create(\n",
    "        model=\"gpt-3.5-turbo\",\n",
    "        messages=[\n",
    "            {\n",
    "                \"role\": \"system\",\n",
    "                \"content\": query\n",
    "            }\n",
    "        ],\n",
    "        temperature = temperature,\n",
    "        seed = randint(0, 1000000)\n",
    "    )\n",
    "    return answer.choices[0].message.content\n",
    "\n",
    "def gpt_4_turbo_completion(query, temperature = 1):\n",
    "    answer = openaiClient.chat.completions.create(\n",
    "        model=\"gpt-4-turbo\",\n",
    "        messages=[\n",
    "            {\n",
    "                \"role\": \"system\",\n",
    "                \"content\": query\n",
    "            }\n",
    "        ],\n",
    "        temperature = temperature,\n",
    "        seed = randint(0, 1000000)\n",
    "    )\n",
    "    return answer.choices[0].message.content\n",
    "\n",
    "def tryRecieveAnswer(query, completionFunction = gpt_4_turbo_completion, answerConversion = lambda x: True, maxTries = 10, temperature = 1):\n",
    "    tryNumber = 0\n",
    "    while tryNumber < maxTries:\n",
    "        answer = completionFunction(query, temperature)\n",
    "        try:\n",
    "            answer = answerConversion(answer)\n",
    "            return (answer, True)\n",
    "        except:\n",
    "            pass\n",
    "        tryNumber += 1\n",
    "    print(f\"Failed to recieve answer for query: {query}\")\n",
    "    return (None, False)\n",
    "\n",
    "def listAnswerConversion(answer):\n",
    "    result = loads(answer)\n",
    "    assert isinstance(result, list)\n",
    "    for item in result:\n",
    "        assert isinstance(item, str)\n",
    "    return result"
   ]
  },
  {
   "cell_type": "code",
   "execution_count": 8,
   "metadata": {},
   "outputs": [],
   "source": [
    "def createMostImportantTermsFile():\n",
    "    with outputPath.open(\"w\") as file:\n",
    "        start = True\n",
    "        for i in range(0, len(termlist), 38):\n",
    "            file.write(\"\\n\" if not start else \"\")\n",
    "            start = False\n",
    "            termsSelection = termlist[i:i+38] if i+38 < len(termlist) else termlist[i:]\n",
    "            numberedTerms = \"{\" + \", \".join([f'{i+1}: \"{term}\"' for i, term in enumerate(termsSelection)]) + \"}\"\n",
    "            query = f\"What is the most important technical physics term in the following list: {numberedTerms}. Return only the number of the term without extra words.\"\n",
    "            def answerConversion(answer):\n",
    "                ret = int(answer)\n",
    "                assert ret >= 1 and ret <= len(termsSelection)\n",
    "                return termsSelection[ret-1]\n",
    "            answer, success = tryRecieveAnswer(query, answerConversion = answerConversion)\n",
    "            if success:\n",
    "                file.write(answer)\n",
    "            file.flush()\n",
    "        "
   ]
  },
  {
   "cell_type": "code",
   "execution_count": 9,
   "metadata": {},
   "outputs": [],
   "source": [
    "createMostImportantTermsFile()"
   ]
  }
 ],
 "metadata": {
  "kernelspec": {
   "display_name": "venv",
   "language": "python",
   "name": "python3"
  },
  "language_info": {
   "codemirror_mode": {
    "name": "ipython",
    "version": 3
   },
   "file_extension": ".py",
   "mimetype": "text/x-python",
   "name": "python",
   "nbconvert_exporter": "python",
   "pygments_lexer": "ipython3",
   "version": "3.11.2"
  }
 },
 "nbformat": 4,
 "nbformat_minor": 2
}
