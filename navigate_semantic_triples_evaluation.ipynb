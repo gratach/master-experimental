{
 "cells": [
  {
   "cell_type": "code",
   "execution_count": 4,
   "metadata": {},
   "outputs": [
    {
     "data": {
      "text/plain": [
       "True"
      ]
     },
     "execution_count": 4,
     "metadata": {},
     "output_type": "execute_result"
    }
   ],
   "source": [
    "from pathlib import Path\n",
    "dataRootPath = Path(\"../master-database-files/master-experimental/navigate_semantic_triples_evaluation/\")\n",
    "dataRootPath.exists()"
   ]
  },
  {
   "cell_type": "code",
   "execution_count": 42,
   "metadata": {},
   "outputs": [],
   "source": [
    "from openai import OpenAI\n",
    "from random import randint, choice\n",
    "from os import environ\n",
    "from pathlib import Path\n",
    "from json import loads, dumps\n",
    "environ[\"OPENAI_API_KEY\"] = Path(\"~/.openaiapikey\").expanduser().read_text().strip()\n",
    "\n",
    "openaiClient = OpenAI()\n",
    "def gpt_3_5_turbo_completion(query):\n",
    "    answer = openaiClient.chat.completions.create(\n",
    "        model=\"gpt-3.5-turbo\",\n",
    "        messages=[\n",
    "            {\n",
    "                \"role\": \"system\",\n",
    "                \"content\": query\n",
    "            }\n",
    "        ],\n",
    "        seed = randint(0, 1000000)\n",
    "    )\n",
    "    return answer.choices[0].message.content\n",
    "\n",
    "def gpt_4_turbo_completion(query):\n",
    "    answer = openaiClient.chat.completions.create(\n",
    "        model=\"gpt-4-turbo\",\n",
    "        messages=[\n",
    "            {\n",
    "                \"role\": \"system\",\n",
    "                \"content\": query\n",
    "            }\n",
    "        ],\n",
    "        seed = randint(0, 1000000)\n",
    "    )\n",
    "    return answer.choices[0].message.content\n",
    "\n",
    "def tryRecieveAnswer(query, completionFunction = gpt_4_turbo_completion, answerConversion = lambda x: x, maxTries = 5):\n",
    "    tryNumber = 0\n",
    "    while tryNumber < maxTries:\n",
    "        answer = completionFunction(query)\n",
    "        try:\n",
    "            answer = answerConversion(answer)\n",
    "            return (answer, True)\n",
    "        except:\n",
    "            pass\n",
    "        tryNumber += 1\n",
    "    print(f\"Failed to recieve answer for query: {query}. Last answer: {answer}\")\n",
    "    return (None, False)\n",
    "\n",
    "def listAnswerConversion(answer):\n",
    "    result = loads(answer)\n",
    "    assert isinstance(result, list)\n",
    "    for item in result:\n",
    "        assert isinstance(item, str)\n",
    "    return result"
   ]
  },
  {
   "cell_type": "code",
   "execution_count": 6,
   "metadata": {},
   "outputs": [],
   "source": [
    "def findQuestionWithSemanticTripleAnswer(topicArea):\n",
    "    query = f'''\n",
    "    Semantic triples such as [\"Star\", \"emits\", \"Light\"] and [\"Rocket\", \"can bring cargo to\", \"Space\"] consists of a subject, a predicate, and an object. \n",
    "    Give me a question of the topc area \"{topicArea}\" that can be answered with a semantic triple.\n",
    "    Return the question together with the semantic triple that answers it in the format [\"question\", [\"sub\", \"pred\", \"obj\"]].\n",
    "    Return nothing but the array without explanation.'''\n",
    "    def answerConversion(answer):\n",
    "        result = loads(answer)\n",
    "        assert isinstance(result, list)\n",
    "        assert len(result) == 2\n",
    "        assert isinstance(result[0], str)\n",
    "        assert isinstance(result[1], list)\n",
    "        assert len(result[1]) == 3\n",
    "        assert all(isinstance(term, str) for term in result[1])\n",
    "        return result\n",
    "    answer, success = tryRecieveAnswer(query, answerConversion = answerConversion)\n",
    "    return answer"
   ]
  },
  {
   "cell_type": "code",
   "execution_count": 7,
   "metadata": {},
   "outputs": [],
   "source": [
    "def addNewQuestionsThatCanBeAnsweredByTriples(numberOfQuestions):\n",
    "    termsPath = dataRootPath / \"terms.txt\"\n",
    "    terms = termsPath.read_text().split(\"\\n\")\n",
    "    questionPath = dataRootPath / \"questions.txt\"\n",
    "    if not questionPath.exists():\n",
    "        questionPath.write_text(\"[]\")\n",
    "    questions = loads(questionPath.read_text())\n",
    "    for i in range(numberOfQuestions):\n",
    "        topicArea = choice(terms)\n",
    "        question, triple = findQuestionWithSemanticTripleAnswer(topicArea)\n",
    "        questions.append([question, triple])\n",
    "    questionPath.write_text(dumps(questions, indent = 4))"
   ]
  },
  {
   "cell_type": "code",
   "execution_count": 27,
   "metadata": {},
   "outputs": [],
   "source": [
    "addNewQuestionsThatCanBeAnsweredByTriples(1)"
   ]
  },
  {
   "cell_type": "code",
   "execution_count": 41,
   "metadata": {},
   "outputs": [],
   "source": [
    "def safeTripleNavigationPath(nameOfTheDataRun, generatingModel, navigatingModel, examinerModel, maxIterationsPerSearch, totalIterations):\n",
    "    tripleNavigationPath = dataRootPath / \"searches\" / nameOfTheDataRun / \"searchpath.json\"\n",
    "    if not tripleNavigationPath.exists():\n",
    "        tripleNavigationPath.parent.mkdir(parents = True, exist_ok = True)\n",
    "        tripleNavigationPath.write_text(dumps({}, indent = 4))\n",
    "    tripleNavigation = loads(tripleNavigationPath.read_text())\n",
    "    questionPath = dataRootPath / \"questions.txt\"\n",
    "    questions = loads(questionPath.read_text())\n",
    "    try:\n",
    "        for question, _ in questions:\n",
    "            if question not in tripleNavigation:\n",
    "                tripleNavigation[question] = [[], False]\n",
    "            currentSearch, tripleFound = tripleNavigation[question]\n",
    "            # foramt of the currentSearch is [[alteringOption, topicChoices, choosenTopic, tripleChoices, choosenTriple], ...\n",
    "            if tripleFound:\n",
    "                continue\n",
    "            if len(currentSearch) == 0:\n",
    "                choosenTopic = \"Physics\"\n",
    "                choosenTriple = [\"Physics\", \"is a branch of\", \"Science\"]\n",
    "            else:\n",
    "                choosenTopic = currentSearch[-1][2]\n",
    "                choosenTriple = currentSearch[-1][4]\n",
    "            if len(currentSearch) < 2:\n",
    "                lastTopic = choosenTopic\n",
    "            else:\n",
    "                lastTopic = currentSearch[-2][2]\n",
    "            while len(currentSearch) < maxIterationsPerSearch:\n",
    "                totalIterations -= 1\n",
    "                if totalIterations < 0:\n",
    "                    break\n",
    "                # Make one search iteration\n",
    "                # What part of the triple should be altered?\n",
    "                query = f'''Semantic triples such as [\"Star\", \"emits\", \"Light\"] and [\"Rocket\", \"can bring cargo to\", \"Space\"] consists of a subject, a predicate, and an object.\n",
    "The goal is to find a semantic triple that answers the question \"{question}\".\n",
    "This should be achieved by altering the current triple {choosenTriple}.\n",
    "Return A if just the subject should remain the same, B if just the predicate should remain the same, and C if just the object should remain the same.\n",
    "Return D if only the subject should change, E if only the predicate should change, and F if only the object should change.\n",
    "Return nothing but the letter.'''\n",
    "                def answerConversion(answer):\n",
    "                    assert answer in [\"A\", \"B\", \"C\", \"D\", \"E\", \"F\"]\n",
    "                    return answer\n",
    "                alteringOption, success = tryRecieveAnswer(query, navigatingModel, answerConversion = answerConversion)\n",
    "                if not success:\n",
    "                    break\n",
    "                tripleString = \"[\" + (choosenTriple[0] if alteringOption in [\"A\", \"E\", \"F\"] else \"???\") + \", \" + (choosenTriple[1] if alteringOption in [\"B\", \"D\", \"F\"] else \"???\") + \", \" + (choosenTriple[2] if alteringOption in [\"C\", \"D\", \"E\"] else \"???\") + \"]\"\n",
    "                # What are the subtopics of the current topic and two related topics?\n",
    "                query = f'Give me five subtopics of the topic \"{choosenTopic}\" and two related topics. Return them all in an array formatted like [\"sub1\", \"sub2\", \"sub3\", \"sub4\", \"sub5\", \"rel1\", \"rel2\"]. Return nothing but the array without explanation.'\n",
    "                def answerConversion(answer):\n",
    "                    result = loads(answer)\n",
    "                    assert isinstance(result, list)\n",
    "                    assert len(result) == 7\n",
    "                    for item in result:\n",
    "                        assert isinstance(item, str)\n",
    "                    return result\n",
    "                answer, success = tryRecieveAnswer(query, generatingModel, answerConversion = answerConversion)\n",
    "                if not success:\n",
    "                    break\n",
    "                topicChoices = answer + [lastTopic, choosenTopic, \"Physics\"]\n",
    "                topicChoicesString = \"\\n\".join([f\"{i+1}: {topic}\" for i, topic in enumerate(topicChoices)])\n",
    "                # What is the topic of the next triple?\n",
    "                query = f'''The semantic triple {tripleString} should be completed to answer the question \"{question}\".\n",
    "Therefore, a topic for the triple is needed. Select a topic from the following list:\n",
    "{topicChoicesString}\n",
    "Return nothing but the number of the topic.'''\n",
    "                def answerConversion(answer):\n",
    "                    ret = int(answer)\n",
    "                    assert 1 <= ret <= len(topicChoices)\n",
    "                    return ret\n",
    "                topicIndex, success = tryRecieveAnswer(query, navigatingModel, answerConversion = answerConversion)\n",
    "                if not success:\n",
    "                    break\n",
    "                lastTopic = choosenTopic\n",
    "                choosenTopic = topicChoices[topicIndex - 1]\n",
    "                # What are the possible completions of the triple?\n",
    "                query = f'''Semantic triples such as [\"Star\", \"emits\", \"Light\"] and [\"Rocket\", \"can bring cargo to\", \"Space\"] consists of a subject, a predicate, and an object.\n",
    "Create ten different completed versions of the triple {tripleString}. The topic of the triples should be \"{choosenTopic}\".\n",
    "Return the completed triples in the format [[\"sub1\", \"pred1\", \"obj1\"], [\"sub2\", \"pred2\", \"obj2\"], ...].\n",
    "Return nothing but the array without explanation.'''\n",
    "                def answerConversion(answer):\n",
    "                    result = loads(answer)\n",
    "                    assert isinstance(result, list)\n",
    "                    assert all(isinstance(triple, list) for triple in result)\n",
    "                    assert all(len(triple) == 3 for triple in result)\n",
    "                    assert all(isinstance(term, str) for triple in result for term in triple)\n",
    "                    return result\n",
    "                tripleChoices, success = tryRecieveAnswer(query, generatingModel, answerConversion = answerConversion)\n",
    "                if not success:\n",
    "                    break\n",
    "                numberedTriplesString = \"\\n\".join([f\"{i+1}: [\" + \", \".join(triple) + \"]\" for i, triple in enumerate(tripleChoices)])\n",
    "                # Which triple should be selected?\n",
    "                query = f'''Select the triple that answers the question \"{question}\" or is the closest to it.\n",
    "When you can not decide, select a random triple.\n",
    "{numberedTriplesString}\n",
    "Return nothing but the number of the triple without explanation.'''\n",
    "                def answerConversion(answer):\n",
    "                    ret = int(answer)\n",
    "                    assert 1 <= ret <= len(tripleChoices)\n",
    "                    return ret\n",
    "                tripleIndex, success = tryRecieveAnswer(query, navigatingModel, answerConversion = answerConversion)\n",
    "                if not success:\n",
    "                    break\n",
    "                choosenTriple = tripleChoices[tripleIndex - 1]\n",
    "                currentSearch.append([alteringOption, topicChoices, choosenTopic, tripleChoices, choosenTriple])\n",
    "                choosenTripleString = \"[\" + \", \".join(choosenTriple) + \"]\"\n",
    "                # Check if the triple answers the question\n",
    "                query = f'''Does the triple {choosenTripleString} explicitly answer the question \"{question}\"?\n",
    "Return Y or N.'''\n",
    "                def answerConversion(answer):\n",
    "                    answer = answer.upper()\n",
    "                    assert answer in [\"Y\", \"N\"]\n",
    "                    return answer\n",
    "                answer, success = tryRecieveAnswer(query, examinerModel, answerConversion = answerConversion)\n",
    "                if not success:\n",
    "                    break\n",
    "                if answer == \"Y\":\n",
    "                    tripleNavigation[question] = [currentSearch, True]\n",
    "                    break\n",
    "    except:\n",
    "        pass\n",
    "    tripleNavigationPath.write_text(dumps(tripleNavigation, indent = 4))\n",
    "        "
   ]
  },
  {
   "cell_type": "code",
   "execution_count": 46,
   "metadata": {},
   "outputs": [
    {
     "name": "stdout",
     "output_type": "stream",
     "text": [
      "Failed to recieve answer for query: Select the triple that answers the question \"What do cathode rays consist of?\" or is the closest to it.\n",
      "When you can not decide, select a random triple.\n",
      "1: [Photon, is a quantum of, Electromagnetic Spectrum]\n",
      "2: [Photon, is part of, Electromagnetic Spectrum]\n",
      "3: [Photon, is an elementary particle in, Electromagnetic Spectrum]\n",
      "4: [Photon, represents energy in, Electromagnetic Spectrum]\n",
      "5: [Photon, manifests as light in, Electromagnetic Spectrum]\n",
      "6: [Photon, travels through, Electromagnetic Spectrum]\n",
      "7: [Photon, exhibits wave-particle duality within, Electromagnetic Spectrum]\n",
      "8: [Photon, is absorbed by atoms across, Electromagnetic Spectrum]\n",
      "9: [Photon, interacts with matter through, Electromagnetic Spectrum]\n",
      "10: [Photon, is emitted at various wavelengths of, Electromagnetic Spectrum]\n",
      "Return nothing but the number of the triple without explanation.. Last answer: None of the provided triples directly answer the question \"What do cathode rays consist of?\" since cathode rays are composed of electrons, not photons. Therefore, none of the answers are suitable.\n",
      "Failed to recieve answer for query: Select the triple that answers the question \"What is the unit of thermodynamic temperature?\" or is the closest to it.\n",
      "When you can not decide, select a random triple.\n",
      "1: [Course, covers topics in, Thermodynamics]\n",
      "2: [Course, introduces principles of, Thermodynamics]\n",
      "3: [Course, provides a foundation in, Thermodynamics]\n",
      "4: [Course, includes study of, Thermodynamics]\n",
      "5: [Course, delivers content on, Thermodynamics]\n",
      "6: [Course, teaches concepts of, Therrmodynamics]\n",
      "7: [Course, focuses on the field of, Thermodynamics]\n",
      "8: [Course, offers insights into, Thermodynamics]\n",
      "9: [Course, examines the science of, Thermodynamics]\n",
      "10: [Course, explores theories of, Thermodynamics]\n",
      "Return nothing but the number of the triple without explanation.. Last answer: None of the triples directly answer the question \"What is the unit of thermodynamic temperature?\" Therefore, I will choose a random triple.\n",
      "\n",
      "3\n",
      "Failed to recieve answer for query: Select the triple that answers the question \"What does dark energy cause in the universe?\" or is the closest to it.\n",
      "When you can not decide, select a random triple.\n",
      "1: [Physics, explores, Relativity]\n",
      "2: [Physics, provides the foundation for, Relativity]\n",
      "3: [Physics, uses principles of, Relativity]\n",
      "4: [Physics, applies, Relativity]\n",
      "5: [Physics, encompasses, Relativity]\n",
      "6: [Physics, interprets, Relativity]\n",
      "7: [Physics, incorporates, Relativity]\n",
      "8: [Physics, formulates laws based on, Relativity]\n",
      "9: [Physics, demonstrates concepts of, Relativity]\n",
      "10: [Physics, is the study that includes, Relativity]\n",
      "Return nothing but the number of the triple without explanation.. Last answer: None of the triples directly answer the question \"What does dark energy cause in the discovery?\" Therefore, I will select a random triple.\n",
      "\n",
      "1\n",
      "Failed to recieve answer for query: Does the triple [Physics, studies, solar flares] explicitly answer the question \"What is a characteristic feature of an active asteroid?\"?\n",
      "Return Y or N.. Last answer: N.\n",
      "Failed to recieve answer for query: Select the triple that answers the question \"What does the hidden variable theory attempt to provide in quantum mechanics?\" or is the closest to it.\n",
      "When you can not decide, select a random triple.\n",
      "1: [Quantum Physics, utilizes, mathematical models to describe the physical properties of particles]\n",
      "2: [Quantual Physics, relies on, mathematical models to describe the physical properties of particles]\n",
      "3: [Quantum Physics, employs, mathematical models to describe the physical properties of particles]\n",
      "4: [Quantum Physics, uses, mathematical models to describe the physical properties of particles]\n",
      "5: [Quantum Physics, incorporates, mathematical models to describe the physical properties of particles]\n",
      "6: [Quantum Physics, needs, mathematical models to describe the physical properties of particles]\n",
      "7: [Quantum Physics, applies, mathematical models to describe the physical properties of particles]\n",
      "8: [Quantum Physics, is based on, mathematical models to describe the physical properties of particles]\n",
      "9: [Quantum Physics, exploits, mathematical models to describe the physical properties of particles]\n",
      "10: [Quantum Physics, involves, mathematical models to describe the physical properties of particles]\n",
      "Return nothing but the number of the triple without explanation.. Last answer: None of these triples answer the question about what the hidden variable theory attempts to provide in quantum mechanics. As instructed, I'll select a random triple.\n",
      "\n",
      "1\n",
      "Failed to recieve answer for query: Select the triple that answers the question \"What constituent particles make up a proton?\" or is the closest to it.\n",
      "When you can not decide, select a random triple.\n",
      "1: [Quantum field theory, describes interactions of, Quantum particles]\n",
      "2: [Quantum field theory, explains creation of, Quantum particles]\n",
      "3: [Quantum field theory, predicts behavior of, Quantum particles]\n",
      "4: [Quantum field theory, allows calculation of properties of, Quantopherum particles]\n",
      "5: [Quantum field theory, provides framework for studying, Quantum particles]\n",
      "6: [Quantum field theory, includes models of, Quantum particles]\n",
      "7: [Quantum field theory, supports research in, Quantum particles]\n",
      "8: [Quantum field theory, employs mathematical formulations of, Quantum particles]\n",
      "9: [Quantum field theory, helps in understanding the dynamics of, Quantum particles]\n",
      "10: [Quantum field theory, utilizes principles of superposition in, Quantum particles]\n",
      "Return nothing but the number of the triple without explanation.. Last answer: None of these triples directly answers the question \"What constituent particles make up a proton?\"\n",
      "Failed to recieve answer for query: Select the triple that answers the question \"What does a Cooper pair cause in superconductors?\" or is the closest to it.\n",
      "When you can not decide, select a random triple.\n",
      "1: [Quantum Mechanics, provides the foundation for, development of quantum computers]\n",
      "2: [Quantum Mechanics, paves the way for, development of quantum computers]\n",
      "3: [Quantum Mechanics, is essential for, development of quantum computers]\n",
      "4: [Quantum Mechanics, contributes to, development of quantum computers]\n",
      "5: [Quantum Mechanics, is critical to, development of quantum computers]\n",
      "6: [Quantum Mechanics, is the basis of, development of quantum computers]\n",
      "7: [Quantum Mechanics, supports the, development of quantum computers]\n",
      "8: [Quantum Mechanics, facilitates the, development of quantum computers]\n",
      "9: [Quantum Mechanics, enables the, development of quantum computers]\n",
      "10: [Quantum Mechanics, inspires the, development of quantum computers]\n",
      "Return nothing but the number of the triple without explanation.. Last answer: None of the triples provided answers the specific question regarding what a Cooper pair causes in superconductors. Each statement is about the relationship between quantum mechanics and the development of quantum computers, and none mention Cooper pairs or superconductors directly. Therefore, since I'm instructed to select a random triple when no direct answer is found, here is a random selection:\n",
      "\n",
      "4\n"
     ]
    }
   ],
   "source": [
    "safeTripleNavigationPath(\"gpt4search\", gpt_4_turbo_completion, gpt_4_turbo_completion, gpt_4_turbo_completion, 10, 500)"
   ]
  },
  {
   "cell_type": "code",
   "execution_count": 43,
   "metadata": {},
   "outputs": [],
   "source": [
    "safeTripleNavigationPath(\"gpt3_5search\", gpt_3_5_turbo_completion, gpt_3_5_turbo_completion, gpt_4_turbo_completion, 10, 500)"
   ]
  },
  {
   "cell_type": "code",
   "execution_count": 25,
   "metadata": {},
   "outputs": [
    {
     "name": "stdout",
     "output_type": "stream",
     "text": [
      "What does the first law of thermodynamics state about energy in a closed system?\n"
     ]
    }
   ],
   "source": [
    "# Count the number of questions\n",
    "questionPath = dataRootPath / \"questions.txt\"\n",
    "questions = loads(questionPath.read_text())\n",
    "len(questions)\n",
    "len(set([question for question, _ in questions]))\n",
    "# Find the dublicate question\n",
    "from collections import Counter\n",
    "questionCounter = Counter([question for question, _ in questions])\n",
    "for question, count in questionCounter.items():\n",
    "    if count > 1:\n",
    "        print(question)"
   ]
  },
  {
   "cell_type": "code",
   "execution_count": 16,
   "metadata": {},
   "outputs": [],
   "source": [
    "from math import log10\n",
    "def countDecisionCostOfSingleSearch(search):\n",
    "    cost = 0\n",
    "    for _, topicChoices, _, tripleChoices, _ in search:\n",
    "        cost += log10(6)\n",
    "        cost += log10(len(topicChoices))\n",
    "        cost += log10(len(tripleChoices))\n",
    "    return cost"
   ]
  },
  {
   "cell_type": "code",
   "execution_count": 17,
   "metadata": {},
   "outputs": [],
   "source": [
    "def calculateAverageWithError(valueList):\n",
    "    average = sum(valueList) / len(valueList)\n",
    "    error = (sum((value - average) ** 2 for value in valueList) / (len(valueList) - 1) / len(valueList)) ** 0.5\n",
    "    return (average, error)"
   ]
  },
  {
   "cell_type": "code",
   "execution_count": 19,
   "metadata": {},
   "outputs": [],
   "source": [
    "def calculateAverageDecisionCosts(nameOfTheDataRun):\n",
    "    tripleNavigationPath = dataRootPath / \"searches\" / nameOfTheDataRun / \"searchpath.json\"\n",
    "    tripleNavigation = loads(tripleNavigationPath.read_text())\n",
    "    successfullSearchCosts = [countDecisionCostOfSingleSearch(searchpath) for searchpath, success in tripleNavigation.values() if success]\n",
    "    failedSearchCosts = [countDecisionCostOfSingleSearch(searchpath) for searchpath, success in tripleNavigation.values() if not success]\n",
    "    averageDecisionCostOfSuccessfulSearches, averageDecisionCostOfSuccessfulSearchesError = calculateAverageWithError(successfullSearchCosts)\n",
    "    averageDecisionCostOfFailedSearches, averageDecisionCostOfFailedSearchesError = calculateAverageWithError(failedSearchCosts)\n",
    "    print(len(successfullSearchCosts), len(failedSearchCosts))\n",
    "    probabilityOfSuccess = len(successfullSearchCosts) / (len(successfullSearchCosts) + len(failedSearchCosts))\n",
    "    probabilityOfSuccessError = (probabilityOfSuccess * (1 - probabilityOfSuccess) / (len(successfullSearchCosts) + len(failedSearchCosts))) ** 0.5\n",
    "    averageDecisionCostOfNonInteruptedSearches = (1 / probabilityOfSuccess - 1) * averageDecisionCostOfFailedSearches + averageDecisionCostOfSuccessfulSearches\n",
    "    averageDecisionCostOfNonInteruptedSearchesError = (averageDecisionCostOfSuccessfulSearchesError ** 2 + (averageDecisionCostOfFailedSearchesError * (1 / probabilityOfSuccess - 1)) ** 2 + (probabilityOfSuccessError * averageDecisionCostOfFailedSearches / probabilityOfSuccess / probabilityOfSuccess) ** 2) ** 0.5\n",
    "    evaluationPath = dataRootPath / \"searches\" / nameOfTheDataRun / \"evaluation.json\"\n",
    "    evaluation = {\n",
    "        \"averageDecisionCostOfSuccessfulSearches\": averageDecisionCostOfSuccessfulSearches,\n",
    "        \"averageDecisionCostOfSuccessfulSearchesError\": averageDecisionCostOfSuccessfulSearchesError,\n",
    "        \"averageDecisionCostOfFailedSearches\": averageDecisionCostOfFailedSearches,\n",
    "        \"averageDecisionCostOfFailedSearchesError\": averageDecisionCostOfFailedSearchesError,\n",
    "        \"averageDecisionCostOfNonInteruptedSearches\": averageDecisionCostOfNonInteruptedSearches,\n",
    "        \"averageDecisionCostOfNonInteruptedSearchesError\": averageDecisionCostOfNonInteruptedSearchesError,\n",
    "        \"probabilityOfSuccess\": probabilityOfSuccess,\n",
    "        \"probabilityOfSuccessError\": probabilityOfSuccessError\n",
    "    }\n",
    "    evaluationPath.write_text(dumps(evaluation, indent = 4))\n",
    "    for key, value in evaluation.items():\n",
    "        print(f\"{key}: {value}\")\n",
    "    return evaluation"
   ]
  },
  {
   "cell_type": "code",
   "execution_count": 31,
   "metadata": {},
   "outputs": [
    {
     "name": "stdout",
     "output_type": "stream",
     "text": [
      "57 43\n",
      "averageDecisionCostOfSuccessfulSearches: 15.157983138058126\n",
      "averageDecisionCostOfSuccessfulSearchesError: 0.9331690721115556\n",
      "averageDecisionCostOfFailedSearches: 24.357279567317065\n",
      "averageDecisionCostOfFailedSearchesError: 1.1614932972360248\n",
      "averageDecisionCostOfNonInteruptedSearches: 33.532772987086794\n",
      "averageDecisionCostOfNonInteruptedSearchesError: 3.9260499377328277\n",
      "probabilityOfSuccess: 0.57\n",
      "probabilityOfSuccessError: 0.04950757517794625\n"
     ]
    },
    {
     "data": {
      "text/plain": [
       "{'averageDecisionCostOfSuccessfulSearches': 15.157983138058126,\n",
       " 'averageDecisionCostOfSuccessfulSearchesError': 0.9331690721115556,\n",
       " 'averageDecisionCostOfFailedSearches': 24.357279567317065,\n",
       " 'averageDecisionCostOfFailedSearchesError': 1.1614932972360248,\n",
       " 'averageDecisionCostOfNonInteruptedSearches': 33.532772987086794,\n",
       " 'averageDecisionCostOfNonInteruptedSearchesError': 3.9260499377328277,\n",
       " 'probabilityOfSuccess': 0.57,\n",
       " 'probabilityOfSuccessError': 0.04950757517794625}"
      ]
     },
     "execution_count": 31,
     "metadata": {},
     "output_type": "execute_result"
    }
   ],
   "source": [
    "calculateAverageDecisionCosts(\"gpt4search\")"
   ]
  },
  {
   "cell_type": "code",
   "execution_count": 49,
   "metadata": {},
   "outputs": [
    {
     "name": "stdout",
     "output_type": "stream",
     "text": [
      "43 57\n",
      "averageDecisionCostOfSuccessfulSearches: 16.475082996461143\n",
      "averageDecisionCostOfSuccessfulSearchesError: 1.0797216048512424\n",
      "averageDecisionCostOfFailedSearches: 25.83193267900581\n",
      "averageDecisionCostOfFailedSearchesError: 0.8108730493070732\n",
      "averageDecisionCostOfNonInteruptedSearches: 50.717412361654894\n",
      "averageDecisionCostOfNonInteruptedSearchesError: 7.082393221697145\n",
      "probabilityOfSuccess: 0.43\n",
      "probabilityOfSuccessError: 0.04950757517794625\n"
     ]
    },
    {
     "data": {
      "text/plain": [
       "{'averageDecisionCostOfSuccessfulSearches': 16.475082996461143,\n",
       " 'averageDecisionCostOfSuccessfulSearchesError': 1.0797216048512424,\n",
       " 'averageDecisionCostOfFailedSearches': 25.83193267900581,\n",
       " 'averageDecisionCostOfFailedSearchesError': 0.8108730493070732,\n",
       " 'averageDecisionCostOfNonInteruptedSearches': 50.717412361654894,\n",
       " 'averageDecisionCostOfNonInteruptedSearchesError': 7.082393221697145,\n",
       " 'probabilityOfSuccess': 0.43,\n",
       " 'probabilityOfSuccessError': 0.04950757517794625}"
      ]
     },
     "execution_count": 49,
     "metadata": {},
     "output_type": "execute_result"
    }
   ],
   "source": [
    "calculateAverageDecisionCosts(\"gpt4search\")"
   ]
  },
  {
   "cell_type": "code",
   "execution_count": 29,
   "metadata": {},
   "outputs": [
    {
     "name": "stdout",
     "output_type": "stream",
     "text": [
      "42 58\n",
      "averageDecisionCostOfSuccessfulSearches: 15.983633395067661\n",
      "averageDecisionCostOfSuccessfulSearchesError: 1.072957857840274\n",
      "averageDecisionCostOfFailedSearches: 27.78151250383644\n",
      "averageDecisionCostOfFailedSearchesError: 0.0\n",
      "averageDecisionCostOfNonInteruptedSearches: 54.348579233698935\n",
      "averageDecisionCostOfNonInteruptedSearchesError: 7.846833318581913\n",
      "probabilityOfSuccess: 0.42\n",
      "probabilityOfSuccessError: 0.04935585071701227\n"
     ]
    },
    {
     "data": {
      "text/plain": [
       "{'averageDecisionCostOfSuccessfulSearches': 15.983633395067661,\n",
       " 'averageDecisionCostOfSuccessfulSearchesError': 1.072957857840274,\n",
       " 'averageDecisionCostOfFailedSearches': 27.78151250383644,\n",
       " 'averageDecisionCostOfFailedSearchesError': 0.0,\n",
       " 'averageDecisionCostOfNonInteruptedSearches': 54.348579233698935,\n",
       " 'averageDecisionCostOfNonInteruptedSearchesError': 7.846833318581913,\n",
       " 'probabilityOfSuccess': 0.42,\n",
       " 'probabilityOfSuccessError': 0.04935585071701227}"
      ]
     },
     "execution_count": 29,
     "metadata": {},
     "output_type": "execute_result"
    }
   ],
   "source": [
    "calculateAverageDecisionCosts(\"gpt3_5search\")"
   ]
  },
  {
   "cell_type": "code",
   "execution_count": 48,
   "metadata": {},
   "outputs": [
    {
     "name": "stdout",
     "output_type": "stream",
     "text": [
      "27 73\n",
      "averageDecisionCostOfSuccessfulSearches: 16.01450352073513\n",
      "averageDecisionCostOfSuccessfulSearchesError: 1.2068379508452023\n",
      "averageDecisionCostOfFailedSearches: 27.78151250383644\n",
      "averageDecisionCostOfFailedSearchesError: 0.0\n",
      "averageDecisionCostOfNonInteruptedSearches: 91.12748177184845\n",
      "averageDecisionCostOfNonInteruptedSearchesError: 16.961870101195196\n",
      "probabilityOfSuccess: 0.27\n",
      "probabilityOfSuccessError: 0.044395945760846225\n"
     ]
    },
    {
     "data": {
      "text/plain": [
       "{'averageDecisionCostOfSuccessfulSearches': 16.01450352073513,\n",
       " 'averageDecisionCostOfSuccessfulSearchesError': 1.2068379508452023,\n",
       " 'averageDecisionCostOfFailedSearches': 27.78151250383644,\n",
       " 'averageDecisionCostOfFailedSearchesError': 0.0,\n",
       " 'averageDecisionCostOfNonInteruptedSearches': 91.12748177184845,\n",
       " 'averageDecisionCostOfNonInteruptedSearchesError': 16.961870101195196,\n",
       " 'probabilityOfSuccess': 0.27,\n",
       " 'probabilityOfSuccessError': 0.044395945760846225}"
      ]
     },
     "execution_count": 48,
     "metadata": {},
     "output_type": "execute_result"
    }
   ],
   "source": [
    "calculateAverageDecisionCosts(\"gpt3_5search\")"
   ]
  },
  {
   "cell_type": "code",
   "execution_count": 38,
   "metadata": {},
   "outputs": [
    {
     "name": "stdout",
     "output_type": "stream",
     "text": [
      "Failed to recieve answer for query: Does the triple [Quantum Mechanics, uses, Schrodinger Equation] explicitly answer the question \"What process allows energy levels in an atom to only have specific discrete values?\"? Return Y or N.. Last answer: N\n",
      "\n",
      "The triple [Quantum Mechanics, uses, Schrodinger Equation] does not explicitly answer the question \"What process allows energy levels in an atom to only have specific discrete values?\". It implies a method used in quantum mechanics but it does not specifically link to how energy levels in atoms are quantized.\n"
     ]
    }
   ],
   "source": [
    "def revisitingAnswers(nameOfTheDataRun):\n",
    "    tripleNavigationPath = dataRootPath / \"searches\" / nameOfTheDataRun / \"searchpath.json\"\n",
    "    tripleNavigation = loads(tripleNavigationPath.read_text())\n",
    "    for question, (search, success) in tripleNavigation.items():\n",
    "        if success:\n",
    "            lastTriple = search[-1][4]\n",
    "            tripleString = \"[\" + \", \".join(lastTriple) + \"]\"\n",
    "            # Check if the triple realy answers the question\n",
    "            query = f'Does the triple {tripleString} explicitly answer the question \"{question}\"? Return Y or N.'\n",
    "            def answerConversion(answer):\n",
    "                answer = answer.upper()\n",
    "                assert answer in [\"Y\", \"N\"]\n",
    "                return answer\n",
    "            answer, success = tryRecieveAnswer(query, gpt_4_turbo_completion, answerConversion = answerConversion)\n",
    "            tripleNavigation[question][1] = answer == \"Y\"\n",
    "    tripleNavigationPath.write_text(dumps(tripleNavigation, indent = 4))\n",
    "revisitingAnswers(\"gpt4search\")\n",
    "revisitingAnswers(\"gpt3_5search\")"
   ]
  }
 ],
 "metadata": {
  "kernelspec": {
   "display_name": "venv",
   "language": "python",
   "name": "python3"
  },
  "language_info": {
   "codemirror_mode": {
    "name": "ipython",
    "version": 3
   },
   "file_extension": ".py",
   "mimetype": "text/x-python",
   "name": "python",
   "nbconvert_exporter": "python",
   "pygments_lexer": "ipython3",
   "version": "3.11.2"
  }
 },
 "nbformat": 4,
 "nbformat_minor": 2
}
