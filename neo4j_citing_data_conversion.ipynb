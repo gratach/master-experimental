{
 "cells": [
  {
   "cell_type": "code",
   "execution_count": 2,
   "metadata": {},
   "outputs": [],
   "source": [
    "dbconnection = {\n",
    "    \"username\": \"neo4j\",\n",
    "    \"password\": \"password\",\n",
    "    \"url\": \"bolt://localhost:7687\"\n",
    "}\n",
    "from neo4j import GraphDatabase\n",
    "import json\n",
    "from pathlib import Path\n",
    "datapath = Path(\"../master-database-files/master-experimental/neo4j_citing_data_conversion/papers.json\")\n",
    "assert datapath.parent.exists()\n",
    "with GraphDatabase.driver(\"bolt://localhost:7687\", auth=(\"neo4j\", \"password\")) as driver:\n",
    "    with driver.session() as session:\n",
    "        result = session.run(\"MATCH (n:Paper) RETURN n, id(n) AS id\")\n",
    "        jsonarrayy = []\n",
    "        for record in result:\n",
    "            citedIds = [res[\"id\"] for res in session.run(\"MATCH (n)-[CITES]->(m) WHERE id(n) = $id RETURN id(m) AS id\", id=record[\"id\"])]\n",
    "            citingIds = [res[\"id\"] for res in session.run(\"MATCH (n)<-[CITES]-(m) WHERE id(n) = $id RETURN id(m) AS id\", id=record[\"id\"])]\n",
    "            jsonarrayy.append({\n",
    "                \"arxiv\": record[\"n\"][\"arxiv\"],\n",
    "                \"doi\": record[\"n\"][\"doi\"],\n",
    "                \"semscholar\": record[\"n\"][\"semscholar\"],\n",
    "                \"pdf\": record[\"n\"][\"pdf\"],\n",
    "                \"status\": record[\"n\"][\"status\"],\n",
    "                \"title\": record[\"n\"][\"title\"],\n",
    "                \"id\": record[\"id\"],\n",
    "                \"cited\": citedIds,\n",
    "                \"citing\": citingIds\n",
    "            })\n",
    "        with datapath.open(\"w\") as f:\n",
    "            json.dump(jsonarrayy, f, indent=2)"
   ]
  }
 ],
 "metadata": {
  "kernelspec": {
   "display_name": "venv",
   "language": "python",
   "name": "python3"
  },
  "language_info": {
   "codemirror_mode": {
    "name": "ipython",
    "version": 3
   },
   "file_extension": ".py",
   "mimetype": "text/x-python",
   "name": "python",
   "nbconvert_exporter": "python",
   "pygments_lexer": "ipython3",
   "version": "3.11.2"
  }
 },
 "nbformat": 4,
 "nbformat_minor": 2
}
