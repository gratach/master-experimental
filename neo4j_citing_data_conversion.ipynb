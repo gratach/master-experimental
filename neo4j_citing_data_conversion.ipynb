{
 "cells": [
  {
   "cell_type": "code",
   "execution_count": 2,
   "metadata": {},
   "outputs": [],
   "source": [
    "dbconnection = {\n",
    "    \"username\": \"neo4j\",\n",
    "    \"password\": \"password\",\n",
    "    \"url\": \"bolt://localhost:7687\"\n",
    "}\n",
    "from neo4j import GraphDatabase\n",
    "import json\n",
    "from pathlib import Path\n",
    "datapath = Path(\"../master-database-files/master-experimental/neo4j_citing_data_conversion/papers.json\")\n",
    "assert datapath.parent.exists()"
   ]
  },
  {
   "cell_type": "code",
   "execution_count": 22,
   "metadata": {},
   "outputs": [],
   "source": [
    "with GraphDatabase.driver(\"bolt://localhost:7687\", auth=(\"neo4j\", \"password\")) as driver:\n",
    "    with driver.session() as session:\n",
    "        result = session.run(\"MATCH (n:Paper) RETURN n, id(n) AS id\")\n",
    "        jsonarrayy = []\n",
    "        for record in result:\n",
    "            citedIds = [res[\"id\"] for res in session.run(\"MATCH (n)-[:CITES]->(m) WHERE id(n) = $id RETURN id(m) AS id\", id=record[\"id\"])]\n",
    "            citingIds = [res[\"id\"] for res in session.run(\"MATCH (n)<-[:CITES]-(m) WHERE id(n) = $id RETURN id(m) AS id\", id=record[\"id\"])]\n",
    "            tags = [res[\"tag\"] for res in session.run(\"MATCH (n)-[:TAGGED]->(m) WHERE id(n) = $id RETURN m.name AS tag\", id=record[\"id\"])]\n",
    "            tags = ([\"liv\"] if \"HEPML\" in tags else []) + ([\"ins\"] if \"inspire\" in tags else [])\n",
    "            jsonarrayy.append({\n",
    "                \"arxiv\": record[\"n\"][\"arxiv\"],\n",
    "                \"doi\": record[\"n\"][\"doi\"],\n",
    "                \"semscholar\": record[\"n\"][\"semscholar\"],\n",
    "                \"pdf\": record[\"n\"][\"pdf\"],\n",
    "                \"status\": record[\"n\"][\"status\"],\n",
    "                \"title\": record[\"n\"][\"title\"],\n",
    "                \"id\": record[\"id\"],\n",
    "                \"cited\": citedIds,\n",
    "                \"citing\": citingIds,\n",
    "                \"tags\": tags\n",
    "            })\n",
    "        with datapath.open(\"w\") as f:\n",
    "            json.dump(jsonarrayy, f, indent=2)"
   ]
  },
  {
   "cell_type": "code",
   "execution_count": 18,
   "metadata": {},
   "outputs": [],
   "source": [
    "def countCitations(semscholarId):\n",
    "    citegraph = json.load(open(datapath))\n",
    "    for paper in citegraph:\n",
    "        if paper[\"semscholar\"] == semscholarId:\n",
    "            totalCited = 0\n",
    "            for cited in paper[\"cited\"]:\n",
    "                if [p for p in citegraph if p[\"id\"] == cited][0][\"status\"] == 2:\n",
    "                    totalCited += 1\n",
    "            totalCiting = 0\n",
    "            for citing in paper[\"citing\"]:\n",
    "                if [p for p in citegraph if p[\"id\"] == citing][0][\"status\"] == 2:\n",
    "                    totalCiting += 1\n",
    "            return (totalCited, totalCiting)"
   ]
  },
  {
   "cell_type": "code",
   "execution_count": 4,
   "metadata": {},
   "outputs": [],
   "source": [
    "papers = json.load(open(datapath))\n",
    "papersById = {paper[\"id\"]: paper for paper in papers}\n",
    "def isValid(paperID):\n",
    "    return papersById[paperID][\"status\"] == 2 and len(papersById[paperID][\"tags\"]) > 0\n",
    "def isInDataset(paperID):\n",
    "    return len(papersById[paperID][\"tags\"]) > 0"
   ]
  },
  {
   "cell_type": "code",
   "execution_count": 7,
   "metadata": {},
   "outputs": [
    {
     "name": "stdout",
     "output_type": "stream",
     "text": [
      "Valid papers: 2409\n",
      "Valid papers from the living review: 912\n",
      "Valid papers from the inspirehep search: 2223\n",
      "Valid papers from the living review and inspirehep search: 726\n",
      "\n",
      "Tagged papers: 2462\n",
      "Tagged papers with errors: 53\n",
      "Papers from the living review: 924\n",
      "Papers from the inspirehep search: 2266\n",
      "Overlapping papers: 728\n",
      "\n",
      "Papers with errors: 58\n",
      "Papers with error and more then zero citation or references: 0\n",
      "Papers without tags: 28\n",
      "Total papers: 2490\n"
     ]
    }
   ],
   "source": [
    "def printPaperStatistics():\n",
    "    citegraph = json.load(open(datapath))\n",
    "    print(\"Valid papers:\", len([p for p in citegraph if isValid(p[\"id\"])]))\n",
    "    print(\"Valid papers from the living review:\", len([p for p in citegraph if isValid(p[\"id\"]) and \"liv\" in p[\"tags\"]]))\n",
    "    print(\"Valid papers from the inspirehep search:\", len([p for p in citegraph if isValid(p[\"id\"]) and \"ins\" in p[\"tags\"]]))\n",
    "    print(\"Valid papers from the living review and inspirehep search:\", len([p for p in citegraph if isValid(p[\"id\"]) and \"liv\" in p[\"tags\"] and \"ins\" in p[\"tags\"]]))\n",
    "\n",
    "    print(\"\")\n",
    "    print(\"Tagged papers:\", len([p for p in citegraph if len(p[\"tags\"]) > 0]))\n",
    "    print(\"Tagged papers with errors:\", len([p for p in citegraph if len(p[\"tags\"]) > 0 and p[\"status\"] != 2]))\n",
    "    print(\"Papers from the living review:\", len([p for p in citegraph if \"liv\" in p[\"tags\"]]))\n",
    "    print(\"Papers from the inspirehep search:\", len([p for p in citegraph if \"ins\" in p[\"tags\"]]))\n",
    "    print(\"Overlapping papers:\", len([p for p in citegraph if \"liv\" in p[\"tags\"] and \"ins\" in p[\"tags\"]]))\n",
    "    \n",
    "    print(\"\")\n",
    "    print(\"Papers with errors:\", len([p for p in citegraph if p[\"status\"] != 2]))\n",
    "    print(\"Papers with error and more then zero citation or references:\", len([p for p in citegraph if p[\"status\"] != 2 and (len(p[\"cited\"]) > 0 or len(p[\"citing\"]) > 0)]))\n",
    "    print(\"Papers without tags:\", len([p for p in citegraph if len(p[\"tags\"]) == 0]))\n",
    "    print(\"Total papers:\", len(citegraph))\n",
    "printPaperStatistics()"
   ]
  },
  {
   "cell_type": "code",
   "execution_count": 29,
   "metadata": {},
   "outputs": [],
   "source": []
  },
  {
   "cell_type": "code",
   "execution_count": 22,
   "metadata": {},
   "outputs": [],
   "source": [
    "def getListOfPapersByCitedCount():\n",
    "    citegraph = json.load(open(datapath))\n",
    "    return sorted([(len([c for c in p[\"cited\"] if isValid(c)]), p[\"title\"], p[\"semscholar\"]) for p in citegraph if isValid(p[\"id\"])], key=lambda x: x[0], reverse=True)"
   ]
  },
  {
   "cell_type": "code",
   "execution_count": 23,
   "metadata": {},
   "outputs": [],
   "source": [
    "def printMostCitingPapers(nr):\n",
    "    citedPapers = getListOfPapersByCitedCount()\n",
    "    for i in range(nr):\n",
    "        if i < len(citedPapers):\n",
    "            print(f'''\n",
    "{citedPapers[i][0]}: {{\n",
    "    '{citedPapers[i][1]}'\n",
    "    '{citedPapers[i][2]}'\n",
    "}}''')"
   ]
  },
  {
   "cell_type": "code",
   "execution_count": 24,
   "metadata": {},
   "outputs": [
    {
     "name": "stdout",
     "output_type": "stream",
     "text": [
      "\n",
      "385: {\n",
      "    'A Living Review of Machine Learning for Particle Physics'\n",
      "    '87420b5957e7c28b6170f5ef09b49cc83cf6a2a9'\n",
      "}\n",
      "\n",
      "145: {\n",
      "    'Machine learning in the search for new fundamental physics'\n",
      "    'f755718a3f6a08c3659357bc20897eb4e124cce1'\n",
      "}\n",
      "\n",
      "118: {\n",
      "    'A guide for deploying Deep Learning in LHC searches: How to achieve optimality and account for uncertainty'\n",
      "    'afea68ae8c74e035656c4ad424707f5342127bc4'\n",
      "}\n"
     ]
    }
   ],
   "source": [
    "printMostCitingPapers(3)"
   ]
  },
  {
   "cell_type": "code",
   "execution_count": 38,
   "metadata": {},
   "outputs": [],
   "source": [
    "def getListOfPapersByCitingCount():\n",
    "    citegraph = json.load(open(datapath))\n",
    "    return sorted([(len([c for c in p[\"citing\"] if isValid(c)]), p[\"title\"], p[\"semscholar\"]) for p in citegraph if isValid(p[\"id\"])], key=lambda x: x[0], reverse=True)"
   ]
  },
  {
   "cell_type": "code",
   "execution_count": 33,
   "metadata": {},
   "outputs": [],
   "source": [
    "def printMostCitedPapers(nr):\n",
    "    citingPapers = getListOfPapersByCitingCount()\n",
    "    for i in range(nr):\n",
    "        if i < len(citingPapers):\n",
    "            print(f'''\n",
    "{citingPapers[i][0]}: {{\n",
    "    '{citingPapers[i][1]}'\n",
    "    '{citingPapers[i][2]}'\n",
    "}}''')"
   ]
  },
  {
   "cell_type": "code",
   "execution_count": 39,
   "metadata": {},
   "outputs": [
    {
     "name": "stdout",
     "output_type": "stream",
     "text": [
      "\n",
      "175: {\n",
      "    'Jet-images — deep learning edition'\n",
      "    '5460c1cde49a0d89575f9b4e59d51c06139f436b'\n",
      "}\n",
      "\n",
      "140: {\n",
      "    'Jet substructure at the Large Hadron Collider: A review of recent advances in theory and machine learning'\n",
      "    '702269ca81e00177943247c855764c764d93e193'\n",
      "}\n",
      "\n",
      "133: {\n",
      "    'Deep learning in color: towards automated quark/gluon jet discrimination'\n",
      "    '155260612d9de2b0f219a58720dbf2a78cab623c'\n",
      "}\n"
     ]
    }
   ],
   "source": [
    "printMostCitedPapers(3)"
   ]
  },
  {
   "cell_type": "code",
   "execution_count": 44,
   "metadata": {},
   "outputs": [],
   "source": [
    "def countAverageCitationsOfValidPapers():\n",
    "    citegraph = json.load(open(datapath))\n",
    "    validPapers = [p for p in citegraph if isValid(p[\"id\"])]\n",
    "    totalCited = sum([len([c for c in p[\"cited\"] if isValid(c)]) for p in validPapers])\n",
    "    totalCiting = sum([len([c for c in p[\"citing\"] if isValid(c)]) for p in validPapers])\n",
    "    return totalCited / len(validPapers), totalCiting / len(validPapers)"
   ]
  },
  {
   "cell_type": "code",
   "execution_count": 45,
   "metadata": {},
   "outputs": [
    {
     "name": "stdout",
     "output_type": "stream",
     "text": [
      "Average citations of valid papers: 6.219178082191781\n",
      "Average references of valid papers: 6.219178082191781\n"
     ]
    }
   ],
   "source": [
    "def printAverageCitationsOfValidPapers():\n",
    "    cited, citing = countAverageCitationsOfValidPapers()\n",
    "    print(f\"Average citations of valid papers: {cited}\")\n",
    "    print(f\"Average references of valid papers: {citing}\")\n",
    "printAverageCitationsOfValidPapers()"
   ]
  },
  {
   "cell_type": "code",
   "execution_count": 56,
   "metadata": {},
   "outputs": [],
   "source": [
    "def GetAveragePathLengthOfConnectedPapers():\n",
    "    citegraph = json.load(open(datapath))\n",
    "    validPapers = [p for p in citegraph if isValid(p[\"id\"])]\n",
    "    totalPathLength = 0\n",
    "    totalPathCount = 0\n",
    "    i = 0\n",
    "    for paper in validPapers:\n",
    "        with Path(\"progress.txt\").open(\"w\") as f:\n",
    "            f.write(f\"{i}/{len(validPapers)}\")\n",
    "        pathlengthPerPaper = {p[\"id\"]: -1 for p in validPapers}\n",
    "        def updatePathLength(paperID, length):\n",
    "            if pathlengthPerPaper[paperID] == -1 or pathlengthPerPaper[paperID] > length:\n",
    "                pathlengthPerPaper[paperID] = length\n",
    "                for citing in (papersById[paperID][\"citing\"] + papersById[paperID][\"cited\"]):\n",
    "                    if citing in pathlengthPerPaper:\n",
    "                        updatePathLength(citing, length + 1)\n",
    "        updatePathLength(paper[\"id\"], 0)\n",
    "        for id, length in pathlengthPerPaper.items():\n",
    "            if length != -1 and id != paper[\"id\"]:\n",
    "                totalPathLength += length\n",
    "                totalPathCount += 1\n",
    "        i += 1\n",
    "    return totalPathLength / totalPathCount"
   ]
  },
  {
   "cell_type": "code",
   "execution_count": 58,
   "metadata": {},
   "outputs": [
    {
     "name": "stdout",
     "output_type": "stream",
     "text": [
      "Path length: 3.6433048553098697\n"
     ]
    }
   ],
   "source": [
    "print(\"Path length:\", GetAveragePathLengthOfConnectedPapers())"
   ]
  },
  {
   "cell_type": "code",
   "execution_count": 19,
   "metadata": {},
   "outputs": [
    {
     "name": "stdout",
     "output_type": "stream",
     "text": [
      "Paper 702269ca81e00177943247c855764c764d93e193 has 57 citations and is cited by 140 papers\n"
     ]
    }
   ],
   "source": [
    "countCitations(\"702269ca81e00177943247c855764c764d93e193\")"
   ]
  },
  {
   "cell_type": "code",
   "execution_count": 13,
   "metadata": {},
   "outputs": [
    {
     "name": "stdout",
     "output_type": "stream",
     "text": [
      "2490\n"
     ]
    }
   ],
   "source": [
    "citegraph = json.load(open(datapath))\n",
    "print(len(citegraph))"
   ]
  },
  {
   "cell_type": "code",
   "execution_count": 27,
   "metadata": {},
   "outputs": [
    {
     "name": "stdout",
     "output_type": "stream",
     "text": [
      "\n",
      "None\n",
      "None\n",
      "2431\n",
      "\n"
     ]
    }
   ],
   "source": [
    "def printListOfPapersWithoutTags(length):\n",
    "    citegraph = json.load(open(datapath))\n",
    "    i = 0\n",
    "    for paper in citegraph:\n",
    "        if i >= length:\n",
    "            break\n",
    "        if len(paper[\"tags\"]) == 0:\n",
    "            print(f'''\n",
    "{paper[\"title\"]}\n",
    "{paper[\"semscholar\"]}\n",
    "{paper[\"id\"]}\n",
    "''')\n",
    "            i += 1\n",
    "printListOfPapersWithoutTags(1)"
   ]
  },
  {
   "cell_type": "code",
   "execution_count": null,
   "metadata": {},
   "outputs": [],
   "source": [
    "print(\"test\")"
   ]
  },
  {
   "cell_type": "code",
   "execution_count": 59,
   "metadata": {},
   "outputs": [
    {
     "name": "stdout",
     "output_type": "stream",
     "text": [
      "Has Error:  False\n"
     ]
    }
   ],
   "source": [
    "def checkForCitationErrors():\n",
    "    citegraph = json.load(open(datapath))\n",
    "    for paper in citegraph:\n",
    "        if isValid(paper[\"id\"]):\n",
    "            for cited in paper[\"cited\"]:\n",
    "                if isValid(cited):\n",
    "                    if paper[\"id\"] not in papersById[cited][\"citing\"]:\n",
    "                        return True\n",
    "    return False\n",
    "print(\"Has Error: \", checkForCitationErrors())"
   ]
  },
  {
   "cell_type": "code",
   "execution_count": 5,
   "metadata": {},
   "outputs": [
    {
     "name": "stdout",
     "output_type": "stream",
     "text": [
      "Valid citations:  14982\n"
     ]
    }
   ],
   "source": [
    "def countValidCitations():\n",
    "    citegraph = json.load(open(datapath))\n",
    "    count = 0\n",
    "    for paper in citegraph:\n",
    "        if isValid(paper[\"id\"]):\n",
    "            for cited in paper[\"cited\"]:\n",
    "                if isValid(cited):\n",
    "                    count += 1\n",
    "    return count\n",
    "print(\"Valid citations: \", countValidCitations())"
   ]
  }
 ],
 "metadata": {
  "kernelspec": {
   "display_name": "venv",
   "language": "python",
   "name": "python3"
  },
  "language_info": {
   "codemirror_mode": {
    "name": "ipython",
    "version": 3
   },
   "file_extension": ".py",
   "mimetype": "text/x-python",
   "name": "python",
   "nbconvert_exporter": "python",
   "pygments_lexer": "ipython3",
   "version": "3.11.2"
  }
 },
 "nbformat": 4,
 "nbformat_minor": 2
}
