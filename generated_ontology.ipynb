{
 "cells": [
  {
   "cell_type": "code",
   "execution_count": 7,
   "metadata": {},
   "outputs": [],
   "source": [
    "from openai import OpenAI\n",
    "from random import randint, choice\n",
    "from os import environ\n",
    "from pathlib import Path\n",
    "from json import loads, dumps\n",
    "environ[\"OPENAI_API_KEY\"] = Path(\"~/.openaiapikey\").expanduser().read_text().strip()\n",
    "\n",
    "openaiClient = OpenAI()\n",
    "def gpt_3_5_turbo_completion(query):\n",
    "    answer = openaiClient.chat.completions.create(\n",
    "        model=\"gpt-3.5-turbo\",\n",
    "        messages=[\n",
    "            {\n",
    "                \"role\": \"system\",\n",
    "                \"content\": query\n",
    "            }\n",
    "        ],\n",
    "        seed = randint(0, 1000000)\n",
    "    )\n",
    "    return answer.choices[0].message.content\n",
    "\n",
    "def gpt_4_turbo_completion(query):\n",
    "    answer = openaiClient.chat.completions.create(\n",
    "        model=\"gpt-4-turbo\",\n",
    "        messages=[\n",
    "            {\n",
    "                \"role\": \"system\",\n",
    "                \"content\": query\n",
    "            }\n",
    "        ],\n",
    "        seed = randint(0, 1000000)\n",
    "    )\n",
    "    return answer.choices[0].message.content\n",
    "\n",
    "def tryRecieveAnswer(query, completionFunction = gpt_3_5_turbo_completion, answerConversion = lambda x: x, maxTries = 10):\n",
    "    tryNumber = 0\n",
    "    while tryNumber < maxTries:\n",
    "        answer = completionFunction(query)\n",
    "        try:\n",
    "            answer = answerConversion(answer)\n",
    "            return (answer, True)\n",
    "        except:\n",
    "            pass\n",
    "        tryNumber += 1\n",
    "    print(f\"Failed to recieve answer for query: {query}. Last answer: {answer}\")\n",
    "    return (None, False)\n",
    "\n",
    "def listAnswerConversion(answer):\n",
    "    result = loads(answer)\n",
    "    assert isinstance(result, list)\n",
    "    for item in result:\n",
    "        assert isinstance(item, str)\n",
    "    return result"
   ]
  },
  {
   "cell_type": "code",
   "execution_count": 2,
   "metadata": {},
   "outputs": [
    {
     "data": {
      "text/plain": [
       "'[[1, \"researches\", 2],\\n [1, \"studies\", 3],\\n [1, \"investigates\", 4],\\n [2, \"composed_of\", 3],\\n [3, \"subject_to\", 4]]'"
      ]
     },
     "execution_count": 2,
     "metadata": {},
     "output_type": "execute_result"
    }
   ],
   "source": [
    "gpt_4_turbo_completion('''\n",
    "I want to build an ontology. I am using the following owl classes: {1 : \"Scientist\", 2 : \"Material\", 3 : \"Particle\", 4 : \"Force\"}. \n",
    "What relations could exist between instances of these classes?\n",
    "Return a list of possible relations in the following format: \n",
    "[[<number of the subject class>, \"name of the first relation\", <number of the object class>],\n",
    "[<number of the subject class>, \"name of the second relation\", <number of the object class>], ... ]\n",
    "Return nothing but this list.''')"
   ]
  },
  {
   "cell_type": "code",
   "execution_count": 3,
   "metadata": {},
   "outputs": [
    {
     "data": {
      "text/plain": [
       "'[\"Energy\", \"Experiment\", \"Theory\", \"Equation\", \"Field\"]'"
      ]
     },
     "execution_count": 3,
     "metadata": {},
     "output_type": "execute_result"
    }
   ],
   "source": [
    "gpt_4_turbo_completion('''\n",
    "I want to build an ontology about physics. \n",
    "Therefor I need to create a list of owl classes. I already have the owl classes {\"Scientist\", \"Material\", \"Particle\", \"Force\"}. \n",
    "What could be 5 additional owl classes that I could use in my ontology?\n",
    "Return a list of 5 owl classes formatted as follows: [\"name of the first class\", \"name of the second class\", ...]\n",
    "Write the names in camel case and return nothing but this list.''')"
   ]
  },
  {
   "cell_type": "code",
   "execution_count": 1,
   "metadata": {},
   "outputs": [],
   "source": [
    "from pathlib import Path\n",
    "datapath = Path(\"../master-database-files/master-experimental/generated_ontology/\")\n",
    "assert datapath.exists()"
   ]
  },
  {
   "cell_type": "code",
   "execution_count": 5,
   "metadata": {},
   "outputs": [],
   "source": [
    "from json import loads, dumps"
   ]
  },
  {
   "cell_type": "code",
   "execution_count": 17,
   "metadata": {},
   "outputs": [],
   "source": [
    "def addOntologyClasses(nameOfOntology, ontologyTopic = \"physics\", numberOfEntries = 5, seed = []):\n",
    "    ontologyPath = datapath / nameOfOntology\n",
    "    ontologyPath.mkdir(exist_ok = True)\n",
    "    classesPath = ontologyPath / \"classes.json\"\n",
    "    if not classesPath.exists():\n",
    "        classesPath.write_text(dumps([]))\n",
    "    classes = loads(classesPath.read_text())\n",
    "    if classes == []:\n",
    "        classes = seed\n",
    "    query = f'''\n",
    "I want to build an ontology about {ontologyTopic}.\n",
    "Therefor I need to create a list of owl classes. I already have the owl classes {dumps(classes)}.\n",
    "What could be {numberOfEntries} additional owl classes that I could use in my ontology?\n",
    "Return a list of {numberOfEntries} owl classes formatted as follows: [\"name of the first class\", \"name of the second class\", ...]\n",
    "Write the names in camel case and return nothing but this list.'''\n",
    "    def answerConversion(answer):\n",
    "        result = loads(answer)\n",
    "        assert isinstance(result, list)\n",
    "        assert len(result) == numberOfEntries\n",
    "        for item in result:\n",
    "            assert isinstance(item, str)\n",
    "        return result\n",
    "    answer, success = tryRecieveAnswer(query, gpt_4_turbo_completion, answerConversion=answerConversion)\n",
    "    if success:\n",
    "        classes += answer\n",
    "        classesPath.write_text(dumps(classes, indent=4))\n",
    "    else:\n",
    "        print(f\"Failed to add classes to {classesPath}\")"
   ]
  },
  {
   "cell_type": "code",
   "execution_count": 51,
   "metadata": {},
   "outputs": [],
   "source": [
    "def addOntologyRelations(nameOfOntology):\n",
    "    ontologyPath = datapath / nameOfOntology\n",
    "    ontologyPath.mkdir(exist_ok = True)\n",
    "    classesPath = ontologyPath / \"classes.json\"\n",
    "    relationsPath = ontologyPath / \"relations.json\"\n",
    "    if not relationsPath.exists():\n",
    "        relationsPath.write_text(dumps([]))\n",
    "    classes = loads(classesPath.read_text())\n",
    "    relations = loads(relationsPath.read_text())\n",
    "    numberedClassesString = \"{\" + \", \".join([f\"{i+1} : \\\"{classes[i]}\\\"\" for i in range(len(classes))]) + \"}\"\n",
    "    query = f'''\n",
    "I want to build an ontology. I am using the following owl classes: {numberedClassesString}.\n",
    "What relations could exist between instances of these classes?\n",
    "Return a list of possible relations in the following format: \n",
    "[[<number of the subject class>, \"name of the first relation\", <number of the object class>],\n",
    "[<number of the subject class>, \"name of the second relation\", <number of the object class>], ... ]\n",
    "The relation names should be in camel case.\n",
    "Return nothing but this list.'''\n",
    "    def answerConversion(answer):\n",
    "        result = loads(answer)\n",
    "        assert isinstance(result, list)\n",
    "        for item in result:\n",
    "            assert isinstance(item, list)\n",
    "            assert len(item) == 3\n",
    "            assert isinstance(item[0], int)\n",
    "            assert item[0] >= 1 and item[0] <= len(classes)\n",
    "            assert isinstance(item[1], str)\n",
    "            assert isinstance(item[2], int)\n",
    "            assert item[2] >= 1 and item[2] <= len(classes)\n",
    "        return result\n",
    "    answer, success = tryRecieveAnswer(query, gpt_4_turbo_completion, answerConversion=answerConversion)\n",
    "    if success:\n",
    "        for item in answer:\n",
    "            # Check if there is already a relation that links the same classes\n",
    "            if not any([(relation[0] == classes[item[0]-1] and relation[2] == classes[item[2]-1] ) or (relation[0] == classes[item[2]-1] and relation[2] == classes[item[0]-1]) for relation in relations]):\n",
    "                relations.append([classes[item[0]-1], item[1], classes[item[2]-1]])\n",
    "        relationsPath.write_text(dumps(relations, indent=4))\n",
    "    else:\n",
    "        print(f\"Failed to add relations to {relationsPath}\")"
   ]
  },
  {
   "cell_type": "code",
   "execution_count": 46,
   "metadata": {},
   "outputs": [],
   "source": [
    "from rdflib import Graph, URIRef, Literal, BNode, Namespace\n",
    "def convertOntologyToRDF(nameOfOntology, baseURI = \"http://quantsimulant.de/owl/generated_ontology/\"):\n",
    "    ontologyPath = datapath / nameOfOntology\n",
    "    classesPath = ontologyPath / \"classes.json\"\n",
    "    relationsPath = ontologyPath / \"relations.json\"\n",
    "    classes = loads(classesPath.read_text())\n",
    "    relations = loads(relationsPath.read_text())\n",
    "    ontology = Graph()\n",
    "    onto = Namespace(baseURI)\n",
    "    ontology.bind(\"onto\", onto)\n",
    "    for className in classes:\n",
    "        ontology.add((onto[className], URIRef(\"http://www.w3.org/1999/02/22-rdf-syntax-ns#type\"), URIRef(\"http://www.w3.org/2002/07/owl#Class\")))\n",
    "    relationNamesCounter = {}\n",
    "    for relation in relations:\n",
    "        counter = relationNamesCounter.get(relation[1], 0)\n",
    "        relationNamesCounter[relation[1]] = counter + 1\n",
    "        if counter > 0:\n",
    "            relationName = f\"{relation[1]}_{counter + 1}\"\n",
    "        else:\n",
    "            relationName = relation[1]\n",
    "        ontology.add((onto[relationName], URIRef(\"http://www.w3.org/1999/02/22-rdf-syntax-ns#type\"), URIRef(\"http://www.w3.org/2002/07/owl#ObjectProperty\")))\n",
    "        ontology.add((onto[relationName], URIRef(\"http://www.w3.org/2000/01/rdf-schema#domain\"), onto[relation[0]]))\n",
    "        ontology.add((onto[relationName], URIRef(\"http://www.w3.org/2000/01/rdf-schema#range\"), onto[relation[2]]))\n",
    "    ontology.serialize(str(ontologyPath / \"ontology.ttl\"), format=\"turtle\")\n"
   ]
  },
  {
   "cell_type": "code",
   "execution_count": 18,
   "metadata": {},
   "outputs": [],
   "source": [
    "addOntologyClasses(\"genPhysOnto\", \"physics\", 5, seed = [\"Scientist\", \"Publication\", \"Experiment\"])"
   ]
  },
  {
   "cell_type": "code",
   "execution_count": 54,
   "metadata": {},
   "outputs": [],
   "source": [
    "addOntologyClasses(\"unseededOnto\", \"physics\", 5)"
   ]
  },
  {
   "cell_type": "code",
   "execution_count": 24,
   "metadata": {},
   "outputs": [],
   "source": [
    "addOntologyClasses(\"researchAreaSeeded\", \"physics\", 5, seed = [\"ResearchArea\"])"
   ]
  },
  {
   "cell_type": "code",
   "execution_count": 52,
   "metadata": {},
   "outputs": [],
   "source": [
    "addOntologyRelations(\"researchAreaSeeded\")"
   ]
  },
  {
   "cell_type": "code",
   "execution_count": 53,
   "metadata": {},
   "outputs": [],
   "source": [
    "convertOntologyToRDF(\"researchAreaSeeded\")"
   ]
  }
 ],
 "metadata": {
  "kernelspec": {
   "display_name": "venv",
   "language": "python",
   "name": "python3"
  },
  "language_info": {
   "codemirror_mode": {
    "name": "ipython",
    "version": 3
   },
   "file_extension": ".py",
   "mimetype": "text/x-python",
   "name": "python",
   "nbconvert_exporter": "python",
   "pygments_lexer": "ipython3",
   "version": "3.11.2"
  }
 },
 "nbformat": 4,
 "nbformat_minor": 2
}
