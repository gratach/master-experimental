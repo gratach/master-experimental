{
 "cells": [
  {
   "cell_type": "code",
   "execution_count": 1,
   "metadata": {},
   "outputs": [],
   "source": [
    "from os import environ\n",
    "from pathlib import Path\n",
    "environ[\"OPENAI_API_KEY\"] = Path(\"~/.openaiapikey\").expanduser().read_text().strip()"
   ]
  },
  {
   "cell_type": "code",
   "execution_count": 8,
   "metadata": {},
   "outputs": [],
   "source": [
    "from openai import OpenAI\n",
    "from random import randint\n",
    "\n",
    "openaiClient = OpenAI()\n",
    "def gpt_3_5_turbo_completion(query):\n",
    "    answer = openaiClient.chat.completions.create(\n",
    "        model=\"gpt-3.5-turbo\",\n",
    "        messages=[\n",
    "            {\n",
    "                \"role\": \"system\",\n",
    "                \"content\": query\n",
    "            }\n",
    "        ],\n",
    "        seed = randint(0, 1000000)\n",
    "    )\n",
    "    return answer.choices[0].message.content\n",
    "\n",
    "def gpt_4_turbo_completion(query):\n",
    "    answer = openaiClient.chat.completions.create(\n",
    "        model=\"gpt-4-turbo\",\n",
    "        messages=[\n",
    "            {\n",
    "                \"role\": \"system\",\n",
    "                \"content\": query\n",
    "            }\n",
    "        ],\n",
    "        seed = randint(0, 1000000)\n",
    "    )\n",
    "    return answer.choices[0].message.content\n",
    "\n",
    "def tryRecieveAnswer(query, completionFunction, answerConversion = lambda x: True, maxTries = 10):\n",
    "    tryNumber = 0\n",
    "    while tryNumber < maxTries:\n",
    "        answer = completionFunction(query)\n",
    "        try:\n",
    "            answer = answerConversion(answer)\n",
    "            return (answer, True)\n",
    "        except:\n",
    "            pass\n",
    "        tryNumber += 1\n",
    "    print(f\"Failed to recieve answer for query: {query}\")\n",
    "    return (None, False)"
   ]
  },
  {
   "cell_type": "code",
   "execution_count": 7,
   "metadata": {},
   "outputs": [],
   "source": [
    "from json import loads\n",
    "def getSemanticTriples(subjectTerm):\n",
    "    querry = f'Semantic triples such as [\"Star\", \"emits\", \"Light\"] and [\"Rocket\", \"can bring cargo to\", \"Space\"] consists of a subject, a predicate, and an object. Give me five examples of semantic triples that contain \"{subjectTerm}\" as subject and return them in an array formatted like [[\"sub1\", \"pred1\", \"obj1\"], [\"sub2\", \"pred2\", \"obj2\"], ...]. Return nothing but the array without explanation.'\n",
    "    def answerConversion(answer):\n",
    "        result = loads(answer)\n",
    "        assert isinstance(result, list)\n",
    "        assert all(isinstance(triple, list) for triple in result)\n",
    "        assert all(len(triple) == 3 for triple in result)\n",
    "        assert all(isinstance(term, str) for triple in result for term in triple)\n",
    "        return result\n",
    "    answer, success = tryRecieveAnswer(querry, gpt_4_turbo_completion, answerConversion)\n",
    "    if success:\n",
    "        return answer\n",
    "    return None"
   ]
  },
  {
   "cell_type": "code",
   "execution_count": 9,
   "metadata": {},
   "outputs": [
    {
     "data": {
      "text/plain": [
       "[['Star', 'is composed of', 'Plasma'],\n",
       " ['Star', 'undergoes', 'Nuclear fusion'],\n",
       " ['Star', 'produces', 'Heat'],\n",
       " ['Star', 'forms from', 'Nebula'],\n",
       " ['Star', 'has a lifespan of', 'Billions of years']]"
      ]
     },
     "execution_count": 9,
     "metadata": {},
     "output_type": "execute_result"
    }
   ],
   "source": [
    "getSemanticTriples(\"Star\")"
   ]
  },
  {
   "cell_type": "code",
   "execution_count": 21,
   "metadata": {},
   "outputs": [],
   "source": [
    "from random import choice\n",
    "def freeAssociationRandomWalk(startTerm, maxSteps = 10):\n",
    "    currentSubj = startTerm\n",
    "    currentPred = None\n",
    "    currentObj = None\n",
    "    triplePath = []\n",
    "    for _ in range(maxSteps):\n",
    "        querry = f'Semantic triples such as [\"Star\", \"emits\", \"Light\"] and [\"Rocket\", \"can bring cargo to\", \"Space\"] consists of a subject, a predicate, and an object. Give me one example of semantic triples that contains \"{currentSubj}\" as subject and return it formatted like [\"subj\", \"pred\", \"obj\"]. Return nothing but the triple without explanation.'\n",
    "        def answerConversion(answer):\n",
    "            result = loads(answer)\n",
    "            assert isinstance(result, list)\n",
    "            assert len(result) == 3\n",
    "            assert all(isinstance(term, str) for term in result)\n",
    "            return result\n",
    "        answer, success = tryRecieveAnswer(querry, gpt_3_5_turbo_completion, answerConversion)\n",
    "        if success:\n",
    "            currentSubj, currentPred, currentObj = answer\n",
    "            print(f\"{currentSubj} {currentPred} {currentObj}\")\n",
    "            triplePath.append((currentSubj, currentPred, currentObj))\n",
    "            currentSubj = currentObj\n",
    "        else:\n",
    "            break\n",
    "    return triplePath"
   ]
  },
  {
   "cell_type": "code",
   "execution_count": 25,
   "metadata": {},
   "outputs": [
    {
     "name": "stdout",
     "output_type": "stream",
     "text": [
      "Star emits Light\n",
      "Light illuminates Room\n",
      "Room has Furniture\n",
      "Furniture enhances interior design\n",
      "Interior design involves creating functional and aesthetically pleasing spaces\n",
      "Creating functional and aesthetically pleasing spaces requires attention to detail and creativity\n",
      "Attention to detail and creativity is important for success\n",
      "Success brings happiness\n",
      "Happiness brings joy\n",
      "Joy brings Happiness\n"
     ]
    }
   ],
   "source": [
    "result = freeAssociationRandomWalk(\"Star\")"
   ]
  },
  {
   "cell_type": "code",
   "execution_count": 42,
   "metadata": {},
   "outputs": [],
   "source": [
    "from random import choice\n",
    "def freeAssociationRandomWalkWithTopic(startTerm, topic, maxSteps = 10):\n",
    "    currentSubj = startTerm\n",
    "    currentPred = None\n",
    "    currentObj = None\n",
    "    triplePath = []\n",
    "    for _ in range(maxSteps):\n",
    "        querry = f'Semantic triples such as [\"Star\", \"emits\", \"Light\"] and [\"Rocket\", \"can bring cargo to\", \"Space\"] consists of a subject, a predicate, and an object. Give me one example of semantic triples that contains \"{currentSubj}\" as subject. An idea for the topic of the triple is \"{topic}\". Return the triple formatted like [\"subj\", \"pred\", \"obj\"]. Return nothing but the triple without explanation.'\n",
    "        def answerConversion(answer):\n",
    "            result = loads(answer)\n",
    "            assert isinstance(result, list)\n",
    "            assert len(result) == 3\n",
    "            assert all(isinstance(term, str) for term in result)\n",
    "            return result\n",
    "        answer, success = tryRecieveAnswer(querry, gpt_4_turbo_completion, answerConversion)\n",
    "        if success:\n",
    "            _, currentPred, currentObj = answer\n",
    "            print(f\"{currentSubj} {currentPred} {currentObj}\")\n",
    "            triplePath.append((currentSubj, currentPred, currentObj))\n",
    "            currentSubj = currentObj\n",
    "        else:\n",
    "            break\n",
    "    return triplePath"
   ]
  },
  {
   "cell_type": "code",
   "execution_count": 26,
   "metadata": {},
   "outputs": [
    {
     "name": "stdout",
     "output_type": "stream",
     "text": [
      "Star produces Neutrinos\n",
      "Neutrinos are produced in Particle accelerator\n",
      "Particle accelerator accelerates Particles\n",
      "Particles are accelerated using electric fields\n",
      "Electric fields accelerate Charged particles\n",
      "Charged particles accelerate Near the speed of light\n",
      "Near the speed of light propels particles\n",
      "Particles are accelerated in Particle accelerator\n",
      "Particle accelerator accelerates Particles\n",
      "Particles are accelerated by Particle accelerator\n"
     ]
    }
   ],
   "source": [
    "result2 = freeAssociationRandomWalkWithTopic(\"Star\", \"Particle accelerator\")"
   ]
  },
  {
   "cell_type": "code",
   "execution_count": 43,
   "metadata": {},
   "outputs": [
    {
     "name": "stdout",
     "output_type": "stream",
     "text": [
      "Star oscillates in brightness\n",
      "brightness is measured in Candelas\n",
      "Candelas measures Luminous intensity\n",
      "Luminous intensity is measured in Candelas\n",
      "Candelas measure luminous intensity of Harmonic oscillator\n",
      "Harmonic oscillator exhibits simple harmonic motion\n",
      "simple harmonic motion is exhibited by Harmonic oscillator\n",
      "Harmonic oscillator exhibits simple harmonic motion\n",
      "simple harmonic motion is exhibited by Harmonic oscillator\n",
      "Harmonic oscillator exhibits periodic motion\n"
     ]
    }
   ],
   "source": [
    "result3 = freeAssociationRandomWalkWithTopic(\"Star\", \"Harmonic oscillator\")"
   ]
  },
  {
   "cell_type": "code",
   "execution_count": 39,
   "metadata": {},
   "outputs": [
    {
     "data": {
      "text/plain": [
       "[('Star', 'exhibits dynamics analogous to', 'Harmonic oscillator'),\n",
       " ('Harmonic oscillator', 'undergoes', 'simple harmonic motion'),\n",
       " ('simple harmonic motion', 'is a type of motion of', 'Harmonic oscillator'),\n",
       " ('Harmonic oscillator', 'exhibits', 'simple harmonic motion'),\n",
       " ('simple harmonic motion', 'is exhibited by', 'Harmonic oscillator'),\n",
       " ('Harmonic oscillator', 'exhibits', 'simple harmonic motion'),\n",
       " ('simple harmonic motion', 'is exhibited by', 'Harmonic oscillator'),\n",
       " ('Harmonic oscillator', 'exhibits', 'simple harmonic motion'),\n",
       " ('simple harmonic motion', 'is exhibited by', 'Harmonic oscillator'),\n",
       " ('Harmonic oscillator', 'undergoes', 'Simple harmonic motion')]"
      ]
     },
     "execution_count": 39,
     "metadata": {},
     "output_type": "execute_result"
    }
   ],
   "source": [
    "result3"
   ]
  },
  {
   "cell_type": "code",
   "execution_count": null,
   "metadata": {},
   "outputs": [],
   "source": [
    "def createTriplesThatAreLinkingTopics(topics, tripleCount = 5):\n",
    "    triples = []\n",
    "    \n",
    "    return triples"
   ]
  },
  {
   "cell_type": "code",
   "execution_count": 44,
   "metadata": {},
   "outputs": [
    {
     "name": "stdout",
     "output_type": "stream",
     "text": [
      "hallohallo\n"
     ]
    }
   ],
   "source": [
    "def navigateTriples(triples, startTerm = None):\n",
    "    while True:\n",
    "        "
   ]
  },
  {
   "cell_type": "code",
   "execution_count": 50,
   "metadata": {},
   "outputs": [
    {
     "name": "stderr",
     "output_type": "stream",
     "text": [
      "/tmp/ipykernel_15687/4154482699.py:1: DeprecationWarning: Importing display from IPython.core.display is deprecated since IPython 7.14, please import from IPython display\n",
      "  from IPython.core.display import display, HTML\n"
     ]
    },
    {
     "data": {
      "text/html": [
       "<h1>Hello, world!</h1><script>alert(\"Hello, world!\")</script>"
      ],
      "text/plain": [
       "<IPython.core.display.HTML object>"
      ]
     },
     "metadata": {},
     "output_type": "display_data"
    }
   ],
   "source": [
    "from IPython.core.display import display, HTML\n",
    "display(HTML('<h1>Hello, world!</h1><script>alert(\"Hello, world!\")</script>'))"
   ]
  },
  {
   "cell_type": "code",
   "execution_count": 117,
   "metadata": {},
   "outputs": [
    {
     "name": "stdout",
     "output_type": "stream",
     "text": [
      "/**\n",
      " * vis-network\n",
      " * https://visjs.github.io/vis-network/\n",
      " *\n",
      " * A dynamic, browser-based visualization library.\n",
      " *\n",
      " * @version 9.1.9\n",
      " * @date    2023-11-03T01:44:38.007Z\n",
      " *\n",
      " * @copyright (c) 2011-201\n"
     ]
    },
    {
     "data": {
      "text/html": [
       "\n",
       "        <!DOCTYPE html>\n",
       "        <html lang=\"en-US\">\n",
       "        \n",
       "        <head>\n",
       "            <meta charset=\"UTF-8\">\n",
       "            <meta name=\"viewport\" content=\"width=device-width, initial-scale=1\">\n",
       "            <title>Inline vis</title>\n",
       "        </head>\n",
       "        \n",
       "        <body>\n",
       "            <h1 id=\"testest\">Inline vis</h1>\n",
       "            <div id=\"mynetwork\" style=\"width:5px; height:5px;\"></div>\n",
       "            <script type=\"text/javascript\" src=\"https://unpkg.com/vis-network/standalone/umd/vis-network.min.js\"></script>\n",
       "            <script>\n",
       "\n",
       "                // create an array with nodes\n",
       "        document.getElementById(\"testest\").innerText = Object.keys(vis).join(\", \");\n",
       "        Network = vis.Network;\n",
       "        DataSet = vis.DataSet;\n",
       "        console.log(Network);\n",
       "        console.log(DataSet);\n",
       "        // create an array with nodes\n",
       "        var nodes = new DataSet([\n",
       "        { id: 1, shape: \"dot\", size: 20, mass: 10},\n",
       "        { id: 2, shape: \"dot\", size: 20, mass: 1},\n",
       "        { id: 3, shape: \"dot\", size: 20, mass: 1},\n",
       "        \n",
       "        { id: 4, shape: \"dot\", size: 5, mass: 0.1},\n",
       "        { id: 5, shape: \"dot\", size: 5, mass: 0.1},\n",
       "        { id: 6, shape: \"dot\", size: 5, mass: 0.1},\n",
       "        { id: 7, shape: \"dot\", size: 5, mass: 0.1},\n",
       "        { id: 8, shape: \"dot\", size: 5, mass: 0.1},\n",
       "        ]);\n",
       "\n",
       "        // create an array with edges\n",
       "        var edges = new DataSet([\n",
       "        { from: 1, to: 2, length: 70 },\n",
       "        { from: 2, to: 3, length: 70 },\n",
       "        \n",
       "        { from: 3, to: 4},\n",
       "        { from: 3, to: 5 },\n",
       "        { from: 3, to: 6 },\n",
       "        { from: 3, to: 7 },\n",
       "        { from: 3, to: 8 },\n",
       "        ]);\n",
       "\n",
       "        // create a network\n",
       "        var data = {\n",
       "        nodes: nodes,\n",
       "        edges: edges,\n",
       "        };\n",
       "        var container = document.getElementById(\"mynetwork\");\n",
       "        var options = {};\n",
       "        var network = new Network(container, data, options);\n",
       "            </script>\n",
       "        </body>\n",
       "        \n",
       "        </html>\n",
       "\n",
       "    "
      ],
      "text/plain": [
       "<IPython.core.display.HTML object>"
      ]
     },
     "metadata": {},
     "output_type": "display_data"
    }
   ],
   "source": [
    "from IPython.display import display, HTML\n",
    "print((Path(\"\") / \"html\" / \"vis-network.min.js\").read_text()[0:200])\n",
    "display(HTML(\n",
    "    \"\"\"\n",
    "        <!DOCTYPE html>\n",
    "        <html lang=\"en-US\">\n",
    "        \n",
    "        <head>\n",
    "            <meta charset=\"UTF-8\">\n",
    "            <meta name=\"viewport\" content=\"width=device-width, initial-scale=1\">\n",
    "            <title>Inline vis</title>\n",
    "        </head>\n",
    "        \n",
    "        <body>\n",
    "            <h1 id=\"testest\">Inline vis</h1>\n",
    "            <div id=\"mynetwork\" style=\"width:5px; height:5px;\"></div>\n",
    "            <script src=\" https://cdn.jsdelivr.net/npm/vis-data@7.1.9/peer/umd/vis-data.min.js \"></script>\n",
    "            <script src=\" https://cdn.jsdelivr.net/npm/vis-network@9.1.9/peer/umd/vis-network.min.js \"></script>\n",
    "            <link href=\" https://cdn.jsdelivr.net/npm/vis-network@9.1.9/styles/vis-network.min.css \" rel=\"stylesheet\">\n",
    "            <script>\n",
    "\n",
    "                // create an array with nodes\n",
    "        document.getElementById(\"testest\").innerText = Object.keys(vis).join(\", \");\n",
    "        Network = vis.Network;\n",
    "        DataSet = vis.DataSet;\n",
    "        console.log(Network);\n",
    "        console.log(DataSet);\n",
    "        // create an array with nodes\n",
    "        var nodes = new DataSet([\n",
    "        { id: 1, shape: \"dot\", size: 20, mass: 10},\n",
    "        { id: 2, shape: \"dot\", size: 20, mass: 1},\n",
    "        { id: 3, shape: \"dot\", size: 20, mass: 1},\n",
    "        \n",
    "        { id: 4, shape: \"dot\", size: 5, mass: 0.1},\n",
    "        { id: 5, shape: \"dot\", size: 5, mass: 0.1},\n",
    "        { id: 6, shape: \"dot\", size: 5, mass: 0.1},\n",
    "        { id: 7, shape: \"dot\", size: 5, mass: 0.1},\n",
    "        { id: 8, shape: \"dot\", size: 5, mass: 0.1},\n",
    "        ]);\n",
    "\n",
    "        // create an array with edges\n",
    "        var edges = new DataSet([\n",
    "        { from: 1, to: 2, length: 70 },\n",
    "        { from: 2, to: 3, length: 70 },\n",
    "        \n",
    "        { from: 3, to: 4},\n",
    "        { from: 3, to: 5 },\n",
    "        { from: 3, to: 6 },\n",
    "        { from: 3, to: 7 },\n",
    "        { from: 3, to: 8 },\n",
    "        ]);\n",
    "\n",
    "        // create a network\n",
    "        var data = {\n",
    "        nodes: nodes,\n",
    "        edges: edges,\n",
    "        };\n",
    "        var container = document.getElementById(\"mynetwork\");\n",
    "        var options = {};\n",
    "        var network = new Network(container, data, options);\n",
    "            </script>\n",
    "        </body>\n",
    "        \n",
    "        </html>\n",
    "\n",
    "    \"\"\"))"
   ]
  },
  {
   "cell_type": "code",
   "execution_count": 111,
   "metadata": {},
   "outputs": [
    {
     "name": "stdout",
     "output_type": "stream",
     "text": [
      "/**\n",
      " * vis-network\n",
      " * https://visjs.github.io/vis-network/\n",
      " *\n",
      " * A dynamic, browser-based visualization library.\n",
      " *\n",
      " * @version 9.1.9\n",
      " * @date    2023-11-03T01:44:38.007Z\n",
      " *\n",
      " * @copyright (c) 2011-201\n"
     ]
    },
    {
     "data": {
      "text/html": [
       "\n",
       "            <h1 id=\"testest\">Inline vis</h1>\n",
       "            <div id=\"mynetwork\" style=\"width:5px; height:5px;\"></div>\n",
       "            <script src=\" https://cdn.jsdelivr.net/npm/vis-data@7.1.9/peer/umd/vis-data.min.js \"></script>\n",
       "            <script src=\" https://cdn.jsdelivr.net/npm/vis-network@9.1.9/peer/umd/vis-network.min.js \"></script>\n",
       "            <link href=\" https://cdn.jsdelivr.net/npm/vis-network@9.1.9/styles/vis-network.min.css \" rel=\"stylesheet\">\n",
       "            <script>\n",
       "\n",
       "                // create an array with nodes\n",
       "        document.getElementById(\"testest\").innerText = Object.keys(vis).join(\", \");\n",
       "        Network = vis.Network;\n",
       "        DataSet = vis.DataSet;\n",
       "        console.log(Network);\n",
       "        console.log(DataSet);\n",
       "        // create an array with nodes\n",
       "        var nodes = new DataSet([\n",
       "        { id: 1, shape: \"dot\", size: 20, mass: 10},\n",
       "        { id: 2, shape: \"dot\", size: 20, mass: 1},\n",
       "        { id: 3, shape: \"dot\", size: 20, mass: 1},\n",
       "        \n",
       "        { id: 4, shape: \"dot\", size: 5, mass: 0.1},\n",
       "        { id: 5, shape: \"dot\", size: 5, mass: 0.1},\n",
       "        { id: 6, shape: \"dot\", size: 5, mass: 0.1},\n",
       "        { id: 7, shape: \"dot\", size: 5, mass: 0.1},\n",
       "        { id: 8, shape: \"dot\", size: 5, mass: 0.1},\n",
       "        ]);\n",
       "\n",
       "        // create an array with edges\n",
       "        var edges = new DataSet([\n",
       "        { from: 1, to: 2, length: 70 },\n",
       "        { from: 2, to: 3, length: 70 },\n",
       "        \n",
       "        { from: 3, to: 4},\n",
       "        { from: 3, to: 5 },\n",
       "        { from: 3, to: 6 },\n",
       "        { from: 3, to: 7 },\n",
       "        { from: 3, to: 8 },\n",
       "        ]);\n",
       "\n",
       "        // create a network\n",
       "        var data = {\n",
       "        nodes: nodes,\n",
       "        edges: edges,\n",
       "        };\n",
       "        var container = document.getElementById(\"mynetwork\");\n",
       "        var options = {};\n",
       "        var network = new Network(container, data, options);\n",
       "            </script>\n",
       "\n",
       "    "
      ],
      "text/plain": [
       "<IPython.core.display.HTML object>"
      ]
     },
     "metadata": {},
     "output_type": "display_data"
    }
   ],
   "source": [
    "from IPython.display import display, HTML\n",
    "print((Path(\"\") / \"html\" / \"vis-network.min.js\").read_text()[0:200])\n",
    "display(HTML(\n",
    "    \"\"\"\n",
    "            <h1 id=\"testest\">Inline vis</h1>\n",
    "            <div id=\"mynetwork\" style=\"width:5px; height:5px;\"></div>\n",
    "            <script src=\" https://cdn.jsdelivr.net/npm/vis-data@7.1.9/peer/umd/vis-data.min.js \"></script>\n",
    "            <script src=\" https://cdn.jsdelivr.net/npm/vis-network@9.1.9/peer/umd/vis-network.min.js \"></script>\n",
    "            <link href=\" https://cdn.jsdelivr.net/npm/vis-network@9.1.9/styles/vis-network.min.css \" rel=\"stylesheet\">\n",
    "            <script>\n",
    "\n",
    "                // create an array with nodes\n",
    "        document.getElementById(\"testest\").innerText = Object.keys(vis).join(\", \");\n",
    "        Network = vis.Network;\n",
    "        DataSet = vis.DataSet;\n",
    "        console.log(Network);\n",
    "        console.log(DataSet);\n",
    "        // create an array with nodes\n",
    "        var nodes = new DataSet([\n",
    "        { id: 1, shape: \"dot\", size: 20, mass: 10},\n",
    "        { id: 2, shape: \"dot\", size: 20, mass: 1},\n",
    "        { id: 3, shape: \"dot\", size: 20, mass: 1},\n",
    "        \n",
    "        { id: 4, shape: \"dot\", size: 5, mass: 0.1},\n",
    "        { id: 5, shape: \"dot\", size: 5, mass: 0.1},\n",
    "        { id: 6, shape: \"dot\", size: 5, mass: 0.1},\n",
    "        { id: 7, shape: \"dot\", size: 5, mass: 0.1},\n",
    "        { id: 8, shape: \"dot\", size: 5, mass: 0.1},\n",
    "        ]);\n",
    "\n",
    "        // create an array with edges\n",
    "        var edges = new DataSet([\n",
    "        { from: 1, to: 2, length: 70 },\n",
    "        { from: 2, to: 3, length: 70 },\n",
    "        \n",
    "        { from: 3, to: 4},\n",
    "        { from: 3, to: 5 },\n",
    "        { from: 3, to: 6 },\n",
    "        { from: 3, to: 7 },\n",
    "        { from: 3, to: 8 },\n",
    "        ]);\n",
    "\n",
    "        // create a network\n",
    "        var data = {\n",
    "        nodes: nodes,\n",
    "        edges: edges,\n",
    "        };\n",
    "        var container = document.getElementById(\"mynetwork\");\n",
    "        var options = {};\n",
    "        var network = new Network(container, data, options);\n",
    "            </script>\n",
    "\n",
    "    \"\"\"))"
   ]
  },
  {
   "cell_type": "code",
   "execution_count": null,
   "metadata": {},
   "outputs": [],
   "source": []
  }
 ],
 "metadata": {
  "kernelspec": {
   "display_name": "venv",
   "language": "python",
   "name": "python3"
  },
  "language_info": {
   "codemirror_mode": {
    "name": "ipython",
    "version": 3
   },
   "file_extension": ".py",
   "mimetype": "text/x-python",
   "name": "python",
   "nbconvert_exporter": "python",
   "pygments_lexer": "ipython3",
   "version": "3.11.2"
  }
 },
 "nbformat": 4,
 "nbformat_minor": 2
}
