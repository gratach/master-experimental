{
 "cells": [
  {
   "cell_type": "code",
   "execution_count": 2,
   "metadata": {},
   "outputs": [],
   "source": [
    "import requests\n",
    "from os import environ\n",
    "from pathlib import Path\n",
    "from json import loads, dumps\n",
    "environ[\"SEMSCHOLAR_KEY\"] = Path(\"~/.semscholarkey\").expanduser().read_text().strip()\n"
   ]
  },
  {
   "cell_type": "code",
   "execution_count": 17,
   "metadata": {},
   "outputs": [],
   "source": [
    "# Get the information for a paper\n",
    "req = requests.get(\"https://api.semanticscholar.org/graph/v1/paper/649def34f8be52c8b66281af98ae884c09aef38b\", headers={\"x-api-key\": environ[\"SEMSCHOLAR_KEY\"]})"
   ]
  },
  {
   "cell_type": "code",
   "execution_count": 18,
   "metadata": {},
   "outputs": [],
   "source": [
    "# Get a paper by its doi\n",
    "req = requests.get(\"https://api.semanticscholar.org/graph/v1/paper/10.21468/SciPostPhys.7.1.014\", headers={\"x-api-key\": environ[\"SEMSCHOLAR_KEY\"]})"
   ]
  },
  {
   "cell_type": "code",
   "execution_count": 19,
   "metadata": {},
   "outputs": [],
   "source": [
    "# Get all citations for a paper\n",
    "req = requests.get(\"https://api.semanticscholar.org/graph/v1/paper/10.21468/SciPostPhys.7.1.014/citations?fields=title,externalIds\", headers={\"x-api-key\": environ[\"SEMSCHOLAR_KEY\"]})"
   ]
  },
  {
   "cell_type": "code",
   "execution_count": 20,
   "metadata": {},
   "outputs": [],
   "source": [
    "# Get all papers citing a paper\n",
    "req = requests.get(\"https://api.semanticscholar.org/graph/v1/paper/10.21468/SciPostPhys.7.1.014/references?fields=title,externalIds\", headers={\"x-api-key\": environ[\"SEMSCHOLAR_KEY\"]})"
   ]
  },
  {
   "cell_type": "code",
   "execution_count": 22,
   "metadata": {},
   "outputs": [],
   "source": [
    "# Search for papers that machtch the string \"physics ontology\"\n",
    "req = requests.get(\"https://api.semanticscholar.org/graph/v1/paper/search?query=physics%20ontology&offset=100&limit=100\",\n",
    "                    headers={\"x-api-key\": environ[\"SEMSCHOLAR_KEY\"]})\n",
    "res = loads(req.text)\n",
    "papers = res[\"data\"]"
   ]
  }
 ],
 "metadata": {
  "kernelspec": {
   "display_name": "venv",
   "language": "python",
   "name": "python3"
  },
  "language_info": {
   "codemirror_mode": {
    "name": "ipython",
    "version": 3
   },
   "file_extension": ".py",
   "mimetype": "text/x-python",
   "name": "python",
   "nbconvert_exporter": "python",
   "pygments_lexer": "ipython3",
   "version": "3.11.2"
  }
 },
 "nbformat": 4,
 "nbformat_minor": 2
}
