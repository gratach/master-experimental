{
 "cells": [
  {
   "cell_type": "code",
   "execution_count": 2,
   "metadata": {},
   "outputs": [],
   "source": [
    "import requests\n",
    "from os import environ\n",
    "from pathlib import Path\n",
    "from json import loads, dumps\n",
    "environ[\"SEMSCHOLAR_KEY\"] = Path(\"~/.semscholarkey\").expanduser().read_text().strip()\n"
   ]
  },
  {
   "cell_type": "code",
   "execution_count": 12,
   "metadata": {},
   "outputs": [],
   "source": [
    "import time\n",
    "\n",
    "def pause_until(timespan):\n",
    "    current_time = time.time()\n",
    "    if pause_until.last_time != None and current_time - pause_until.last_time < timespan:\n",
    "        time.sleep(timespan - (current_time - pause_until.last_time))\n",
    "    pause_until.last_time = time.time()\n",
    "\n",
    "# Initialize the last_time attribute\n",
    "pause_until.last_time = None"
   ]
  },
  {
   "cell_type": "code",
   "execution_count": 17,
   "metadata": {},
   "outputs": [],
   "source": [
    "# Get the information for a paper\n",
    "req = requests.get(\"https://api.semanticscholar.org/graph/v1/paper/649def34f8be52c8b66281af98ae884c09aef38b\", headers={\"x-api-key\": environ[\"SEMSCHOLAR_KEY\"]})"
   ]
  },
  {
   "cell_type": "code",
   "execution_count": 18,
   "metadata": {},
   "outputs": [],
   "source": [
    "# Get a paper by its doi\n",
    "req = requests.get(\"https://api.semanticscholar.org/graph/v1/paper/10.21468/SciPostPhys.7.1.014\", headers={\"x-api-key\": environ[\"SEMSCHOLAR_KEY\"]})"
   ]
  },
  {
   "cell_type": "code",
   "execution_count": 19,
   "metadata": {},
   "outputs": [],
   "source": [
    "# Get all citations for a paper\n",
    "req = requests.get(\"https://api.semanticscholar.org/graph/v1/paper/10.21468/SciPostPhys.7.1.014/citations?fields=title,externalIds\", headers={\"x-api-key\": environ[\"SEMSCHOLAR_KEY\"]})"
   ]
  },
  {
   "cell_type": "code",
   "execution_count": 20,
   "metadata": {},
   "outputs": [],
   "source": [
    "# Get all papers citing a paper\n",
    "req = requests.get(\"https://api.semanticscholar.org/graph/v1/paper/10.21468/SciPostPhys.7.1.014/references?fields=title,externalIds\", headers={\"x-api-key\": environ[\"SEMSCHOLAR_KEY\"]})"
   ]
  },
  {
   "cell_type": "code",
   "execution_count": 22,
   "metadata": {},
   "outputs": [],
   "source": [
    "# Search for papers that machtch the string \"physics ontology\"\n",
    "req = requests.get(\"https://api.semanticscholar.org/graph/v1/paper/search?query=physics%20ontology&offset=100&limit=100\",\n",
    "                    headers={\"x-api-key\": environ[\"SEMSCHOLAR_KEY\"]})\n",
    "res = loads(req.text)\n",
    "papers = res[\"data\"]"
   ]
  },
  {
   "cell_type": "code",
   "execution_count": 17,
   "metadata": {},
   "outputs": [
    {
     "name": "stdout",
     "output_type": "stream",
     "text": [
      "{\n",
      "  \"paperId\": \"87420b5957e7c28b6170f5ef09b49cc83cf6a2a9\",\n",
      "  \"externalIds\": {\n",
      "    \"ArXiv\": \"2102.02770\",\n",
      "    \"DBLP\": \"journals/corr/abs-2102-02770\",\n",
      "    \"CorpusId\": 231802018\n",
      "  },\n",
      "  \"title\": \"A Living Review of Machine Learning for Particle Physics\",\n",
      "  \"year\": 2021,\n",
      "  \"journal\": {\n",
      "    \"name\": \"ArXiv\",\n",
      "    \"volume\": \"abs/2102.02770\"\n",
      "  },\n",
      "  \"citationStyles\": {\n",
      "    \"bibtex\": \"@Article{Feickert2021ALR,\\n author = {M. Feickert and B. Nachman},\\n booktitle = {arXiv.org},\\n journal = {ArXiv},\\n title = {A Living Review of Machine Learning for Particle Physics},\\n volume = {abs/2102.02770},\\n year = {2021}\\n}\\n\"\n",
      "  }\n",
      "}\n"
     ]
    }
   ],
   "source": [
    "req = requests.get(\"https://api.semanticscholar.org/graph/v1/paper/87420b5957e7c28b6170f5ef09b49cc83cf6a2a9?fields=title,journal,year,externalIds,citationStyles\", \n",
    "                   headers={\"x-api-key\": environ[\"SEMSCHOLAR_KEY\"]})\n",
    "print(dumps(loads(req.text), indent=2))"
   ]
  },
  {
   "cell_type": "code",
   "execution_count": 19,
   "metadata": {},
   "outputs": [],
   "source": [
    "def createBibTeXFromSemScholarId(id):\n",
    "    req = requests.get(f\"https://api.semanticscholar.org/graph/v1/paper/{id}?fields=citationStyles\", headers={\"x-api-key\": environ[\"SEMSCHOLAR_KEY\"]})\n",
    "    res = loads(req.text)\n",
    "    return res[\"citationStyles\"][\"bibtex\"]"
   ]
  },
  {
   "cell_type": "code",
   "execution_count": 20,
   "metadata": {},
   "outputs": [
    {
     "name": "stdout",
     "output_type": "stream",
     "text": [
      "@Article{Kasieczka2019TheML,\n",
      " author = {Gregor Kasieczka and T. Plehn and A. Butter and K. Cranmer and Dipsikha Debnath and B. Dillon and M. Fairbairn and D. Faroughy and W. Fedorko and L. Gouskos and J. Kamenik and Patrick T. Komiske and Simon Leiss and A. Lister and S. Macaluso and S. Macaluso and E. Metodiev and L. Moore and B. Nachman and B. Nachman and Karl Nordström and Jannicke Pearkes and H. Qu and Y. Rath and M. Rieger and D. Shih and J. Thompson and Sreedevi Varma},\n",
      " booktitle = {SciPost Physics},\n",
      " journal = {SciPost Physics},\n",
      " title = {The Machine Learning landscape of top taggers},\n",
      " year = {2019}\n",
      "}\n",
      "\n"
     ]
    }
   ],
   "source": [
    "print(createBibTeXFromSemScholarId(\"10.21468/SciPostPhys.7.1.014\"))"
   ]
  },
  {
   "cell_type": "code",
   "execution_count": 7,
   "metadata": {},
   "outputs": [
    {
     "name": "stdout",
     "output_type": "stream",
     "text": [
      "{\n",
      "  \"total\": 144492,\n",
      "  \"offset\": 1,\n",
      "  \"next\": 4,\n",
      "  \"data\": [\n",
      "    {\n",
      "      \"paperId\": \"3b98a87a3d4c6935b29380c4070a6c637306df64\",\n",
      "      \"title\": \"Bulk Parameterization of the Snow Field in a Cloud Model\"\n",
      "    },\n",
      "    {\n",
      "      \"paperId\": \"51b09bddafff606138fe3e69acb9121f3415aad9\",\n",
      "      \"title\": \"ALL Snow Removed: Single Image Desnowing Algorithm Using Hierarchical Dual-tree Complex Wavelet Representation and Contradict Channel Loss\"\n",
      "    },\n",
      "    {\n",
      "      \"paperId\": \"836609dc37e8c3997459fdf5d42c223b7cacc757\",\n",
      "      \"title\": \"White and wonderful? Microplastics prevail in snow from the Alps to the Arctic\"\n",
      "    }\n",
      "  ]\n",
      "}\n"
     ]
    }
   ],
   "source": [
    "req = requests.get(\"https://api.semanticscholar.org/graph/v1/paper/search?query=snow&offset=1&limit=3&fields=title\", \n",
    "                   headers={\"x-api-key\": environ[\"SEMSCHOLAR_KEY\"]})\n",
    "print(dumps(loads(req.text), indent=2))"
   ]
  },
  {
   "cell_type": "code",
   "execution_count": 8,
   "metadata": {},
   "outputs": [],
   "source": [
    "def countPercentageOfPapersWithAbstract(topic):\n",
    "    req = requests.get(f\"https://api.semanticscholar.org/graph/v1/paper/search?query={topic}&offset={0}&limit={100}&fields=abstract\", headers = {\"x-api-key\": environ[\"SEMSCHOLAR_KEY\"]})\n",
    "    data = loads(req.text)\n",
    "    papers = data[\"data\"]\n",
    "    papersWithAbstract = 0\n",
    "    for paper in papers:\n",
    "        if paper[\"abstract\"] != None:\n",
    "            papersWithAbstract += 1\n",
    "    return papersWithAbstract / len(papers) * 100"
   ]
  },
  {
   "cell_type": "code",
   "execution_count": 9,
   "metadata": {},
   "outputs": [
    {
     "data": {
      "text/plain": [
       "63.0"
      ]
     },
     "execution_count": 9,
     "metadata": {},
     "output_type": "execute_result"
    }
   ],
   "source": [
    "countPercentageOfPapersWithAbstract(\"electron\")"
   ]
  },
  {
   "cell_type": "code",
   "execution_count": 14,
   "metadata": {},
   "outputs": [],
   "source": [
    "def countPercentageOfPapersWithoutDoi(topic):\n",
    "    req = requests.get(f\"https://api.semanticscholar.org/graph/v1/paper/search?query={topic}&offset={0}&limit={100}&fields=externalIds,title\", headers = {\"x-api-key\": environ[\"SEMSCHOLAR_KEY\"]})\n",
    "    data = loads(req.text)\n",
    "    papers = data[\"data\"]\n",
    "    papersWithoutDoi = 0\n",
    "    for paper in papers:\n",
    "        if not \"DOI\" in paper[\"externalIds\"]:\n",
    "            papersWithoutDoi += 1\n",
    "            print(paper[\"title\"])\n",
    "    return papersWithoutDoi / len(papers) * 100"
   ]
  },
  {
   "cell_type": "code",
   "execution_count": 15,
   "metadata": {},
   "outputs": [
    {
     "name": "stdout",
     "output_type": "stream",
     "text": [
      "A formaldehyde-glutaraldehyde fixative of high osmolality for use in electron-microscopy\n",
      "Electron – molecule collision calculations using the R-matrix method\n",
      "THE GROUND STATE OF THE ELECTRON GAS BY A STOCHASTIC METHOD\n",
      "Electron paramagnetic resonance of transition ions\n",
      "Electron Paramagnetic Resonance Of Transition Ions\n",
      "Scanning Electron Microscopy and X-Ray Microanalysis\n",
      "Advanced Computing In Electron Microscopy\n"
     ]
    },
    {
     "data": {
      "text/plain": [
       "7.000000000000001"
      ]
     },
     "execution_count": 15,
     "metadata": {},
     "output_type": "execute_result"
    }
   ],
   "source": [
    "countPercentageOfPapersWithoutDoi(\"electron\")"
   ]
  },
  {
   "cell_type": "code",
   "execution_count": 16,
   "metadata": {},
   "outputs": [
    {
     "name": "stdout",
     "output_type": "stream",
     "text": [
      "(374, 149)\n"
     ]
    }
   ],
   "source": [
    "def countReferencesAndCitations(semscholarId):\n",
    "    refLength = 0\n",
    "    refOffset = 0\n",
    "    while True:\n",
    "        pause_until(1)\n",
    "        req = loads(requests.get(f\"https://api.semanticscholar.org/graph/v1/paper/{semscholarId}/references?fields=title,externalIds&offset={refOffset}\", headers={\"x-api-key\": environ[\"SEMSCHOLAR_KEY\"]}).text)\n",
    "        refLength += len(req[\"data\"])\n",
    "        refOffset = req.get(\"next\")\n",
    "        if refOffset == None:\n",
    "            break\n",
    "    citLength = 0\n",
    "    citOffset = 0\n",
    "    while True:\n",
    "        pause_until(1)\n",
    "        req = loads(requests.get(f\"https://api.semanticscholar.org/graph/v1/paper/{semscholarId}/citations?fields=title,externalIds&offset={citOffset}\", headers={\"x-api-key\": environ[\"SEMSCHOLAR_KEY\"]}).text)\n",
    "        citLength += len(req[\"data\"])\n",
    "        citOffset = req.get(\"next\")\n",
    "        if citOffset == None:\n",
    "            break\n",
    "    return refLength, citLength\n",
    "print(countReferencesAndCitations(\"87420b5957e7c28b6170f5ef09b49cc83cf6a2a9\"))"
   ]
  },
  {
   "cell_type": "code",
   "execution_count": 13,
   "metadata": {},
   "outputs": [
    {
     "name": "stdout",
     "output_type": "stream",
     "text": [
      "{\n",
      "  \"offset\": 200,\n",
      "  \"next\": 300,\n",
      "  \"data\": 100\n",
      "}\n"
     ]
    }
   ],
   "source": [
    "\n",
    "semscholarId = \"87420b5957e7c28b6170f5ef09b49cc83cf6a2a9\"\n",
    "req = requests.get(f\"https://api.semanticscholar.org/graph/v1/paper/{semscholarId}/references?fields=title,externalIds&offset=200\", headers={\"x-api-key\": environ[\"SEMSCHOLAR_KEY\"]})\n",
    "loaded = loads(req.text)\n",
    "loaded[\"data\"] = len(loaded[\"data\"])\n",
    "print(dumps(loaded, indent=2))"
   ]
  }
 ],
 "metadata": {
  "kernelspec": {
   "display_name": "venv",
   "language": "python",
   "name": "python3"
  },
  "language_info": {
   "codemirror_mode": {
    "name": "ipython",
    "version": 3
   },
   "file_extension": ".py",
   "mimetype": "text/x-python",
   "name": "python",
   "nbconvert_exporter": "python",
   "pygments_lexer": "ipython3",
   "version": "3.11.2"
  }
 },
 "nbformat": 4,
 "nbformat_minor": 2
}
