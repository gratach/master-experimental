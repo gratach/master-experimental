{
 "cells": [
  {
   "cell_type": "code",
   "execution_count": 2,
   "metadata": {},
   "outputs": [],
   "source": [
    "from pathlib import Path\n",
    "from json import loads\n",
    "subtopicNetworkRootPath = Path(\"../master-database-files/master-adapted-subtopic-tree-generation/trees/\")\n",
    "assert subtopicNetworkRootPath.exists()"
   ]
  },
  {
   "cell_type": "code",
   "execution_count": 3,
   "metadata": {},
   "outputs": [],
   "source": [
    "def loadSubtopicTree(name):\n",
    "    path = subtopicNetworkRootPath / name / \"subtopic_tree.json\"\n",
    "    assert path.exists()\n",
    "    return loads(path.read_text())"
   ]
  },
  {
   "cell_type": "code",
   "execution_count": 7,
   "metadata": {},
   "outputs": [],
   "source": [
    "tree = loadSubtopicTree(\"subd\")"
   ]
  },
  {
   "cell_type": "code",
   "execution_count": 4,
   "metadata": {},
   "outputs": [],
   "source": [
    "from json import dumps\n",
    "def safeVisNetworkJSONToHTMLFile(jsonData, htmlFilePath):\n",
    "    with open(htmlFilePath, \"w\") as htmlFile:\n",
    "        htmlFile.write(\n",
    "            f\"\"\"\n",
    "            <!DOCTYPE html>\n",
    "            <html lang=\"en-US\">\n",
    "            \n",
    "            <head>\n",
    "                <meta charset=\"UTF-8\">\n",
    "                <meta name=\"viewport\" content=\"width=device-width, initial-scale=1\">\n",
    "                <title>Inline vis</title>\n",
    "            </head>\n",
    "            \n",
    "            <body>\n",
    "                <div id=\"mynetwork\" style=\"width:100vw; height:100vh;\"></div>\n",
    "                <script src=\" https://cdn.jsdelivr.net/npm/vis-data@7.1.9/peer/umd/vis-data.min.js \"></script>\n",
    "                <script src=\" https://cdn.jsdelivr.net/npm/vis-network@9.1.9/peer/umd/vis-network.min.js \"></script>\n",
    "                <link href=\" https://cdn.jsdelivr.net/npm/vis-network@9.1.9/styles/vis-network.min.css \" rel=\"stylesheet\">\n",
    "                <script>\n",
    "                    var jsonData = {dumps(jsonData)};\n",
    "                    // create a network\n",
    "                    var container = document.getElementById(\"mynetwork\");\n",
    "                    var options = {{}};\n",
    "                    var network = new vis.Network(container, jsonData, options);\n",
    "                </script>\n",
    "            </body>\n",
    "            \n",
    "            </html>\n",
    "            \"\"\"\n",
    "        )"
   ]
  },
  {
   "cell_type": "code",
   "execution_count": 5,
   "metadata": {},
   "outputs": [],
   "source": [
    "def createVisNetworkJSONOfTreeStructure(tree, depth = 3):\n",
    "    nodes = []\n",
    "    edges = []\n",
    "    def addNode(nodeName, children, parentID = None, depth = 0):\n",
    "        if depth > 0:\n",
    "            nodeID = len(nodes)\n",
    "            nodes.append({\"id\": nodeID, \"label\": nodeName, \"color\": {\"background\": \"#E833BD\" if parentID is None else \"#97C2FC\" if children is None else \"#97FCB9\"}})\n",
    "            if parentID is not None:\n",
    "                edges.append({\"from\": parentID, \"to\": nodeID, \"color\": \"#97C2FC\" if children is None else \"#97FCB9\", \"value\" : 1 if children is None else 3 + depth/2})\n",
    "            if children:\n",
    "                for childName, child in children.items():\n",
    "                    addNode(childName, child, nodeID, depth - 1)\n",
    "    for nodeName, node in tree.items():\n",
    "        addNode(nodeName, node, depth = depth)\n",
    "    return {\"nodes\": nodes, \"edges\": edges}"
   ]
  },
  {
   "cell_type": "code",
   "execution_count": 10,
   "metadata": {},
   "outputs": [],
   "source": [
    "vNJ = createVisNetworkJSONOfTreeStructure(tree, 8)\n",
    "safeVisNetworkJSONToHTMLFile(vNJ, \"output.html\")"
   ]
  },
  {
   "cell_type": "code",
   "execution_count": 8,
   "metadata": {},
   "outputs": [],
   "source": [
    "subd10Tree = loads(Path(\"../master-database-files/master-experimental/subtopic_tree_comparison/trees/subd10gpt4/subtopic_tree.json\").read_text())\n",
    "safeVisNetworkJSONToHTMLFile(createVisNetworkJSONOfTreeStructure(subd10Tree, 30), \"subd10.html\")"
   ]
  },
  {
   "cell_type": "code",
   "execution_count": 9,
   "metadata": {},
   "outputs": [],
   "source": [
    "subd20Tree = loads(Path(\"../master-database-files/master-experimental/subtopic_tree_comparison/trees/subd20gpt4/subtopic_tree.json\").read_text())\n",
    "safeVisNetworkJSONToHTMLFile(createVisNetworkJSONOfTreeStructure(subd20Tree, 30), \"subd20.html\")"
   ]
  }
 ],
 "metadata": {
  "kernelspec": {
   "display_name": "venv",
   "language": "python",
   "name": "python3"
  },
  "language_info": {
   "codemirror_mode": {
    "name": "ipython",
    "version": 3
   },
   "file_extension": ".py",
   "mimetype": "text/x-python",
   "name": "python",
   "nbconvert_exporter": "python",
   "pygments_lexer": "ipython3",
   "version": "3.11.2"
  }
 },
 "nbformat": 4,
 "nbformat_minor": 2
}
