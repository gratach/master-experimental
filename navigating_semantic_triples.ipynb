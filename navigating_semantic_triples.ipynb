{
 "cells": [
  {
   "cell_type": "code",
   "execution_count": 2,
   "metadata": {},
   "outputs": [],
   "source": [
    "from openai import OpenAI\n",
    "from random import randint\n",
    "from os import environ\n",
    "from pathlib import Path\n",
    "from json import loads\n",
    "environ[\"OPENAI_API_KEY\"] = Path(\"~/.openaiapikey\").expanduser().read_text().strip()\n",
    "\n",
    "openaiClient = OpenAI()\n",
    "def gpt_3_5_turbo_completion(query):\n",
    "    answer = openaiClient.chat.completions.create(\n",
    "        model=\"gpt-3.5-turbo\",\n",
    "        messages=[\n",
    "            {\n",
    "                \"role\": \"system\",\n",
    "                \"content\": query\n",
    "            }\n",
    "        ],\n",
    "        seed = randint(0, 1000000)\n",
    "    )\n",
    "    return answer.choices[0].message.content\n",
    "\n",
    "def gpt_4_turbo_completion(query):\n",
    "    answer = openaiClient.chat.completions.create(\n",
    "        model=\"gpt-4-turbo\",\n",
    "        messages=[\n",
    "            {\n",
    "                \"role\": \"system\",\n",
    "                \"content\": query\n",
    "            }\n",
    "        ],\n",
    "        seed = randint(0, 1000000)\n",
    "    )\n",
    "    return answer.choices[0].message.content\n",
    "\n",
    "def tryRecieveAnswer(query, completionFunction = gpt_4_turbo_completion, answerConversion = lambda x: x, maxTries = 10):\n",
    "    tryNumber = 0\n",
    "    while tryNumber < maxTries:\n",
    "        answer = completionFunction(query)\n",
    "        try:\n",
    "            answer = answerConversion(answer)\n",
    "            return (answer, True)\n",
    "        except:\n",
    "            pass\n",
    "        tryNumber += 1\n",
    "    print(f\"Failed to recieve answer for query: {query}\")\n",
    "    return (None, False)\n",
    "\n",
    "def listAnswerConversion(answer):\n",
    "    result = loads(answer)\n",
    "    assert isinstance(result, list)\n",
    "    for item in result:\n",
    "        assert isinstance(item, str)\n",
    "    return result"
   ]
  },
  {
   "cell_type": "code",
   "execution_count": 3,
   "metadata": {},
   "outputs": [],
   "source": [
    "from json import loads\n",
    "def findSemanticTriples(subj):\n",
    "    query = f'Semantic triples such as [\"Star\", \"emits\", \"Light\"] and [\"Rocket\", \"can bring cargo to\", \"Space\"] consists of a subject, a predicate, and an object. Give me five examples of semantic triples that contain \"{subj}\" as subject and return them in an array formatted like [[\"sub1\", \"pred1\", \"obj1\"], [\"sub2\", \"pred2\", \"obj2\"], ...]. Return nothing but the array without explanation.'\n",
    "    def answerConversion(answer):\n",
    "        result = loads(answer)\n",
    "        assert isinstance(result, list)\n",
    "        assert all(isinstance(triple, list) for triple in result)\n",
    "        assert all(len(triple) == 3 for triple in result)\n",
    "        assert all(isinstance(term, str) for triple in result for term in triple)\n",
    "        return result\n",
    "    answer, success = tryRecieveAnswer(query, answerConversion = answerConversion)\n",
    "    return answer"
   ]
  },
  {
   "cell_type": "code",
   "execution_count": 3,
   "metadata": {},
   "outputs": [
    {
     "data": {
      "text/plain": [
       "[['Matter', 'consists of', 'Atoms'],\n",
       " ['Matter', 'occupies', 'Space'],\n",
       " ['Matter', 'has', 'Mass'],\n",
       " ['Matter', 'can change', 'States'],\n",
       " ['Matter', 'interacts with', 'Energy']]"
      ]
     },
     "execution_count": 3,
     "metadata": {},
     "output_type": "execute_result"
    }
   ],
   "source": [
    "findSemanticTriples(\"Matter\")"
   ]
  },
  {
   "cell_type": "code",
   "execution_count": 4,
   "metadata": {},
   "outputs": [],
   "source": [
    "\n",
    "def findSemanticTriplesWithTopic(subj, topic):\n",
    "    query = f'Semantic triples such as [\"Star\", \"emits\", \"Light\"] and [\"Rocket\", \"can bring cargo to\", \"Space\"] consists of a subject, a predicate, and an object. Give me ten examples of semantic triples that contain \"{subj}\" as subject and return them in an array formatted like [[\"sub1\", \"pred1\", \"obj1\"], [\"sub2\", \"pred2\", \"obj2\"], ...]. The topic of the triples should be \"{topic}\" Return nothing but the array without explanation.'\n",
    "    def answerConversion(answer):\n",
    "        result = loads(answer)\n",
    "        assert isinstance(result, list)\n",
    "        assert all(isinstance(triple, list) for triple in result)\n",
    "        assert all(len(triple) == 3 for triple in result)\n",
    "        assert all(isinstance(term, str) for triple in result for term in triple)\n",
    "        return result\n",
    "    answer, success = tryRecieveAnswer(query, answerConversion = answerConversion)\n",
    "    return answer"
   ]
  },
  {
   "cell_type": "code",
   "execution_count": 54,
   "metadata": {},
   "outputs": [
    {
     "data": {
      "text/plain": [
       "[['Matter', 'is ejected by', 'Supernova'],\n",
       " ['Matter', 'undergoes nuclear fusion during', 'Supernova'],\n",
       " ['Matter', 'is converted into energy in', 'Supernova'],\n",
       " ['Matter', 'forms neutron stars after', 'Supernova'],\n",
       " ['Matter', 'increases in temperature during', 'Supernova'],\n",
       " ['Matter', 'expands rapidly during', 'Supernova'],\n",
       " ['Matter', 'becomes ionized in', 'Supernova'],\n",
       " ['Matter', 'emits electromagnetic radiation in', 'Supernova'],\n",
       " ['Matter', 'forms dust particles after', 'Supernova'],\n",
       " ['Matter', 'contributes to the cosmic dust in', 'Supernova']]"
      ]
     },
     "execution_count": 54,
     "metadata": {},
     "output_type": "execute_result"
    }
   ],
   "source": [
    "findSemanticTriplesWithTopic(\"Matter\", \"Supernova\")"
   ]
  },
  {
   "cell_type": "code",
   "execution_count": 5,
   "metadata": {},
   "outputs": [],
   "source": [
    "def findQuestionWithSemanticTripleAnswer(topicArea):\n",
    "    query = f'''\n",
    "    Semantic triples such as [\"Star\", \"emits\", \"Light\"] and [\"Rocket\", \"can bring cargo to\", \"Space\"] consists of a subject, a predicate, and an object. \n",
    "    Give me a question of the topc area \"{topicArea}\" that can be answered with a semantic triple.\n",
    "    Return the question together with the semantic triple that answers it in the format [\"question\", [\"sub\", \"pred\", \"obj\"]].\n",
    "    Return nothing but the array without explanation.'''\n",
    "    def answerConversion(answer):\n",
    "        result = loads(answer)\n",
    "        assert isinstance(result, list)\n",
    "        assert len(result) == 2\n",
    "        assert isinstance(result[0], str)\n",
    "        assert isinstance(result[1], list)\n",
    "        assert len(result[1]) == 3\n",
    "        assert all(isinstance(term, str) for term in result[1])\n",
    "        return result\n",
    "    answer, success = tryRecieveAnswer(query, answerConversion = answerConversion)\n",
    "    return answer"
   ]
  },
  {
   "cell_type": "code",
   "execution_count": 37,
   "metadata": {},
   "outputs": [
    {
     "data": {
      "text/plain": [
       "['What do quarks combine to form?', ['Quarks', 'combine to form', 'Hadrons']]"
      ]
     },
     "execution_count": 37,
     "metadata": {},
     "output_type": "execute_result"
    }
   ],
   "source": [
    "findQuestionWithSemanticTripleAnswer(\"Particle Physics\")"
   ]
  },
  {
   "cell_type": "code",
   "execution_count": 7,
   "metadata": {},
   "outputs": [],
   "source": [
    "def findNeighbouringTopics(topic):\n",
    "    query = f'Give me five subtopics of the topic \"{topic}\" and three related topics. Return them all in an array formatted like [\"sub1\", \"sub2\", \"sub3\", \"sub4\", \"sub5\", \"rel1\", \"rel2\", \"rel3\"]. Return nothing but the array without explanation.'\n",
    "    def answerConversion(answer):\n",
    "        result = loads(answer)\n",
    "        assert isinstance(result, list)\n",
    "        assert len(result) == 8\n",
    "        for item in result:\n",
    "            assert isinstance(item, str)\n",
    "        return result\n",
    "    answer, success = tryRecieveAnswer(query, answerConversion = answerConversion)\n",
    "    return answer"
   ]
  },
  {
   "cell_type": "code",
   "execution_count": 14,
   "metadata": {},
   "outputs": [
    {
     "data": {
      "text/plain": [
       "['Theories of Gravity',\n",
       " 'Gravitational Fields',\n",
       " 'Effects of Gravity on Time',\n",
       " 'Gravity in Astrophysics',\n",
       " 'Experimental Tests of Gravity',\n",
       " 'Relativity',\n",
       " 'Orbital Mechanics',\n",
       " 'Quantum Mechanics']"
      ]
     },
     "execution_count": 14,
     "metadata": {},
     "output_type": "execute_result"
    }
   ],
   "source": [
    "findNeighbouringTopics(\"Gravity\")"
   ]
  },
  {
   "cell_type": "code",
   "execution_count": 8,
   "metadata": {},
   "outputs": [],
   "source": [
    "class TopicNavigator:\n",
    "    def __init__(self, rootTopic):\n",
    "        self.currentTopic = rootTopic\n",
    "        self.topicPath = [rootTopic]\n",
    "        self.rootTopic = rootTopic\n",
    "        self.choices = None\n",
    "    def generateChoices(self):\n",
    "        if self.choices != None:\n",
    "            return\n",
    "        query = f'Give me five subtopics of the topic \"{self.currentTopic}\" and three related topics. Return them all in an array formatted like [\"sub1\", \"sub2\", \"sub3\", \"sub4\", \"sub5\", \"rel1\", \"rel2\", \"rel3\"]. Return nothing but the array without explanation.'\n",
    "        def answerConversion(answer):\n",
    "            result = loads(answer)\n",
    "            assert isinstance(result, list)\n",
    "            assert len(result) == 8\n",
    "            for item in result:\n",
    "                assert isinstance(item, str)\n",
    "            return result\n",
    "        answer, success = tryRecieveAnswer(query, answerConversion = answerConversion)\n",
    "        self.choices = answer + [self.topicPath[-1], self.rootTopic]\n",
    "    def navigateToNextTopic(self, topicNumber):\n",
    "        topicNumber = topicNumber - 1\n",
    "        assert self.choices != None\n",
    "        if topicNumber < 5:\n",
    "            self.topicPath.append(self.currentTopic)\n",
    "        elif topicNumber == 8:\n",
    "            if len(self.topicPath) > 1:\n",
    "                self.topicPath.pop()\n",
    "        elif topicNumber == 9:\n",
    "            self.topicPath = [self.rootTopic]\n",
    "        self.currentTopic = self.choices[topicNumber]\n",
    "        self.choices = None\n",
    "    def getChoicesString(self):\n",
    "        self.generateChoices()\n",
    "        return \"\\n\".join([f\"{i+1}: {topic}\" for i, topic in enumerate(self.choices)])\n",
    "    def navigateOneStepInDirection(self, targetTopic):\n",
    "        query = f'''Wich of the following topics is most related to the topic \"{targetTopic}\"?\n",
    "        {self.getChoicesString()}\n",
    "        return nothing but the number of the topic.'''\n",
    "        def answerConversion(answer):\n",
    "            ret = int(answer)\n",
    "            assert 1 <= ret <= 10\n",
    "            return ret\n",
    "        answer, success = tryRecieveAnswer(query, answerConversion = answerConversion)\n",
    "        assert success\n",
    "        self.navigateToNextTopic(answer)\n",
    "        "
   ]
  },
  {
   "cell_type": "code",
   "execution_count": 58,
   "metadata": {},
   "outputs": [],
   "source": [
    "t = TopicNavigator(\"Physics\")"
   ]
  },
  {
   "cell_type": "code",
   "execution_count": 34,
   "metadata": {},
   "outputs": [
    {
     "name": "stdout",
     "output_type": "stream",
     "text": [
      "1: Classical Mechanics\n",
      "2: Electromagnetism\n",
      "3: Quantum Mechanics\n",
      "4: Thermodynamics\n",
      "5: Relativity\n",
      "6: Chemistry\n",
      "7: Mathematics\n",
      "8: Engineering\n",
      "9: Physics\n",
      "10: Physics\n"
     ]
    }
   ],
   "source": [
    "t.navigateToNextTopic(10)\n",
    "print(t.getChoicesString())"
   ]
  },
  {
   "cell_type": "code",
   "execution_count": 9,
   "metadata": {},
   "outputs": [],
   "source": [
    "def navigateToTopic(targetTopic, topicNavigator, iterations):\n",
    "    for i in range(iterations):\n",
    "        topicNavigator.navigateOneStepInDirection(targetTopic)\n",
    "        print(topicNavigator.currentTopic)"
   ]
  },
  {
   "cell_type": "code",
   "execution_count": 62,
   "metadata": {},
   "outputs": [
    {
     "name": "stdout",
     "output_type": "stream",
     "text": [
      "Standard Model\n",
      "Particle Physics\n",
      "Standard Model\n",
      "Particle Physics\n",
      "Elementary Particles\n",
      "Quarks\n",
      "Types of Quarks\n",
      "Quarks\n",
      "Standard Model\n",
      "Quantum Chromodynamics\n"
     ]
    }
   ],
   "source": [
    "#t = TopicNavigator(\"Physics\")\n",
    "navigateToTopic(\"Top quark\", t, 10)"
   ]
  },
  {
   "cell_type": "code",
   "execution_count": 30,
   "metadata": {},
   "outputs": [],
   "source": [
    "class TripleNavigator:\n",
    "    def __init__(self, startTriple, topic):\n",
    "        self.currentTriple = startTriple\n",
    "        self.choices = None\n",
    "        self.topicNavigator = TopicNavigator(topic)\n",
    "    def getCurrentTripleString(self):\n",
    "        return \"[\" + \", \".join(self.currentTriple) + \"]\"\n",
    "    def goOneStepTowartsQuestionAnswer(self, question):\n",
    "        # Find the part of the triple that should be altered\n",
    "        currentTriple = self.getCurrentTripleString()\n",
    "        query = f'''Semantic triples such as [\"Star\", \"emits\", \"Light\"] and [\"Rocket\", \"can bring cargo to\", \"Space\"] consists of a subject, a predicate, and an object.\n",
    "                The goal is to find a semantic triple that answers the question \"{question}\".\n",
    "                This should be achieved by altering the current triple {currentTriple}.\n",
    "                Two of the three parts of the triple should be altered, one should remain the same.\n",
    "                Return A if the subject should remain the same, B if the predicate should remain the same, and C if the object should remain the same.\n",
    "                Return nothing but the letter.'''\n",
    "        def answerConversion(answer):\n",
    "            assert answer in [\"A\", \"B\", \"C\"]\n",
    "            return answer\n",
    "        alteringOption, success = tryRecieveAnswer(query, answerConversion = answerConversion)\n",
    "        assert success\n",
    "        # Adjust the topic of the triple\n",
    "        tripleString = \"[\" + (self.currentTriple[0] if alteringOption == \"A\" else \"???\") + \", \" + (self.currentTriple[1] if alteringOption == \"B\" else \"???\") + \", \" + (self.currentTriple[2] if alteringOption == \"C\" else \"???\") + \"]\"\n",
    "        query = f'''The semantic triple {tripleString} should be completed to answer the question \"{question}\".\n",
    "                Therefore, a topic for the triple is needed. Select a topic from the following list:\n",
    "                {self.topicNavigator.getChoicesString()}\n",
    "                Return nothing but the number of the topic.'''\n",
    "        def answerConversion(answer):\n",
    "            ret = int(answer)\n",
    "            assert 1 <= ret <= 10\n",
    "            return ret\n",
    "        topicIndex, success = tryRecieveAnswer(query, answerConversion = answerConversion)\n",
    "        assert success\n",
    "        self.topicNavigator.navigateToNextTopic(topicIndex)\n",
    "        # Complete the triple\n",
    "        query = f'''Semantic triples such as [\"Star\", \"emits\", \"Light\"] and [\"Rocket\", \"can bring cargo to\", \"Space\"] consists of a subject, a predicate, and an object.\n",
    "                Create ten different completed versions of the triple {tripleString}. The topic of the triples should be \"{self.topicNavigator.currentTopic}\".\n",
    "                Return the completed triples in the format [[\"sub1\", \"pred1\", \"obj1\"], [\"sub2\", \"pred2\", \"obj2\"], ...].\n",
    "                Return nothing but the array without explanation.'''\n",
    "        def answerConversion(answer):\n",
    "            result = loads(answer)\n",
    "            assert isinstance(result, list)\n",
    "            assert all(isinstance(triple, list) for triple in result)\n",
    "            assert all(len(triple) == 3 for triple in result)\n",
    "            assert all(isinstance(term, str) for triple in result for term in triple)\n",
    "            return result\n",
    "        tripleSelection, success = tryRecieveAnswer(query, answerConversion = answerConversion)\n",
    "        assert success\n",
    "        # Select the triple that is most likely to answer the question\n",
    "        numberedTriplesString = \"\\n\".join([f\"{i+1}: [\" + \", \".join(triple) + \"]\" for i, triple in enumerate(tripleSelection)])\n",
    "        query = f'''Select the triple that is most likely to answer the question \"{question}\".\n",
    "                {numberedTriplesString}\n",
    "                Return nothing but the number of the triple.'''\n",
    "        def answerConversion(answer):\n",
    "            ret = int(answer)\n",
    "            assert 1 <= ret <= len(tripleSelection)\n",
    "            return ret\n",
    "        tripleIndex, success = tryRecieveAnswer(query, answerConversion = answerConversion)\n",
    "        assert success\n",
    "        self.currentTriple = tripleSelection[tripleIndex - 1]\n",
    "        # Check if the triple answers the question\n",
    "        query = f'''Does the triple {self.getCurrentTripleString()} answer the question \"{question}\"?\n",
    "                Return Y or N.'''\n",
    "        def answerConversion(answer):\n",
    "            answer = answer.upper()\n",
    "            assert answer in [\"Y\", \"N\"]\n",
    "            return answer\n",
    "        answer, success = tryRecieveAnswer(query, answerConversion = answerConversion)\n",
    "        assert success\n",
    "        return answer == \"Y\"\n"
   ]
  },
  {
   "cell_type": "code",
   "execution_count": 25,
   "metadata": {},
   "outputs": [
    {
     "name": "stdout",
     "output_type": "stream",
     "text": [
      "What do particle accelerators produce?\n",
      "['Particle accelerators', 'produce', 'High-energy particles']\n"
     ]
    }
   ],
   "source": [
    "question, answer = findQuestionWithSemanticTripleAnswer(\"Particle accelerators\")\n",
    "print(question)\n",
    "print(answer)"
   ]
  },
  {
   "cell_type": "code",
   "execution_count": 11,
   "metadata": {},
   "outputs": [],
   "source": [
    "tn = TripleNavigator([\"Star\", \"emits\", \"Light\"], \"Physics\")"
   ]
  },
  {
   "cell_type": "code",
   "execution_count": 33,
   "metadata": {},
   "outputs": [
    {
     "name": "stdout",
     "output_type": "stream",
     "text": [
      "['Particle Accelerators', 'are used in', 'Cancer Treatment']\n",
      "Applications of Particle Accelerators\n",
      "['Particle Accelerators', 'generate', 'High-Energy Particles']\n",
      "High-Energy Physics\n",
      "Found answer!\n"
     ]
    }
   ],
   "source": [
    "for i in range(10):\n",
    "    finished = tn.goOneStepTowartsQuestionAnswer(question)\n",
    "    print(tn.currentTriple)\n",
    "    print(tn.topicNavigator.currentTopic)\n",
    "    if finished:\n",
    "        print(\"Found answer!\")\n",
    "        break"
   ]
  }
 ],
 "metadata": {
  "kernelspec": {
   "display_name": "venv",
   "language": "python",
   "name": "python3"
  },
  "language_info": {
   "codemirror_mode": {
    "name": "ipython",
    "version": 3
   },
   "file_extension": ".py",
   "mimetype": "text/x-python",
   "name": "python",
   "nbconvert_exporter": "python",
   "pygments_lexer": "ipython3",
   "version": "3.11.2"
  }
 },
 "nbformat": 4,
 "nbformat_minor": 2
}
