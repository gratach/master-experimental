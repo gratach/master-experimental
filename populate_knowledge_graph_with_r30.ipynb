{
 "cells": [
  {
   "cell_type": "code",
   "execution_count": 1,
   "metadata": {},
   "outputs": [],
   "source": [
    "from pathlib import Path\n",
    "r30Path = Path(\"../master-database-files/master-thesis/r30-evaluation/referenced_papers/parameters.yaml\")\n",
    "ontologyTargetPath = Path(\"../master-database-files/master-experimental/populate_knowledge_graph_with_r30/ontology.ttl\")\n",
    "ontologyTargetPath.parent.mkdir(parents=True, exist_ok=True)\n",
    "ontologySourcePath = Path(\"mlPhysOnto.ttl\")"
   ]
  },
  {
   "cell_type": "code",
   "execution_count": 2,
   "metadata": {},
   "outputs": [],
   "source": [
    "# Load the r30 yaml file\n",
    "import yaml\n",
    "r30Values = yaml.safe_load(r30Path.read_text()) "
   ]
  },
  {
   "cell_type": "code",
   "execution_count": 3,
   "metadata": {},
   "outputs": [],
   "source": [
    "from rdflib import Graph, Namespace, Literal, URIRef"
   ]
  },
  {
   "cell_type": "code",
   "execution_count": 35,
   "metadata": {},
   "outputs": [],
   "source": [
    "graph = Graph()\n",
    "graph.parse(str(ontologySourcePath), format=\"turtle\")\n",
    "r30ns = Namespace(\"http://quantsimulant.de/rdf/r30#\")\n",
    "mlpns = Namespace(\"http://quantsimulant.de/owl/mlPhysOnto#\")\n",
    "graph.bind(\"r30\", r30ns)"
   ]
  },
  {
   "cell_type": "code",
   "execution_count": 36,
   "metadata": {},
   "outputs": [],
   "source": [
    "def getPaperURI(paperString):\n",
    "    return paperString.split(\" \")[1]\n",
    "def getPaperIdentifier(paperURI):\n",
    "    return paperURI.split(\"/\")[-1].replace(\".\", \"-\")\n",
    "def addNode(name, type):\n",
    "    graph.add((r30ns[name], URIRef(\"http://www.w3.org/1999/02/22-rdf-syntax-ns#type\"), mlpns[type]))\n",
    "    graph.add((r30ns[name], URIRef(\"http://www.w3.org/1999/02/22-rdf-syntax-ns#type\"), URIRef(\"http://www.w3.org/2002/07/owl#NamedIndividual\")))\n",
    "def addObjectProperty(node1, relation, node2):\n",
    "    graph.add((r30ns[node1], mlpns[relation], r30ns[node2]))\n",
    "def addDataProperty(node, relation, value):\n",
    "    graph.add((r30ns[node], mlpns[relation], Literal(value)))"
   ]
  },
  {
   "cell_type": "code",
   "execution_count": 37,
   "metadata": {},
   "outputs": [],
   "source": [
    "paperSet = set()\n",
    "\n",
    "addNode(\"PhysicsBasedTopQuarkClassification\", \"PhysicsBasedSignalValueClassificationFunction\")\n",
    "\n",
    "for modelName, content in r30Values.items():\n",
    "    for property, values in content.items():\n",
    "        for value, papers in values.items():\n",
    "            for paper in papers:\n",
    "                paperSet.add(getPaperURI(paper))\n",
    "for paper in paperSet:\n",
    "    addNode(\"paper-\" + getPaperIdentifier(paper), \"Paper\")\n",
    "    addDataProperty(\"paper-\" + getPaperIdentifier(paper), \"hasPaperURI\", paper)\n",
    "\n",
    "\n",
    "for modelName, content in r30Values.items():\n",
    "    modelName = modelName.replace(\".\", \"-\")\n",
    "    tmpf = \"TrainedMLMParameterFormat-\" + modelName\n",
    "    tmp = \"TrainedMLMParameters-\" + modelName\n",
    "    tsvcm = \"TrainedSignalValueClassificationMLM-\" + modelName\n",
    "    svca = \"SignalValueClassificationApproximation-\" + modelName\n",
    "    r30e = \"R30Evaluation-\" + modelName\n",
    "    d = \"Data-\" + modelName\n",
    "    n = \"Name-\" + modelName\n",
    "    addNode(tmpf, \"TrainedMLMParameterFormat\")\n",
    "    addNode(tmp, \"TrainedMLMParameters\")\n",
    "    addNode(tsvcm, \"TrainedSignalValueClassificationMLM\")\n",
    "    addNode(svca, \"SignalValueClassificationApproximation\")\n",
    "    addNode(r30e, \"R30Evaluation\")\n",
    "    addNode(d, \"Data\")\n",
    "    addNode(n, \"Name\")\n",
    "    addDataProperty(n, \"hasValue\", modelName)\n",
    "    addObjectProperty(tmp, \"hasTrainedMLMParametersFormat\", tmpf)\n",
    "    addObjectProperty(tsvcm, \"hasTrainedMLMParameters\", tmp)\n",
    "    addObjectProperty(svca, \"functionUsedForSignalValueClassification\", tsvcm)\n",
    "    addObjectProperty(r30e, \"r30EvaluationOf\", svca)\n",
    "    addObjectProperty(r30e, \"datasetUsedForR30Evaluation\", d)\n",
    "    addObjectProperty(svca, \"targetSignalValueClassificationFunction\", \"PhysicsBasedTopQuarkClassification\")\n",
    "    addObjectProperty(tsvcm, \"hasName\", n)\n",
    "    r30 = content.get(\"r30\", {})\n",
    "    param = content.get(\"param\", {})\n",
    "    for value, papers in r30.items():\n",
    "        r30v = \"R30Value-\" + modelName + \"-\" + str(value).replace(\".\", \"-\")\n",
    "        addNode(r30v, \"R30Value\")\n",
    "        addObjectProperty(r30e, \"hasR30Value\", r30v)\n",
    "        addDataProperty(r30v, \"hasValue\", value)\n",
    "        for paper in papers:\n",
    "            addObjectProperty(r30v, \"mentionedInPaper\", \"paper-\" + getPaperIdentifier(getPaperURI(paper)))\n",
    "            addObjectProperty(n, \"mentionedInPaper\", \"paper-\" + getPaperIdentifier(getPaperURI(paper)))\n",
    "    for value, papers in param.items():\n",
    "        paramv = \"Parameter-\" + modelName + \"-\" + str(value).replace(\".\", \"-\")\n",
    "        addNode(paramv, \"ParameterCount\")\n",
    "        addObjectProperty(tmpf, \"hasParameterCount\", paramv)\n",
    "        addDataProperty(paramv, \"hasValue\", value)\n",
    "        for paper in papers:\n",
    "            addObjectProperty(paramv, \"mentionedInPaper\", \"paper-\" + getPaperIdentifier(getPaperURI(paper)))\n",
    "            addObjectProperty(n, \"mentionedInPaper\", \"paper-\" + getPaperIdentifier(getPaperURI(paper)))"
   ]
  },
  {
   "cell_type": "code",
   "execution_count": 38,
   "metadata": {},
   "outputs": [
    {
     "data": {
      "text/plain": [
       "<Graph identifier=N1f0e69fed0be473daa40f678f7ee7d91 (<class 'rdflib.graph.Graph'>)>"
      ]
     },
     "execution_count": 38,
     "metadata": {},
     "output_type": "execute_result"
    }
   ],
   "source": [
    "# Save the graph\n",
    "graph.serialize(str(ontologyTargetPath), format=\"turtle\")"
   ]
  }
 ],
 "metadata": {
  "kernelspec": {
   "display_name": "venv",
   "language": "python",
   "name": "python3"
  },
  "language_info": {
   "codemirror_mode": {
    "name": "ipython",
    "version": 3
   },
   "file_extension": ".py",
   "mimetype": "text/x-python",
   "name": "python",
   "nbconvert_exporter": "python",
   "pygments_lexer": "ipython3",
   "version": "3.11.2"
  }
 },
 "nbformat": 4,
 "nbformat_minor": 2
}
