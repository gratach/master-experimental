{
 "cells": [
  {
   "cell_type": "code",
   "execution_count": 8,
   "metadata": {},
   "outputs": [],
   "source": [
    "physOnto = [\n",
    "    # Experiment\n",
    "        {\n",
    "            \"type\": \"class\",\n",
    "            \"name\": \"ExperimentSetup\",\n",
    "        },\n",
    "\n",
    "        {\n",
    "            \"type\": \"class\",\n",
    "            \"name\": \"ExperimentalDevice\",\n",
    "        },\n",
    "        {\n",
    "            \"type\": \"property\",\n",
    "            \"name\": \"ExperimentalDeviceHasSetup\",\n",
    "            \"domain\": \"ExperimentalDevice\",\n",
    "            \"range\": \"ExperimentSetup\",\n",
    "        },\n",
    "\n",
    "        {\n",
    "            \"type\": \"class\",\n",
    "            \"name\": \"ConductedExperiment\",\n",
    "        },\n",
    "        {\n",
    "            \"type\": \"property\",\n",
    "            \"name\": \"experimentConductedWithDevice\",\n",
    "            \"domain\": \"ConductedExperiment\",\n",
    "            \"range\": \"ExperimentalDevice\",\n",
    "        },\n",
    "        {\n",
    "            \"type\": \"class\",\n",
    "            \"name\": \"DateTime\"\n",
    "        },\n",
    "        {\n",
    "            \"type\": \"property\",\n",
    "            \"name\": \"experimentConductedAtTime\",\n",
    "            \"domain\": \"ConductedExperiment\",\n",
    "            \"range\": \"DateTime\",\n",
    "        },\n",
    "    # Data\n",
    "        {\n",
    "            \"type\": \"class\",\n",
    "            \"name\": \"DataFormat\",\n",
    "        },\n",
    "        {\n",
    "            \"type\": \"property\",\n",
    "            \"name\": \"experimentHasDataFormat\",\n",
    "            \"domain\": \"ConductedExperiment\",\n",
    "            \"range\": \"DataFormat\",\n",
    "        },\n",
    "        {\n",
    "            \"type\": \"property\",\n",
    "            \"name\": \"experimentOutputHasDataFormat\",                \n",
    "            \"domain\": \"ExperimentSetup\",\n",
    "            \"range\": \"DataFormat\",\n",
    "        },\n",
    "        {\n",
    "            \"type\": \"property\",\n",
    "            \"name\": \"experimentInputHasDataFormat\",                \n",
    "            \"domain\": \"ExperimentSetup\",\n",
    "            \"range\": \"DataFormat\",\n",
    "        },\n",
    "\n",
    "        {\n",
    "            \"type\": \"class\",\n",
    "            \"name\": \"Data\", \n",
    "        },\n",
    "        {\n",
    "            \"type\": \"property\",\n",
    "            \"name\": \"dataHasFormat\",\n",
    "            \"domain\": \"Data\",\n",
    "            \"range\": \"DataFormat\",\n",
    "        },\n",
    "        {\n",
    "            \"type\": \"property\",\n",
    "            \"name\": \"experimentOutputHasData\",                \n",
    "            \"domain\": \"ConductedExperiment\",\n",
    "            \"range\": \"Data\",\n",
    "        },\n",
    "        {\n",
    "            \"type\": \"property\",\n",
    "            \"name\": \"experimentInputHasData\",                \n",
    "            \"domain\": \"ConductedExperiment\",\n",
    "            \"range\": \"Data\",\n",
    "        }\n",
    "    # Model\n",
    "        {\n",
    "            \"type\": \"class\",\n",
    "            \"name\": \"PhysicalModel\",\n",
    "        },\n",
    "        {\n",
    "            \"type\": \"class\",\n",
    "            \"name\": \"SimulatedExperiment\",\n",
    "        }\n",
    "]"
   ]
  },
  {
   "cell_type": "code",
   "execution_count": 11,
   "metadata": {},
   "outputs": [],
   "source": [
    "from owlready2 import *\n",
    "def convertOntoJSONIntoOwlready2(ontojson, iri):\n",
    "    onto = get_ontology(iri)\n",
    "    with onto:\n",
    "        for obj in ontojson:\n",
    "            if obj[\"type\"] == \"class\":\n",
    "                NewClass = types.new_class(obj[\"name\"], (Thing,))\n",
    "            elif obj[\"type\"] == \"property\":\n",
    "                NewProperty = types.new_class(obj[\"name\"], (ObjectProperty,))\n",
    "                NewProperty.domain = [getattr(onto, obj[\"domain\"])]\n",
    "                NewProperty.range = [getattr(onto, obj[\"range\"])]\n",
    "    return onto"
   ]
  },
  {
   "cell_type": "code",
   "execution_count": 10,
   "metadata": {},
   "outputs": [
    {
     "ename": "NameError",
     "evalue": "name 'physOnto' is not defined",
     "output_type": "error",
     "traceback": [
      "\u001b[0;31m---------------------------------------------------------------------------\u001b[0m",
      "\u001b[0;31mNameError\u001b[0m                                 Traceback (most recent call last)",
      "Cell \u001b[0;32mIn[10], line 1\u001b[0m\n\u001b[0;32m----> 1\u001b[0m onto \u001b[38;5;241m=\u001b[39m convertOntoJSONIntoOwlready2(\u001b[43mphysOnto\u001b[49m, \u001b[38;5;124m\"\u001b[39m\u001b[38;5;124mhttp://quantsimulant.de/physOnto.owl\u001b[39m\u001b[38;5;124m\"\u001b[39m)\n",
      "\u001b[0;31mNameError\u001b[0m: name 'physOnto' is not defined"
     ]
    }
   ],
   "source": [
    "onto = convertOntoJSONIntoOwlready2(physOnto, \"http://quantsimulant.de/physOnto.owl\")"
   ]
  },
  {
   "cell_type": "code",
   "execution_count": 12,
   "metadata": {},
   "outputs": [],
   "source": [
    "from pathlib import Path\n",
    "datapath = Path(\"../master-database-files/master-experimental/physics_ontology/\")\n",
    "datapath.mkdir(exist_ok=True, parents=True)"
   ]
  },
  {
   "cell_type": "code",
   "execution_count": 13,
   "metadata": {},
   "outputs": [
    {
     "ename": "NameError",
     "evalue": "name 'onto' is not defined",
     "output_type": "error",
     "traceback": [
      "\u001b[0;31m---------------------------------------------------------------------------\u001b[0m",
      "\u001b[0;31mNameError\u001b[0m                                 Traceback (most recent call last)",
      "Cell \u001b[0;32mIn[13], line 1\u001b[0m\n\u001b[0;32m----> 1\u001b[0m \u001b[43monto\u001b[49m\u001b[38;5;241m.\u001b[39msave(file \u001b[38;5;241m=\u001b[39m \u001b[38;5;28mstr\u001b[39m(datapath \u001b[38;5;241m/\u001b[39m \u001b[38;5;124m\"\u001b[39m\u001b[38;5;124mphysOnto.owl\u001b[39m\u001b[38;5;124m\"\u001b[39m), \u001b[38;5;28mformat\u001b[39m \u001b[38;5;241m=\u001b[39m \u001b[38;5;124m\"\u001b[39m\u001b[38;5;124mrdfxml\u001b[39m\u001b[38;5;124m\"\u001b[39m)\n",
      "\u001b[0;31mNameError\u001b[0m: name 'onto' is not defined"
     ]
    }
   ],
   "source": [
    "onto.save(file = str(datapath / \"physOnto.owl\"), format = \"rdfxml\")"
   ]
  },
  {
   "cell_type": "code",
   "execution_count": 14,
   "metadata": {},
   "outputs": [
    {
     "name": "stderr",
     "output_type": "stream",
     "text": [
      "* Owlready2 * WARNING: ObjectProperty http://purl.org/dc/terms/contributor belongs to more than one entity types: [owl.AnnotationProperty, owl.ObjectProperty, 1.1.contributor]; I'm trying to fix it...\n",
      "* Owlready2 * WARNING: ObjectProperty http://purl.org/dc/terms/creator belongs to more than one entity types: [owl.AnnotationProperty, owl.ObjectProperty, 1.1.creator, terms.contributor]; I'm trying to fix it...\n",
      "* Owlready2 * WARNING: ObjectProperty http://purl.org/dc/terms/medium belongs to more than one entity types: [owl.AnnotationProperty, owl.ObjectProperty, 1.1.format, terms.format]; I'm trying to fix it...\n",
      "* Owlready2 * WARNING: ObjectProperty http://purl.org/dc/terms/publisher belongs to more than one entity types: [owl.AnnotationProperty, owl.ObjectProperty, 1.1.publisher]; I'm trying to fix it...\n",
      "* Owlready2 * WARNING: ObjectProperty http://purl.org/dc/terms/type belongs to more than one entity types: [owl.AnnotationProperty, owl.ObjectProperty, 1.1.type]; I'm trying to fix it...\n",
      "* Owlready2 * WARNING: DataProperty http://purl.org/dc/terms/abstract belongs to more than one entity types: [owl.AnnotationProperty, owl.DatatypeProperty, 1.1.description, terms.description]; I'm trying to fix it...\n",
      "* Owlready2 * WARNING: DataProperty http://purl.org/dc/terms/available belongs to more than one entity types: [owl.AnnotationProperty, owl.DatatypeProperty, 1.1.date, terms.date]; I'm trying to fix it...\n",
      "* Owlready2 * WARNING: DataProperty http://purl.org/dc/terms/created belongs to more than one entity types: [owl.AnnotationProperty, owl.DatatypeProperty, 1.1.date, terms.date]; I'm trying to fix it...\n",
      "* Owlready2 * WARNING: DataProperty http://purl.org/dc/terms/dateAccepted belongs to more than one entity types: [owl.AnnotationProperty, owl.DatatypeProperty, 1.1.date, terms.date]; I'm trying to fix it...\n",
      "* Owlready2 * WARNING: DataProperty http://purl.org/dc/terms/dateCopyrighted belongs to more than one entity types: [owl.AnnotationProperty, owl.DatatypeProperty, 1.1.date, terms.date]; I'm trying to fix it...\n",
      "* Owlready2 * WARNING: DataProperty http://purl.org/dc/terms/dateSubmitted belongs to more than one entity types: [owl.AnnotationProperty, owl.DatatypeProperty, 1.1.date, terms.date]; I'm trying to fix it...\n",
      "* Owlready2 * WARNING: DataProperty http://purl.org/dc/terms/issued belongs to more than one entity types: [owl.AnnotationProperty, owl.DatatypeProperty, 1.1.date, terms.date]; I'm trying to fix it...\n",
      "* Owlready2 * WARNING: DataProperty http://purl.org/dc/terms/modified belongs to more than one entity types: [owl.AnnotationProperty, owl.DatatypeProperty, 1.1.date, terms.date]; I'm trying to fix it...\n",
      "* Owlready2 * WARNING: DataProperty http://purl.org/dc/terms/title belongs to more than one entity types: [owl.AnnotationProperty, owl.DatatypeProperty, 1.1.title]; I'm trying to fix it...\n",
      "* Owlready2 * WARNING: DataProperty http://purl.org/dc/terms/valid belongs to more than one entity types: [owl.AnnotationProperty, owl.DatatypeProperty, 1.1.date, terms.date]; I'm trying to fix it...\n"
     ]
    }
   ],
   "source": [
    "physci  = get_ontology(\"file://\" + str(datapath / \"physci.nt\")).load()"
   ]
  },
  {
   "cell_type": "code",
   "execution_count": 13,
   "metadata": {},
   "outputs": [],
   "source": [
    "cls = [*physci.classes()]"
   ]
  },
  {
   "cell_type": "code",
   "execution_count": 27,
   "metadata": {},
   "outputs": [],
   "source": [
    "def returnClassInformation(cls):\n",
    "    clsInfo = {}\n",
    "    clsInfo[\"name\"] = cls.name\n",
    "    clsInfo[\"iri\"] = cls.iri\n",
    "    clsInfo[\"description\"] = cls.comment\n",
    "    clsInfo[\"comment\"] = cls.comment.en\n",
    "    return clsInfo"
   ]
  },
  {
   "cell_type": "code",
   "execution_count": 28,
   "metadata": {},
   "outputs": [
    {
     "data": {
      "text/plain": [
       "{'name': 'Theorem',\n",
       " 'iri': 'https://w3id.org/skgo/physci#Theorem',\n",
       " 'comment': ['The term is used especially in mathematics where the axioms are those of mathematical logic and the systems in question.']}"
      ]
     },
     "execution_count": 28,
     "metadata": {},
     "output_type": "execute_result"
    }
   ],
   "source": [
    "returnClassInformation(cls[36])"
   ]
  },
  {
   "cell_type": "code",
   "execution_count": 15,
   "metadata": {},
   "outputs": [],
   "source": [
    "from rdflib import Graph, URIRef, Literal, Namespace, term"
   ]
  },
  {
   "cell_type": "code",
   "execution_count": 16,
   "metadata": {},
   "outputs": [
    {
     "name": "stderr",
     "output_type": "stream",
     "text": [
      "Failed to convert Literal lexical form to value. Datatype=http://www.w3.org/2001/XMLSchema#date, Converter=<function parse_date at 0x7f96866b4d60>\n",
      "Traceback (most recent call last):\n",
      "  File \"/home/gratach/Dokumente/vscode/venv/lib/python3.11/site-packages/rdflib/term.py\", line 2119, in _castLexicalToPython\n",
      "    return conv_func(lexical)  # type: ignore[arg-type]\n",
      "           ^^^^^^^^^^^^^^^^^^\n",
      "  File \"/home/gratach/Dokumente/vscode/venv/lib/python3.11/site-packages/isodate/isodates.py\", line 203, in parse_date\n",
      "    raise ISO8601Error('Unrecognised ISO 8601 date format: %r' % datestring)\n",
      "isodate.isoerror.ISO8601Error: Unrecognised ISO 8601 date format: '2.0'\n",
      "Failed to convert Literal lexical form to value. Datatype=http://www.w3.org/2001/XMLSchema#date, Converter=<function parse_date at 0x7f96866b4d60>\n",
      "Traceback (most recent call last):\n",
      "  File \"/home/gratach/Dokumente/vscode/venv/lib/python3.11/site-packages/rdflib/term.py\", line 2119, in _castLexicalToPython\n",
      "    return conv_func(lexical)  # type: ignore[arg-type]\n",
      "           ^^^^^^^^^^^^^^^^^^\n",
      "  File \"/home/gratach/Dokumente/vscode/venv/lib/python3.11/site-packages/isodate/isodates.py\", line 203, in parse_date\n",
      "    raise ISO8601Error('Unrecognised ISO 8601 date format: %r' % datestring)\n",
      "isodate.isoerror.ISO8601Error: Unrecognised ISO 8601 date format: 'DOI: 10.1103/PhysRevLett.116.131102'\n"
     ]
    },
    {
     "name": "stdout",
     "output_type": "stream",
     "text": [
      "Something that is unstated but considered to be fact for the purpose of making a decision or solving a problem in a research.\n",
      "An instance of a particular situation of researchwork; an example of something occurring.\n",
      "In physics, defining equations are equations that define new quantities in terms of base quantities\n",
      "Studies that are concerned with the observation of physical phenomena and experiments.\n",
      "Mathematical expression is a finite combination of symbols that is well-formed according to rules that depend on the context.\n",
      "A function was originally the idealization of how a varying quantity depends on another quantity.\n",
      "a system or standard of measurement.\n",
      "Observational data is a valuable form of research that can give researchers information that goes beyond numbers and statistics.\n",
      "A room or building housing an astronomical telescope or other scientific equipment for the study of natural phenomena.\n",
      "The term observer  used as detector which detect formations also as a special relativity in theoretical\n",
      "Research work is systematic activity that is done by a Person to acquire knowledge.\n",
      "A scientific argument is defined as people disagreeing about scientific explanations (claims) using empirical data (evidence) to justify their side of the argument.\n",
      "An explanation for patterns in nature that is supported by scientific evidence and verified multiple times by various groups of researchers\n",
      "The process of the scientific method involves making conjectures (hypotheses), deriving predictions from them as logical consequences,\n",
      "An inquiry starting from given conditions to investigate or demonstrate a fact, result, or law.\n",
      "An attribute, quality, or characteristic of theory,model etc .It is (obsolete) to make a property of; to appropriate.\n",
      "Means of solving a problem or dealing with a difficult situation\n",
      "A theorem is a result that can be proven to be true from a set of axioms.\n",
      "Theoretical physics is a branch of physics that employs mathematical models and abstractions of physical objects and systems to rationalize, explain and predict natural phenomena.\n",
      "Publication is related to researchwork Class.\n",
      "measurement use specific method.\n",
      "Give reasons or cite evidence in support of an idea.\n",
      "Establish the truth or correctness of (physical law).\n",
      "Research work considers a case when making assumption, calculations.\n",
      "Motion contains with specific properties that can be explianed by expressions.\n",
      "Discover or identify the presence or existence of formation\n",
      "Observer identify the existence of wave.\n",
      "Scientific Method Initiate or bring about theorem etc.\n",
      "Research work cause to extend argument\n",
      "To define formations that are caused to form by cases such as collisions and etc.\n",
      "Create or prepare methodically a theory.\n",
      "The property specifies a thing that is accepted as true or as certain to happen, without proof.\n",
      "Have an abstract idea of a Theory.\n",
      "A statement that the values of two mathematical expressions are equal .\n",
      "To explain the scientific concepts with mathematical expression is a finite combination of symbols that is well-formed according to rules that depend on the context.\n",
      "Equation has a function or expression relates to scientific functions.\n",
      "Formation has the intersection on the celestial sphere of a plane perpendicular to a plumb line.\n",
      "Phenomena has a magnetic field.\n",
      "Expressions or equations possess a system or standard of measurement.\n",
      "Motion is the change in position of an particle.\n",
      "Research work has an active acquisition of information from a primary source.\n",
      "To have a information, knowledge about the observed items.\n",
      "to have a observatory or telescope.\n",
      "Observation has an detector, instrument to observe the universe.\n",
      "Any type of particle as subatomic constituents of the physical world that interact with each other.\n",
      "Theory  or Obervation has a fact or situation that is observed to exist or happen, especially one whose cause or explanation is in question.\n",
      "A general scientific theorem or law that has numerous special applications across a wide field.\n",
      "Research work has  an inquiry starting from given conditions to investigate or demonstrate a fact, result, or law.\n",
      "Publication is about a field of study.\n",
      "Solution proposed with a treat (method) is used in a particular way.\n",
      "Research work has a simplified description, especially a mathematical one, of a system or process, to assist calculations and predictions.\n",
      "A characteristic or trait that you can use to describe matter by observation, measurement or combination.\n",
      "Scietific model has the production of a computer model of something, especially for the purpose of study.\n",
      "Formation has  a body or process by which energy or a particular component enters a system.\n",
      "A concept used to describe mathematically the distribution of wave energy .\n",
      "The arrangement of  and relations between the parts or elements of formation or something complex.\n",
      "Research work has an explanation for patterns in nature that is supported by scientific evidence .\n",
      "Bring a subject, method, theory etc. to the attention of (someone) for the first time.\n",
      "Made into a specific shape or form.\n",
      "A problem or case determines the correct answer to an equation or etc.\n",
      "Method uses or talks about gravitation.\n",
      "Scientific Model depends on measurement with full trust or confidence.\n",
      "A rough or unfinished drawing or painting, often made to assist in making a more finished picture.\n",
      "Find an answer to, explanation for, or means of effectively dealing with (a problem or mystery).\n",
      "Model used methods to explain the phenomena in the universe.\n",
      "Solution make use of the theories to support the answer of research work.\n",
      "Produce or generate Equation.\n",
      "[{'iri': 'http://ecoinformatics.org/oboe/oboe.1.2/oboe-characteristics.owl#Amount', 'name': 'Amount'}, {'iri': 'http://ecoinformatics.org/oboe/oboe.1.2/oboe-characteristics.owl#Energy', 'name': 'Energy'}, {'iri': 'http://ecoinformatics.org/oboe/oboe.1.2/oboe-characteristics.owl#Force', 'name': 'Force'}, {'iri': 'http://ecoinformatics.org/oboe/oboe.1.2/oboe-characteristics.owl#Mass', 'name': 'Mass'}, {'iri': 'http://ecoinformatics.org/oboe/oboe.1.2/oboe-characteristics.owl#MassDensity', 'name': 'MassDensity'}, {'iri': 'http://ecoinformatics.org/oboe/oboe.1.2/oboe-characteristics.owl#Radiance', 'name': 'Radiance', 'comment': 'Radiance and spectral radiance are radiometric measures that describe the amount of light that passes through or is emitted from a particular area, and falls within a given solid angle in a specified direction. They are used to characterize both emission from diffuse sources and reflection from diffuse surfaces. The SI unit of radiance is watts per steradian per square metre (W·sr−1·m−2).'}, {'iri': 'http://ecoinformatics.org/oboe/oboe.1.2/oboe-characteristics.owl#Speed', 'name': 'Speed'}, {'iri': 'http://ecoinformatics.org/oboe/oboe.1.2/oboe-characteristics.owl#Volume', 'name': 'Volume'}, {'iri': 'http://ecoinformatics.org/oboe/oboe.1.2/oboe-characteristics.owl#WaveNumber', 'name': 'WaveNumber'}, {'iri': 'http://ecoinformatics.org/oboe/oboe.1.2/oboe-core.owl#CategoricalStandard', 'name': 'CategoricalStandard'}, {'iri': 'http://ecoinformatics.org/oboe/oboe.1.2/oboe-core.owl#Characteristic', 'name': 'Characteristic'}, {'iri': 'http://ecoinformatics.org/oboe/oboe.1.2/oboe-core.owl#CharacteristicQualifier', 'name': 'CharacteristicQualifier'}, {'iri': 'http://ecoinformatics.org/oboe/oboe.1.2/oboe-core.owl#Entity', 'name': 'Entity'}, {'iri': 'http://ecoinformatics.org/oboe/oboe.1.2/oboe-core.owl#IdentifyingCharacteristic', 'name': 'IdentifyingCharacteristic'}, {'iri': 'http://ecoinformatics.org/oboe/oboe.1.2/oboe-core.owl#Index', 'name': 'Index'}, {'iri': 'http://ecoinformatics.org/oboe/oboe.1.2/oboe-core.owl#MeasuredCharacteristic', 'name': 'MeasuredCharacteristic', 'comment': 'A measured characteristic of an entity is one that is measurable within the physical world. A measured characteristic includes primary and derived physical dimensions (e.g., length, mass, area, density). The measured value assigned to a measured characteristic may be a quantity (a numerical value) or a quality (a category), including both nominal and ordinal categories.'}, {'iri': 'http://ecoinformatics.org/oboe/oboe.1.2/oboe-core.owl#MeasuredValue', 'name': 'MeasuredValue'}, {'iri': 'http://ecoinformatics.org/oboe/oboe.1.2/oboe-core.owl#Measurement', 'name': 'Measurement', 'comment': 'A measurement is an assertion that a characteristic of an entity had a particular value with respect to an observation event.  A measurement is comprised of a characteristic, a value, a measurement standard, and a protocol. Measurements can also have precision as well as a description of the methods used. Measurements can encapsulate characteristics that were recorded, but not necessarily measured in a physical sense.  For example, the name of a location and a taxon can be captured through measurements.'}, {'iri': 'http://ecoinformatics.org/oboe/oboe.1.2/oboe-core.owl#MeasurementType', 'name': 'MeasurementType'}, {'iri': 'http://ecoinformatics.org/oboe/oboe.1.2/oboe-core.owl#ObservationCollection', 'name': 'ObservationCollection', 'comment': 'An observation collection is a container for a set of observations.'}, {'iri': 'http://ecoinformatics.org/oboe/oboe.1.2/oboe-core.owl#Protocol', 'name': 'Protocol'}, {'iri': 'http://ecoinformatics.org/oboe/oboe.1.2/oboe-core.owl#Standard', 'name': 'Standard'}, {'iri': 'http://ecoinformatics.org/oboe/oboe.1.2/oboe-core.owl#Unit', 'name': 'Unit', 'comment': 'A unit is a standard quantification for physical measurements. A unit is either a base unit, a composite unit, or a derived unit.'}, {'iri': 'http://ns.nature.com/terms/Agent', 'name': 'http://ns.nature.com/terms/Agent'}, {'iri': 'http://ns.nature.com/terms/Article', 'name': 'http://ns.nature.com/terms/Article'}, {'iri': 'http://ns.nature.com/terms/Blog', 'name': 'http://ns.nature.com/terms/Blog'}, {'iri': 'http://ns.nature.com/terms/Collection', 'name': 'http://ns.nature.com/terms/Collection'}, {'iri': 'http://ns.nature.com/terms/Component', 'name': 'http://ns.nature.com/terms/Component'}, {'iri': 'http://ns.nature.com/terms/Concept', 'name': 'http://ns.nature.com/terms/Concept'}, {'iri': 'http://ns.nature.com/terms/Dataset', 'name': 'http://ns.nature.com/terms/Dataset'}, {'iri': 'http://ns.nature.com/terms/Document', 'name': 'http://ns.nature.com/terms/Document'}, {'iri': 'http://ns.nature.com/terms/Event', 'name': 'http://ns.nature.com/terms/Event'}, {'iri': 'http://ns.nature.com/terms/Issue', 'name': 'http://ns.nature.com/terms/Issue'}, {'iri': 'http://ns.nature.com/terms/Journal', 'name': 'http://ns.nature.com/terms/Journal'}, {'iri': 'http://ns.nature.com/terms/Organization', 'name': 'http://ns.nature.com/terms/Organization'}, {'iri': 'http://ns.nature.com/terms/Person', 'name': 'http://ns.nature.com/terms/Person'}, {'iri': 'http://ns.nature.com/terms/Publication', 'name': 'http://ns.nature.com/terms/Publication'}, {'iri': 'http://ns.nature.com/terms/PublicationEvent', 'name': 'http://ns.nature.com/terms/PublicationEvent'}, {'iri': 'http://ns.nature.com/terms/PublishEvent', 'name': 'http://ns.nature.com/terms/PublishEvent'}, {'iri': 'http://ns.nature.com/terms/Publisher', 'name': 'http://ns.nature.com/terms/Publisher'}, {'iri': 'http://ns.nature.com/terms/ReviewEvent', 'name': 'http://ns.nature.com/terms/ReviewEvent'}, {'iri': 'http://ns.nature.com/terms/Serial', 'name': 'http://ns.nature.com/terms/Serial'}, {'iri': 'http://ns.nature.com/terms/Thing', 'name': 'http://ns.nature.com/terms/Thing'}, {'iri': 'http://purl.org/dc/terms/Agent', 'name': 'http://purl.org/dc/terms/Agent', 'comment': 'A resource that acts or has the power to act.'}, {'iri': 'http://purl.org/dc/terms/AgentClass', 'name': 'http://purl.org/dc/terms/AgentClass'}, {'iri': 'http://purl.org/dc/terms/BibliographicResource', 'name': 'http://purl.org/dc/terms/BibliographicResource', 'comment': 'A book, article, or other documentary resource.'}, {'iri': 'http://purl.org/dc/terms/PhysicalResource', 'name': 'http://purl.org/dc/terms/PhysicalResource'}, {'iri': 'http://sweetontology.net/matr/Substance', 'name': 'http://sweetontology.net/matr/Substance'}, {'iri': 'http://sweetontology.net/matrParticle/Particle', 'name': 'http://sweetontology.net/matrParticle/Particle'}, {'iri': 'http://sweetontology.net/phen/Phenomena', 'name': 'http://sweetontology.net/phen/Phenomena'}, {'iri': 'http://sweetontology.net/procPhysical/Motion', 'name': 'http://sweetontology.net/procPhysical/Motion'}, {'iri': 'http://sweetontology.net/procPhysical/PhysicalProcess', 'name': 'http://sweetontology.net/procPhysical/PhysicalProcess'}, {'iri': 'http://sweetontology.net/repr/Representation', 'name': 'http://sweetontology.net/repr/Representation'}, {'iri': 'http://sweetontology.net/reprMathSolution/Simulate', 'name': 'http://sweetontology.net/reprMathSolution/Simulate'}, {'iri': 'http://sweetontology.net/reprMathSolution/Simulation', 'name': 'http://sweetontology.net/reprMathSolution/Simulation'}, {'iri': 'http://sweetontology.net/reprSciModel/Model', 'name': 'http://sweetontology.net/reprSciModel/Model'}, {'iri': 'http://sweetontology.net/reprSciModel/ScientificModel', 'name': 'http://sweetontology.net/reprSciModel/ScientificModel'}, {'iri': 'http://www.astro.umd.edu/~eshaya/astro-onto/owl/IVOAO.owl#Wave', 'name': 'Wave'}, {'iri': 'http://www.astro.umd.edu/~eshaya/astro-onto/owl/IVOAO.owl#fieldOfStudy', 'name': 'fieldOfStudy'}, {'iri': 'http://www.astro.umd.edu/~eshaya/astro-onto/owl/IVOAO.owl#formation', 'name': 'formation'}, {'iri': 'http://www.astro.umd.edu/~eshaya/astro-onto/owl/IVOAO.owl#horizon', 'name': 'horizon'}, {'iri': 'http://www.astro.umd.edu/~eshaya/astro-onto/owl/IVOAO.owl#principle', 'name': 'principle'}, {'iri': 'http://www.astro.umd.edu/~eshaya/astro-onto/owl/IVOAO.owl#science', 'name': 'science'}, {'iri': 'http://www.astro.umd.edu/~eshaya/astro-onto/owl/IVOAO.owl#structure', 'name': 'structure'}, {'iri': 'http://www.astro.umd.edu/~eshaya/astro-onto/owl/IVOAO.owl#theory', 'name': 'theory'}, {'iri': 'http://www.astro.umd.edu/~eshaya/astro-onto/owl/astronomy.owl#source', 'name': 'source'}, {'iri': 'http://www.astro.umd.edu/~eshaya/astro-onto/owl/physics.owl#classicalPhysics', 'name': 'classicalPhysics'}, {'iri': 'http://www.astro.umd.edu/~eshaya/astro-onto/owl/physics.owl#collision', 'name': 'collision'}, {'iri': 'http://www.astro.umd.edu/~eshaya/astro-onto/owl/physics.owl#electricField', 'name': 'electricField'}, {'iri': 'http://www.astro.umd.edu/~eshaya/astro-onto/owl/physics.owl#gravitation', 'name': 'gravitation'}, {'iri': 'http://www.astro.umd.edu/~eshaya/astro-onto/owl/physics.owl#highEnergyPhysics', 'name': 'highEnergyPhysics'}, {'iri': 'http://www.astro.umd.edu/~eshaya/astro-onto/owl/physics.owl#interaction', 'name': 'interaction'}, {'iri': 'http://www.astro.umd.edu/~eshaya/astro-onto/owl/physics.owl#magneticField', 'name': 'magneticField'}, {'iri': 'http://www.astro.umd.edu/~eshaya/astro-onto/owl/physics.owl#massDistribution', 'name': 'massDistribution'}, {'iri': 'http://www.astro.umd.edu/~eshaya/astro-onto/owl/physics.owl#matter', 'name': 'matter'}, {'iri': 'http://www.astro.umd.edu/~eshaya/astro-onto/owl/physics.owl#mechanics', 'name': 'mechanics'}, {'iri': 'http://www.astro.umd.edu/~eshaya/astro-onto/owl/physics.owl#physicalLaw', 'name': 'physicalLaw'}, {'iri': 'http://www.astro.umd.edu/~eshaya/astro-onto/owl/physics.owl#physics', 'name': 'physics'}, {'iri': 'http://www.astro.umd.edu/~eshaya/astro-onto/owl/physics.owl#radiation', 'name': 'radiation'}, {'iri': 'http://www.astro.umd.edu/~eshaya/astro-onto/owl/physics.owl#scientificField', 'name': 'scientificField'}, {'iri': 'http://www.astro.umd.edu/~eshaya/astro-onto/owl/physics.owl#spectrum', 'name': 'spectrum'}, {'iri': 'http://www.astro.umd.edu/~eshaya/astro-onto/owl/physics.owl#thermodynamics', 'name': 'thermodynamics'}, {'iri': 'http://www.astro.umd.edu/~eshaya/astro-onto/owl/physics.owl#vacuum', 'name': 'vacuum'}, {'iri': 'http://www.w3.org/2004/02/skos/core#Collection', 'name': 'Collection'}, {'iri': 'http://www.w3.org/2004/02/skos/core#Concept', 'name': 'Concept'}, {'iri': 'http://www.w3.org/2004/02/skos/core#ConceptScheme', 'name': 'ConceptScheme'}, {'iri': 'http://www.w3.org/ns/sosa/Observation', 'name': 'http://www.w3.org/ns/sosa/Observation', 'comment': 'Activity of carrying out an (Observation) Procedure to estimate or calculate a value of a property of a FeatureOfInterest. Links to a Sensor to describe what made the Observation and how; links to an ObservableProperty to describe what the result is an estimate of, and to a FeatureOfInterest to detail what that property was associated with.'}, {'iri': 'http://www.w3.org/ns/sosa/Result', 'name': 'http://www.w3.org/ns/sosa/Result', 'comment': \"The Result of an Observation, Actuation, or act of Sampling. To store an observation's simple result value one can use the hasSimpleResult property.\"}, {'iri': 'http://www.w3.org/ns/sosa/Sensor', 'name': 'http://www.w3.org/ns/sosa/Sensor', 'comment': 'Device, agent (including humans), or software (simulation) involved in, or implementing, a Procedure. Sensors respond to a stimulus, e.g., a change in the environment, or input data composed from the results of prior Observations, and generate a Result. Sensors can be mounted on Platforms.'}, {'iri': 'http://xmlns.com/foaf/0.1/Person', 'name': 'http://xmlns.com/foaf/0.1/Person'}, {'iri': 'https://w3id.org/skgo/physci#Assumption', 'name': 'Assumption', 'description': 'Something that is unstated but considered to be fact for the purpose of making a decision or solving a problem in a research.'}, {'iri': 'https://w3id.org/skgo/physci#Case', 'name': 'Case', 'description': 'An instance of a particular situation of researchwork; an example of something occurring.'}, {'iri': 'https://w3id.org/skgo/physci#Equation', 'name': 'Equation', 'description': 'In physics, defining equations are equations that define new quantities in terms of base quantities'}, {'iri': 'https://w3id.org/skgo/physci#ExperimentalStudy', 'name': 'ExperimentalStudy', 'description': 'Studies that are concerned with the observation of physical phenomena and experiments.'}, {'iri': 'https://w3id.org/skgo/physci#Expression', 'name': 'Expression', 'description': 'Mathematical expression is a finite combination of symbols that is well-formed according to rules that depend on the context.'}, {'iri': 'https://w3id.org/skgo/physci#Function', 'name': 'Function', 'description': 'A function was originally the idealization of how a varying quantity depends on another quantity.'}, {'iri': 'https://w3id.org/skgo/physci#Metric', 'name': 'Metric', 'description': 'a system or standard of measurement.'}, {'iri': 'https://w3id.org/skgo/physci#ObservationalData', 'name': 'ObservationalData', 'description': 'Observational data is a valuable form of research that can give researchers information that goes beyond numbers and statistics.'}, {'iri': 'https://w3id.org/skgo/physci#Observatory', 'name': 'Observatory', 'description': 'A room or building housing an astronomical telescope or other scientific equipment for the study of natural phenomena.'}, {'iri': 'https://w3id.org/skgo/physci#Observer', 'name': 'Observer', 'description': 'The term observer  used as detector which detect formations also as a special relativity in theoretical'}, {'iri': 'https://w3id.org/skgo/physci#ResearchWork', 'name': 'ResearchWork', 'description': 'Research work is systematic activity that is done by a Person to acquire knowledge.'}, {'iri': 'https://w3id.org/skgo/physci#ScientificArgument', 'name': 'ScientificArgument', 'description': 'A scientific argument is defined as people disagreeing about scientific explanations (claims) using empirical data (evidence) to justify their side of the argument.'}, {'iri': 'https://w3id.org/skgo/physci#ScientificLaw', 'name': 'ScientificLaw', 'description': 'An explanation for patterns in nature that is supported by scientific evidence and verified multiple times by various groups of researchers'}, {'iri': 'https://w3id.org/skgo/physci#ScientificMethod', 'name': 'ScientificMethod', 'description': 'The process of the scientific method involves making conjectures (hypotheses), deriving predictions from them as logical consequences,'}, {'iri': 'https://w3id.org/skgo/physci#ScientificProblem', 'name': 'ScientificProblem', 'comment': 'Scientific problems are usually based on observation of scientific phenomena.', 'description': 'An inquiry starting from given conditions to investigate or demonstrate a fact, result, or law.'}, {'iri': 'https://w3id.org/skgo/physci#ScientificProperty', 'name': 'ScientificProperty', 'description': 'An attribute, quality, or characteristic of theory,model etc .It is (obsolete) to make a property of; to appropriate.'}, {'iri': 'https://w3id.org/skgo/physci#Solution', 'name': 'Solution', 'description': 'Means of solving a problem or dealing with a difficult situation'}, {'iri': 'https://w3id.org/skgo/physci#Theorem', 'name': 'Theorem', 'comment': 'The term is used especially in mathematics where the axioms are those of mathematical logic and the systems in question.', 'description': 'A theorem is a result that can be proven to be true from a set of axioms.'}, {'iri': 'https://w3id.org/skgo/physci#TheoreticalStudy', 'name': 'TheoreticalStudy', 'description': 'Theoretical physics is a branch of physics that employs mathematical models and abstractions of physical objects and systems to rationalize, explain and predict natural phenomena.'}]\n",
      "[{'iri': 'http://ecoinformatics.org/oboe/oboe.1.2/oboe-core.owl#hasMeasurement', 'name': 'hasMeasurement', 'domain': rdflib.term.URIRef('http://www.w3.org/ns/sosa/Observation'), 'range': rdflib.term.URIRef('http://ecoinformatics.org/oboe/oboe.1.2/oboe-core.owl#Measurement'), 'comment': 'The hasMeasurement property gives the measurements of the observed entity.'}, {'iri': 'http://ecoinformatics.org/oboe/oboe.1.2/oboe-core.owl#hasUnit', 'name': 'hasUnit', 'domain': rdflib.term.URIRef('https://w3id.org/skgo/physci#Equation'), 'range': rdflib.term.URIRef('http://ecoinformatics.org/oboe/oboe.1.2/oboe-core.owl#Unit'), 'comment': 'The hasUnit property gives the underlying base or derived unit for a derived or composite unit, respectively.'}, {'iri': 'http://ecoinformatics.org/oboe/oboe.1.2/oboe-core.owl#hasValue', 'name': 'hasValue', 'domain': rdflib.term.URIRef('http://sweetontology.net/reprSciModel/ScientificModel'), 'range': rdflib.term.URIRef('https://w3id.org/skgo/physci#Equation'), 'comment': 'The hasValue property gives the value of the measurement.'}, {'iri': 'http://ecoinformatics.org/oboe/oboe.1.2/oboe-core.owl#measurementFor', 'name': 'measurementFor', 'domain': rdflib.term.URIRef('http://ecoinformatics.org/oboe/oboe.1.2/oboe-core.owl#Measurement'), 'range': rdflib.term.URIRef('https://w3id.org/skgo/physci#ScientificLaw'), 'comment': 'The measurementFor property gives the observation (observed entitiy) that a measurement is associated with. Each measurement is for exactly one observation. '}, {'iri': 'http://ecoinformatics.org/oboe/oboe.1.2/oboe-core.owl#measuresCharacteristic', 'name': 'measuresCharacteristic', 'domain': rdflib.term.URIRef('http://ecoinformatics.org/oboe/oboe.1.2/oboe-core.owl#MeasurementType'), 'range': rdflib.term.URIRef('http://ecoinformatics.org/oboe/oboe.1.2/oboe-core.owl#Characteristic'), 'comment': 'The measuresCharacteristic property gives the Characteristic that would be measured by a MeasurementType.'}, {'iri': 'http://ecoinformatics.org/oboe/oboe.1.2/oboe-core.owl#ofCharacteristic', 'name': 'ofCharacteristic', 'domain': rdflib.term.URIRef('http://ecoinformatics.org/oboe/oboe.1.2/oboe-core.owl#Measurement'), 'range': rdflib.term.URIRef('http://ecoinformatics.org/oboe/oboe.1.2/oboe-core.owl#Characteristic'), 'comment': 'The ofCharacteristic property gives the entity characteristic measured by a measurement.'}, {'iri': 'http://ecoinformatics.org/oboe/oboe.1.2/oboe-core.owl#ofEntity', 'name': 'ofEntity'}, {'iri': 'http://ecoinformatics.org/oboe/oboe.1.2/oboe-core.owl#usesProtocol', 'name': 'usesProtocol', 'domain': rdflib.term.URIRef('https://w3id.org/skgo/physci#ScientificMethod'), 'range': rdflib.term.URIRef('http://ecoinformatics.org/oboe/oboe.1.2/oboe-core.owl#Protocol')}, {'iri': 'http://ecoinformatics.org/oboe/oboe.1.2/oboe-core.owl#usesStandard', 'name': 'usesStandard', 'domain': rdflib.term.URIRef('http://www.astro.umd.edu/~eshaya/astro-onto/owl/IVOAO.owl#fieldOfStudy'), 'range': rdflib.term.URIRef('http://ecoinformatics.org/oboe/oboe.1.2/oboe-core.owl#Standard')}, {'iri': 'http://ns.nature.com/terms/doiLink', 'name': 'http://ns.nature.com/terms/doiLink', 'domain': rdflib.term.URIRef('http://ns.nature.com/terms/Publication')}, {'iri': 'http://ns.nature.com/terms/hasIssue', 'name': 'http://ns.nature.com/terms/hasIssue', 'domain': rdflib.term.URIRef('http://ns.nature.com/terms/PublicationEvent'), 'range': rdflib.term.URIRef('http://ns.nature.com/terms/Issue')}, {'iri': 'http://ns.nature.com/terms/hasPublication', 'name': 'http://ns.nature.com/terms/hasPublication', 'domain': rdflib.term.URIRef('http://ns.nature.com/terms/PublicationEvent'), 'range': rdflib.term.URIRef('http://ns.nature.com/terms/Publication')}, {'iri': 'http://ns.nature.com/terms/hasSerial', 'name': 'http://ns.nature.com/terms/hasSerial', 'domain': rdflib.term.URIRef('http://ns.nature.com/terms/Publication'), 'range': rdflib.term.URIRef('http://ns.nature.com/terms/Serial')}, {'iri': 'http://ns.nature.com/terms/mesh', 'name': 'http://ns.nature.com/terms/mesh', 'domain': rdflib.term.URIRef('http://ns.nature.com/terms/Concept')}, {'iri': 'http://ns.nature.com/terms/relation', 'name': 'http://ns.nature.com/terms/relation', 'domain': rdflib.term.URIRef('http://ns.nature.com/terms/Publication'), 'range': rdflib.term.URIRef('http://ns.nature.com/terms/Publication')}, {'iri': 'http://purl.org/dc/terms/contributor', 'name': 'http://purl.org/dc/terms/contributor', 'range': rdflib.term.URIRef('http://purl.org/dc/terms/Agent'), 'comment': 'An entity responsible for making contributions to the resource.'}, {'iri': 'http://purl.org/dc/terms/creator', 'name': 'http://purl.org/dc/terms/creator', 'range': rdflib.term.URIRef('http://xmlns.com/foaf/0.1/Person'), 'comment': 'An entity responsible for making the resource.'}, {'iri': 'http://purl.org/dc/terms/medium', 'name': 'http://purl.org/dc/terms/medium', 'domain': rdflib.term.URIRef('http://purl.org/dc/terms/PhysicalResource'), 'comment': 'The material or physical carrier of the resource.'}, {'iri': 'http://purl.org/dc/terms/publisher', 'name': 'http://purl.org/dc/terms/publisher', 'range': rdflib.term.URIRef('http://purl.org/dc/terms/Agent'), 'comment': 'An entity responsible for making the resource available.'}, {'iri': 'http://purl.org/dc/terms/rightsHolder', 'name': 'http://purl.org/dc/terms/rightsHolder', 'domain': rdflib.term.URIRef('http://ns.nature.com/terms/Organization'), 'range': rdflib.term.URIRef('http://purl.org/dc/terms/Agent'), 'comment': 'A person or organization owning or managing rights over the resource.'}, {'iri': 'http://purl.org/dc/terms/type', 'name': 'http://purl.org/dc/terms/type', 'range': rdflib.term.URIRef('http://www.w3.org/2000/01/rdf-schema#Class'), 'comment': 'The nature or genre of the resource.'}, {'iri': 'http://sweetontology.net/relaMath/basedOn', 'name': 'http://sweetontology.net/relaMath/basedOn', 'domain': rdflib.term.URIRef('https://w3id.org/skgo/physci#ExperimentalStudy'), 'range': rdflib.term.URIRef('http://www.w3.org/ns/sosa/Observation')}, {'iri': 'http://sweetontology.net/relaMath/hasCondition', 'name': 'http://sweetontology.net/relaMath/hasCondition', 'range': rdflib.term.URIRef('http://www.w3.org/2004/02/skos/core#ConceptScheme')}, {'iri': 'http://www.w3.org/ns/sosa/hasResult', 'name': 'http://www.w3.org/ns/sosa/hasResult', 'domain': rdflib.term.URIRef('https://w3id.org/skgo/physci#ResearchWork'), 'range': rdflib.term.URIRef('http://www.w3.org/ns/sosa/Result'), 'comment': 'Relation linking an Observation or Actuation or act of Sampling and a Result.'}, {'iri': 'http://www.w3.org/ns/sosa/isObservedBy', 'name': 'http://www.w3.org/ns/sosa/isObservedBy', 'domain': rdflib.term.URIRef('http://ecoinformatics.org/oboe/oboe.1.2/oboe-core.owl#IdentifyingCharacteristic'), 'range': rdflib.term.URIRef('http://www.w3.org/ns/sosa/Observation'), 'comment': 'Relation between an ObservableProperty and the Sensor able to observe it.'}, {'iri': 'http://www.w3.org/ns/sosa/isResultOf', 'name': 'http://www.w3.org/ns/sosa/isResultOf', 'range': rdflib.term.URIRef('https://w3id.org/skgo/physci#Case')}, {'iri': 'http://www.w3.org/ns/sosa/observes', 'name': 'http://www.w3.org/ns/sosa/observes'}, {'iri': 'http://www.w3.org/ns/sosa/phenomenonTime', 'name': 'http://www.w3.org/ns/sosa/phenomenonTime', 'comment': 'The time that the Result of an Observation, Actuation or Sampling applies to the FeatureOfInterest. Not necessarily the same as the resultTime. May be an Interval or an Instant, or some other compound TemporalEntity.'}, {'iri': 'https://w3id.org/skgo/physci#addressesResearchWork', 'name': 'addressesResearchWork', 'domain': rdflib.term.URIRef('http://ns.nature.com/terms/Publication'), 'range': rdflib.term.URIRef('https://w3id.org/skgo/physci#ResearchWork'), 'description': 'Publication is related to researchwork Class.'}, {'iri': 'https://w3id.org/skgo/physci#applyMethod', 'name': 'applyMethod', 'domain': rdflib.term.URIRef('http://ecoinformatics.org/oboe/oboe.1.2/oboe-core.owl#Measurement'), 'range': rdflib.term.URIRef('https://w3id.org/skgo/physci#ScientificMethod'), 'description': 'measurement use specific method.'}, {'iri': 'https://w3id.org/skgo/physci#argueFormation', 'name': 'argueFormation', 'domain': rdflib.term.URIRef('https://w3id.org/skgo/physci#ResearchWork'), 'range': rdflib.term.URIRef('http://www.astro.umd.edu/~eshaya/astro-onto/owl/IVOAO.owl#formation'), 'description': 'Give reasons or cite evidence in support of an idea.'}, {'iri': 'https://w3id.org/skgo/physci#confirmLaw', 'name': 'confirmLaw', 'domain': rdflib.term.URIRef('https://w3id.org/skgo/physci#ResearchWork'), 'range': rdflib.term.URIRef('http://www.astro.umd.edu/~eshaya/astro-onto/owl/physics.owl#physicalLaw'), 'description': 'Establish the truth or correctness of (physical law).'}, {'iri': 'https://w3id.org/skgo/physci#considerCase', 'name': 'considerCase', 'domain': rdflib.term.URIRef('https://w3id.org/skgo/physci#ResearchWork'), 'range': rdflib.term.URIRef('https://w3id.org/skgo/physci#Case'), 'description': 'Research work considers a case when making assumption, calculations.'}, {'iri': 'https://w3id.org/skgo/physci#containProperty', 'name': 'containProperty', 'domain': rdflib.term.URIRef('http://sweetontology.net/procPhysical/Motion'), 'range': rdflib.term.URIRef('https://w3id.org/skgo/physci#ScientificProperty'), 'description': 'Motion contains with specific properties that can be explianed by expressions.'}, {'iri': 'https://w3id.org/skgo/physci#detectFormation', 'name': 'detectFormation', 'domain': rdflib.term.URIRef('https://w3id.org/skgo/physci#Observer'), 'range': rdflib.term.URIRef('http://www.astro.umd.edu/~eshaya/astro-onto/owl/IVOAO.owl#formation'), 'description': 'Discover or identify the presence or existence of formation'}, {'iri': 'https://w3id.org/skgo/physci#detectWave', 'name': 'detectWave', 'domain': rdflib.term.URIRef('https://w3id.org/skgo/physci#Observer'), 'range': rdflib.term.URIRef('http://www.astro.umd.edu/~eshaya/astro-onto/owl/IVOAO.owl#Wave'), 'description': 'Observer identify the existence of wave.'}, {'iri': 'https://w3id.org/skgo/physci#establishTheorem', 'name': 'establishTheorem', 'domain': rdflib.term.URIRef('https://w3id.org/skgo/physci#ScientificMethod'), 'range': rdflib.term.URIRef('https://w3id.org/skgo/physci#Theorem'), 'description': 'Scientific Method Initiate or bring about theorem etc.'}, {'iri': 'https://w3id.org/skgo/physci#extendArgument', 'name': 'extendArgument', 'domain': rdflib.term.URIRef('https://w3id.org/skgo/physci#ResearchWork'), 'range': rdflib.term.URIRef('https://w3id.org/skgo/physci#ScientificArgument'), 'description': 'Research work cause to extend argument'}, {'iri': 'https://w3id.org/skgo/physci#formedBy', 'name': 'formedBy', 'domain': rdflib.term.URIRef('http://www.astro.umd.edu/~eshaya/astro-onto/owl/IVOAO.owl#formation'), 'range': rdflib.term.URIRef('https://w3id.org/skgo/physci#Case'), 'description': 'To define formations that are caused to form by cases such as collisions and etc.'}, {'iri': 'https://w3id.org/skgo/physci#formulate', 'name': 'formulate', 'domain': rdflib.term.URIRef('http://www.astro.umd.edu/~eshaya/astro-onto/owl/IVOAO.owl#principle'), 'range': rdflib.term.URIRef('http://www.astro.umd.edu/~eshaya/astro-onto/owl/IVOAO.owl#theory'), 'description': 'Create or prepare methodically a theory.'}, {'iri': 'https://w3id.org/skgo/physci#hasAssumption', 'name': 'hasAssumption', 'domain': rdflib.term.URIRef('http://sweetontology.net/reprSciModel/ScientificModel'), 'range': rdflib.term.URIRef('https://w3id.org/skgo/physci#Assumption'), 'description': 'The property specifies a thing that is accepted as true or as certain to happen, without proof.'}, {'iri': 'https://w3id.org/skgo/physci#hasConcept', 'name': 'hasConcept', 'domain': rdflib.term.URIRef('http://www.astro.umd.edu/~eshaya/astro-onto/owl/IVOAO.owl#theory'), 'range': rdflib.term.URIRef('http://www.w3.org/2004/02/skos/core#Concept'), 'description': 'Have an abstract idea of a Theory.'}, {'iri': 'https://w3id.org/skgo/physci#hasEquation', 'name': 'hasEquation', 'domain': rdflib.term.URIRef('https://w3id.org/skgo/physci#Solution'), 'range': rdflib.term.URIRef('https://w3id.org/skgo/physci#Equation'), 'comment': '(indicated by the sign =)', 'description': 'A statement that the values of two mathematical expressions are equal .'}, {'iri': 'https://w3id.org/skgo/physci#hasExpression', 'name': 'hasExpression', 'domain': rdflib.term.URIRef('http://sweetontology.net/procPhysical/Motion'), 'range': rdflib.term.URIRef('https://w3id.org/skgo/physci#Expression'), 'description': 'To explain the scientific concepts with mathematical expression is a finite combination of symbols that is well-formed according to rules that depend on the context.'}, {'iri': 'https://w3id.org/skgo/physci#hasFunction', 'name': 'hasFunction', 'domain': rdflib.term.URIRef('https://w3id.org/skgo/physci#Equation'), 'range': rdflib.term.URIRef('https://w3id.org/skgo/physci#Function'), 'description': 'Equation has a function or expression relates to scientific functions.'}, {'iri': 'https://w3id.org/skgo/physci#hasHorizon', 'name': 'hasHorizon', 'domain': rdflib.term.URIRef('http://www.astro.umd.edu/~eshaya/astro-onto/owl/IVOAO.owl#formation'), 'range': rdflib.term.URIRef('http://www.astro.umd.edu/~eshaya/astro-onto/owl/IVOAO.owl#horizon'), 'description': 'Formation has the intersection on the celestial sphere of a plane perpendicular to a plumb line.'}, {'iri': 'https://w3id.org/skgo/physci#hasMagneticField', 'name': 'hasMagneticField', 'domain': rdflib.term.URIRef('http://sweetontology.net/phen/Phenomena'), 'range': rdflib.term.URIRef('http://www.astro.umd.edu/~eshaya/astro-onto/owl/physics.owl#magneticField'), 'description': 'Phenomena has a magnetic field.'}, {'iri': 'https://w3id.org/skgo/physci#hasMetric', 'name': 'hasMetric', 'domain': rdflib.term.URIRef('https://w3id.org/skgo/physci#Equation'), 'range': rdflib.term.URIRef('https://w3id.org/skgo/physci#Metric'), 'description': 'Expressions or equations possess a system or standard of measurement.'}, {'iri': 'https://w3id.org/skgo/physci#hasMotion', 'name': 'hasMotion', 'domain': rdflib.term.URIRef('http://sweetontology.net/matrParticle/Particle'), 'range': rdflib.term.URIRef('http://sweetontology.net/procPhysical/Motion'), 'description': 'Motion is the change in position of an particle.'}, {'iri': 'https://w3id.org/skgo/physci#hasObservation', 'name': 'hasObservation', 'domain': rdflib.term.URIRef('https://w3id.org/skgo/physci#ScientificMethod'), 'range': rdflib.term.URIRef('http://www.w3.org/ns/sosa/Observation'), 'description': 'Research work has an active acquisition of information from a primary source.'}, {'iri': 'https://w3id.org/skgo/physci#hasObservationalData', 'name': 'hasObservationalData', 'domain': rdflib.term.URIRef('http://www.w3.org/ns/sosa/Observation'), 'range': rdflib.term.URIRef('https://w3id.org/skgo/physci#ObservationalData'), 'description': 'To have a information, knowledge about the observed items.'}, {'iri': 'https://w3id.org/skgo/physci#hasObservatory', 'name': 'hasObservatory', 'domain': rdflib.term.URIRef('http://www.w3.org/ns/sosa/Observation'), 'range': rdflib.term.URIRef('https://w3id.org/skgo/physci#Observatory'), 'description': 'to have a observatory or telescope.'}, {'iri': 'https://w3id.org/skgo/physci#hasObserver', 'name': 'hasObserver', 'domain': rdflib.term.URIRef('http://www.w3.org/ns/sosa/Observation'), 'range': rdflib.term.URIRef('https://w3id.org/skgo/physci#Observer'), 'description': 'Observation has an detector, instrument to observe the universe.'}, {'iri': 'https://w3id.org/skgo/physci#hasParticle', 'name': 'hasParticle', 'domain': rdflib.term.URIRef('http://www.astro.umd.edu/~eshaya/astro-onto/owl/astronomy.owl#source'), 'range': rdflib.term.URIRef('http://sweetontology.net/matrParticle/Particle'), 'description': 'Any type of particle as subatomic constituents of the physical world that interact with each other.'}, {'iri': 'https://w3id.org/skgo/physci#hasPhenomena', 'name': 'hasPhenomena', 'domain': rdflib.term.URIRef('http://www.w3.org/ns/sosa/Observation'), 'range': rdflib.term.URIRef('http://sweetontology.net/phen/Phenomena'), 'description': 'Theory  or Obervation has a fact or situation that is observed to exist or happen, especially one whose cause or explanation is in question.'}, {'iri': 'https://w3id.org/skgo/physci#hasPrinciple', 'name': 'hasPrinciple', 'domain': rdflib.term.URIRef('http://www.astro.umd.edu/~eshaya/astro-onto/owl/physics.owl#physicalLaw'), 'range': rdflib.term.URIRef('http://www.astro.umd.edu/~eshaya/astro-onto/owl/IVOAO.owl#principle'), 'description': 'A general scientific theorem or law that has numerous special applications across a wide field.'}, {'iri': 'https://w3id.org/skgo/physci#hasProblem', 'name': 'hasProblem', 'domain': rdflib.term.URIRef('https://w3id.org/skgo/physci#ResearchWork'), 'range': rdflib.term.URIRef('https://w3id.org/skgo/physci#ScientificProblem'), 'description': 'Research work has  an inquiry starting from given conditions to investigate or demonstrate a fact, result, or law.'}, {'iri': 'https://w3id.org/skgo/physci#hasResearchField', 'name': 'hasResearchField', 'domain': rdflib.term.URIRef('http://ns.nature.com/terms/Publication'), 'range': rdflib.term.URIRef('http://www.astro.umd.edu/~eshaya/astro-onto/owl/IVOAO.owl#fieldOfStudy'), 'description': 'Publication is about a field of study.'}, {'iri': 'https://w3id.org/skgo/physci#hasScientificMethod', 'name': 'hasScientificMethod', 'domain': rdflib.term.URIRef('https://w3id.org/skgo/physci#Solution'), 'range': rdflib.term.URIRef('https://w3id.org/skgo/physci#ScientificMethod'), 'description': 'Solution proposed with a treat (method) is used in a particular way.'}, {'iri': 'https://w3id.org/skgo/physci#hasScientificModel', 'name': 'hasScientificModel', 'domain': rdflib.term.URIRef('https://w3id.org/skgo/physci#ResearchWork'), 'range': rdflib.term.URIRef('http://sweetontology.net/reprSciModel/ScientificModel'), 'description': 'Research work has a simplified description, especially a mathematical one, of a system or process, to assist calculations and predictions.'}, {'iri': 'https://w3id.org/skgo/physci#hasScientificProperty', 'name': 'hasScientificProperty', 'domain': rdflib.term.URIRef('http://sweetontology.net/reprSciModel/ScientificModel'), 'range': rdflib.term.URIRef('https://w3id.org/skgo/physci#ScientificProperty'), 'description': 'A characteristic or trait that you can use to describe matter by observation, measurement or combination.'}, {'iri': 'https://w3id.org/skgo/physci#hasSimulation', 'name': 'hasSimulation', 'domain': rdflib.term.URIRef('http://sweetontology.net/reprSciModel/ScientificModel'), 'range': rdflib.term.URIRef('http://sweetontology.net/reprMathSolution/Simulation'), 'description': 'Scietific model has the production of a computer model of something, especially for the purpose of study.'}, {'iri': 'https://w3id.org/skgo/physci#hasSource', 'name': 'hasSource', 'domain': rdflib.term.URIRef('http://www.astro.umd.edu/~eshaya/astro-onto/owl/IVOAO.owl#formation'), 'range': rdflib.term.URIRef('http://www.astro.umd.edu/~eshaya/astro-onto/owl/astronomy.owl#source'), 'description': 'Formation has  a body or process by which energy or a particular component enters a system.'}, {'iri': 'https://w3id.org/skgo/physci#hasSpectrum', 'name': 'hasSpectrum', 'domain': rdflib.term.URIRef('http://www.astro.umd.edu/~eshaya/astro-onto/owl/IVOAO.owl#Wave'), 'range': rdflib.term.URIRef('http://www.astro.umd.edu/~eshaya/astro-onto/owl/physics.owl#spectrum'), 'description': 'A concept used to describe mathematically the distribution of wave energy .'}, {'iri': 'https://w3id.org/skgo/physci#hasStructure', 'name': 'hasStructure', 'domain': rdflib.term.URIRef('http://www.astro.umd.edu/~eshaya/astro-onto/owl/IVOAO.owl#formation'), 'range': rdflib.term.URIRef('http://www.astro.umd.edu/~eshaya/astro-onto/owl/IVOAO.owl#structure'), 'description': 'The arrangement of  and relations between the parts or elements of formation or something complex.'}, {'iri': 'https://w3id.org/skgo/physci#hasTheory', 'name': 'hasTheory', 'domain': rdflib.term.URIRef('http://www.astro.umd.edu/~eshaya/astro-onto/owl/IVOAO.owl#formation'), 'range': rdflib.term.URIRef('http://www.astro.umd.edu/~eshaya/astro-onto/owl/IVOAO.owl#theory'), 'description': 'Research work has an explanation for patterns in nature that is supported by scientific evidence .'}, {'iri': 'https://w3id.org/skgo/physci#introducedBy', 'name': 'introducedBy', 'domain': rdflib.term.URIRef('http://www.astro.umd.edu/~eshaya/astro-onto/owl/IVOAO.owl#theory'), 'range': rdflib.term.BNode('Nddf1afdf69a5496b80714fd1ddd62438'), 'description': 'Bring a subject, method, theory etc. to the attention of (someone) for the first time.'}, {'iri': 'https://w3id.org/skgo/physci#isFormedFrom', 'name': 'isFormedFrom', 'domain': rdflib.term.URIRef('http://www.astro.umd.edu/~eshaya/astro-onto/owl/IVOAO.owl#formation'), 'range': rdflib.term.URIRef('http://www.astro.umd.edu/~eshaya/astro-onto/owl/IVOAO.owl#formation'), 'description': 'Made into a specific shape or form.'}, {'iri': 'https://w3id.org/skgo/physci#provideSolution', 'name': 'provideSolution', 'domain': rdflib.term.URIRef('http://sweetontology.net/reprSciModel/ScientificModel'), 'range': rdflib.term.URIRef('https://w3id.org/skgo/physci#Solution'), 'description': 'A problem or case determines the correct answer to an equation or etc.'}, {'iri': 'https://w3id.org/skgo/physci#relatedGravitation', 'name': 'relatedGravitation', 'domain': rdflib.term.URIRef('https://w3id.org/skgo/physci#ScientificMethod'), 'range': rdflib.term.URIRef('http://www.astro.umd.edu/~eshaya/astro-onto/owl/physics.owl#gravitation'), 'description': 'Method uses or talks about gravitation.'}, {'iri': 'https://w3id.org/skgo/physci#relyOnMeasurement', 'name': 'relyOnMeasurement', 'domain': rdflib.term.URIRef('http://sweetontology.net/reprSciModel/ScientificModel'), 'range': rdflib.term.URIRef('http://ecoinformatics.org/oboe/oboe.1.2/oboe-core.owl#Measurement'), 'description': 'Scientific Model depends on measurement with full trust or confidence.'}, {'iri': 'https://w3id.org/skgo/physci#sketchProblem', 'name': 'sketchProblem', 'domain': rdflib.term.URIRef('https://w3id.org/skgo/physci#ScientificArgument'), 'range': rdflib.term.URIRef('https://w3id.org/skgo/physci#ScientificProblem'), 'description': 'A rough or unfinished drawing or painting, often made to assist in making a more finished picture.'}, {'iri': 'https://w3id.org/skgo/physci#solve', 'name': 'solve', 'domain': rdflib.term.URIRef('https://w3id.org/skgo/physci#Solution'), 'range': rdflib.term.URIRef('https://w3id.org/skgo/physci#ScientificProblem'), 'description': 'Find an answer to, explanation for, or means of effectively dealing with (a problem or mystery).'}, {'iri': 'https://w3id.org/skgo/physci#usesScientificMethod', 'name': 'usesScientificMethod', 'domain': rdflib.term.URIRef('http://sweetontology.net/reprSciModel/ScientificModel'), 'range': rdflib.term.URIRef('https://w3id.org/skgo/physci#ScientificMethod'), 'description': 'Model used methods to explain the phenomena in the universe.'}, {'iri': 'https://w3id.org/skgo/physci#usesTheory', 'name': 'usesTheory', 'domain': rdflib.term.URIRef('https://w3id.org/skgo/physci#Solution'), 'range': rdflib.term.URIRef('http://www.astro.umd.edu/~eshaya/astro-onto/owl/IVOAO.owl#theory'), 'description': 'Solution make use of the theories to support the answer of research work.'}, {'iri': 'https://w3id.org/skgo/physci#yieldEquation', 'name': 'yieldEquation', 'domain': rdflib.term.URIRef('https://w3id.org/skgo/physci#Equation'), 'range': rdflib.term.URIRef('https://w3id.org/skgo/physci#Equation'), 'description': 'Produce or generate Equation.'}]\n"
     ]
    }
   ],
   "source": [
    "physciGraph = Graph()\n",
    "physciGraph.parse(str(datapath / \"physci.nt\"))\n",
    "#purl = Namespace(\"http://purl.org/dc/elements/1.1/\")\n",
    "#physciGraph.bind(\"dc\", purl)\n",
    "# Search for all owl classes\n",
    "qres = physciGraph.query(\n",
    "    \"\"\"SELECT ?s\n",
    "       WHERE {\n",
    "          ?s a owl:Class.\n",
    "       }\"\"\")\n",
    "physciClasses = []\n",
    "for row in qres:\n",
    "    # Continue if the class is a blank node\n",
    "    if type(row.s) == term.BNode:\n",
    "        continue\n",
    "    newClass = {}\n",
    "    physciClasses.append(newClass)\n",
    "    newClass[\"iri\"] = str(row.s)\n",
    "    # Get the name from the iri\n",
    "    newClass[\"name\"] = row.s.split(\"#\")[-1]\n",
    "    # Search for the comment\n",
    "    qresComment = physciGraph.query(\n",
    "        \"\"\"SELECT ?comment\n",
    "           WHERE {\n",
    "              ?s rdfs:comment ?comment.\n",
    "           }\"\"\", initBindings = {'s': row.s})\n",
    "    for rowComment in qresComment:\n",
    "        # Get the english string of the comment\n",
    "        newClass[\"comment\"] = rowComment.comment.value\n",
    "    # Search for the description with the predicate http://purl.org/dc/elements/1.1/description\n",
    "    qresDescription = physciGraph.query(\n",
    "        \"\"\"SELECT ?description\n",
    "           WHERE {\n",
    "              ?s <http://purl.org/dc/elements/1.1/description> ?description.\n",
    "           }\"\"\", initBindings = {'s': row.s})\n",
    "    for rowDescription in qresDescription:\n",
    "        # Get the english string of the description\n",
    "        newClass[\"description\"] = rowDescription.description.value\n",
    "        print(newClass[\"description\"])\n",
    "physciProperties = []\n",
    "# Search for all owl object properties\n",
    "qres = physciGraph.query(\n",
    "    \"\"\"SELECT ?s\n",
    "       WHERE {\n",
    "          ?s a owl:ObjectProperty.\n",
    "       }\"\"\")\n",
    "for row in qres:\n",
    "    # Continue if the class is a blank node\n",
    "    if type(row.s) == term.BNode:\n",
    "        continue\n",
    "    newProperty = {}\n",
    "    physciProperties.append(newProperty)\n",
    "    newProperty[\"iri\"] = str(row.s)\n",
    "    # Get the name from the iri\n",
    "    newProperty[\"name\"] = row.s.split(\"#\")[-1]\n",
    "    # Search for the domain\n",
    "    qresDomain = physciGraph.query(\n",
    "        \"\"\"SELECT ?domain\n",
    "           WHERE {\n",
    "              ?s rdfs:domain ?domain.\n",
    "           }\"\"\", initBindings = {'s': row.s})\n",
    "    for rowDomain in qresDomain:\n",
    "        # Get the english string of the domain\n",
    "        newProperty[\"domain\"] = rowDomain.domain\n",
    "    # Search for the range\n",
    "    qresRange = physciGraph.query(\n",
    "        \"\"\"SELECT ?range\n",
    "           WHERE {\n",
    "              ?s rdfs:range ?range.\n",
    "           }\"\"\", initBindings = {'s': row.s})\n",
    "    for rowRange in qresRange:\n",
    "        # Get the english string of the range\n",
    "        newProperty[\"range\"] = rowRange.range\n",
    "    # Search for the comment\n",
    "    qresComment = physciGraph.query(\n",
    "        \"\"\"SELECT ?comment\n",
    "           WHERE {\n",
    "              ?s rdfs:comment ?comment.\n",
    "           }\"\"\", initBindings = {'s': row.s})\n",
    "    for rowComment in qresComment:\n",
    "        # Get the english string of the comment\n",
    "        newProperty[\"comment\"] = rowComment.comment.value\n",
    "    # Search for the description with the predicate http://purl.org/dc/elements/1.1/description\n",
    "    qresDescription = physciGraph.query(\n",
    "        \"\"\"SELECT ?description\n",
    "           WHERE {\n",
    "              ?s <http://purl.org/dc/elements/1.1/description> ?description.\n",
    "           }\"\"\", initBindings = {'s': row.s})\n",
    "    for rowDescription in qresDescription:\n",
    "        # Get the english string of the description\n",
    "        newProperty[\"description\"] = rowDescription.description.value\n",
    "        print(newProperty[\"description\"])\n",
    "print(physciClasses)\n",
    "print(physciProperties)"
   ]
  },
  {
   "cell_type": "code",
   "execution_count": 58,
   "metadata": {},
   "outputs": [
    {
     "data": {
      "text/plain": [
       "'Radiance and spectral radiance are radiometric measures that describe the amount of light that passes through or is emitted from a particular area, and falls within a given solid angle in a specified direction. They are used to characterize both emission from diffuse sources and reflection from diffuse surfaces. The SI unit of radiance is watts per steradian per square metre (W·sr−1·m−2).'"
      ]
     },
     "execution_count": 58,
     "metadata": {},
     "output_type": "execute_result"
    }
   ],
   "source": [
    "physciClasses[10][\"comment\"].value"
   ]
  },
  {
   "cell_type": "code",
   "execution_count": 97,
   "metadata": {},
   "outputs": [],
   "source": [
    "def getAllClasses(graph):\n",
    "    qres = graph.query(\n",
    "        \"\"\"SELECT ?s\n",
    "           WHERE {\n",
    "              ?s a owl:Class\n",
    "              }\"\"\")\n",
    "    classes = []\n",
    "    for row in qres:\n",
    "        if type(row.s) == term.BNode:\n",
    "            continue\n",
    "        classes.append(str(row.s))\n",
    "    return classes"
   ]
  },
  {
   "cell_type": "code",
   "execution_count": 18,
   "metadata": {},
   "outputs": [],
   "source": [
    "def getNodeName(graph, iri):\n",
    "    return iri.replace(\"/\", \"#\").split(\"#\")[-1]"
   ]
  },
  {
   "cell_type": "code",
   "execution_count": 92,
   "metadata": {},
   "outputs": [],
   "source": [
    "def getNodeDescription(graph, iri):\n",
    "    qres = graph.query(\n",
    "        \"\"\"SELECT ?description\n",
    "           WHERE {\n",
    "              ?s <http://purl.org/dc/elements/1.1/description> ?description.\n",
    "           }\"\"\", initBindings = {'s': URIRef(iri)})\n",
    "    for row in qres:\n",
    "        return row.description.value"
   ]
  },
  {
   "cell_type": "code",
   "execution_count": 91,
   "metadata": {},
   "outputs": [],
   "source": [
    "def getNodeComment(graph, iri):\n",
    "    qres = graph.query(\n",
    "        \"\"\"SELECT ?comment\n",
    "           WHERE {\n",
    "              ?s rdfs:comment ?comment.\n",
    "           }\"\"\", initBindings = {'s': URIRef(iri)})\n",
    "    for row in qres:\n",
    "        return row.comment.value"
   ]
  },
  {
   "cell_type": "code",
   "execution_count": 105,
   "metadata": {},
   "outputs": [],
   "source": [
    "def getSuperClasses(graph, iri):\n",
    "    qres = graph.query(\n",
    "        \"\"\"SELECT ?superclass\n",
    "           WHERE {\n",
    "              ?s rdfs:subClassOf ?superclass.\n",
    "              }\"\"\", initBindings = {'s': URIRef(iri)})\n",
    "    superclasses = set()\n",
    "    for row in qres:\n",
    "        superclasses.add(str(row.superclass))\n",
    "    returnSuperclasses = set()\n",
    "    for superclass in superclasses:\n",
    "        returnSuperclasses.add(superclass)\n",
    "        returnSuperclasses = returnSuperclasses.union(getSuperClasses(graph, superclass))\n",
    "    return returnSuperclasses"
   ]
  },
  {
   "cell_type": "code",
   "execution_count": 103,
   "metadata": {},
   "outputs": [],
   "source": [
    "def getPropertyTriplesWithSubject(graph, iri):\n",
    "    superclasses = getSuperClasses(graph, iri)\n",
    "    triples = []\n",
    "    for superclass in superclasses:\n",
    "        qres = graph.query(\n",
    "            \"\"\"SELECT ?predicate ?object\n",
    "                WHERE {\n",
    "                    ?predicate a owl:ObjectProperty.\n",
    "                    ?predicate rdfs:domain ?subject.\n",
    "                    ?predicate rdfs:range ?object.\n",
    "                }\"\"\", initBindings = {'subject': URIRef(superclass)})\n",
    "        for row in qres:\n",
    "            triples.append((superclass, str(row.predicate), str(row.object)))\n",
    "    return triples"
   ]
  },
  {
   "cell_type": "code",
   "execution_count": 109,
   "metadata": {},
   "outputs": [],
   "source": [
    "def getPropertyTriplesWithObject(graph, iri):\n",
    "    superclasses = getSuperClasses(graph, iri)\n",
    "    triples = []\n",
    "    for superclass in superclasses:\n",
    "        qres = graph.query(\n",
    "            \"\"\"SELECT ?predicate ?subject\n",
    "                WHERE {\n",
    "                    ?predicate a owl:ObjectProperty.\n",
    "                    ?predicate rdfs:domain ?subject.\n",
    "                    ?predicate rdfs:range ?object.\n",
    "                }\"\"\", initBindings = {'object': URIRef(superclass)})\n",
    "        for row in qres:\n",
    "            triples.append((str(row.subject), str(row.predicate), superclass))\n",
    "    return triples"
   ]
  },
  {
   "cell_type": "code",
   "execution_count": 1,
   "metadata": {},
   "outputs": [],
   "source": [
    "def getAllNamedIndividuals(graph):\n",
    "    qres = graph.query(\n",
    "        \"\"\"SELECT ?s\n",
    "           WHERE {\n",
    "              ?s a owl:NamedIndividual\n",
    "              }\"\"\")\n",
    "    namedIndividuals = []\n",
    "    for row in qres:\n",
    "        if type(row.s) == term.BNode:\n",
    "            continue\n",
    "        namedIndividuals.append(str(row.s))\n",
    "    return namedIndividuals"
   ]
  },
  {
   "cell_type": "code",
   "execution_count": 2,
   "metadata": {},
   "outputs": [],
   "source": [
    "def getAllConnectionsBetweenNamedIndividuals(graph):\n",
    "    qres = graph.query(\n",
    "        \"\"\"SELECT ?subject ?predicate ?object\n",
    "           WHERE {\n",
    "                ?subject ?predicate ?object.\n",
    "                ?subject a owl:NamedIndividual.\n",
    "                ?object a owl:NamedIndividual.\n",
    "              }\"\"\")\n",
    "    connections = []\n",
    "    for row in qres:\n",
    "        connections.append((str(row.subject), str(row.predicate), str(row.object)))\n",
    "    return connections"
   ]
  },
  {
   "cell_type": "code",
   "execution_count": 110,
   "metadata": {},
   "outputs": [],
   "source": [
    "def getPropertyTriples(graph, iri):\n",
    "    return getPropertyTriplesWithSubject(graph, iri) + getPropertyTriplesWithObject(graph, iri)"
   ]
  },
  {
   "cell_type": "code",
   "execution_count": 111,
   "metadata": {},
   "outputs": [],
   "source": [
    "classes = getAllClasses(physciGraph)\n",
    "classNames = [getNodeName(physciGraph, cls) for cls in classes]\n",
    "classDescriptions = [getNodeDescription(physciGraph, cls) for cls in classes]\n",
    "classComments = [getNodeComment(physciGraph, cls) for cls in classes]\n",
    "superclasses = [getSuperClasses(physciGraph, cls) for cls in classes]\n",
    "propertyTriples = [getPropertyTriples(physciGraph, cls) for cls in classes]\n"
   ]
  },
  {
   "cell_type": "code",
   "execution_count": 112,
   "metadata": {},
   "outputs": [
    {
     "name": "stdout",
     "output_type": "stream",
     "text": [
      "['http://ecoinformatics.org/oboe/oboe.1.2/oboe-characteristics.owl#Amount', 'http://ecoinformatics.org/oboe/oboe.1.2/oboe-characteristics.owl#Energy', 'http://ecoinformatics.org/oboe/oboe.1.2/oboe-characteristics.owl#Force', 'http://ecoinformatics.org/oboe/oboe.1.2/oboe-characteristics.owl#Mass', 'http://ecoinformatics.org/oboe/oboe.1.2/oboe-characteristics.owl#MassDensity', 'http://ecoinformatics.org/oboe/oboe.1.2/oboe-characteristics.owl#Radiance', 'http://ecoinformatics.org/oboe/oboe.1.2/oboe-characteristics.owl#Speed', 'http://ecoinformatics.org/oboe/oboe.1.2/oboe-characteristics.owl#Volume', 'http://ecoinformatics.org/oboe/oboe.1.2/oboe-characteristics.owl#WaveNumber', 'http://ecoinformatics.org/oboe/oboe.1.2/oboe-core.owl#CategoricalStandard', 'http://ecoinformatics.org/oboe/oboe.1.2/oboe-core.owl#Characteristic', 'http://ecoinformatics.org/oboe/oboe.1.2/oboe-core.owl#CharacteristicQualifier', 'http://ecoinformatics.org/oboe/oboe.1.2/oboe-core.owl#Entity', 'http://ecoinformatics.org/oboe/oboe.1.2/oboe-core.owl#IdentifyingCharacteristic', 'http://ecoinformatics.org/oboe/oboe.1.2/oboe-core.owl#Index', 'http://ecoinformatics.org/oboe/oboe.1.2/oboe-core.owl#MeasuredCharacteristic', 'http://ecoinformatics.org/oboe/oboe.1.2/oboe-core.owl#MeasuredValue', 'http://ecoinformatics.org/oboe/oboe.1.2/oboe-core.owl#Measurement', 'http://ecoinformatics.org/oboe/oboe.1.2/oboe-core.owl#MeasurementType', 'http://ecoinformatics.org/oboe/oboe.1.2/oboe-core.owl#ObservationCollection', 'http://ecoinformatics.org/oboe/oboe.1.2/oboe-core.owl#Protocol', 'http://ecoinformatics.org/oboe/oboe.1.2/oboe-core.owl#Standard', 'http://ecoinformatics.org/oboe/oboe.1.2/oboe-core.owl#Unit', 'http://ns.nature.com/terms/Agent', 'http://ns.nature.com/terms/Article', 'http://ns.nature.com/terms/Blog', 'http://ns.nature.com/terms/Collection', 'http://ns.nature.com/terms/Component', 'http://ns.nature.com/terms/Concept', 'http://ns.nature.com/terms/Dataset', 'http://ns.nature.com/terms/Document', 'http://ns.nature.com/terms/Event', 'http://ns.nature.com/terms/Issue', 'http://ns.nature.com/terms/Journal', 'http://ns.nature.com/terms/Organization', 'http://ns.nature.com/terms/Person', 'http://ns.nature.com/terms/Publication', 'http://ns.nature.com/terms/PublicationEvent', 'http://ns.nature.com/terms/PublishEvent', 'http://ns.nature.com/terms/Publisher', 'http://ns.nature.com/terms/ReviewEvent', 'http://ns.nature.com/terms/Serial', 'http://ns.nature.com/terms/Thing', 'http://purl.org/dc/terms/Agent', 'http://purl.org/dc/terms/AgentClass', 'http://purl.org/dc/terms/BibliographicResource', 'http://purl.org/dc/terms/PhysicalResource', 'http://sweetontology.net/matr/Substance', 'http://sweetontology.net/matrParticle/Particle', 'http://sweetontology.net/phen/Phenomena', 'http://sweetontology.net/procPhysical/Motion', 'http://sweetontology.net/procPhysical/PhysicalProcess', 'http://sweetontology.net/repr/Representation', 'http://sweetontology.net/reprMathSolution/Simulate', 'http://sweetontology.net/reprMathSolution/Simulation', 'http://sweetontology.net/reprSciModel/Model', 'http://sweetontology.net/reprSciModel/ScientificModel', 'http://www.astro.umd.edu/~eshaya/astro-onto/owl/IVOAO.owl#Wave', 'http://www.astro.umd.edu/~eshaya/astro-onto/owl/IVOAO.owl#fieldOfStudy', 'http://www.astro.umd.edu/~eshaya/astro-onto/owl/IVOAO.owl#formation', 'http://www.astro.umd.edu/~eshaya/astro-onto/owl/IVOAO.owl#horizon', 'http://www.astro.umd.edu/~eshaya/astro-onto/owl/IVOAO.owl#principle', 'http://www.astro.umd.edu/~eshaya/astro-onto/owl/IVOAO.owl#science', 'http://www.astro.umd.edu/~eshaya/astro-onto/owl/IVOAO.owl#structure', 'http://www.astro.umd.edu/~eshaya/astro-onto/owl/IVOAO.owl#theory', 'http://www.astro.umd.edu/~eshaya/astro-onto/owl/astronomy.owl#source', 'http://www.astro.umd.edu/~eshaya/astro-onto/owl/physics.owl#classicalPhysics', 'http://www.astro.umd.edu/~eshaya/astro-onto/owl/physics.owl#collision', 'http://www.astro.umd.edu/~eshaya/astro-onto/owl/physics.owl#electricField', 'http://www.astro.umd.edu/~eshaya/astro-onto/owl/physics.owl#gravitation', 'http://www.astro.umd.edu/~eshaya/astro-onto/owl/physics.owl#highEnergyPhysics', 'http://www.astro.umd.edu/~eshaya/astro-onto/owl/physics.owl#interaction', 'http://www.astro.umd.edu/~eshaya/astro-onto/owl/physics.owl#magneticField', 'http://www.astro.umd.edu/~eshaya/astro-onto/owl/physics.owl#massDistribution', 'http://www.astro.umd.edu/~eshaya/astro-onto/owl/physics.owl#matter', 'http://www.astro.umd.edu/~eshaya/astro-onto/owl/physics.owl#mechanics', 'http://www.astro.umd.edu/~eshaya/astro-onto/owl/physics.owl#physicalLaw', 'http://www.astro.umd.edu/~eshaya/astro-onto/owl/physics.owl#physics', 'http://www.astro.umd.edu/~eshaya/astro-onto/owl/physics.owl#radiation', 'http://www.astro.umd.edu/~eshaya/astro-onto/owl/physics.owl#scientificField', 'http://www.astro.umd.edu/~eshaya/astro-onto/owl/physics.owl#spectrum', 'http://www.astro.umd.edu/~eshaya/astro-onto/owl/physics.owl#thermodynamics', 'http://www.astro.umd.edu/~eshaya/astro-onto/owl/physics.owl#vacuum', 'http://www.w3.org/2004/02/skos/core#Collection', 'http://www.w3.org/2004/02/skos/core#Concept', 'http://www.w3.org/2004/02/skos/core#ConceptScheme', 'http://www.w3.org/ns/sosa/Observation', 'http://www.w3.org/ns/sosa/Result', 'http://www.w3.org/ns/sosa/Sensor', 'http://xmlns.com/foaf/0.1/Person', 'https://w3id.org/skgo/physci#Assumption', 'https://w3id.org/skgo/physci#Case', 'https://w3id.org/skgo/physci#Equation', 'https://w3id.org/skgo/physci#ExperimentalStudy', 'https://w3id.org/skgo/physci#Expression', 'https://w3id.org/skgo/physci#Function', 'https://w3id.org/skgo/physci#Metric', 'https://w3id.org/skgo/physci#ObservationalData', 'https://w3id.org/skgo/physci#Observatory', 'https://w3id.org/skgo/physci#Observer', 'https://w3id.org/skgo/physci#ResearchWork', 'https://w3id.org/skgo/physci#ScientificArgument', 'https://w3id.org/skgo/physci#ScientificLaw', 'https://w3id.org/skgo/physci#ScientificMethod', 'https://w3id.org/skgo/physci#ScientificProblem', 'https://w3id.org/skgo/physci#ScientificProperty', 'https://w3id.org/skgo/physci#Solution', 'https://w3id.org/skgo/physci#Theorem', 'https://w3id.org/skgo/physci#TheoreticalStudy']\n",
      "['Amount', 'Energy', 'Force', 'Mass', 'MassDensity', 'Radiance', 'Speed', 'Volume', 'WaveNumber', 'CategoricalStandard', 'Characteristic', 'CharacteristicQualifier', 'Entity', 'IdentifyingCharacteristic', 'Index', 'MeasuredCharacteristic', 'MeasuredValue', 'Measurement', 'MeasurementType', 'ObservationCollection', 'Protocol', 'Standard', 'Unit', 'Agent', 'Article', 'Blog', 'Collection', 'Component', 'Concept', 'Dataset', 'Document', 'Event', 'Issue', 'Journal', 'Organization', 'Person', 'Publication', 'PublicationEvent', 'PublishEvent', 'Publisher', 'ReviewEvent', 'Serial', 'Thing', 'Agent', 'AgentClass', 'BibliographicResource', 'PhysicalResource', 'Substance', 'Particle', 'Phenomena', 'Motion', 'PhysicalProcess', 'Representation', 'Simulate', 'Simulation', 'Model', 'ScientificModel', 'Wave', 'fieldOfStudy', 'formation', 'horizon', 'principle', 'science', 'structure', 'theory', 'source', 'classicalPhysics', 'collision', 'electricField', 'gravitation', 'highEnergyPhysics', 'interaction', 'magneticField', 'massDistribution', 'matter', 'mechanics', 'physicalLaw', 'physics', 'radiation', 'scientificField', 'spectrum', 'thermodynamics', 'vacuum', 'Collection', 'Concept', 'ConceptScheme', 'Observation', 'Result', 'Sensor', 'Person', 'Assumption', 'Case', 'Equation', 'ExperimentalStudy', 'Expression', 'Function', 'Metric', 'ObservationalData', 'Observatory', 'Observer', 'ResearchWork', 'ScientificArgument', 'ScientificLaw', 'ScientificMethod', 'ScientificProblem', 'ScientificProperty', 'Solution', 'Theorem', 'TheoreticalStudy']\n",
      "[None, None, None, None, None, None, None, None, None, None, None, None, None, None, None, None, None, None, None, None, None, None, None, None, None, None, None, None, None, None, None, None, None, None, None, None, None, None, None, None, None, None, None, None, None, None, None, None, None, None, None, None, None, None, None, None, None, None, None, None, None, None, None, None, None, None, None, None, None, None, None, None, None, None, None, None, None, None, None, None, None, None, None, None, None, None, None, None, None, None, 'Something that is unstated but considered to be fact for the purpose of making a decision or solving a problem in a research.', 'An instance of a particular situation of researchwork; an example of something occurring.', 'In physics, defining equations are equations that define new quantities in terms of base quantities', 'Studies that are concerned with the observation of physical phenomena and experiments.', 'Mathematical expression is a finite combination of symbols that is well-formed according to rules that depend on the context.', 'A function was originally the idealization of how a varying quantity depends on another quantity.', 'a system or standard of measurement.', 'Observational data is a valuable form of research that can give researchers information that goes beyond numbers and statistics.', 'A room or building housing an astronomical telescope or other scientific equipment for the study of natural phenomena.', 'The term observer  used as detector which detect formations also as a special relativity in theoretical', 'Research work is systematic activity that is done by a Person to acquire knowledge.', 'A scientific argument is defined as people disagreeing about scientific explanations (claims) using empirical data (evidence) to justify their side of the argument.', 'An explanation for patterns in nature that is supported by scientific evidence and verified multiple times by various groups of researchers', 'The process of the scientific method involves making conjectures (hypotheses), deriving predictions from them as logical consequences,', 'An inquiry starting from given conditions to investigate or demonstrate a fact, result, or law.', 'An attribute, quality, or characteristic of theory,model etc .It is (obsolete) to make a property of; to appropriate.', 'Means of solving a problem or dealing with a difficult situation', 'A theorem is a result that can be proven to be true from a set of axioms.', 'Theoretical physics is a branch of physics that employs mathematical models and abstractions of physical objects and systems to rationalize, explain and predict natural phenomena.']\n",
      "[None, None, None, None, None, 'Radiance and spectral radiance are radiometric measures that describe the amount of light that passes through or is emitted from a particular area, and falls within a given solid angle in a specified direction. They are used to characterize both emission from diffuse sources and reflection from diffuse surfaces. The SI unit of radiance is watts per steradian per square metre (W·sr−1·m−2).', None, None, None, None, None, None, None, None, None, 'A measured characteristic of an entity is one that is measurable within the physical world. A measured characteristic includes primary and derived physical dimensions (e.g., length, mass, area, density). The measured value assigned to a measured characteristic may be a quantity (a numerical value) or a quality (a category), including both nominal and ordinal categories.', None, 'A measurement is an assertion that a characteristic of an entity had a particular value with respect to an observation event.  A measurement is comprised of a characteristic, a value, a measurement standard, and a protocol. Measurements can also have precision as well as a description of the methods used. Measurements can encapsulate characteristics that were recorded, but not necessarily measured in a physical sense.  For example, the name of a location and a taxon can be captured through measurements.', None, 'An observation collection is a container for a set of observations.', None, None, 'A unit is a standard quantification for physical measurements. A unit is either a base unit, a composite unit, or a derived unit.', None, None, None, None, None, None, None, None, None, None, None, None, None, None, None, None, None, None, None, None, 'A resource that acts or has the power to act.', None, 'A book, article, or other documentary resource.', None, None, None, None, None, None, None, None, None, None, None, None, None, None, None, None, None, None, None, None, None, None, None, None, None, None, None, None, None, None, None, None, None, None, None, None, None, None, None, None, 'Activity of carrying out an (Observation) Procedure to estimate or calculate a value of a property of a FeatureOfInterest. Links to a Sensor to describe what made the Observation and how; links to an ObservableProperty to describe what the result is an estimate of, and to a FeatureOfInterest to detail what that property was associated with.', \"The Result of an Observation, Actuation, or act of Sampling. To store an observation's simple result value one can use the hasSimpleResult property.\", 'Device, agent (including humans), or software (simulation) involved in, or implementing, a Procedure. Sensors respond to a stimulus, e.g., a change in the environment, or input data composed from the results of prior Observations, and generate a Result. Sensors can be mounted on Platforms.', None, None, None, None, None, None, None, None, None, None, None, None, None, None, None, 'Scientific problems are usually based on observation of scientific phenomena.', None, None, 'The term is used especially in mathematics where the axioms are those of mathematical logic and the systems in question.', None]\n",
      "[{'http://ecoinformatics.org/oboe/oboe.1.2/oboe-core.owl#Characteristic', 'http://ecoinformatics.org/oboe/oboe.1.2/oboe-core.owl#MeasuredCharacteristic'}, {'http://ecoinformatics.org/oboe/oboe.1.2/oboe-core.owl#Characteristic', 'http://ecoinformatics.org/oboe/oboe.1.2/oboe-core.owl#MeasuredCharacteristic'}, {'http://ecoinformatics.org/oboe/oboe.1.2/oboe-core.owl#Characteristic', 'http://ecoinformatics.org/oboe/oboe.1.2/oboe-core.owl#MeasuredCharacteristic'}, {'http://ecoinformatics.org/oboe/oboe.1.2/oboe-core.owl#Characteristic', 'http://ecoinformatics.org/oboe/oboe.1.2/oboe-core.owl#MeasuredCharacteristic'}, {'http://ecoinformatics.org/oboe/oboe.1.2/oboe-core.owl#Characteristic', 'http://ecoinformatics.org/oboe/oboe.1.2/oboe-core.owl#MeasuredCharacteristic'}, {'http://ecoinformatics.org/oboe/oboe.1.2/oboe-core.owl#Characteristic', 'http://ecoinformatics.org/oboe/oboe.1.2/oboe-core.owl#MeasuredCharacteristic'}, {'http://ecoinformatics.org/oboe/oboe.1.2/oboe-core.owl#Characteristic', 'http://ecoinformatics.org/oboe/oboe.1.2/oboe-core.owl#MeasuredCharacteristic'}, {'http://ecoinformatics.org/oboe/oboe.1.2/oboe-core.owl#Characteristic', 'http://ecoinformatics.org/oboe/oboe.1.2/oboe-core.owl#MeasuredCharacteristic'}, {'http://ecoinformatics.org/oboe/oboe.1.2/oboe-core.owl#Characteristic', 'http://ecoinformatics.org/oboe/oboe.1.2/oboe-core.owl#MeasuredCharacteristic'}, set(), set(), set(), set(), set(), set(), {'http://ecoinformatics.org/oboe/oboe.1.2/oboe-core.owl#Characteristic'}, set(), {'N736d2650af8945f0af7c3f1b3ec327b4', 'N83b562a576854034ba77e19c2509f386', 'Nffc041f7857844e5b1daa247d5d7dd87', 'Na2a0788428864684ae86e02ac631078a'}, set(), set(), set(), set(), {'http://ecoinformatics.org/oboe/oboe.1.2/oboe-core.owl#Standard'}, {'http://www.w3.org/2002/07/owl#Thing', 'http://ns.nature.com/terms/Thing'}, {'http://www.w3.org/2002/07/owl#Thing', 'http://ns.nature.com/terms/Publication', 'http://ns.nature.com/terms/Concept', 'http://ns.nature.com/terms/Document', 'http://ns.nature.com/terms/Thing'}, set(), {'http://www.w3.org/2002/07/owl#Thing', 'http://ns.nature.com/terms/Publication', 'http://ns.nature.com/terms/Concept', 'http://ns.nature.com/terms/Document', 'http://ns.nature.com/terms/Thing'}, set(), {'http://www.w3.org/2002/07/owl#Thing', 'http://ns.nature.com/terms/Thing'}, set(), {'http://www.w3.org/2002/07/owl#Thing', 'http://ns.nature.com/terms/Publication', 'http://ns.nature.com/terms/Thing', 'http://ns.nature.com/terms/Concept'}, {'http://www.w3.org/2002/07/owl#Thing', 'http://ns.nature.com/terms/Thing'}, {'http://ns.nature.com/terms/Collection', 'http://www.w3.org/2002/07/owl#Thing', 'http://ns.nature.com/terms/Publication', 'http://ns.nature.com/terms/Concept', 'http://ns.nature.com/terms/Document', 'http://ns.nature.com/terms/Thing'}, {'http://www.w3.org/2002/07/owl#Thing', 'http://ns.nature.com/terms/Publication', 'http://ns.nature.com/terms/Serial', 'http://ns.nature.com/terms/Concept', 'http://ns.nature.com/terms/Thing'}, {'http://ns.nature.com/terms/Thing', 'http://www.w3.org/2002/07/owl#Thing', 'http://ns.nature.com/terms/Agent'}, {'http://ns.nature.com/terms/Thing', 'http://www.w3.org/2002/07/owl#Thing', 'http://ns.nature.com/terms/Agent'}, {'http://www.w3.org/2002/07/owl#Thing', 'http://ns.nature.com/terms/Thing', 'http://ns.nature.com/terms/Concept'}, {'http://ns.nature.com/terms/Event', 'http://www.w3.org/2002/07/owl#Thing', 'http://ns.nature.com/terms/Thing'}, {'http://ns.nature.com/terms/PublicationEvent', 'http://ns.nature.com/terms/Event', 'http://www.w3.org/2002/07/owl#Thing', 'http://ns.nature.com/terms/Thing'}, {'http://ns.nature.com/terms/Agent', 'http://www.w3.org/2002/07/owl#Thing', 'http://ns.nature.com/terms/Thing', 'http://ns.nature.com/terms/Organization'}, {'http://ns.nature.com/terms/PublicationEvent', 'http://ns.nature.com/terms/Event', 'http://www.w3.org/2002/07/owl#Thing', 'http://ns.nature.com/terms/Thing'}, {'http://www.w3.org/2002/07/owl#Thing', 'http://ns.nature.com/terms/Publication', 'http://ns.nature.com/terms/Thing', 'http://ns.nature.com/terms/Concept'}, {'http://www.w3.org/2002/07/owl#Thing'}, set(), set(), set(), set(), set(), {'http://sweetontology.net/matr/Substance'}, {'http://www.w3.org/2002/07/owl#Thing'}, {'http://sweetontology.net/procPhysical/PhysicalProcess'}, set(), set(), set(), set(), set(), {'http://sweetontology.net/repr/Representation'}, set(), set(), {'http://www.w3.org/2002/07/owl#Thing', 'http://sweetontology.net/phen/Phenomena'}, set(), set(), {'http://www.astro.umd.edu/~eshaya/astro-onto/owl/IVOAO.owl#fieldOfStudy'}, {'http://sweetontology.net/repr/Representation'}, {'http://www.astro.umd.edu/~eshaya/astro-onto/owl/IVOAO.owl#fieldOfStudy', 'http://www.astro.umd.edu/~eshaya/astro-onto/owl/IVOAO.owl#science'}, set(), {'http://www.astro.umd.edu/~eshaya/astro-onto/owl/physics.owl#physics', 'http://www.astro.umd.edu/~eshaya/astro-onto/owl/physics.owl#scientificField'}, {'https://w3id.org/skgo/physci#Case'}, {'N7acc5c50394740f9b9b36ba5bb271a72', 'https://w3id.org/skgo/physci#ScientificProperty'}, {'http://ecoinformatics.org/oboe/oboe.1.2/oboe-core.owl#ObservationCollection'}, {'http://www.astro.umd.edu/~eshaya/astro-onto/owl/physics.owl#physics', 'http://www.astro.umd.edu/~eshaya/astro-onto/owl/physics.owl#scientificField'}, {'http://ecoinformatics.org/oboe/oboe.1.2/oboe-core.owl#ObservationCollection'}, set(), set(), set(), {'http://www.astro.umd.edu/~eshaya/astro-onto/owl/physics.owl#physics', 'http://www.astro.umd.edu/~eshaya/astro-onto/owl/physics.owl#scientificField'}, {'http://www.astro.umd.edu/~eshaya/astro-onto/owl/IVOAO.owl#fieldOfStudy', 'http://www.astro.umd.edu/~eshaya/astro-onto/owl/IVOAO.owl#science', 'http://www.astro.umd.edu/~eshaya/astro-onto/owl/IVOAO.owl#theory'}, {'http://www.astro.umd.edu/~eshaya/astro-onto/owl/physics.owl#scientificField'}, {'https://w3id.org/skgo/physci#Case'}, set(), {'http://ecoinformatics.org/oboe/oboe.1.2/oboe-core.owl#ObservationCollection'}, {'http://www.astro.umd.edu/~eshaya/astro-onto/owl/IVOAO.owl#fieldOfStudy', 'http://www.astro.umd.edu/~eshaya/astro-onto/owl/IVOAO.owl#science', 'http://www.astro.umd.edu/~eshaya/astro-onto/owl/IVOAO.owl#theory', 'http://www.astro.umd.edu/~eshaya/astro-onto/owl/physics.owl#physicalLaw'}, {'http://ecoinformatics.org/oboe/oboe.1.2/oboe-core.owl#ObservationCollection'}, set(), set(), set(), {'https://w3id.org/skgo/physci#ScientificMethod'}, set(), set(), set(), set(), set(), {'https://w3id.org/skgo/physci#Expression'}, {'https://w3id.org/skgo/physci#ResearchWork'}, set(), {'https://w3id.org/skgo/physci#Expression'}, {'N736d2650af8945f0af7c3f1b3ec327b4', 'http://ecoinformatics.org/oboe/oboe.1.2/oboe-core.owl#Measurement', 'N83b562a576854034ba77e19c2509f386', 'Nffc041f7857844e5b1daa247d5d7dd87', 'Na2a0788428864684ae86e02ac631078a'}, {'http://ecoinformatics.org/oboe/oboe.1.2/oboe-core.owl#ObservationCollection'}, set(), set(), set(), set(), set(), set(), set(), {'N7acc5c50394740f9b9b36ba5bb271a72'}, set(), set(), {'https://w3id.org/skgo/physci#ResearchWork'}]\n",
      "[[('http://ecoinformatics.org/oboe/oboe.1.2/oboe-core.owl#MeasurementType', 'http://ecoinformatics.org/oboe/oboe.1.2/oboe-core.owl#measuresCharacteristic', 'http://ecoinformatics.org/oboe/oboe.1.2/oboe-core.owl#Characteristic'), ('http://ecoinformatics.org/oboe/oboe.1.2/oboe-core.owl#Measurement', 'http://ecoinformatics.org/oboe/oboe.1.2/oboe-core.owl#ofCharacteristic', 'http://ecoinformatics.org/oboe/oboe.1.2/oboe-core.owl#Characteristic')], [('http://ecoinformatics.org/oboe/oboe.1.2/oboe-core.owl#MeasurementType', 'http://ecoinformatics.org/oboe/oboe.1.2/oboe-core.owl#measuresCharacteristic', 'http://ecoinformatics.org/oboe/oboe.1.2/oboe-core.owl#Characteristic'), ('http://ecoinformatics.org/oboe/oboe.1.2/oboe-core.owl#Measurement', 'http://ecoinformatics.org/oboe/oboe.1.2/oboe-core.owl#ofCharacteristic', 'http://ecoinformatics.org/oboe/oboe.1.2/oboe-core.owl#Characteristic')], [('http://ecoinformatics.org/oboe/oboe.1.2/oboe-core.owl#MeasurementType', 'http://ecoinformatics.org/oboe/oboe.1.2/oboe-core.owl#measuresCharacteristic', 'http://ecoinformatics.org/oboe/oboe.1.2/oboe-core.owl#Characteristic'), ('http://ecoinformatics.org/oboe/oboe.1.2/oboe-core.owl#Measurement', 'http://ecoinformatics.org/oboe/oboe.1.2/oboe-core.owl#ofCharacteristic', 'http://ecoinformatics.org/oboe/oboe.1.2/oboe-core.owl#Characteristic')], [('http://ecoinformatics.org/oboe/oboe.1.2/oboe-core.owl#MeasurementType', 'http://ecoinformatics.org/oboe/oboe.1.2/oboe-core.owl#measuresCharacteristic', 'http://ecoinformatics.org/oboe/oboe.1.2/oboe-core.owl#Characteristic'), ('http://ecoinformatics.org/oboe/oboe.1.2/oboe-core.owl#Measurement', 'http://ecoinformatics.org/oboe/oboe.1.2/oboe-core.owl#ofCharacteristic', 'http://ecoinformatics.org/oboe/oboe.1.2/oboe-core.owl#Characteristic')], [('http://ecoinformatics.org/oboe/oboe.1.2/oboe-core.owl#MeasurementType', 'http://ecoinformatics.org/oboe/oboe.1.2/oboe-core.owl#measuresCharacteristic', 'http://ecoinformatics.org/oboe/oboe.1.2/oboe-core.owl#Characteristic'), ('http://ecoinformatics.org/oboe/oboe.1.2/oboe-core.owl#Measurement', 'http://ecoinformatics.org/oboe/oboe.1.2/oboe-core.owl#ofCharacteristic', 'http://ecoinformatics.org/oboe/oboe.1.2/oboe-core.owl#Characteristic')], [('http://ecoinformatics.org/oboe/oboe.1.2/oboe-core.owl#MeasurementType', 'http://ecoinformatics.org/oboe/oboe.1.2/oboe-core.owl#measuresCharacteristic', 'http://ecoinformatics.org/oboe/oboe.1.2/oboe-core.owl#Characteristic'), ('http://ecoinformatics.org/oboe/oboe.1.2/oboe-core.owl#Measurement', 'http://ecoinformatics.org/oboe/oboe.1.2/oboe-core.owl#ofCharacteristic', 'http://ecoinformatics.org/oboe/oboe.1.2/oboe-core.owl#Characteristic')], [('http://ecoinformatics.org/oboe/oboe.1.2/oboe-core.owl#MeasurementType', 'http://ecoinformatics.org/oboe/oboe.1.2/oboe-core.owl#measuresCharacteristic', 'http://ecoinformatics.org/oboe/oboe.1.2/oboe-core.owl#Characteristic'), ('http://ecoinformatics.org/oboe/oboe.1.2/oboe-core.owl#Measurement', 'http://ecoinformatics.org/oboe/oboe.1.2/oboe-core.owl#ofCharacteristic', 'http://ecoinformatics.org/oboe/oboe.1.2/oboe-core.owl#Characteristic')], [('http://ecoinformatics.org/oboe/oboe.1.2/oboe-core.owl#MeasurementType', 'http://ecoinformatics.org/oboe/oboe.1.2/oboe-core.owl#measuresCharacteristic', 'http://ecoinformatics.org/oboe/oboe.1.2/oboe-core.owl#Characteristic'), ('http://ecoinformatics.org/oboe/oboe.1.2/oboe-core.owl#Measurement', 'http://ecoinformatics.org/oboe/oboe.1.2/oboe-core.owl#ofCharacteristic', 'http://ecoinformatics.org/oboe/oboe.1.2/oboe-core.owl#Characteristic')], [('http://ecoinformatics.org/oboe/oboe.1.2/oboe-core.owl#MeasurementType', 'http://ecoinformatics.org/oboe/oboe.1.2/oboe-core.owl#measuresCharacteristic', 'http://ecoinformatics.org/oboe/oboe.1.2/oboe-core.owl#Characteristic'), ('http://ecoinformatics.org/oboe/oboe.1.2/oboe-core.owl#Measurement', 'http://ecoinformatics.org/oboe/oboe.1.2/oboe-core.owl#ofCharacteristic', 'http://ecoinformatics.org/oboe/oboe.1.2/oboe-core.owl#Characteristic')], [], [], [], [], [], [], [('http://ecoinformatics.org/oboe/oboe.1.2/oboe-core.owl#MeasurementType', 'http://ecoinformatics.org/oboe/oboe.1.2/oboe-core.owl#measuresCharacteristic', 'http://ecoinformatics.org/oboe/oboe.1.2/oboe-core.owl#Characteristic'), ('http://ecoinformatics.org/oboe/oboe.1.2/oboe-core.owl#Measurement', 'http://ecoinformatics.org/oboe/oboe.1.2/oboe-core.owl#ofCharacteristic', 'http://ecoinformatics.org/oboe/oboe.1.2/oboe-core.owl#Characteristic')], [], [], [], [], [], [], [('http://www.astro.umd.edu/~eshaya/astro-onto/owl/IVOAO.owl#fieldOfStudy', 'http://ecoinformatics.org/oboe/oboe.1.2/oboe-core.owl#usesStandard', 'http://ecoinformatics.org/oboe/oboe.1.2/oboe-core.owl#Standard')], [], [('http://ns.nature.com/terms/Publication', 'http://ns.nature.com/terms/hasSerial', 'http://ns.nature.com/terms/Serial'), ('http://ns.nature.com/terms/Publication', 'http://ns.nature.com/terms/relation', 'http://ns.nature.com/terms/Publication'), ('http://ns.nature.com/terms/Publication', 'https://w3id.org/skgo/physci#addressesResearchWork', 'https://w3id.org/skgo/physci#ResearchWork'), ('http://ns.nature.com/terms/Publication', 'https://w3id.org/skgo/physci#hasResearchField', 'http://www.astro.umd.edu/~eshaya/astro-onto/owl/IVOAO.owl#fieldOfStudy'), ('http://ns.nature.com/terms/PublicationEvent', 'http://ns.nature.com/terms/hasPublication', 'http://ns.nature.com/terms/Publication'), ('http://ns.nature.com/terms/Publication', 'http://ns.nature.com/terms/relation', 'http://ns.nature.com/terms/Publication')], [], [('http://ns.nature.com/terms/Publication', 'http://ns.nature.com/terms/hasSerial', 'http://ns.nature.com/terms/Serial'), ('http://ns.nature.com/terms/Publication', 'http://ns.nature.com/terms/relation', 'http://ns.nature.com/terms/Publication'), ('http://ns.nature.com/terms/Publication', 'https://w3id.org/skgo/physci#addressesResearchWork', 'https://w3id.org/skgo/physci#ResearchWork'), ('http://ns.nature.com/terms/Publication', 'https://w3id.org/skgo/physci#hasResearchField', 'http://www.astro.umd.edu/~eshaya/astro-onto/owl/IVOAO.owl#fieldOfStudy'), ('http://ns.nature.com/terms/PublicationEvent', 'http://ns.nature.com/terms/hasPublication', 'http://ns.nature.com/terms/Publication'), ('http://ns.nature.com/terms/Publication', 'http://ns.nature.com/terms/relation', 'http://ns.nature.com/terms/Publication')], [], [], [], [('http://ns.nature.com/terms/Publication', 'http://ns.nature.com/terms/hasSerial', 'http://ns.nature.com/terms/Serial'), ('http://ns.nature.com/terms/Publication', 'http://ns.nature.com/terms/relation', 'http://ns.nature.com/terms/Publication'), ('http://ns.nature.com/terms/Publication', 'https://w3id.org/skgo/physci#addressesResearchWork', 'https://w3id.org/skgo/physci#ResearchWork'), ('http://ns.nature.com/terms/Publication', 'https://w3id.org/skgo/physci#hasResearchField', 'http://www.astro.umd.edu/~eshaya/astro-onto/owl/IVOAO.owl#fieldOfStudy'), ('http://ns.nature.com/terms/PublicationEvent', 'http://ns.nature.com/terms/hasPublication', 'http://ns.nature.com/terms/Publication'), ('http://ns.nature.com/terms/Publication', 'http://ns.nature.com/terms/relation', 'http://ns.nature.com/terms/Publication')], [], [('http://ns.nature.com/terms/Publication', 'http://ns.nature.com/terms/hasSerial', 'http://ns.nature.com/terms/Serial'), ('http://ns.nature.com/terms/Publication', 'http://ns.nature.com/terms/relation', 'http://ns.nature.com/terms/Publication'), ('http://ns.nature.com/terms/Publication', 'https://w3id.org/skgo/physci#addressesResearchWork', 'https://w3id.org/skgo/physci#ResearchWork'), ('http://ns.nature.com/terms/Publication', 'https://w3id.org/skgo/physci#hasResearchField', 'http://www.astro.umd.edu/~eshaya/astro-onto/owl/IVOAO.owl#fieldOfStudy'), ('http://ns.nature.com/terms/PublicationEvent', 'http://ns.nature.com/terms/hasPublication', 'http://ns.nature.com/terms/Publication'), ('http://ns.nature.com/terms/Publication', 'http://ns.nature.com/terms/relation', 'http://ns.nature.com/terms/Publication')], [('http://ns.nature.com/terms/Publication', 'http://ns.nature.com/terms/hasSerial', 'http://ns.nature.com/terms/Serial'), ('http://ns.nature.com/terms/Publication', 'http://ns.nature.com/terms/relation', 'http://ns.nature.com/terms/Publication'), ('http://ns.nature.com/terms/Publication', 'https://w3id.org/skgo/physci#addressesResearchWork', 'https://w3id.org/skgo/physci#ResearchWork'), ('http://ns.nature.com/terms/Publication', 'https://w3id.org/skgo/physci#hasResearchField', 'http://www.astro.umd.edu/~eshaya/astro-onto/owl/IVOAO.owl#fieldOfStudy'), ('http://ns.nature.com/terms/PublicationEvent', 'http://ns.nature.com/terms/hasPublication', 'http://ns.nature.com/terms/Publication'), ('http://ns.nature.com/terms/Publication', 'http://ns.nature.com/terms/relation', 'http://ns.nature.com/terms/Publication'), ('http://ns.nature.com/terms/Publication', 'http://ns.nature.com/terms/hasSerial', 'http://ns.nature.com/terms/Serial')], [], [], [], [], [('http://ns.nature.com/terms/PublicationEvent', 'http://ns.nature.com/terms/hasIssue', 'http://ns.nature.com/terms/Issue'), ('http://ns.nature.com/terms/PublicationEvent', 'http://ns.nature.com/terms/hasPublication', 'http://ns.nature.com/terms/Publication')], [('http://ns.nature.com/terms/Organization', 'http://purl.org/dc/terms/rightsHolder', 'http://purl.org/dc/terms/Agent')], [('http://ns.nature.com/terms/PublicationEvent', 'http://ns.nature.com/terms/hasIssue', 'http://ns.nature.com/terms/Issue'), ('http://ns.nature.com/terms/PublicationEvent', 'http://ns.nature.com/terms/hasPublication', 'http://ns.nature.com/terms/Publication')], [('http://ns.nature.com/terms/Publication', 'http://ns.nature.com/terms/hasSerial', 'http://ns.nature.com/terms/Serial'), ('http://ns.nature.com/terms/Publication', 'http://ns.nature.com/terms/relation', 'http://ns.nature.com/terms/Publication'), ('http://ns.nature.com/terms/Publication', 'https://w3id.org/skgo/physci#addressesResearchWork', 'https://w3id.org/skgo/physci#ResearchWork'), ('http://ns.nature.com/terms/Publication', 'https://w3id.org/skgo/physci#hasResearchField', 'http://www.astro.umd.edu/~eshaya/astro-onto/owl/IVOAO.owl#fieldOfStudy'), ('http://ns.nature.com/terms/PublicationEvent', 'http://ns.nature.com/terms/hasPublication', 'http://ns.nature.com/terms/Publication'), ('http://ns.nature.com/terms/Publication', 'http://ns.nature.com/terms/relation', 'http://ns.nature.com/terms/Publication')], [], [], [], [], [], [], [], [], [], [], [], [], [], [], [], [], [], [('http://sweetontology.net/phen/Phenomena', 'https://w3id.org/skgo/physci#hasMagneticField', 'http://www.astro.umd.edu/~eshaya/astro-onto/owl/physics.owl#magneticField'), ('http://www.w3.org/ns/sosa/Observation', 'https://w3id.org/skgo/physci#hasPhenomena', 'http://sweetontology.net/phen/Phenomena')], [], [], [('http://www.astro.umd.edu/~eshaya/astro-onto/owl/IVOAO.owl#fieldOfStudy', 'http://ecoinformatics.org/oboe/oboe.1.2/oboe-core.owl#usesStandard', 'http://ecoinformatics.org/oboe/oboe.1.2/oboe-core.owl#Standard'), ('http://ns.nature.com/terms/Publication', 'https://w3id.org/skgo/physci#hasResearchField', 'http://www.astro.umd.edu/~eshaya/astro-onto/owl/IVOAO.owl#fieldOfStudy')], [], [('http://www.astro.umd.edu/~eshaya/astro-onto/owl/IVOAO.owl#fieldOfStudy', 'http://ecoinformatics.org/oboe/oboe.1.2/oboe-core.owl#usesStandard', 'http://ecoinformatics.org/oboe/oboe.1.2/oboe-core.owl#Standard'), ('http://ns.nature.com/terms/Publication', 'https://w3id.org/skgo/physci#hasResearchField', 'http://www.astro.umd.edu/~eshaya/astro-onto/owl/IVOAO.owl#fieldOfStudy')], [], [], [('https://w3id.org/skgo/physci#ResearchWork', 'https://w3id.org/skgo/physci#considerCase', 'https://w3id.org/skgo/physci#Case'), ('http://www.astro.umd.edu/~eshaya/astro-onto/owl/IVOAO.owl#formation', 'https://w3id.org/skgo/physci#formedBy', 'https://w3id.org/skgo/physci#Case')], [('http://sweetontology.net/procPhysical/Motion', 'https://w3id.org/skgo/physci#containProperty', 'https://w3id.org/skgo/physci#ScientificProperty'), ('http://sweetontology.net/reprSciModel/ScientificModel', 'https://w3id.org/skgo/physci#hasScientificProperty', 'https://w3id.org/skgo/physci#ScientificProperty')], [], [], [], [], [], [], [], [('http://www.astro.umd.edu/~eshaya/astro-onto/owl/IVOAO.owl#fieldOfStudy', 'http://ecoinformatics.org/oboe/oboe.1.2/oboe-core.owl#usesStandard', 'http://ecoinformatics.org/oboe/oboe.1.2/oboe-core.owl#Standard'), ('http://www.astro.umd.edu/~eshaya/astro-onto/owl/IVOAO.owl#theory', 'https://w3id.org/skgo/physci#hasConcept', 'http://www.w3.org/2004/02/skos/core#Concept'), ('http://www.astro.umd.edu/~eshaya/astro-onto/owl/IVOAO.owl#theory', 'https://w3id.org/skgo/physci#introducedBy', 'N26ba8f33d81643d58fc53920fca06d23'), ('http://ns.nature.com/terms/Publication', 'https://w3id.org/skgo/physci#hasResearchField', 'http://www.astro.umd.edu/~eshaya/astro-onto/owl/IVOAO.owl#fieldOfStudy'), ('http://www.astro.umd.edu/~eshaya/astro-onto/owl/IVOAO.owl#principle', 'https://w3id.org/skgo/physci#formulate', 'http://www.astro.umd.edu/~eshaya/astro-onto/owl/IVOAO.owl#theory'), ('http://www.astro.umd.edu/~eshaya/astro-onto/owl/IVOAO.owl#formation', 'https://w3id.org/skgo/physci#hasTheory', 'http://www.astro.umd.edu/~eshaya/astro-onto/owl/IVOAO.owl#theory'), ('https://w3id.org/skgo/physci#Solution', 'https://w3id.org/skgo/physci#usesTheory', 'http://www.astro.umd.edu/~eshaya/astro-onto/owl/IVOAO.owl#theory')], [], [('https://w3id.org/skgo/physci#ResearchWork', 'https://w3id.org/skgo/physci#considerCase', 'https://w3id.org/skgo/physci#Case'), ('http://www.astro.umd.edu/~eshaya/astro-onto/owl/IVOAO.owl#formation', 'https://w3id.org/skgo/physci#formedBy', 'https://w3id.org/skgo/physci#Case')], [], [], [('http://www.astro.umd.edu/~eshaya/astro-onto/owl/IVOAO.owl#fieldOfStudy', 'http://ecoinformatics.org/oboe/oboe.1.2/oboe-core.owl#usesStandard', 'http://ecoinformatics.org/oboe/oboe.1.2/oboe-core.owl#Standard'), ('http://www.astro.umd.edu/~eshaya/astro-onto/owl/IVOAO.owl#theory', 'https://w3id.org/skgo/physci#hasConcept', 'http://www.w3.org/2004/02/skos/core#Concept'), ('http://www.astro.umd.edu/~eshaya/astro-onto/owl/IVOAO.owl#theory', 'https://w3id.org/skgo/physci#introducedBy', 'N26ba8f33d81643d58fc53920fca06d23'), ('http://www.astro.umd.edu/~eshaya/astro-onto/owl/physics.owl#physicalLaw', 'https://w3id.org/skgo/physci#hasPrinciple', 'http://www.astro.umd.edu/~eshaya/astro-onto/owl/IVOAO.owl#principle'), ('http://ns.nature.com/terms/Publication', 'https://w3id.org/skgo/physci#hasResearchField', 'http://www.astro.umd.edu/~eshaya/astro-onto/owl/IVOAO.owl#fieldOfStudy'), ('http://www.astro.umd.edu/~eshaya/astro-onto/owl/IVOAO.owl#principle', 'https://w3id.org/skgo/physci#formulate', 'http://www.astro.umd.edu/~eshaya/astro-onto/owl/IVOAO.owl#theory'), ('http://www.astro.umd.edu/~eshaya/astro-onto/owl/IVOAO.owl#formation', 'https://w3id.org/skgo/physci#hasTheory', 'http://www.astro.umd.edu/~eshaya/astro-onto/owl/IVOAO.owl#theory'), ('https://w3id.org/skgo/physci#Solution', 'https://w3id.org/skgo/physci#usesTheory', 'http://www.astro.umd.edu/~eshaya/astro-onto/owl/IVOAO.owl#theory'), ('https://w3id.org/skgo/physci#ResearchWork', 'https://w3id.org/skgo/physci#confirmLaw', 'http://www.astro.umd.edu/~eshaya/astro-onto/owl/physics.owl#physicalLaw')], [], [], [], [], [('https://w3id.org/skgo/physci#ScientificMethod', 'http://ecoinformatics.org/oboe/oboe.1.2/oboe-core.owl#usesProtocol', 'http://ecoinformatics.org/oboe/oboe.1.2/oboe-core.owl#Protocol'), ('https://w3id.org/skgo/physci#ScientificMethod', 'https://w3id.org/skgo/physci#establishTheorem', 'https://w3id.org/skgo/physci#Theorem'), ('https://w3id.org/skgo/physci#ScientificMethod', 'https://w3id.org/skgo/physci#hasObservation', 'http://www.w3.org/ns/sosa/Observation'), ('https://w3id.org/skgo/physci#ScientificMethod', 'https://w3id.org/skgo/physci#relatedGravitation', 'http://www.astro.umd.edu/~eshaya/astro-onto/owl/physics.owl#gravitation'), ('http://ecoinformatics.org/oboe/oboe.1.2/oboe-core.owl#Measurement', 'https://w3id.org/skgo/physci#applyMethod', 'https://w3id.org/skgo/physci#ScientificMethod'), ('https://w3id.org/skgo/physci#Solution', 'https://w3id.org/skgo/physci#hasScientificMethod', 'https://w3id.org/skgo/physci#ScientificMethod'), ('http://sweetontology.net/reprSciModel/ScientificModel', 'https://w3id.org/skgo/physci#usesScientificMethod', 'https://w3id.org/skgo/physci#ScientificMethod')], [], [], [], [], [], [('http://sweetontology.net/procPhysical/Motion', 'https://w3id.org/skgo/physci#hasExpression', 'https://w3id.org/skgo/physci#Expression')], [('https://w3id.org/skgo/physci#ResearchWork', 'http://www.w3.org/ns/sosa/hasResult', 'http://www.w3.org/ns/sosa/Result'), ('https://w3id.org/skgo/physci#ResearchWork', 'https://w3id.org/skgo/physci#argueFormation', 'http://www.astro.umd.edu/~eshaya/astro-onto/owl/IVOAO.owl#formation'), ('https://w3id.org/skgo/physci#ResearchWork', 'https://w3id.org/skgo/physci#confirmLaw', 'http://www.astro.umd.edu/~eshaya/astro-onto/owl/physics.owl#physicalLaw'), ('https://w3id.org/skgo/physci#ResearchWork', 'https://w3id.org/skgo/physci#considerCase', 'https://w3id.org/skgo/physci#Case'), ('https://w3id.org/skgo/physci#ResearchWork', 'https://w3id.org/skgo/physci#extendArgument', 'https://w3id.org/skgo/physci#ScientificArgument'), ('https://w3id.org/skgo/physci#ResearchWork', 'https://w3id.org/skgo/physci#hasProblem', 'https://w3id.org/skgo/physci#ScientificProblem'), ('https://w3id.org/skgo/physci#ResearchWork', 'https://w3id.org/skgo/physci#hasScientificModel', 'http://sweetontology.net/reprSciModel/ScientificModel'), ('http://ns.nature.com/terms/Publication', 'https://w3id.org/skgo/physci#addressesResearchWork', 'https://w3id.org/skgo/physci#ResearchWork')], [], [('http://sweetontology.net/procPhysical/Motion', 'https://w3id.org/skgo/physci#hasExpression', 'https://w3id.org/skgo/physci#Expression')], [('http://ecoinformatics.org/oboe/oboe.1.2/oboe-core.owl#Measurement', 'http://ecoinformatics.org/oboe/oboe.1.2/oboe-core.owl#measurementFor', 'https://w3id.org/skgo/physci#ScientificLaw'), ('http://ecoinformatics.org/oboe/oboe.1.2/oboe-core.owl#Measurement', 'http://ecoinformatics.org/oboe/oboe.1.2/oboe-core.owl#ofCharacteristic', 'http://ecoinformatics.org/oboe/oboe.1.2/oboe-core.owl#Characteristic'), ('http://ecoinformatics.org/oboe/oboe.1.2/oboe-core.owl#Measurement', 'https://w3id.org/skgo/physci#applyMethod', 'https://w3id.org/skgo/physci#ScientificMethod'), ('http://www.w3.org/ns/sosa/Observation', 'http://ecoinformatics.org/oboe/oboe.1.2/oboe-core.owl#hasMeasurement', 'http://ecoinformatics.org/oboe/oboe.1.2/oboe-core.owl#Measurement'), ('http://sweetontology.net/reprSciModel/ScientificModel', 'https://w3id.org/skgo/physci#relyOnMeasurement', 'http://ecoinformatics.org/oboe/oboe.1.2/oboe-core.owl#Measurement')], [], [], [], [], [], [], [], [], [], [], [], [('https://w3id.org/skgo/physci#ResearchWork', 'http://www.w3.org/ns/sosa/hasResult', 'http://www.w3.org/ns/sosa/Result'), ('https://w3id.org/skgo/physci#ResearchWork', 'https://w3id.org/skgo/physci#argueFormation', 'http://www.astro.umd.edu/~eshaya/astro-onto/owl/IVOAO.owl#formation'), ('https://w3id.org/skgo/physci#ResearchWork', 'https://w3id.org/skgo/physci#confirmLaw', 'http://www.astro.umd.edu/~eshaya/astro-onto/owl/physics.owl#physicalLaw'), ('https://w3id.org/skgo/physci#ResearchWork', 'https://w3id.org/skgo/physci#considerCase', 'https://w3id.org/skgo/physci#Case'), ('https://w3id.org/skgo/physci#ResearchWork', 'https://w3id.org/skgo/physci#extendArgument', 'https://w3id.org/skgo/physci#ScientificArgument'), ('https://w3id.org/skgo/physci#ResearchWork', 'https://w3id.org/skgo/physci#hasProblem', 'https://w3id.org/skgo/physci#ScientificProblem'), ('https://w3id.org/skgo/physci#ResearchWork', 'https://w3id.org/skgo/physci#hasScientificModel', 'http://sweetontology.net/reprSciModel/ScientificModel'), ('http://ns.nature.com/terms/Publication', 'https://w3id.org/skgo/physci#addressesResearchWork', 'https://w3id.org/skgo/physci#ResearchWork')]]\n"
     ]
    }
   ],
   "source": [
    "print(classes)\n",
    "print(classNames)\n",
    "print(classDescriptions)\n",
    "print(classComments)\n",
    "print(superclasses)\n",
    "print(propertyTriples)"
   ]
  },
  {
   "cell_type": "code",
   "execution_count": 3,
   "metadata": {},
   "outputs": [],
   "source": [
    "from json import dumps\n",
    "def safeVisNetworkJSONToHTMLFile(jsonData, htmlFilePath):\n",
    "    with open(htmlFilePath, \"w\") as htmlFile:\n",
    "        htmlFile.write(\n",
    "            f\"\"\"\n",
    "            <!DOCTYPE html>\n",
    "            <html lang=\"en-US\">\n",
    "            \n",
    "            <head>\n",
    "                <meta charset=\"UTF-8\">\n",
    "                <meta name=\"viewport\" content=\"width=device-width, initial-scale=1\">\n",
    "                <title>Inline vis</title>\n",
    "            </head>\n",
    "            \n",
    "            <body>\n",
    "                <div id=\"mynetwork\" style=\"width:100vw; height:100vh;\"></div>\n",
    "                <script src=\" https://cdn.jsdelivr.net/npm/vis-data@7.1.9/peer/umd/vis-data.min.js \"></script>\n",
    "                <script src=\" https://cdn.jsdelivr.net/npm/vis-network@9.1.9/peer/umd/vis-network.min.js \"></script>\n",
    "                <link href=\" https://cdn.jsdelivr.net/npm/vis-network@9.1.9/styles/vis-network.min.css \" rel=\"stylesheet\">\n",
    "                <script>\n",
    "                    var jsonData = {dumps(jsonData)};\n",
    "                    // create a network\n",
    "                    var container = document.getElementById(\"mynetwork\");\n",
    "                    var options = {{}};\n",
    "                    var network = new vis.Network(container, jsonData, options);\n",
    "                </script>\n",
    "            </body>\n",
    "            \n",
    "            </html>\n",
    "            \"\"\"\n",
    "        )"
   ]
  },
  {
   "cell_type": "code",
   "execution_count": 22,
   "metadata": {},
   "outputs": [],
   "source": [
    "def visualizeNamedIndividuals(graph, filename = \"output.html\"):\n",
    "    namedIndividuals = getAllNamedIndividuals(graph)\n",
    "    connections = getAllConnectionsBetweenNamedIndividuals(graph)\n",
    "    nodes = []\n",
    "    edges = []\n",
    "    for namedIndividual in namedIndividuals:\n",
    "        nodes.append({\"id\": namedIndividual, \"label\": getNodeName(graph, namedIndividual)})\n",
    "    for connection in connections:\n",
    "        edges.append({\"from\": connection[0], \"to\": connection[2], \"label\": getNodeName(graph, connection[1]), \"arrows\": \"to\"})\n",
    "    visjsjson = {\"nodes\": nodes, \"edges\": edges}\n",
    "    safeVisNetworkJSONToHTMLFile(visjsjson, filename)"
   ]
  },
  {
   "cell_type": "code",
   "execution_count": null,
   "metadata": {},
   "outputs": [],
   "source": [
    "def visualizeOntology(graph, filename = \"output.html\"):\n",
    "    classes = getAllClasses(graph)\n",
    "    classNames = [getNodeName(graph, cls) for cls in classes]\n",
    "    classDescriptions = [getNodeDescription(graph, cls) for cls in classes]\n",
    "    classComments = [getNodeComment(graph, cls) for cls in classes]\n",
    "    superclasses = [getSuperClasses(graph, cls) for cls in classes]\n",
    "    propertyTriples = [getPropertyTriples(graph, cls) for cls in classes]\n",
    "    nodes = []\n",
    "    edges = []\n",
    "    for i, cls in enumerate(classes):\n",
    "        nodes.append({\"id\": cls, \"label\": classNames[i]})\n",
    "        for superclass in superclasses[i]:\n",
    "            edges.append({\"from\": cls, \"to\": superclass, \"label\": \"subClassOf\", \"arrows\": \"to\"})\n",
    "        for triple in propertyTriples[i]:\n",
    "            edges.append({\"from\": triple[0], \"to\": triple[2], \"label\": triple[1], \"arrows\": \"to\"})\n",
    "    visjsjson = {\"nodes\": nodes, \"edges\": edges}\n",
    "    safeVisNetworkJSONToHTMLFile(visjsjson, filename)"
   ]
  },
  {
   "cell_type": "code",
   "execution_count": 23,
   "metadata": {},
   "outputs": [],
   "source": [
    "visualizeNamedIndividuals(physciGraph, \"output.html\")"
   ]
  }
 ],
 "metadata": {
  "kernelspec": {
   "display_name": "venv",
   "language": "python",
   "name": "python3"
  },
  "language_info": {
   "codemirror_mode": {
    "name": "ipython",
    "version": 3
   },
   "file_extension": ".py",
   "mimetype": "text/x-python",
   "name": "python",
   "nbconvert_exporter": "python",
   "pygments_lexer": "ipython3",
   "version": "3.11.2"
  }
 },
 "nbformat": 4,
 "nbformat_minor": 2
}
