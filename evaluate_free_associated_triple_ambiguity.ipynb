{
 "cells": [
  {
   "cell_type": "code",
   "execution_count": 1,
   "metadata": {},
   "outputs": [],
   "source": [
    "from pathlib import Path\n",
    "datapath = Path(\"../master-database-files/master-experimental/evaluate_free_associated_triple_ambiguity/\")\n",
    "assert datapath.exists()"
   ]
  },
  {
   "cell_type": "code",
   "execution_count": 2,
   "metadata": {},
   "outputs": [],
   "source": [
    "from os import environ\n",
    "from pathlib import Path\n",
    "from json import loads, dumps\n",
    "from random import choice\n",
    "environ[\"OPENAI_API_KEY\"] = Path(\"~/.openaiapikey\").expanduser().read_text().strip()\n",
    "from openai import OpenAI\n",
    "from random import randint\n",
    "\n",
    "openaiClient = OpenAI()\n",
    "def gpt_3_5_turbo_completion(query, temperature = 1):\n",
    "    answer = openaiClient.chat.completions.create(\n",
    "        model=\"gpt-3.5-turbo\",\n",
    "        messages=[\n",
    "            {\n",
    "                \"role\": \"system\",\n",
    "                \"content\": query\n",
    "            }\n",
    "        ],\n",
    "        temperature = temperature,\n",
    "        seed = randint(0, 1000000)\n",
    "    )\n",
    "    return answer.choices[0].message.content\n",
    "\n",
    "def gpt_4_turbo_completion(query, temperature = 1):\n",
    "    answer = openaiClient.chat.completions.create(\n",
    "        model=\"gpt-4-turbo\",\n",
    "        messages=[\n",
    "            {\n",
    "                \"role\": \"system\",\n",
    "                \"content\": query\n",
    "            }\n",
    "        ],\n",
    "        temperature = temperature,\n",
    "        seed = randint(0, 1000000)\n",
    "    )\n",
    "    return answer.choices[0].message.content\n",
    "\n",
    "def tryRecieveAnswer(query, completionFunction = gpt_3_5_turbo_completion, answerConversion = lambda x: True, maxTries = 10, temperature = 1):\n",
    "    tryNumber = 0\n",
    "    while tryNumber < maxTries:\n",
    "        answer = completionFunction(query, temperature)\n",
    "        try:\n",
    "            answer = answerConversion(answer)\n",
    "            return (answer, True)\n",
    "        except:\n",
    "            pass\n",
    "        tryNumber += 1\n",
    "    print(f\"Failed to recieve answer for query: {query}\")\n",
    "    print(f\"Answer: {answer}\")\n",
    "    return (None, False)\n",
    "\n",
    "def listAnswerConversion(answer):\n",
    "    result = loads(answer)\n",
    "    assert isinstance(result, list)\n",
    "    for item in result:\n",
    "        assert isinstance(item, str)\n",
    "    return result"
   ]
  },
  {
   "cell_type": "code",
   "execution_count": 3,
   "metadata": {},
   "outputs": [],
   "source": [
    "from random import shuffle\n",
    "def generateFreeAssociatedTriplesAmbiguityTest(nameOfTheDataset, numberOfChoices, numberOfSamples):\n",
    "    topicsPath = Path(f\"../master-database-files/master-adapted-subtopic-tree-generation/technical_terms.txt\")\n",
    "    topics = topicsPath.read_text().split(\"\\n\")\n",
    "    objectIdentifyingTestPath = datapath / \"object-identifying-tests\" / nameOfTheDataset / \"test.json\"\n",
    "    if objectIdentifyingTestPath.exists():\n",
    "        objectIdentifyingTest = loads(objectIdentifyingTestPath.read_text())\n",
    "    else:\n",
    "        objectIdentifyingTest = []\n",
    "    objectIdentifyingTestPath.parent.mkdir(parents = True, exist_ok = True)\n",
    "    with objectIdentifyingTestPath.open(\"w\") as f:\n",
    "        f.write(\"[\")\n",
    "        f.write(\",\".join([\"\\n    \" + dumps(test) for test in objectIdentifyingTest]))\n",
    "        f.flush()\n",
    "        i = numberOfSamples - len(objectIdentifyingTest)\n",
    "        while i > 0:\n",
    "            nextTerm = choice(topics)\n",
    "            query = f'Semantic triples such as [\"Star\", \"emits\", \"Light\"] and [\"Rocket\", \"can bring cargo to\", \"Space\"] consists of a subject, a predicate, and an object. Give me {numberOfChoices} examples of semantic triples that contain \"{nextTerm}\" as subject and return them in an array formatted like [[\"sub1\", \"pred1\", \"obj1\"], [\"sub2\", \"pred2\", \"obj2\"], ...]. Return nothing but the array without explanation.'\n",
    "            def answerConversion(answer):\n",
    "                arr = loads(answer)\n",
    "                assert isinstance(arr, list)\n",
    "                assert len(arr) == numberOfChoices\n",
    "                for item in arr:\n",
    "                    assert isinstance(item, list)\n",
    "                    assert len(item) == 3\n",
    "                    for subitem in item:\n",
    "                        assert isinstance(subitem, str)\n",
    "                return arr\n",
    "            answer, success = tryRecieveAnswer(query, answerConversion = answerConversion)\n",
    "            if not success:\n",
    "                continue\n",
    "            objectChoices = [o[2] for o in answer]\n",
    "            if not len(set(objectChoices)) == len(objectChoices):\n",
    "                print(f\"Duplicate objects in the answer: {answer}, {objectChoices}\")\n",
    "                continue\n",
    "            shuffle(answer)\n",
    "            shuffle(objectChoices)\n",
    "            randomTriple = answer[0]\n",
    "            otherObjects = [o for o in objectChoices if o != randomTriple[2]]\n",
    "            query = 'What is the missing object for the semantic triple [\"' + randomTriple[0] + '\", \"' + randomTriple[1] + '\" , ???]? Choose the correct object from the following choices: {' + ', '.join([f\"{i + 1}: \\\"{objectChoices[i]}\\\"\" for i in range(len(objectChoices))]) + '}. Return the number of the correct object as a single digit without explanation.'\n",
    "            def answerConversion(answer):\n",
    "                assert isinstance(answer, str)\n",
    "                assert answer in [str(i + 1) for i in range(len(objectChoices))]\n",
    "                return objectChoices[int(answer) - 1]\n",
    "            selectedObject, success = tryRecieveAnswer(query, answerConversion = answerConversion)\n",
    "            if not success:\n",
    "                continue\n",
    "            objectIdentifyingTest.append([randomTriple[0], randomTriple[1], randomTriple[2], otherObjects, selectedObject])\n",
    "            f.write(\",\\n\" if len(objectIdentifyingTest) > 1 else \"\")\n",
    "            f.write(\"    \" + dumps(objectIdentifyingTest[-1]))\n",
    "            f.flush()\n",
    "            i -= 1\n",
    "        f.write(\"\\n]\")\n",
    "            "
   ]
  },
  {
   "cell_type": "code",
   "execution_count": 4,
   "metadata": {},
   "outputs": [],
   "source": [
    "from math import sqrt\n",
    "from scipy.special import comb \n",
    "def calculateStatisticsForFreeAssociatedTriplesAmbiguityTest(nameOfTheDataset):\n",
    "    objectIdentifyingTestPath = datapath / \"object-identifying-tests\" / nameOfTheDataset / \"test.json\"\n",
    "    objectIdentifyingTest = loads(objectIdentifyingTestPath.read_text())\n",
    "    falseObjectSelections = 0\n",
    "    trueObjectSelections = 0\n",
    "    numberOfChoices = len(objectIdentifyingTest[0][3]) + 1\n",
    "    numberOfSamples = len(objectIdentifyingTest)\n",
    "    for test in objectIdentifyingTest:\n",
    "        if test[4] == test[2]:\n",
    "            trueObjectSelections += 1\n",
    "        else:\n",
    "            falseObjectSelections += 1\n",
    "    falseObjectSelectionPropotion = falseObjectSelections / numberOfSamples\n",
    "    falseObjectSelectionVariance = 0\n",
    "    for k in range(0, numberOfSamples + 1):\n",
    "        falseObjectSelectionVariance += ((k - falseObjectSelections) ** 2) * comb(numberOfSamples, k, exact=True) * (falseObjectSelectionPropotion ** k) * ((1 - falseObjectSelectionPropotion) ** (numberOfSamples - k))\n",
    "    falseObjectSelectionPropotionError = sqrt(falseObjectSelectionVariance) / numberOfSamples\n",
    "    falseObjectSelectionPerCorrectObjectSelection = falseObjectSelections / trueObjectSelections if trueObjectSelections > 0 else None\n",
    "    falseObjectSelectionPerCorrectObjectSelectionComparedToRandom = falseObjectSelectionPerCorrectObjectSelection / (numberOfChoices - 1)\n",
    "    # See https://github.com/gratach/thoughts/blob/master/topics/master-thesis/equation/false-choices-per-correct-choice-compared-to-random.md\n",
    "    falseObjectSelectionPerCorrectObjectSelectionComparedToRandomError = falseObjectSelectionPropotionError / (numberOfChoices - 1) / ((1 - falseObjectSelectionPropotion) ** 2)\n",
    "    with (datapath / \"object-identifying-tests\" / nameOfTheDataset / \"statistics.json\").open(\"w\") as f:\n",
    "        statistics = {\n",
    "            \"falseObjectSelections\": falseObjectSelections,\n",
    "            \"trueObjectSelections\": trueObjectSelections,\n",
    "            \"falseObjectSelectionPropotion\": falseObjectSelectionPropotion,\n",
    "            \"falseObjectSelectionVariance\": falseObjectSelectionVariance,\n",
    "            \"falseObjectSelectionPropotionError\": falseObjectSelectionPropotionError,\n",
    "            \"falseObjectSelectionPerCorrectObjectSelection\": falseObjectSelectionPerCorrectObjectSelection,\n",
    "            \"falseObjectSelectionPerCorrectObjectSelectionComparedToRandom\": falseObjectSelectionPerCorrectObjectSelectionComparedToRandom,\n",
    "            \"falseObjectSelectionPerCorrectObjectSelectionComparedToRandomError\": falseObjectSelectionPerCorrectObjectSelectionComparedToRandomError\n",
    "        }\n",
    "        f.write(dumps(statistics, indent=4))\n",
    "        print(dumps(statistics, indent=4))"
   ]
  },
  {
   "cell_type": "code",
   "execution_count": 5,
   "metadata": {},
   "outputs": [
    {
     "name": "stdout",
     "output_type": "stream",
     "text": [
      "Duplicate objects in the answer: [['Spin (particle physics)', 'is a property of', 'particles'], ['Spin (particle physics)', 'can have', 'half-integer values'], ['Spin (particle physics)', 'plays a role in', 'quantum mechanics'], ['Spin (particle physics)', 'is analogous to', 'classical angular momentum'], ['Spin (particle physics)', 'is quantized in', 'quantum mechanics']], ['particles', 'half-integer values', 'quantum mechanics', 'classical angular momentum', 'quantum mechanics']\n",
      "Duplicate objects in the answer: [['Work (thermodynamics)', 'is a form of', 'energy transfer'], ['Work (thermodynamics)', 'can be positive or negative', 'based on the direction of the force'], ['Work (thermodynamics)', 'is done when a force is applied over a distance', ''], ['Work (thermodynamics)', 'is represented by the equation W = F * d * cos(theta)', ''], ['Work (thermodynamics)', 'can be done on or by a system', '']], ['energy transfer', 'based on the direction of the force', '', '', '']\n",
      "Duplicate objects in the answer: [['W′ and Z′ bosons', 'are hypothetical heavy counterparts of', 'W and Z bosons'], ['W′ and Z′ bosons', 'are predicted by various extensions of the Standard Model, such as', 'GUTs or SUSY'], ['W′ and Z′ bosons', 'are proposed to have different masses and couplings compared to', 'W and Z bosons'], ['W′ and Z′ bosons', 'could provide insight into physics beyond the', 'Standard Model'], ['W′ and Z′ bosons', 'have not been observed experimentally as of', '2021']], ['W and Z bosons', 'GUTs or SUSY', 'W and Z bosons', 'Standard Model', '2021']\n",
      "Duplicate objects in the answer: [['Cosmic background radiation', 'was discovered by', 'Arno Penzias and Robert Wilson'], ['Cosmic background radiation', 'is also known as', 'cosmic microwave background'], ['Cosmic background radiation', 'is electromagnetic radiation', 'left over from an early stage of the universe'], ['Cosmic background radiation', 'helped to confirm the Big Bang theory', ''], ['Cosmic background radiation', 'is nearly uniform in all directions', '']], ['Arno Penzias and Robert Wilson', 'cosmic microwave background', 'left over from an early stage of the universe', '', '']\n",
      "Duplicate objects in the answer: [['Photovoltaics', 'converts', 'sunlight into electricity'], ['Photovoltaics', 'are used in solar panels', ''], ['Photovoltaics', 'can be found on rooftops', ''], ['Photovoltaics', 'generate renewable energy', ''], ['Photovoltaics', 'require sunlight to function', '']], ['sunlight into electricity', '', '', '', '']\n",
      "Duplicate objects in the answer: [['Graviton', 'is a hypothetical elementary particle', ''], ['Graviton', 'mediates', 'gravity'], ['Graviton', 'has spin', '2'], ['Graviton', 'is associated with', 'quantum theory'], ['Graviton', 'has not been experimentally detected', '']], ['', 'gravity', '2', 'quantum theory', '']\n",
      "Duplicate objects in the answer: [['Latent heat', 'is absorbed or released during a phase change of a substance', 'without a change in temperature'], ['Latent heat', 'is energy required to change the state of a substance', 'without changing its temperature'], ['Latent heat', 'is also known as heat of transformation', 'or heat of phase transition'], ['Latent heat', 'is the heat energy required to change a substance between solid, liquid, or gas phases', 'without changing its temperature'], ['Latent heat', 'can cause temperature changes in a substance', 'during a phase change']], ['without a change in temperature', 'without changing its temperature', 'or heat of phase transition', 'without changing its temperature', 'during a phase change']\n",
      "Duplicate objects in the answer: [['Black-body radiation', 'is emitted by', 'hot objects'], ['Black-body radiation', 'follows', \"Planck's law\"], ['Black-body radiation', 'does not depend on the composition of the object', 'emitting it'], ['Black-body radiation', 'is the radiation', 'emitted by a perfect black body'], ['Black-body radiation', 'can be approximated by', \"Planck's law\"]], ['hot objects', \"Planck's law\", 'emitting it', 'emitted by a perfect black body', \"Planck's law\"]\n",
      "Duplicate objects in the answer: [['Axion', 'is a hypothetical elementary particle', ''], ['Axion', 'is a candidate for dark matter', ''], ['Axion', 'is a hypothetical quantum chromodynamics particle', ''], ['Axion', 'may solve the strong CP problem', ''], ['Axion', 'has not been detected experimentally', '']], ['', '', '', '', '']\n",
      "Duplicate objects in the answer: [['Stellar evolution', 'occurs over billions of years', 'in stars'], ['Stellar evolution', 'involves fusion reactions', 'within stars'], ['Stellar evolution', 'results in the formation of different elements', 'in stars'], ['Stellar evolution', 'can lead to the formation of black holes', \"at the end of a star's life\"], ['Stellar evolution', 'is essential for the creation of heavy elements', 'in the universe']], ['in stars', 'within stars', 'in stars', \"at the end of a star's life\", 'in the universe']\n",
      "Duplicate objects in the answer: [['Phase (waves)', 'is measured in', 'radians'], ['Phase (waves)', 'is a property of', 'waves'], ['Phase (waves)', 'is a function of', 'time'], ['Phase (waves)', 'can be used to', 'determine interference patterns'], ['Phase (waves)', 'affects the behavior of', 'waves']], ['radians', 'waves', 'time', 'determine interference patterns', 'waves']\n",
      "Duplicate objects in the answer: [['Jupiter trojan', 'revolves around', 'Jupiter'], ['Jupiter trojan', 'shares orbit with', 'Jupiter'], ['Jupiter trojan', 'discovered by', 'Max Wolf'], ['Jupiter trojan', 'contains', 'asteroids'], ['Jupiter trojan', 'has stable orbits', 'around Lagrange points']], ['Jupiter', 'Jupiter', 'Max Wolf', 'asteroids', 'around Lagrange points']\n",
      "Duplicate objects in the answer: [['Subatomic particle', 'is a tiny particle of matter', ''], ['Subatomic particle', 'has properties of both particles and waves', ''], ['Subatomic particle', 'interacts through fundamental forces', ''], ['Subatomic particle', 'can exhibit quantum behavior', ''], ['Subatomic particle', 'is a key component of atoms', '']], ['', '', '', '', '']\n",
      "Duplicate objects in the answer: [['Cosmic inflation', 'explains', 'the uniformity of the universe'], ['Cosmic inflation', 'occurred shortly after the Big Bang', ''], ['Cosmic inflation', 'is a period of rapid expansion', ''], ['Cosmic inflation', 'was proposed to solve the horizon problem', ''], ['Cosmic inflation', 'accounts for the large-scale structure of the cosmos', '']], ['the uniformity of the universe', '', '', '', '']\n",
      "Duplicate objects in the answer: [['Temperature', 'is', 'a thermodynamic variable'], ['Pressure', 'is', 'a thermodynamic variable'], ['Volume', 'is', 'a thermodynamic variable'], ['Internal Energy', 'is', 'a thermodynamic variable'], ['Entropy', 'is', 'a thermodynamic variable']], ['a thermodynamic variable', 'a thermodynamic variable', 'a thermodynamic variable', 'a thermodynamic variable', 'a thermodynamic variable']\n",
      "Duplicate objects in the answer: [['Energy density', 'is a physical quantity that describes how much energy is stored in a given system', ''], ['Energy density', 'is commonly used in the fields of physics, material science, and engineering', ''], ['Energy density', 'can be calculated by dividing the amount of energy stored in a system by its volume or mass', ''], ['Energy density', 'is an important factor in the design and optimization of batteries and fuel cells', ''], ['Energy density', 'varies depending on the type of energy storage system being used', '']], ['', '', '', '', '']\n",
      "Duplicate objects in the answer: [['Leptoquark', 'is a hypothetical particle that can interact with both quarks and leptons', ''], ['Leptoquark', 'carries lepton and baryon number', ''], ['Leptoquark', 'can explain anomalies in lepton flavor universality', ''], ['Leptoquark', 'is a boson with both quark and lepton properties', ''], ['Leptoquark', 'is predicted by several theories beyond the Standard Model of particle physics', '']], ['', '', '', '', '']\n"
     ]
    }
   ],
   "source": [
    "generateFreeAssociatedTriplesAmbiguityTest(\"freeAssTr\", 5, 500)"
   ]
  },
  {
   "cell_type": "code",
   "execution_count": 6,
   "metadata": {},
   "outputs": [
    {
     "name": "stdout",
     "output_type": "stream",
     "text": [
      "{\n",
      "    \"falseObjectSelections\": 316,\n",
      "    \"trueObjectSelections\": 184,\n",
      "    \"falseObjectSelectionPropotion\": 0.632,\n",
      "    \"falseObjectSelectionVariance\": 116.28800000000004,\n",
      "    \"falseObjectSelectionPropotionError\": 0.02156738278048591,\n",
      "    \"falseObjectSelectionPerCorrectObjectSelection\": 1.7173913043478262,\n",
      "    \"falseObjectSelectionPerCorrectObjectSelectionComparedToRandom\": 0.42934782608695654,\n",
      "    \"falseObjectSelectionPerCorrectObjectSelectionComparedToRandomError\": 0.039814550560620554\n",
      "}\n"
     ]
    }
   ],
   "source": [
    "calculateStatisticsForFreeAssociatedTriplesAmbiguityTest(\"freeAssTr\")"
   ]
  },
  {
   "cell_type": "code",
   "execution_count": 5,
   "metadata": {},
   "outputs": [],
   "source": [
    "def listMostUsedTripleParts(filepath, outputPath):\n",
    "    triples = [[data[0], data[1], data[2]] for data in loads(filepath.read_text())]\n",
    "    subjects = {}\n",
    "    predicates = {}\n",
    "    objects = {}\n",
    "    for part in triples:\n",
    "        if part[0].lower() in subjects:\n",
    "            subjects[part[0].lower()] += 1\n",
    "        else:\n",
    "            subjects[part[0].lower()] = 1\n",
    "        if part[1].lower() in predicates:\n",
    "            predicates[part[1].lower()] += 1\n",
    "        else:\n",
    "            predicates[part[1].lower()] = 1\n",
    "        if part[2].lower() in objects:\n",
    "            objects[part[2].lower()] += 1\n",
    "        else:\n",
    "            objects[part[2].lower()] = 1\n",
    "    # Sort the parts by their frequency\n",
    "    subjects = sorted(subjects.items(), key=lambda item: item[1], reverse=True)\n",
    "    predicates = sorted(predicates.items(), key=lambda item: item[1], reverse=True)\n",
    "    objects = sorted(objects.items(), key=lambda item: item[1], reverse=True)\n",
    "    # Use only those parts that are used more than once\n",
    "    subjects = [subject for subject in subjects if subject[1] > 1]\n",
    "    predicates = [predicate for predicate in predicates if predicate[1] > 1]\n",
    "    objects = [object for object in objects if object[1] > 1]\n",
    "    outputPath.write_text(dumps({\n",
    "        \"subjects\": subjects,\n",
    "        \"predicates\": predicates,\n",
    "        \"objects\": objects\n",
    "    }, indent=2))"
   ]
  },
  {
   "cell_type": "code",
   "execution_count": 6,
   "metadata": {},
   "outputs": [],
   "source": [
    "listMostUsedTripleParts(Path(\"../master-database-files/master-experimental/evaluate_free_associated_triple_ambiguity/object-identifying-tests/freeAssTr/test.json\"), Path(\"../master-database-files/master-experimental/evaluate_free_associated_triple_ambiguity/object-identifying-tests/freeAssTr/most-used-parts.json\"))"
   ]
  },
  {
   "cell_type": "code",
   "execution_count": 7,
   "metadata": {},
   "outputs": [],
   "source": [
    "def printAveragePredicateWordCount(filepath):\n",
    "    triples = [[data[0], data[1], data[2]] for data in loads(filepath.read_text())]\n",
    "    predicateWordCount = 0\n",
    "    for part in triples:\n",
    "        predicateWordCount += len(part[1].split())\n",
    "    averageWordLength = predicateWordCount / len(triples)\n",
    "    averageWordLengthError = (sum([(len(triple[1].split()) - averageWordLength) ** 2 for triple in triples]) / len(triples) / (len(triples) - 1)) ** 0.5\n",
    "    print(f\"Average word count of predicates: {averageWordLength} ± {averageWordLengthError}\")"
   ]
  },
  {
   "cell_type": "code",
   "execution_count": 8,
   "metadata": {},
   "outputs": [
    {
     "name": "stdout",
     "output_type": "stream",
     "text": [
      "Average word count of predicates: 2.432 ± 0.07319471930315548\n"
     ]
    }
   ],
   "source": [
    "printAveragePredicateWordCount(Path(\"../master-database-files/master-experimental/evaluate_free_associated_triple_ambiguity/object-identifying-tests/freeAssTr/test.json\"))"
   ]
  }
 ],
 "metadata": {
  "kernelspec": {
   "display_name": "venv",
   "language": "python",
   "name": "python3"
  },
  "language_info": {
   "codemirror_mode": {
    "name": "ipython",
    "version": 3
   },
   "file_extension": ".py",
   "mimetype": "text/x-python",
   "name": "python",
   "nbconvert_exporter": "python",
   "pygments_lexer": "ipython3",
   "version": "3.11.2"
  }
 },
 "nbformat": 4,
 "nbformat_minor": 2
}
