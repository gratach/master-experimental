{
 "cells": [
  {
   "cell_type": "code",
   "execution_count": 2,
   "metadata": {},
   "outputs": [],
   "source": [
    "from openai import OpenAI\n",
    "from random import randint, choice\n",
    "from os import environ\n",
    "from pathlib import Path\n",
    "from json import loads, dumps\n",
    "environ[\"OPENAI_API_KEY\"] = Path(\"~/.openaiapikey\").expanduser().read_text().strip()\n",
    "\n",
    "openaiClient = OpenAI()\n",
    "def gpt_3_5_turbo_completion(query):\n",
    "    answer = openaiClient.chat.completions.create(\n",
    "        model=\"gpt-3.5-turbo\",\n",
    "        messages=[\n",
    "            {\n",
    "                \"role\": \"system\",\n",
    "                \"content\": query\n",
    "            }\n",
    "        ],\n",
    "        seed = randint(0, 1000000)\n",
    "    )\n",
    "    return answer.choices[0].message.content\n",
    "\n",
    "def gpt_4_turbo_completion(query):\n",
    "    answer = openaiClient.chat.completions.create(\n",
    "        model=\"gpt-4-turbo\",\n",
    "        messages=[\n",
    "            {\n",
    "                \"role\": \"system\",\n",
    "                \"content\": query\n",
    "            }\n",
    "        ],\n",
    "        seed = randint(0, 1000000)\n",
    "    )\n",
    "    return answer.choices[0].message.content\n",
    "\n",
    "def tryRecieveAnswer(query, completionFunction = gpt_3_5_turbo_completion, answerConversion = lambda x: x, maxTries = 10):\n",
    "    tryNumber = 0\n",
    "    while tryNumber < maxTries:\n",
    "        answer = completionFunction(query)\n",
    "        try:\n",
    "            answer = answerConversion(answer)\n",
    "            return (answer, True)\n",
    "        except:\n",
    "            pass\n",
    "        tryNumber += 1\n",
    "    print(f\"Failed to recieve answer for query: {query}. Last answer: {answer}\")\n",
    "    return (None, False)\n",
    "\n",
    "def listAnswerConversion(answer):\n",
    "    result = loads(answer)\n",
    "    assert isinstance(result, list)\n",
    "    for item in result:\n",
    "        assert isinstance(item, str)\n",
    "    return result"
   ]
  },
  {
   "cell_type": "code",
   "execution_count": 1,
   "metadata": {},
   "outputs": [],
   "source": [
    "categories = [\"particles\", \"experiments\", \"units\", \"constants\", \"equations\", \"theories\", \"scientists\", \"instruments\", \"materials\", \"substances\", \"phenomena\", \"effects\", \"laws\", \"technologies\", \"discoveries\", \"inventions\", \"hypotheses\", \"theorems\", \"paradoxes\", \"problems\", \"conjectures\", \"proofs\", \"algorithms\"]"
   ]
  },
  {
   "cell_type": "code",
   "execution_count": 7,
   "metadata": {},
   "outputs": [],
   "source": [
    "from pathlib import Path\n",
    "datapath = Path(\"../master-database-files/master-experimental/ontology_test/\")"
   ]
  },
  {
   "cell_type": "code",
   "execution_count": 3,
   "metadata": {},
   "outputs": [],
   "source": [
    "def categoryExamplesInPhysics(category, number = 5):\n",
    "    query = f'Give me {number} examples of {category} in physics. Return them in a list formatted as [\"example1\", \"example2\", ...]. Return nothing but the list.'\n",
    "    answer, success = tryRecieveAnswer(query, answerConversion = listAnswerConversion)\n",
    "    if success:\n",
    "        return answer"
   ]
  },
  {
   "cell_type": "code",
   "execution_count": 8,
   "metadata": {},
   "outputs": [],
   "source": [
    "def saveCategoryExamplesInPhysics(categories, number = 5):\n",
    "    examplespercategory = {}\n",
    "    for category in categories:\n",
    "        examples = categoryExamplesInPhysics(category, number)\n",
    "        if examples:\n",
    "            examplespercategory[category] = examples\n",
    "    with (datapath / \"examplespercategory.json\").open(\"w\") as f:\n",
    "        f.write(dumps(examplespercategory, indent = 4))"
   ]
  },
  {
   "cell_type": "code",
   "execution_count": 9,
   "metadata": {},
   "outputs": [],
   "source": [
    "saveCategoryExamplesInPhysics(categories, 5)"
   ]
  },
  {
   "cell_type": "code",
   "execution_count": 3,
   "metadata": {},
   "outputs": [],
   "source": [
    "physicsTerms = [\"electron\", \"solar system\", \"planc's constant\", \"quantum mechanics\", \"relativity\", \"black hole\", \"big bang\", \"quantum field theory\", \"string theory\", \"dark matter\", \"dark energy\", \"quantum entanglement\"] "
   ]
  },
  {
   "cell_type": "code",
   "execution_count": 14,
   "metadata": {},
   "outputs": [],
   "source": [
    "def categorySplittingPhysicsTerms(terms):\n",
    "    termsString = \"[\" + ', '.join([f'\"{term}\"' for term in terms]) + \"]\"\n",
    "    query = f'''\n",
    "The separation into the categories \"scientist\" and \"no scientists\" splitts the terms [\"atom\", \"einstein\", \"light\", \"maxwell\"] into two equal sized groups. \n",
    "\"einstein\" and \"maxwell\" belong to the \"scientist\" category. \"atom\" and \"light\" belong to the \"no scientists\" category.\n",
    "What categories splitts the terms {termsString} into two equal sized groups of terms that belong to the category and terms that do not belong to the category?\n",
    "Return nothing but the two categories formatted as [\"category1\", \"category2\"].\n",
    "'''\n",
    "    answer, success = tryRecieveAnswer(query, answerConversion = listAnswerConversion)\n",
    "    if success:\n",
    "        return answer"
   ]
  },
  {
   "cell_type": "code",
   "execution_count": 13,
   "metadata": {},
   "outputs": [
    {
     "data": {
      "text/plain": [
       "['theoretical physics', 'observational astronomy']"
      ]
     },
     "execution_count": 13,
     "metadata": {},
     "output_type": "execute_result"
    }
   ],
   "source": [
    "categorySplittingPhysicsTerms(physicsTerms)"
   ]
  },
  {
   "cell_type": "code",
   "execution_count": 18,
   "metadata": {},
   "outputs": [
    {
     "data": {
      "text/plain": [
       "'N'"
      ]
     },
     "execution_count": 18,
     "metadata": {},
     "output_type": "execute_result"
    }
   ],
   "source": [
    "gpt_3_5_turbo_completion(\"Is water an object? Answer with Y or N.\")"
   ]
  },
  {
   "cell_type": "code",
   "execution_count": 47,
   "metadata": {},
   "outputs": [],
   "source": [
    "from owlready2 import *"
   ]
  },
  {
   "cell_type": "code",
   "execution_count": 59,
   "metadata": {},
   "outputs": [],
   "source": [
    "onto = get_ontology(\"http://quantsimulant.de/ontology/test.owl\")"
   ]
  },
  {
   "cell_type": "code",
   "execution_count": 60,
   "metadata": {},
   "outputs": [],
   "source": [
    "class TestClass(Thing):\n",
    "    namespace = onto"
   ]
  },
  {
   "cell_type": "code",
   "execution_count": 61,
   "metadata": {},
   "outputs": [],
   "source": [
    "class TestSubClass(TestClass):\n",
    "    namespace = onto"
   ]
  },
  {
   "cell_type": "code",
   "execution_count": 62,
   "metadata": {},
   "outputs": [],
   "source": [
    "class TestObjectProperty(TestClass >> TestClass):\n",
    "    namespace = onto"
   ]
  },
  {
   "cell_type": "code",
   "execution_count": 63,
   "metadata": {},
   "outputs": [],
   "source": [
    "tc = TestClass(\"tc\")"
   ]
  },
  {
   "cell_type": "code",
   "execution_count": 64,
   "metadata": {},
   "outputs": [],
   "source": [
    "onto.save(file = str(datapath / \"test.owl\"), format = \"ntriples\")"
   ]
  },
  {
   "cell_type": "code",
   "execution_count": 65,
   "metadata": {},
   "outputs": [
    {
     "data": {
      "text/plain": [
       "[[.anonymous, 6, owl.Ontology],\n",
       " [ontology.test.owl, 6, owl.Ontology],\n",
       " [test.TestClass, 6, 11],\n",
       " [test.TestClass, 9, owl.Thing],\n",
       " [test.TestSubClass, 6, 11],\n",
       " [test.TestSubClass, 9, test.TestClass],\n",
       " [test.TestObjectProperty, 6, owl.ObjectProperty],\n",
       " [test.TestObjectProperty, 7, test.TestClass],\n",
       " [test.TestObjectProperty, 8, test.TestClass],\n",
       " [test.tc, 6, owl.NamedIndividual],\n",
       " [test.tc, 6, test.TestClass]]"
      ]
     },
     "execution_count": 65,
     "metadata": {},
     "output_type": "execute_result"
    }
   ],
   "source": [
    "import rdflib\n",
    "r = [*default_world.sparql_query(\"SELECT ?s ?pr ?o WHERE { ?s ?pr ?o .}\")]\n",
    "r"
   ]
  },
  {
   "cell_type": "code",
   "execution_count": 66,
   "metadata": {},
   "outputs": [],
   "source": [
    "graph = default_world.as_rdflib_graph()"
   ]
  },
  {
   "cell_type": "code",
   "execution_count": 68,
   "metadata": {},
   "outputs": [
    {
     "data": {
      "text/plain": [
       "[(rdflib.term.URIRef('http://anonymous'),\n",
       "  rdflib.term.URIRef('http://www.w3.org/1999/02/22-rdf-syntax-ns#type'),\n",
       "  rdflib.term.URIRef('http://www.w3.org/2002/07/owl#Ontology')),\n",
       " (rdflib.term.URIRef('http://quantsimulant.de/ontology/test.owl'),\n",
       "  rdflib.term.URIRef('http://www.w3.org/1999/02/22-rdf-syntax-ns#type'),\n",
       "  rdflib.term.URIRef('http://www.w3.org/2002/07/owl#Ontology')),\n",
       " (rdflib.term.URIRef('http://quantsimulant.de/ontology/test.owl#TestClass'),\n",
       "  rdflib.term.URIRef('http://www.w3.org/1999/02/22-rdf-syntax-ns#type'),\n",
       "  rdflib.term.URIRef('http://www.w3.org/2002/07/owl#Class')),\n",
       " (rdflib.term.URIRef('http://quantsimulant.de/ontology/test.owl#TestClass'),\n",
       "  rdflib.term.URIRef('http://www.w3.org/2000/01/rdf-schema#subClassOf'),\n",
       "  rdflib.term.URIRef('http://www.w3.org/2002/07/owl#Thing')),\n",
       " (rdflib.term.URIRef('http://quantsimulant.de/ontology/test.owl#TestSubClass'),\n",
       "  rdflib.term.URIRef('http://www.w3.org/1999/02/22-rdf-syntax-ns#type'),\n",
       "  rdflib.term.URIRef('http://www.w3.org/2002/07/owl#Class')),\n",
       " (rdflib.term.URIRef('http://quantsimulant.de/ontology/test.owl#TestSubClass'),\n",
       "  rdflib.term.URIRef('http://www.w3.org/2000/01/rdf-schema#subClassOf'),\n",
       "  rdflib.term.URIRef('http://quantsimulant.de/ontology/test.owl#TestClass')),\n",
       " (rdflib.term.URIRef('http://quantsimulant.de/ontology/test.owl#TestObjectProperty'),\n",
       "  rdflib.term.URIRef('http://www.w3.org/1999/02/22-rdf-syntax-ns#type'),\n",
       "  rdflib.term.URIRef('http://www.w3.org/2002/07/owl#ObjectProperty')),\n",
       " (rdflib.term.URIRef('http://quantsimulant.de/ontology/test.owl#TestObjectProperty'),\n",
       "  rdflib.term.URIRef('http://www.w3.org/2000/01/rdf-schema#domain'),\n",
       "  rdflib.term.URIRef('http://quantsimulant.de/ontology/test.owl#TestClass')),\n",
       " (rdflib.term.URIRef('http://quantsimulant.de/ontology/test.owl#TestObjectProperty'),\n",
       "  rdflib.term.URIRef('http://www.w3.org/2000/01/rdf-schema#range'),\n",
       "  rdflib.term.URIRef('http://quantsimulant.de/ontology/test.owl#TestClass')),\n",
       " (rdflib.term.URIRef('http://quantsimulant.de/ontology/test.owl#tc'),\n",
       "  rdflib.term.URIRef('http://www.w3.org/1999/02/22-rdf-syntax-ns#type'),\n",
       "  rdflib.term.URIRef('http://www.w3.org/2002/07/owl#NamedIndividual')),\n",
       " (rdflib.term.URIRef('http://quantsimulant.de/ontology/test.owl#tc'),\n",
       "  rdflib.term.URIRef('http://www.w3.org/1999/02/22-rdf-syntax-ns#type'),\n",
       "  rdflib.term.URIRef('http://quantsimulant.de/ontology/test.owl#TestClass'))]"
      ]
     },
     "execution_count": 68,
     "metadata": {},
     "output_type": "execute_result"
    }
   ],
   "source": [
    "[*graph.query(\"SELECT ?s ?pr ?o WHERE { ?s ?pr ?o .}\")]"
   ]
  }
 ],
 "metadata": {
  "kernelspec": {
   "display_name": "venv",
   "language": "python",
   "name": "python3"
  },
  "language_info": {
   "codemirror_mode": {
    "name": "ipython",
    "version": 3
   },
   "file_extension": ".py",
   "mimetype": "text/x-python",
   "name": "python",
   "nbconvert_exporter": "python",
   "pygments_lexer": "ipython3",
   "version": "3.11.2"
  }
 },
 "nbformat": 4,
 "nbformat_minor": 2
}
